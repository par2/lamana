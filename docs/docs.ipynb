{
 "cells": [
  {
   "cell_type": "code",
   "execution_count": 2,
   "metadata": {
    "collapsed": false,
    "nbsphinx": "hidden"
   },
   "outputs": [
    {
     "name": "stdout",
     "output_type": "stream",
     "text": [
      "Last Run: 2016-01-30 13:25:12\n"
     ]
    }
   ],
   "source": [
    "# Hidden TimeStamp\n",
    "import time, datetime\n",
    "st = datetime.datetime.fromtimestamp(time.time()).strftime('%Y-%m-%d %H:%M:%S')\n",
    "print('Last Run: {}'.format(st))"
   ]
  },
  {
   "cell_type": "markdown",
   "metadata": {},
   "source": [
    "# Documenting Code"
   ]
  },
  {
   "cell_type": "markdown",
   "metadata": {},
   "source": [
    "A general guide for authors and developers."
   ]
  },
  {
   "cell_type": "markdown",
   "metadata": {},
   "source": [
    "## As a Developer\n",
    "\n",
    "### Setup\n",
    "\n",
    "This section is related to maintainers of the project repository.  Documentation for the LamAna package uses [Sphinx](http://www.sphinx-doc.org/en/stable/), [readthedocs](https://readthedocs.org/) and the [nbsphinx](https://nbsphinx.readthedocs.org/en/0.2.2/) extension. These three tools give a simple documentating experience by directly rendering jupyter notebooks.  Some details are written here for reference.\n",
    "\n",
    "The critical docs file structure is present below:\n",
    "\n",
    "```\n",
    "docs\n",
    "|\n",
    "|+ _archive\n",
    "|- conf.py\n",
    "|- Makefile\n",
    "|- make.bat\n",
    "|- index.rst\n",
    "|- *.ipynb\n",
    "\n",
    "```\n",
    "\n",
    "Jupyter notebooks dwell in the \"docs\" folder.  By adding the `nbsphinx` extension to `conf.py`, notebooks extant in this folder are automatically converted to a html by running the `make html` build command.  This setup has several benefits:\n",
    "\n",
    "1. Edit notebooks directly; no copies or moves required from twin files.\n",
    "2. Notebooks are rendered as-is.\n",
    "3. Timestamps can be \"hidden\" prior to rendering (edit the metadata).\n",
    "4. Images can pull from a single directory\n",
    "\n",
    "Only the index.rst file uses the native reST format.\n",
    "\n",
    "### Images\n",
    "\n",
    "Images for the entire packages are currently reserved in the `./docs/_images` folder.  This placement eases root access to images for any notebook  There is an \"_archive\" folder within used to store older versions of image files.  The README in the docs folder reminds not to enumerate updated image files, otherwise notebook links will break. Rather, copy and enumerate the old file and archive for reference."
   ]
  },
  {
   "cell_type": "raw",
   "metadata": {
    "raw_mimetype": "text/restructuredtext"
   },
   "source": [
    ".. important::    \n",
    "    \n",
    "    Do not add spaces filenames of images.  They do not render with nbsphinx."
   ]
  },
  {
   "cell_type": "raw",
   "metadata": {
    "raw_mimetype": "text/restructuredtext"
   },
   "source": [
    ".. note::    \n",
    "    \n",
    "    A specical \"Doc builder\" file is retained in the \"_notebook\" folder to assist in building docs."
   ]
  },
  {
   "cell_type": "markdown",
   "metadata": {},
   "source": [
    "### Reload the API Docs\n",
    "\n",
    "`cd` into the root package and run this code to update the api reference\n",
    "\n",
    "    $ sphinx-api -f -o ./docs .\n",
    "    \n",
    "This will create api docs for all modules found in your package."
   ]
  }
 ],
 "metadata": {
  "celltoolbar": "Raw Cell Format",
  "kernelspec": {
   "display_name": "Python 3",
   "language": "python",
   "name": "python3"
  },
  "language_info": {
   "codemirror_mode": {
    "name": "ipython",
    "version": 3
   },
   "file_extension": ".py",
   "mimetype": "text/x-python",
   "name": "python",
   "nbconvert_exporter": "python",
   "pygments_lexer": "ipython3",
   "version": "3.3.5"
  }
 },
 "nbformat": 4,
 "nbformat_minor": 0
}
