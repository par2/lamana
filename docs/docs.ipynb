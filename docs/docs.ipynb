{
 "cells": [
  {
   "cell_type": "code",
   "execution_count": 3,
   "metadata": {
    "collapsed": false,
    "nbsphinx": "hidden"
   },
   "outputs": [
    {
     "name": "stdout",
     "output_type": "stream",
     "text": [
      "Last Run: 2016-09-16 22:50:40\n"
     ]
    }
   ],
   "source": [
    "# Hidden TimeStamp\n",
    "import time, datetime\n",
    "st = datetime.datetime.fromtimestamp(time.time()).strftime('%Y-%m-%d %H:%M:%S')\n",
    "print('Last Run: {}'.format(st))"
   ]
  },
  {
   "cell_type": "markdown",
   "metadata": {},
   "source": [
    "# Documenting Code"
   ]
  },
  {
   "cell_type": "markdown",
   "metadata": {},
   "source": [
    "A general guide for authors and developers."
   ]
  },
  {
   "cell_type": "markdown",
   "metadata": {},
   "source": [
    "## As a Developer\n",
    "\n",
    "This pertains to maintainers of the project repository.  Documentation is generated useing [Sphinx](http://www.sphinx-doc.org/en/stable/), hosted on [readthedocs](https://readthedocs.org/), the enhanced with [nbsphinx](https://nbsphinx.readthedocs.org/en/0.2.2/) and [conda](https://read-the-docs.readthedocs.io/en/latest/conda.html) to produce efficient builds. These tools give simple documentating experience by directly rendering jupyter notebooks on a hosted site.  Some details are written here for reference.\n",
    "\n",
    "### Setup\n",
    "\n",
    "The critical docs file structure is present below:\n",
    "\n",
    "```\n",
    "|+ docs\n",
    "|    | \n",
    "|    |+ _images\n",
    "|    |+ generated\n",
    "|    |- README.md\n",
    "|    |- index.rst\n",
    "|    |- api.rst\n",
    "|    |- conf.py\n",
    "|    |- Makefile\n",
    "|    |- make.bat\n",
    "|    |- nbval_sanitize.cfg\n",
    "|    |- environment.yml\n",
    "|    |- *.ipynb\n",
    "|    |- ...\n",
    "|\n",
    "|-readthedocs.yml\n",
    "\n",
    "```\n",
    "\n",
    "The `readthedocs.yml` and `environment.yml` files store metadata to make fast builds on readthedocs.  The folders prepended with and underscore are private and include pictures and data.  The `conf.py`, and `make` files are Sphinx files.  The `generated` contains Sphinx files that build an api tree.  The `nbval_sanitize.cfg` files has regexes used with `nbval` to clean output and perform regression tests (added in 0.4.13).  The remaining files are documents that are actively edited.  \n",
    "\n",
    "\n",
    "### Building with conda\n",
    "\n",
    "Building with large dependencies (numpy, pandas, matplotlib) can take a long time using `pip`.  Exceeding the build time limit (900 seconds) can cause builds to fail.  Therefore, we [build with conda](http://read-the-docs.readthedocs.io/en/latest/conda.html), which dramatically improves the build speed.  We begin by the mentioned yaml files in the appropriate locations.  Here are examples of each file:\n",
    "\n",
    "```\n",
    "# readthedocs.yml\n",
    "\n",
    "conda:\n",
    "    file: docs/environment.yml\n",
    "\n",
    "python:\n",
    "\tversion: 3\n",
    "```\n",
    "\n",
    "```\n",
    "# environment.yml\n",
    "\n",
    "name: lamana_docs\n",
    "dependencies:\n",
    "- python=3.5                                               # was installing py27\n",
    "- matplotlib                                               # seems needed for sphinx on rtd\n",
    "- pandas                                                   # speeds up build\n",
    "- numpy\n",
    "- openpyxl\n",
    "- six\n",
    "- ipykernel                                                # moved to conda 0.4.13-dev\n",
    "- sphinx_rtd_theme                                         # added 0.4.13-dev\n",
    "- pip:                                                     # unpinned 0.4.13-dev\n",
    "  - nbsphinx\n",
    "  - numpydoc\n",
    "```\n",
    "\n",
    "These files should trigger builds using conda.\n",
    "\n",
    "\n",
    "### Using `nbsphinx`\n",
    "\n",
    "Jupyter notebooks dwell in the \"docs\" folder.  By adding the `nbsphinx` extension to `conf.py`, notebooks extant in this folder are automatically converted from ipynb to html.  Specifically, running the `make html` build command does this conversion.  This setup has several benefits:\n",
    "\n",
    "1. Edit notebooks directly; no copies or moves required from twin files.\n",
    "2. Notebooks are rendered as-is.\n",
    "3. Timestamps and command line info can be \"hidden\" prior to rendering (edit the metadata).\n",
    "4. Images can pull from a single directory.\n",
    "\n",
    "Only the `index.rst` file uses the native reST format.\n",
    "\n",
    "### Images\n",
    "\n",
    "Images for the entire package reside in the `./docs/_images` folder.  This placement enables root access to images for any notebook.  There is an `_archive` folder used  to store older versions of image files.  The `README` in the docs folder reminds us not to enumerate updated image files, otherwise notebook links will break. Rather, copy and enumerate the old file and archive for reference."
   ]
  },
  {
   "cell_type": "raw",
   "metadata": {
    "raw_mimetype": "text/restructuredtext"
   },
   "source": [
    ".. important::    \n",
    "    \n",
    "    Do not add spaces filenames of images; use underscores instead.  Spaces do not render with nbsphinx."
   ]
  },
  {
   "cell_type": "raw",
   "metadata": {
    "raw_mimetype": "text/restructuredtext"
   },
   "source": [
    ".. note::    \n",
    "    \n",
    "    A special \"Doc builder\" file is retained in the \"_notebook\" folder to assist in building docs."
   ]
  },
  {
   "cell_type": "markdown",
   "metadata": {},
   "source": [
    "### API Docs\n",
    "\n",
    "The [sphinx.ext.autosummary](http://www.sphinx-doc.org/en/stable/ext/autosummary.html) documentation is followed closely to build the API Reference page.  `cd` into the root package and run this code to update the API reference.\n",
    "\n",
    "    > cd <package root>\n",
    "    > sphinx-apidoc -f -o ./docs/generated .\n",
    "\n",
    "This will create api docs (specifically \"stubs\") for all modules found in your package and store them in the \"generated\" folder.  These files extablish links between objects mentioned in your docs to their official docstrings. "
   ]
  },
  {
   "cell_type": "raw",
   "metadata": {
    "raw_mimetype": "text/restructuredtext"
   },
   "source": [
    ".. note::\n",
    "\n",
    "    The \"generated\" folder appears to be important for linking objects rendered by ``autosummary`` to their appropriate api documentation.  Projects such as ``seaborn`` and ``pandas`` seem to .gitignore this folder.  However, it was observed that this folder must be versioned to maintain api-doc links. "
   ]
  },
  {
   "cell_type": "markdown",
   "metadata": {},
   "source": [
    "You can now clean the existing build folder and make a new html build for review before deployment.  \n",
    "\n",
    "    > cd docs\n",
    "    > make clean\n",
    "    > make html\n",
    "\n",
    "Open the `index.html` file in the `_build/html` folder."
   ]
  },
  {
   "cell_type": "markdown",
   "metadata": {},
   "source": [
    "The sphinx extension `viewcode` links to the exact code where each module is documented in the API reference.  The alternative is to use the \"View in GitHub\" link on each page in readthedocs (not observed locally)."
   ]
  },
  {
   "cell_type": "raw",
   "metadata": {
    "raw_mimetype": "text/restructuredtext"
   },
   "source": [
    ".. note::    \n",
    "    \n",
    "    The API Reference currently generates long list of WARNINGS when build.  These are related to the location of the files needed to link to the reference documentation.  The links seem to work despite these warnings.  Alternative suggestions are welcome."
   ]
  }
 ],
 "metadata": {
  "anaconda-cloud": {},
  "celltoolbar": "Raw Cell Format",
  "kernelspec": {
   "display_name": "Python [py27]",
   "language": "python",
   "name": "Python [py27]"
  },
  "language_info": {
   "codemirror_mode": {
    "name": "ipython",
    "version": 2
   },
   "file_extension": ".py",
   "mimetype": "text/x-python",
   "name": "python",
   "nbconvert_exporter": "python",
   "pygments_lexer": "ipython2",
   "version": "2.7.12"
  },
  "toc": {
   "toc_cell": false,
   "toc_number_sections": false,
   "toc_threshold": "2",
   "toc_window_display": false
  }
 },
 "nbformat": 4,
 "nbformat_minor": 0
}
