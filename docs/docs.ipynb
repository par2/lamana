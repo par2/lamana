{
 "cells": [
  {
   "cell_type": "code",
   "execution_count": 1,
   "metadata": {
    "collapsed": false,
    "nbsphinx": "hidden"
   },
   "outputs": [
    {
     "name": "stdout",
     "output_type": "stream",
     "text": [
      "Last Run: 2016-07-09 01:31:15\n"
     ]
    }
   ],
   "source": [
    "# Hidden TimeStamp\n",
    "import time, datetime\n",
    "st = datetime.datetime.fromtimestamp(time.time()).strftime('%Y-%m-%d %H:%M:%S')\n",
    "print('Last Run: {}'.format(st))"
   ]
  },
  {
   "cell_type": "markdown",
   "metadata": {},
   "source": [
    "# Documenting Code"
   ]
  },
  {
   "cell_type": "markdown",
   "metadata": {},
   "source": [
    "A general guide for authors and developers."
   ]
  },
  {
   "cell_type": "markdown",
   "metadata": {},
   "source": [
    "## As a Developer\n",
    "\n",
    "This section is related to maintainers of the project repository.  Documentation for the LamAna package uses [Sphinx](http://www.sphinx-doc.org/en/stable/), [readthedocs](https://readthedocs.org/), the [nbsphinx](https://nbsphinx.readthedocs.org/en/0.2.2/) extension and conda to make builds. These three tools yield a simple documentating experience by directly rendering jupyter notebooks quickly.  Some details are written here for reference.\n",
    "\n",
    "### Setup\n",
    "\n",
    "The critical docs file structure is present below:\n",
    "\n",
    "```\n",
    "readthedocs.yml\n",
    "docs\n",
    "|\n",
    "|+ _archive\n",
    "|+ _images\n",
    "|- conf.py\n",
    "|- Makefile\n",
    "|- make.bat\n",
    "|- index.rst\n",
    "|- environment.yml\n",
    "|- *.ipynb\n",
    "|- ...\n",
    "\n",
    "```\n",
    "\n",
    "The `readthedocs.yml` and `environment.yml` files store metadata to make fast builds on readthedocs.  The folders prepended with and underscore are private and include pictures and data.  The `conf.py`, and `make` files are Sphinx files and shortcuts respectively.  The remaining files are documents that are actively edited.  \n",
    "\n",
    "\n",
    "### Building with conda\n",
    "\n",
    "Building with large dependencies (numpy, pandas, matplotlib )can take a long time using `pip`.  Exceeding the build time limit (900 seconds) can cause builds to fail.  Therefore, we [build with conda](http://read-the-docs.readthedocs.io/en/latest/conda.html), which dramatically improves the build speed.  We begin with placing the mentioned yaml files in the appropriate locations.  Here are examples of each file:\n",
    "\n",
    "```\n",
    "# readthedocs.yml\n",
    "conda:\n",
    "    file: docs/environment.yml\n",
    "\n",
    "python:\n",
    "\tversion: 3\n",
    "```\n",
    "\n",
    "```\n",
    "# environment.yml\n",
    "name: lamana_docs\n",
    "dependencies:\n",
    "- matplotlib                          # seems needed for sphinx on rtd\n",
    "- pandas                              # speeds up build \n",
    "- pip\n",
    "  - nbsphinx==0.2.2\n",
    "  - ipykernel==4.2.2\n",
    "  - numpydoc==0.5\n",
    "```\n",
    "\n",
    "These files should trigger builds using conda.\n",
    "\n",
    "\n",
    "### Using `nbsphinx`\n",
    "\n",
    "Jupyter notebooks dwell in the \"docs\" folder.  By adding the `nbsphinx` extension to `conf.py`, notebooks extant in this folder are automatically converted to html from ipynb files by running the `make html` build command.  This setup has several benefits:\n",
    "\n",
    "1. Edit notebooks directly; no copies or moves required from twin files.\n",
    "2. Notebooks are rendered as-is.\n",
    "3. Timestamps and command line info can be \"hidden\" prior to rendering (edit the metadata).\n",
    "4. Images can pull from a single directory\n",
    "\n",
    "Only the index.rst file uses the native reST format.\n",
    "\n",
    "### Images\n",
    "\n",
    "Images for the entire package reside in the `./docs/_images` folder.  This placement eases root access to images for any notebook.  There is an \"_archive\" folder used  to store older versions of image files.  The README in the docs folder reminds us not to enumerate updated image files, otherwise notebook links will break. Rather, copy and enumerate the old file and archive for reference."
   ]
  },
  {
   "cell_type": "raw",
   "metadata": {
    "raw_mimetype": "text/restructuredtext"
   },
   "source": [
    ".. important::    \n",
    "    \n",
    "    Do not add spaces filenames of images.  They do not render with nbsphinx."
   ]
  },
  {
   "cell_type": "raw",
   "metadata": {
    "raw_mimetype": "text/restructuredtext"
   },
   "source": [
    ".. note::    \n",
    "    \n",
    "    A specical \"Doc builder\" file is retained in the \"_notebook\" folder to assist in building docs."
   ]
  },
  {
   "cell_type": "markdown",
   "metadata": {},
   "source": [
    "### API Docs\n",
    "\n",
    "The [sphinx.ext.autosummary](http://www.sphinx-doc.org/en/stable/ext/autosummary.html) documentation is followed closely to build the API Reference page.  `cd` into the root package and run this code to update the API reference.\n",
    "\n",
    "    $ sphinx-apidoc -f -o ./docs/generated .\n",
    "\n",
    "You can optionally clean the build and make a new one afterwards.\n",
    "\n",
    "    $ make clean\n",
    "    \n",
    "    $ make html\n",
    "    \n",
    "This will create api docs or \"stubs\" for all modules found in your package and store them in the \"generated\" folder.  In other words, files are made that link mentions of modules with docstrings.  This folder appears to be important for linking object rendered by autosummary to their appropriate api doc.  (Projects like seaborn and pandas seem to gitignore this folder and its contents).  It was observed here that without this folder versioned, the api docs will break links.  "
   ]
  },
  {
   "cell_type": "raw",
   "metadata": {
    "raw_mimetype": "text/restructuredtext"
   },
   "source": [
    ".. note::\n",
    "\n",
    "    The alternative option is to figure out how to invoke the latter command on readthedocs, but at this time, that option has not been successfully executed."
   ]
  },
  {
   "cell_type": "markdown",
   "metadata": {},
   "source": [
    "The sphinx extension `viewcode` links to the exact code where each module is documented in the API reference.  The alternative is to use the \"View in GitHub\" link on each page in readthedocs (not observed locally)."
   ]
  },
  {
   "cell_type": "raw",
   "metadata": {
    "raw_mimetype": "text/restructuredtext"
   },
   "source": [
    ".. note::    \n",
    "    \n",
    "    The API Reference currently generates long list of WARNINGS when run, related to the location of the files needed to link to the reference documentation.  The links seem to work despite these warnings.  Alternatives are welcome."
   ]
  }
 ],
 "metadata": {
  "celltoolbar": "Raw Cell Format",
  "kernelspec": {
   "display_name": "Python 3",
   "language": "python",
   "name": "python3"
  },
  "language_info": {
   "codemirror_mode": {
    "name": "ipython",
    "version": 3
   },
   "file_extension": ".py",
   "mimetype": "text/x-python",
   "name": "python",
   "nbconvert_exporter": "python",
   "pygments_lexer": "ipython3",
   "version": "3.3.5"
  },
  "toc": {
   "toc_cell": false,
   "toc_number_sections": false,
   "toc_threshold": "2",
   "toc_window_display": false
  }
 },
 "nbformat": 4,
 "nbformat_minor": 0
}
