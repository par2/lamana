{
 "cells": [
  {
   "cell_type": "code",
   "execution_count": 1,
   "metadata": {
    "collapsed": false,
    "nbsphinx": "hidden"
   },
   "outputs": [
    {
     "name": "stdout",
     "output_type": "stream",
     "text": [
      "Last Run: 2016-02-13 21:24:45\n"
     ]
    }
   ],
   "source": [
    "# Hidden TimeStamp\n",
    "import time, datetime\n",
    "st = datetime.datetime.fromtimestamp(time.time()).strftime('%Y-%m-%d %H:%M:%S')\n",
    "print('Last Run: {}'.format(st))"
   ]
  },
  {
   "cell_type": "markdown",
   "metadata": {},
   "source": [
    "# The Package Architecture"
   ]
  },
  {
   "cell_type": "markdown",
   "metadata": {},
   "source": [
    "LamAna is a package of modules the originally stemmed from a simple legacy script (circa 2014).  It has since been updated and abstracted to analyze more general problems related to laminates.  \n",
    "\n",
    "This repository is designed to accept various geometry constructs given a specific, customized model that is based on classical laminate theory.  The package architecture is diagramed below.  \n",
    "\n",
    "![API Diagram](./_images/diagram.png)\n",
    "\n",
    "As shown, each diamond represents a module.  The diagram illustrates the relationships in passing data-filled `LaminateModels` and `FeatureInput` objects between modules. The user-related areas are highlighted blue.  The package is most extensible in these blue areas.  \n",
    "\n",
    "## Package Module Summary\n",
    "\n",
    "This section details some important modules critical to LamAna's operation.  The following table summarizes the core and feature modules in this package, what they intend to do and some important objects that result.  Objects that get passed between modules are italicized.  The Auxillary (or Utility) modules house support code that will not be discussed.\n",
    "\n",
    "| Module | Classifier | Purpose     | Product |\n",
    "|:------ |:---------- |:----------- |:-------:|\n",
    "| `input_` | Backend   | Backend code for processing user inputs for all feature modules.  | User *Input object* i.e. `Geometry` |\n",
    "| `distrubtions` | Feature | Analyze stress distributions for different geometries.  | *FeatureInput object*, `Case`, `Cases` | \n",
    "| `ratios` | Feature | Thickness ratio analyses for optimizing stress-geomtry design. | *FeatureInput object* |\n",
    "| `predictions` | Feature | Failure predictions using experimental and laminate theory data. | *FeatureInput object* |\n",
    "| `constructs` | Backend | Code for building `Laminate` objects.  | *LaminateModel object* |\n",
    "| `theories` | Backend |  Code for selecting `Model` objects |  *Model* object |\n",
    "| `<models>` | Extension | Directory of user-defined, custom LT models | *Model* objects |\n",
    "| `output_` | Backend |  Code for several plotting objects, exporting and saving | Output object e.g. plots, xls, figures |\n",
    "\n",
    "The components of the lamana project can thus be distinguished as three types:\n",
    "\n",
    "- Frontend: user-interacted, feature modules of particular interest that utilize laminate theory models\n",
    "- Extension: directories/modules extending capabilities of the repository, e.g. `models` directory containing user defined laminate theories (`Classical_LT`, `Wilson_LT`).\n",
    "- Backend: remaining Core modules, `input_`, `constructs_`, `theories_`, `output_`; workhorse factories of `LaminateModel` objects.\n"
   ]
  },
  {
   "cell_type": "raw",
   "metadata": {
    "raw_mimetype": "text/restructuredtext"
   },
   "source": [
    ".. note ::\n",
    "\n",
    "    This project is forked from legacy code: *Script - Laminate_Stress_Constant_Thickness_3a3.ipynb*."
   ]
  },
  {
   "cell_type": "raw",
   "metadata": {
    "raw_mimetype": "text/restructuredtext"
   },
   "source": [
    ".. note::\n",
    "\n",
    "   Only the ``distributions`` Feature module is implementated as of LamAna 0.4.10.  ``ratios`` and ``predictions`` will be added in future releases."
   ]
  },
  {
   "cell_type": "markdown",
   "metadata": {},
   "source": [
    "### Intermodular Products"
   ]
  },
  {
   "cell_type": "markdown",
   "metadata": {},
   "source": [
    "The key inter-modular products will be mentioned briefly.  These objects have information that is exchanged between package modules.  These objects are illustrated as circles in the API Diagram."
   ]
  },
  {
   "cell_type": "markdown",
   "metadata": {},
   "source": [
    "#### FeatureInput\n",
    "\n",
    "A FeatureInput is a Python dictionary that contains information from both a Feature module and user-information processed by the `input_` module.  Here is a sample dict; the associated items are tabulated:\n",
    "\n",
    "```python\n",
    "\n",
    "FeatureInput = {\n",
    "    'Geometry': Geometry,                           # defined in Case      \n",
    "    'Parameters': load_params,\n",
    "    'Properties': mat_props,\n",
    "    'Materials': materials,                         # set material order\n",
    "    'Model': model,\n",
    "    'Globals': None,                                # defined in models\n",
    "}             \n",
    "```\n",
    "\n",
    "| Key | Value | Description | \n",
    "|:---|:-----|:-----------|\n",
    "| `'Geometry'` | Geometry object | a single tuple of Geometry thicknesses |\n",
    "|`'Parameters'`| load_params | loading parameters |\n",
    "| `'Properties'` | mat_props | material properties, e.g. modulus, Poisson's ratio |\n",
    "| `'Materials'` | materials index | ordered list of materials from DataFrame index |\n",
    "| `'Model'` | model str | selected string of model name |\n",
    "| `'Globals'` | None | a placeholder for future ubiquitous model variables |\n"
   ]
  },
  {
   "cell_type": "raw",
   "metadata": {
    "raw_mimetype": "text/restructuredtext"
   },
   "source": [
    ".. note::\n",
    "\n",
    "    `PEP8 <https://www.python.org/dev/peps/pep-0008/>`_ discusses use of trailing underscore to avoid conflicts with Python keywords."
   ]
  },
  {
   "cell_type": "markdown",
   "metadata": {},
   "source": [
    "#### LaminateModel\n",
    "\n",
    "A `LaminateModel` is a `pandas` DataFrame object that combines data processed by the `constructs.Laminate` and `theories.<model>` classes.  Details of this object will be discussed further in the [constructs](#Core-Module:-constructs) section. "
   ]
  }
 ],
 "metadata": {
  "celltoolbar": "Raw Cell Format",
  "kernelspec": {
   "display_name": "Python 3",
   "language": "python",
   "name": "python3"
  },
  "language_info": {
   "codemirror_mode": {
    "name": "ipython",
    "version": 3
   },
   "file_extension": ".py",
   "mimetype": "text/x-python",
   "name": "python",
   "nbconvert_exporter": "python",
   "pygments_lexer": "ipython3",
   "version": "3.3.5"
  },
  "toc": {
   "toc_cell": false,
   "toc_number_sections": false,
   "toc_threshold": "2",
   "toc_window_display": true
  }
 },
 "nbformat": 4,
 "nbformat_minor": 0
}
