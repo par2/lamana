{
 "cells": [
  {
   "cell_type": "code",
   "execution_count": 1,
   "metadata": {
    "collapsed": false,
    "nbsphinx": "hidden"
   },
   "outputs": [
    {
     "name": "stdout",
     "output_type": "stream",
     "text": [
      "Last Run: 2016-09-15 19:53:00\n"
     ]
    }
   ],
   "source": [
    "# Hidden TimeStamp\n",
    "import time, datetime\n",
    "st = datetime.datetime.fromtimestamp(time.time()).strftime('%Y-%m-%d %H:%M:%S')\n",
    "print('Last Run: {}'.format(st))"
   ]
  },
  {
   "cell_type": "markdown",
   "metadata": {},
   "source": [
    "# The Package Architecture"
   ]
  },
  {
   "cell_type": "markdown",
   "metadata": {},
   "source": [
    "LamAna originates from a single legacy script (circa 2014).  It has since grown into a package of modules and been abstracted to address more general problems related to laminate analysis.  \n",
    "\n",
    "This repository is designed to analyze various geometries given a specified custom model based on Classical Laminate Theory (CLT).  Package architecture is diagramed below:  \n",
    "\n",
    "![API Diagram](./_images/diagram.png)"
   ]
  },
  {
   "cell_type": "markdown",
   "metadata": {},
   "source": [
    "As indicated in the diagram key, each diamond shape represents a module.  This diagram also illustrates the traffic of data structures exchanged between modules. Namely, these data structures are `FeatureInput` and `LaminateModels` objects; details for each will be described later.  The user-related areas are highlighted blue.  The most prominent extensible components pertain to these blue areas.  \n",
    "\n",
    "## Package Module Summary\n",
    "\n",
    "The following table summarizes the core and feature modules in this package, their intended functions and key resulting objects.  Objects that are  exchanged between modules are italicized.  The Auxillary/Utility modules house supporting code that will not be discussed.\n",
    "\n",
    "| Module | Classifier | Purpose     | Product |\n",
    "|:------ |:---------- |:----------- |:-------:|\n",
    "| `input_` | Backend   | Backend code processing user inputs for all feature modules.  | User *Input object* i.e. `Geometry` |\n",
    "| `distrubtions` | Feature | Analyze stress distributions for different geometries.  | *FeatureInput object* | \n",
    "| `ratios` | Feature | Thickness ratio analyses for optimizing stress-geomtry design. | |\n",
    "| `predictions` | Feature | Failure predictions using experimental and laminate theory data. | |\n",
    "| `constructs` | Backend | Build DataFrame representations of laminates. | *Laminate-like objects* |\n",
    "| `theories` | Backend |  Handle custom model selection and handshaking. |  |\n",
    "| `<models>` | Extension | Directory of user-defined, custom LT models | *Model object* |\n",
    "| `output_` | Backend |  Plotting objects and export code. | Output object e.g. plots, .xlsx/.csv, figures |\n",
    "\n",
    "The components of the lamana project can thus be classified by one of three types:\n",
    "\n",
    "- **Frontend/Feature**: user-interacted, feature modules of particular interest that rely on models based on laminate theory.\n",
    "- **Extension**: plugin modules that extend capabilities of the repository, e.g. `models` directory containing user defined laminate theories (`Classical_LT`, `Wilson_LT`).\n",
    "- **Backend**: remaining Core modules, `input_`, `constructs_`, `theories_`, `output_`; workhorse factories of `LaminateModel` objects."
   ]
  },
  {
   "cell_type": "raw",
   "metadata": {
    "raw_mimetype": "text/restructuredtext"
   },
   "source": [
    ".. note::\n",
    "\n",
    "   As of LamAna 0.4.10, only the ``distributions`` Feature module is implementated.  ``ratios`` and ``predictions`` will be added in future releases."
   ]
  },
  {
   "cell_type": "markdown",
   "metadata": {},
   "source": [
    "### Intramodular Products\n",
    "\n",
    "Intramodular products exchange information between package modules.  These objects are illustrated as circles in the API Diagram.\n",
    "\n",
    "#### FeatureInput\n",
    "\n",
    "A `FeatureInput` is simply a Python dictionary that contains information from both a Feature module and user-information processed by the `input_` module.  Here is a sample with the associated items tabulated; you may note fimilar `load_params` and `mat_props` from boilerpoint code:\n",
    "\n",
    "```python\n",
    "\n",
    "FeatureInput = {\n",
    "    'Geometry': Geometry,                           # defined in Case      \n",
    "    'Parameters': load_params,\n",
    "    'Properties': mat_props,\n",
    "    'Materials': materials,                         # set material order\n",
    "    'Model': model,\n",
    "    'Globals': None,                                # defined in models\n",
    "}             \n",
    "```\n",
    "\n",
    "| Key | Value | Description | \n",
    "|:---|:-----|:-----------|\n",
    "| `'Geometry'` | Geometry object | a `namedtuple` of geometry thicknesses |\n",
    "|`'Parameters'`| load_params | loading parameters |\n",
    "| `'Properties'` | mat_props | material properties, e.g. modulus, Poisson's ratio |\n",
    "| `'Materials'` | materials index | ordered list of materials from a DataFrame index |\n",
    "| `'Model'` | model str | a model name; string object |\n",
    "| `'Globals'` | None | an optional placeholder for ubiquitous model variables |\n"
   ]
  },
  {
   "cell_type": "markdown",
   "metadata": {},
   "source": [
    "#### LaminateModel\n",
    "\n",
    "A `LaminateModel` is simply a `pandas` DataFrame that combines data processed by a `constructs` object and `theories` model.  Details of this object will be discussed further in the [constructs](components.ipynb#Core-Module:-constructs) section. Other \"Laminate-like\" objects include parent classes, `Laminate` and `Stack` objects.  Specifics for each object are detailed in corresponding docstrings."
   ]
  },
  {
   "cell_type": "raw",
   "metadata": {
    "raw_mimetype": "text/restructuredtext"
   },
   "source": [
    ".. note ::\n",
    "\n",
    "    Forked legacy code: *Script - Laminate_Stress_Constant_Thickness_3a3.ipynb*."
   ]
  }
 ],
 "metadata": {
  "anaconda-cloud": {},
  "celltoolbar": "Raw Cell Format",
  "kernelspec": {
   "display_name": "Python [py27]",
   "language": "python",
   "name": "Python [py27]"
  },
  "language_info": {
   "codemirror_mode": {
    "name": "ipython",
    "version": 2
   },
   "file_extension": ".py",
   "mimetype": "text/x-python",
   "name": "python",
   "nbconvert_exporter": "python",
   "pygments_lexer": "ipython2",
   "version": "2.7.12"
  },
  "toc": {
   "toc_cell": false,
   "toc_number_sections": false,
   "toc_threshold": "2",
   "toc_window_display": true
  }
 },
 "nbformat": 4,
 "nbformat_minor": 0
}
