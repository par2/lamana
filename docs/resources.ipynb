{
 "cells": [
  {
   "cell_type": "code",
   "execution_count": 1,
   "metadata": {
    "collapsed": false,
    "nbsphinx": "hidden"
   },
   "outputs": [
    {
     "name": "stdout",
     "output_type": "stream",
     "text": [
      "Last Run:  2016-01-12 02:07:27\n"
     ]
    }
   ],
   "source": [
    "# Hidden TimeStamp\n",
    "import time, datetime\n",
    "st = datetime.datetime.fromtimestamp(time.time()).strftime('%Y-%m-%d %H:%M:%S')\n",
    "print('Last Run: {}'.format(st))"
   ]
  },
  {
   "cell_type": "markdown",
   "metadata": {},
   "source": [
    "# Resources"
   ]
  },
  {
   "cell_type": "markdown",
   "metadata": {},
   "source": [
    "If you are new to developing, here are some resources to get started on this project.\n",
    "\n",
    "- [git](https://git-scm.com/downloads): default version control \n",
    "- [gitflow-avh](https://github.com/petervanderdoes/gitflow-avh): a git extension used to ease development workflow\n",
    "- [atom](https://atom.io/): an great text editor\n",
    "\n",
    "The following packages are available in `conda` or `pip`:\n",
    "\n",
    "- [virtualenv](https://github.com/pypa/virtualenv): create reproducible, isolated virtual enviroments\n",
    "- [vituralenvwrapper](https://bitbucket.org/dhellmann/virtualenvwrapper): simplify virtualenv creation; see also [virtualenvwrapper-win](https://pypi.python.org/pypi/virtualenvwrapper-win) for Windows\n",
    "- [nose](https://nose.readthedocs.org/en/latest/): test code; see also `pytest` alternative."
   ]
  }
 ],
 "metadata": {
  "celltoolbar": "Edit Metadata",
  "kernelspec": {
   "display_name": "Python 3",
   "language": "python",
   "name": "python3"
  },
  "language_info": {
   "codemirror_mode": {
    "name": "ipython",
    "version": 3
   },
   "file_extension": ".py",
   "mimetype": "text/x-python",
   "name": "python",
   "nbconvert_exporter": "python",
   "pygments_lexer": "ipython3",
   "version": "3.3.5"
  }
 },
 "nbformat": 4,
 "nbformat_minor": 0
}
