{
 "cells": [
  {
   "cell_type": "code",
   "execution_count": 4,
   "metadata": {
    "collapsed": false,
    "nbsphinx": "hidden"
   },
   "outputs": [
    {
     "name": "stdout",
     "output_type": "stream",
     "text": [
      "Last Run: 2016-01-15 20:43:38\n"
     ]
    }
   ],
   "source": [
    "# Hidden TimeStamp\n",
    "import time, datetime\n",
    "st = datetime.datetime.fromtimestamp(time.time()).strftime('%Y-%m-%d %H:%M:%S')\n",
    "print('Last Run: {}'.format(st))"
   ]
  },
  {
   "cell_type": "markdown",
   "metadata": {},
   "source": [
    "# Getting Started\n",
    "\n",
    "\n",
    "## Using LamAna with Jupyter\n",
    "\n",
    "LamAna can work in commandline, but was developed to work best with the IPython/Jupter Notebook (v3.2.0+/4.0+).  As of `lamana 0.4.9`, `notebook` is only a dependency frozen in the requirements.txt file; by default it must be installed separately.  It is typically package with conda ([see documentation for installation](https://jupyter.readthedocs.org/en/latest/install.html))`.  See examples of notebooks in the github repository. \n",
    "\n",
    "Plotting does not work well in commandline.  Plots work best in Jupyter with some backend initiated using idiomatic IPython magics e.g. `%matplotlib inline`.\n",
    "\n",
    "\n",
    "The user starts by importing the desired Feature module, e.g. `distributions` for plots of stress or strain distributions. By using a Feature module, they indirectly access the `input_` module through by calling the `apply()` method.  "
   ]
  },
  {
   "cell_type": "raw",
   "metadata": {
    "raw_mimetype": "text/restructuredtext"
   },
   "source": [
    ".. note::\n",
    "\n",
    "    Indirect access to `input` was decided because importing `input_` to then access a Feature seemed cumbersome and awkward.  To reduce user boilerpoint, the specific Feature module became the frontend while the input transactions merged with the backend."
   ]
  },
  {
   "cell_type": "markdown",
   "metadata": {},
   "source": [
    "We will now explore how the user can **input data** and **generate plots** using the `distributions` module.\n",
    "\n",
    "##  User Setup\n",
    "\n",
    "First we must input loading parameters and material pproperties.  Secondly, we must invoke a selected laminate theory.  The former requires knowlege of the specimen dimensions, the materials properties and loading configuration.  For illustration, an example schematic of laminate loading parameters is provided below.\n",
    "\n",
    "![Loading Parameters](./_images/load_params.png)\n",
    "\n",
    "A table is provided defining the illustrated parameters.  These loading parameters are coded in a dictionary called `load_params`. \n",
    "\n",
    "| Parameter | Units (SI) | Definition |\n",
    "| :-------: | :--------: | :--------- |\n",
    "| *P* | N | applied load |\n",
    "| *R* | m | specimen radius | \n",
    "| *a* | m | support radius |\n",
    "| *b* | m | piston radius |\n",
    "| *r* | m | radial distance from central loading |\n",
    "| *p* | - | graphical points or DataFrame rows per layer |\n",
    "\n",
    "### User Defined Parameters\n",
    "\n",
    "Sample code is provided for setting up geometric dimensions, loading parameters and material properties."
   ]
  },
  {
   "cell_type": "markdown",
   "metadata": {
    "collapsed": true
   },
   "source": [
    "```python\n",
    "# SETUP -----------------------------------------------------------------------\n",
    "\n",
    "import lamana as la\n",
    "\n",
    "# Build two dicts of loading and material parameters\n",
    "load_params = {\n",
    "    'P_a': 1,                                              # applied load \n",
    "    'R': 12e-3,                                            # specimen radius\n",
    "    'a': 7.5e-3,                                           # support radius \n",
    "    'p': 4,                                                # points/layer\n",
    "    'r': 2e-4,                                             # radial distance from center loading\n",
    "}\n",
    "\n",
    "# Using Quick Form (See Standard Form)\n",
    "mat_props = {\n",
    "    'HA': [5.2e10, 0.25],                                  # modulus, Poissions\n",
    "    'PSu': [2.7e9, 0.33],            \n",
    "}\n",
    "\n",
    "# Build a list of geometry strings to test.  Accepted conventions shown below:\n",
    "# 'outer - [{inner...-...}_i] - middle'\n",
    "\n",
    "geos1 = ['400-400-400', '400-200-800', '400-350-500']      # = total thickness\n",
    "geos2 = ['400-[400]-400', '400-[200,100]-800']             # = outer thickness \n",
    "#------------------------------------------------------------------------------\n",
    "```"
   ]
  },
  {
   "cell_type": "markdown",
   "metadata": {},
   "source": [
    "## Generate Data in 3 Lines\n",
    "\n",
    "With the **loading and material** information, we can make stress distribution plots using Python to define (reusable) test **cases** by implementing 3 simple steps. \n",
    "\n",
    "1. Instantiate a Feature object with loading and material parameters (generates makes a user Case object) \n",
    "1. `apply()` a model to a test with desired geometries (assumes mirrored at the neutral axis)\n",
    "1. `plot()` the case object based on the chosen feature\n",
    "\n",
    "Once the parameters geometries are set, in three lines of code, you can build a case and simultaneiously plot stress distributions for an indefinite number of laminates varying in compostion and dimension within seconds.  Conveniently, the  outputs are common Python data structures, specifically `pandas` DataFrames and `matplotlib` graphical plots ready for data munging and analysis."
   ]
  },
  {
   "cell_type": "markdown",
   "metadata": {},
   "source": [
    "```python\n",
    "case1 = la.distributions(load_params, mat_props)           # instantiate\n",
    "case1.apply(geos1, model='Classic_LT')                     # apply \n",
    "case1.plot()                                               # plot \n",
    "```"
   ]
  },
  {
   "cell_type": "markdown",
   "metadata": {},
   "source": [
    "A case stores all of the laminate data for a particular set of parameters in two forms: a dict and a DataFrame (see tutorial for details). Once a case is built, there serveral covenient builtin attributes for accessing this data for further analysis."
   ]
  },
  {
   "cell_type": "code",
   "execution_count": 5,
   "metadata": {
    "collapsed": false
   },
   "outputs": [
    {
     "data": {
      "text/plain": [
       "'Add mini api docs'"
      ]
     },
     "execution_count": 5,
     "metadata": {},
     "output_type": "execute_result"
    }
   ],
   "source": [
    "'''Add mini api docs'''"
   ]
  },
  {
   "cell_type": "markdown",
   "metadata": {},
   "source": [
    "```python\n",
    "# Case Attributes\n",
    "case.geometries                                            # geometry object\n",
    "case.total                                                 # total laminate thickness (all)                \n",
    "case.inner                                                 # layer thickness (all)    \n",
    "case.total_inner                                           # total layer type (all) \n",
    "case.total_inner[0]                                        # slicing\n",
    "case.total_inner_i                                         # total inner layers\n",
    "case1.snapshot                                             # list of all geometry stacks (unique layers)\n",
    "case1.frames                                               # list all DataFrames (all layers)\n",
    "```"
   ]
  },
  {
   "cell_type": "markdown",
   "metadata": {},
   "source": [
    "We can perform sepearate analyses by building different cases and apply different models (default model: \"Wilson_LT\" for circular disks in biaxial flexure).  \n",
    "\n",
    "### Extensibilty\n",
    "\n",
    "Is Classical Laminate Theory incompatible with for your analysis?  Fortunately, **LamAna is extensible**.  Users can define modified laminate theory models and apply these to cases (see theories section for details).\n",
    "\n",
    "```python\n",
    "# Classical Laminate Theory\n",
    "case2 = la.distributions(load_params, mat_props)           # instantiate \n",
    "case2.apply(geos2, model='Classical_LT')                   # apply model\n",
    "case2.plot()\n",
    "\n",
    "# Custom Biaxial Flexure Model\n",
    "case3 = la.distributions(load_params, mat_props)           # instantiate \n",
    "case3.apply(geos2, model='Wilson_LT')                      # custom model\n",
    "case3.plot()\n",
    "```\n"
   ]
  }
 ],
 "metadata": {
  "celltoolbar": "Edit Metadata",
  "kernelspec": {
   "display_name": "Python 3",
   "language": "python",
   "name": "python3"
  },
  "language_info": {
   "codemirror_mode": {
    "name": "ipython",
    "version": 3
   },
   "file_extension": ".py",
   "mimetype": "text/x-python",
   "name": "python",
   "nbconvert_exporter": "python",
   "pygments_lexer": "ipython3",
   "version": "3.3.5"
  }
 },
 "nbformat": 4,
 "nbformat_minor": 0
}
