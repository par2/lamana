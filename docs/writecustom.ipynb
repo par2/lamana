{
 "cells": [
  {
   "cell_type": "code",
   "execution_count": 1,
   "metadata": {
    "collapsed": false,
    "nbsphinx": "hidden"
   },
   "outputs": [
    {
     "name": "stdout",
     "output_type": "stream",
     "text": [
      "Last Run: 2016-02-24 01:48:39\n"
     ]
    }
   ],
   "source": [
    "# Hidden TimeStamp\n",
    "import time, datetime\n",
    "st = datetime.datetime.fromtimestamp(time.time()).strftime('%Y-%m-%d %H:%M:%S')\n",
    "print('Last Run: {}'.format(st))"
   ]
  },
  {
   "cell_type": "code",
   "execution_count": 2,
   "metadata": {
    "collapsed": false,
    "nbsphinx": "hidden"
   },
   "outputs": [],
   "source": [
    "# Run this cell only once\n",
    "from IPython.display import clear_output\n",
    "\n",
    "%cd ../\n",
    "clear_output()"
   ]
  },
  {
   "cell_type": "markdown",
   "metadata": {},
   "source": [
    "# Writing Custom Models"
   ]
  },
  {
   "cell_type": "markdown",
   "metadata": {},
   "source": [
    "\n",
    "A powerful, extensible option of the `LamAna` package is user implementation of their own laminate theory models.  A library of these custom models (as well as the defaults) are kept in the `models` directory (sub-package).  This is possbile because the `theories` module \"handshakes\" between the `constructs` module and the selected model from the `models` sub-package.  \n",
    "\n",
    "## Authoring Custom Models\n",
    "\n",
    "Custom models are simple `.py` files that can be locally placed by the user into the models directory.  The API allows for calling these selected files in the `apply()` method of the `distributions` module.  In order for these process to work smoothly, the following essentials are needed to talk to `theories` module. \n",
    "\n",
    "1. Implement a `_use_model_()` hook that returns (at minimum) an updated DataFrame.\n",
    "1. If using the class-style to make models, implement `_use_model_()` hook within a class named \"Model\" (must have this name) that inherits from `theories.BaseModel`.\n",
    "\n",
    "Exceptions for specific models are maintained by the models author."
   ]
  },
  {
   "cell_type": "markdown",
   "metadata": {},
   "source": [
    "The following cell shows excerpts of the class-style model. Examples of function-style and class-style models are found in the \"examples\" folder found in the repository."
   ]
  },
  {
   "cell_type": "markdown",
   "metadata": {},
   "source": [
    "```python\n",
    "#------------------------------------------------------------------------------\n",
    "# Class-style model\n",
    "\n",
    "# ...\n",
    "\n",
    "class Model(BaseModel):\n",
    "    '''A modified laminate theory for circular biaxial flexure disks,\n",
    "    loaded with a flat piston punch on 3-ball support having two distinct\n",
    "    materials (polymer and ceramic).'''\n",
    "\n",
    "    '''Accept extra args and kwds here'''\n",
    "    def __init__(self):\n",
    "        self.Laminate = None\n",
    "        self.FeatureInput = None\n",
    "        self.LaminateModel = None\n",
    "\n",
    "    def _use_model_(self, Laminate, adjusted_z=False):\n",
    "        '''Return updated DataFrame and FeatureInput Return None if exceptions raised.\n",
    "        ...\n",
    "        \n",
    "        Returns\n",
    "        -------\n",
    "        tuple\n",
    "            The updated calculations and parameters stored in a tuple\n",
    "            `(LaminateModel, FeatureInput)``.\n",
    "\n",
    "        '''\n",
    "        self.Laminate = Laminate\n",
    "        df = Laminate.LFrame.copy()\n",
    "        FeatureInput = Laminate.FeatureInput\n",
    "\n",
    "        # Author-defined Exception Handling\n",
    "        if (FeatureInput['Parameters']['r'] == 0):\n",
    "            raise ZeroDivisionError('r=0 is invalid for the log term in the moment eqn.')\n",
    "        elif (FeatureInput['Parameters']['a'] == 0):\n",
    "            raise ZeroDivisionError('a=0 is invalid for the log term in the moment eqn.')\n",
    "            \n",
    "        # ...\n",
    "\n",
    "        # Calling functions to calculate Qs and Ds\n",
    "        df.loc[:, 'Q_11'] = self.calc_stiffness(df, FeatureInput['Properties']).q_11\n",
    "        df.loc[:, 'Q_12'] = self.calc_stiffness(df, FeatureInput['Properties']).q_12\n",
    "        df.loc[:, 'D_11'] = self.calc_bending(df, adj_z=adjusted_z).d_11\n",
    "        df.loc[:, 'D_12'] = self.calc_bending(df, adj_z=adjusted_z).d_12\n",
    "\n",
    "        # Global Variable Update\n",
    "        if (FeatureInput['Parameters']['p'] == 1) & (Laminate.nplies%2 == 0):\n",
    "            D_11T = sum(df['D_11'])\n",
    "            D_12T = sum(df['D_12'])\n",
    "        else:\n",
    "            D_11T = sum(df.loc[df['label'] == 'interface', 'D_11']) # total D11\n",
    "            D_12T = sum(df.loc[df['label'] == 'interface', 'D_12'])\n",
    "        #print(FeatureInput['Geometric']['p'])\n",
    "\n",
    "        D_11p = (1./((D_11T**2 - D_12T**2)) * D_11T)         #\n",
    "        D_12n = -(1./((D_11T**2 - D_12T**2))  *D_12T)        #\n",
    "        v_eq = D_12T/D_11T                                   # equiv. Poisson's ratio\n",
    "        M_r = self.calc_moment(df, FeatureInput['Parameters'], v_eq).m_r\n",
    "        M_t = self.calc_moment(df, FeatureInput['Parameters'], v_eq).m_t\n",
    "        K_r = (D_11p*M_r) + (D_12n*M_t)                    # curvatures\n",
    "        K_t = (D_12n*M_r) + (D_11p*M_t)\n",
    "\n",
    "        # Update FeatureInput\n",
    "        global_params = {\n",
    "            'D_11T': D_11T,\n",
    "            'D_12T': D_12T,\n",
    "            'D_11p': D_11p,\n",
    "            'D_12n': D_12n,\n",
    "            'v_eq ': v_eq,\n",
    "            'M_r': M_r,\n",
    "            'M_t': M_t,\n",
    "            'K_r': K_r,\n",
    "            'K_t:': K_t,\n",
    "        }\n",
    "\n",
    "        FeatureInput['Globals'] = global_params\n",
    "        self.FeatureInput = FeatureInput                   # update with Globals\n",
    "        #print(FeatureInput)\n",
    "\n",
    "        # Calculate Strains and Stresses and Update DataFrame\n",
    "        df.loc[:,'strain_r'] = K_r * df.loc[:, 'Z(m)']\n",
    "        df.loc[:,'strain_t'] = K_t * df.loc[:, 'Z(m)']\n",
    "        df.loc[:, 'stress_r (Pa/N)'] = (df.loc[:, 'strain_r'] * df.loc[:, 'Q_11']\n",
    "                                ) + (df.loc[:, 'strain_t'] * df.loc[:, 'Q_12'])\n",
    "        df.loc[:,'stress_t (Pa/N)'] = (df.loc[:, 'strain_t'] * df.loc[:, 'Q_11']\n",
    "                             ) + (df.loc[:, 'strain_r'] * df.loc[:, 'Q_12'])\n",
    "        df.loc[:,'stress_f (MPa/N)'] = df.loc[:, 'stress_t (Pa/N)']/1e6\n",
    "\n",
    "        del df['Modulus']\n",
    "        del df['Poissons']\n",
    "\n",
    "        self.LaminateModel = df\n",
    "\n",
    "        return (df, FeatureInput)\n",
    "\n",
    "\n",
    "    #  Add Defaults here\n",
    "```"
   ]
  },
  {
   "cell_type": "raw",
   "metadata": {
    "raw_mimetype": "text/restructuredtext"
   },
   "source": [
    ".. note::\n",
    "\n",
    "    DEV: If testing with both function- and class-styles, keep in mind any changes to the model model should be should be reflected in both styles."
   ]
  },
  {
   "cell_type": "markdown",
   "metadata": {},
   "source": [
    "### What are `Defaults`?"
   ]
  },
  {
   "cell_type": "markdown",
   "metadata": {},
   "source": [
    "Recall there are a set of geometric, loading and material parameters that are required to run LT calculations.  For testing purposes, these parameters can become tedious to set up each time you wish to run a simple plot or test parallel case.  Therefore, you can prepare variables that store default parameters with specific values.  Calling these variables can reduce the redundancy of typing them over again.\n",
    "\n",
    "The `BaseDefaults` class stores a number of common geometry strings, Geometry objects, arbitrary loading parameters and material properties.  These values are intended to get you started, but can be altered easily to fit your common tolerance for your model.  This customization is simple by subclassing `BaseDefaults`.  This class also has methods for easily building accepted, formated FeatureInput objects.  Here you can build custom loading parameters, materials properties and FeatureInput objects.       "
   ]
  },
  {
   "cell_type": "markdown",
   "metadata": {
    "collapsed": false
   },
   "source": [
    "```python\n",
    "class Defaults(BaseDefaults):\n",
    "    '''Return parameters for building distributions cases.  Useful for consistent\n",
    "    testing.\n",
    "\n",
    "    Dimensional defaults are inherited from utils.BaseDefaults().\n",
    "    Material-specific parameters are defined here by he user.\n",
    "\n",
    "    - Default geometric parameters\n",
    "    - Default material properties\n",
    "    - Default FeatureInput\n",
    "\n",
    "    Examples\n",
    "    ========\n",
    "    >>> dft = Defaults()\n",
    "    >>> dft.load_params\n",
    "    {'R' : 12e-3, 'a' : 7.5e-3, 'p' : 1, 'P_a' : 1, 'r' : 2e-4,}\n",
    "\n",
    "    >>> dft.mat_props\n",
    "    {'Modulus': {'HA': 5.2e10, 'PSu': 2.7e9},\n",
    "    'Poissons': {'HA': 0.25, 'PSu': 0.33}}\n",
    "\n",
    "    >>> dft.FeatureInput\n",
    "     {'Geometry' : '400-[200]-800',\n",
    "      'Geometric' : {'R' : 12e-3, 'a' : 7.5e-3, 'p' : 1, 'P_a' : 1, 'r' : 2e-4,},\n",
    "      'Materials' : {'HA' : [5.2e10, 0.25], 'PSu' : [2.7e9, 0.33],},\n",
    "      'Custom' : None,\n",
    "      'Model' : Wilson_LT}\n",
    "\n",
    "    '''\n",
    "    def __init__(self):\n",
    "        BaseDefaults.__init__(self)\n",
    "        '''DEV: Add defaults first.  Then adjust attributes.'''\n",
    "        # DEFAULTS ------------------------------------------------------------\n",
    "        # Build dicts of geometric and material parameters\n",
    "        self.load_params = {\n",
    "            'R': 12e-3,                                    # specimen radius\n",
    "            'a': 7.5e-3,                                   # support ring radius\n",
    "            'p': 5,                                        # points/layer\n",
    "            'P_a': 1,                                      # applied load\n",
    "            'r': 2e-4,                                     # radial distance from center loading\n",
    "        }\n",
    "\n",
    "        self.mat_props = {\n",
    "            'Modulus': {'HA': 5.2e10, 'PSu': 2.7e9},\n",
    "            'Poissons': {'HA': 0.25, 'PSu': 0.33}\n",
    "        }\n",
    "\n",
    "        # ATTRIBUTES ----------------------------------------------------------\n",
    "        # FeatureInput\n",
    "        self.FeatureInput = self.get_FeatureInput(\n",
    "            self.Geo_objects['standard'][0],\n",
    "            load_params=self.load_params,\n",
    "            mat_props=self.mat_props,\n",
    "            model='Wilson_LT',\n",
    "            global_vars=None\n",
    "        )\n",
    "```"
   ]
  },
  {
   "cell_type": "raw",
   "metadata": {
    "collapsed": true,
    "raw_mimetype": "text/restructuredtext"
   },
   "source": [
    ".. see also:\n",
    "    \n",
    "    The latter guidelines are used for authoring custom models on your local machine.  If you would like to share your more, see the `Contributions: As an Author <contribution>_` section for more details."
   ]
  },
  {
   "cell_type": "markdown",
   "metadata": {
    "collapsed": true
   },
   "source": [
    "#####Exceptions (0.4.3c6)\n",
    "\n",
    "Since users can create their own models and use them in `LamAna`, it becomes important to handle erroroneous code.  The oneous of exception handling is maintained by the model's author.  However, basic handling is incorporated within `Laminate._update_calculations` to prevent erroroneous code from halting LamAna.  In other words, provided the variables for Laminate construction are valid, a Laminate will be stored and accessed via `Laminate.LFrame`.  This again is the a primitive DataFrame with IDs and Dimensional data prior to updating.  When `_update_cacluations()` is called and any exception is raised, they are caught and LFrame is set to LMFrame, allowing other dependency code to work.  A traceback will still print even though the exception was caught, allowing the author to improve their code and prevent breakage.  LMFrame will not update unless the author model code lacks exceptions. Again, primary exception handling of models is the author's responsibility."
   ]
  },
  {
   "cell_type": "markdown",
   "metadata": {},
   "source": [
    "### Modified Classical Laminate Theory - `Wilson_LT`\n",
    "\n",
    "Here is a model that comes with LamAna that applies CLT to circular-disk laminates with alternating ceramic-polymer materials.  Classical laminate theory (CLT) was modified for disks loaded in biaxial flexure.\n",
    "\n",
    "Stiffness Matrix: $E$ is elastic modulus, $\\nu$ is Poisson's ratio. \n",
    "\n",
    "$$|Q| = \\begin{vmatrix}\n",
    "Q_{11}& Q_{12}\\\\\n",
    "Q_{21}& Q_{22}\n",
    "\\end{vmatrix}$$\n",
    "\n",
    "$$Q_{11}=Q_{22}=E/(1-\\nu^2)$$\n",
    "\n",
    "$$Q_{12}=Q_{21}=\\nu E/(1-\\nu^2)$$\n",
    "\n",
    "Bending : $k$ is essentially the enumerated interface where $k=0$ is tensile surface. $h$ is the layer thickness relative to the neutral axis where $t_{middle} = h_{middle}/2$.  $z$ (lower case) f the relative distance betweeen the neuatral axis and a lamina centroid.  \n",
    "\n",
    "$$|D| = \\begin{vmatrix}\n",
    "D_{11}& D_{12}\\\\\n",
    "D_{21}& D_{22}\n",
    "\\end{vmatrix}$$\n",
    "\n",
    "$$D_{11}=D_{22}=\\Sigma_{k=1}^N Q_{11(k)}((h_{(k)}^3/12)+h_{(k)}z_{(k)}^2)$$\n",
    "\n",
    "$$D_{12}=D_{21}=\\Sigma_{k=1}^N Q_{12(k)}((h_{(k)}^3/12)+h_{(k)}z_{(k)}^2)$$\n",
    "\n",
    "\n",
    "Equivalent Poisson's Ratio\n",
    "\n",
    "$$\\nu_{eq} = D_{12}/D_{11}$$\n",
    "\n",
    "Moments: radial and tangential bending moments.  The tangential stress is used for the failure stress.\n",
    "\n",
    "$$M_r = (P/4\\pi)[(1+\\nu_{eq})\\log(a/r)]$$\n",
    "\n",
    "$$M_t = (P/4\\pi)[(1+\\nu_{eq})\\log(a/r)+(1-\\nu_{eq})]$$"
   ]
  },
  {
   "cell_type": "markdown",
   "metadata": {},
   "source": [
    "Curvature"
   ]
  },
  {
   "cell_type": "markdown",
   "metadata": {},
   "source": [
    "$$ \\begin{Bmatrix}\n",
    "    K_r \\\\\n",
    "    K_t\n",
    "\\end{Bmatrix}\n",
    "    = [D]^{-1}\n",
    "\\begin{Bmatrix}\n",
    "    M_r \\\\\n",
    "    M_t\n",
    "\\end{Bmatrix}$$"
   ]
  },
  {
   "cell_type": "markdown",
   "metadata": {},
   "source": [
    "Strain: $Z$ (caplital) is the distance betwen the neutral axis and the lamina interface. "
   ]
  },
  {
   "cell_type": "markdown",
   "metadata": {},
   "source": [
    "$$ \\begin{Bmatrix}\n",
    "    \\epsilon_r \\\\\n",
    "    \\epsilon_t\n",
    "\\end{Bmatrix}\n",
    "= Z_k\n",
    "\\begin{Bmatrix}\n",
    "    K_r \\\\\n",
    "    K_t\n",
    "\\end{Bmatrix}$$"
   ]
  },
  {
   "cell_type": "markdown",
   "metadata": {},
   "source": [
    "Stress"
   ]
  },
  {
   "cell_type": "markdown",
   "metadata": {},
   "source": [
    "$$ \\begin{Bmatrix}\n",
    "\\sigma_r \\\\\n",
    "\\sigma_t\n",
    "\\end{Bmatrix}\n",
    "= [Q]\n",
    "\\begin{Bmatrix}\n",
    "\\epsilon_r \\\\\n",
    "\\epsilon_t\n",
    "\\end{Bmatrix}$$"
   ]
  }
 ],
 "metadata": {
  "celltoolbar": "Raw Cell Format",
  "kernelspec": {
   "display_name": "Python 3",
   "language": "python",
   "name": "python3"
  },
  "language_info": {
   "codemirror_mode": {
    "name": "ipython",
    "version": 3
   },
   "file_extension": ".py",
   "mimetype": "text/x-python",
   "name": "python",
   "nbconvert_exporter": "python",
   "pygments_lexer": "ipython3",
   "version": "3.3.5"
  }
 },
 "nbformat": 4,
 "nbformat_minor": 0
}
