{
 "cells": [
  {
   "cell_type": "code",
   "execution_count": 1,
   "metadata": {
    "collapsed": false,
    "nbsphinx": "hidden"
   },
   "outputs": [
    {
     "name": "stdout",
     "output_type": "stream",
     "text": [
      "Last Run: 2016-07-27 09:23:59\n"
     ]
    }
   ],
   "source": [
    "# Hidden TimeStamp\n",
    "import time, datetime\n",
    "st = datetime.datetime.fromtimestamp(time.time()).strftime('%Y-%m-%d %H:%M:%S')\n",
    "print('Last Run: {}'.format(st))"
   ]
  },
  {
   "cell_type": "code",
   "execution_count": 2,
   "metadata": {
    "collapsed": false,
    "nbsphinx": "hidden"
   },
   "outputs": [],
   "source": [
    "# Run this cell only once\n",
    "from IPython.display import clear_output\n",
    "\n",
    "%cd ../\n",
    "clear_output()"
   ]
  },
  {
   "cell_type": "markdown",
   "metadata": {},
   "source": [
    "# Writing Custom Models"
   ]
  },
  {
   "cell_type": "markdown",
   "metadata": {},
   "source": [
    "Writing custom theoretical models is a powerful, extensible option of the LamAna package.\n",
    "\n",
    "## Authoring Custom Models\n",
    "\n",
    "Custom models are writing in simple `.py` files.  Currently, models file can be copied into the models directory.  The package automatically finds and import these selected.  Models are specified by the user with the `distributions.Case.apply(model='<name>')` method.  In order for these processes to work smoothly, the following requirements must be specified within a custom  model:  \n",
    "\n",
    "1. Implement a `_use_model_()` hook that returns (at minimum) an updated DataFrame.\n",
    "1. If using the class-style models, implement `_use_model_()` hook within a class that inherits from `theories.BaseModel`.\n",
    "\n",
    "Exceptions for specific models are maintained by the models author.\n",
    "\n",
    "### Which style do I implement?\n",
    "\n",
    "Models can be writing two flavors:\n",
    "\n",
    "- For beginners, *function-style models* are the best way to start making custom models.\n",
    "- We recommend *class-style models*, which use object-oriented principles such as inheritance.  This is best suited for an author with intermediate programming skills, which we encourage everyone to consider acheiving. :) "
   ]
  },
  {
   "cell_type": "markdown",
   "metadata": {},
   "source": [
    "Examples of both function-style and class-style models are found in the [\"examples\"](https://github.com/par2/lamana/tree/develop/examples) folder of the repository.\n",
    "\n",
    "The following cell shows an excerpt of the class-style model."
   ]
  },
  {
   "cell_type": "markdown",
   "metadata": {},
   "source": [
    "```python\n",
    "#------------------------------------------------------------------------------\n",
    "# Class-style model\n",
    "\n",
    "# ...\n",
    "\n",
    "class Model(BaseModel):\n",
    "    '''A custom CLT model.\n",
    "\n",
    "    A modified laminate theory for circular biaxial flexure disks,\n",
    "    loaded with a flat piston punch on 3-ball support having two distinct\n",
    "    materials (polymer and ceramic).\n",
    "    \n",
    "    '''\n",
    "    def __init__(self):\n",
    "        self.Laminate = None\n",
    "        self.FeatureInput = None\n",
    "        self.LaminateModel = None\n",
    "\n",
    "    def _use_model_(self, Laminate, adjusted_z=False):\n",
    "        '''Return updated DataFrame and FeatureInput.\n",
    "        \n",
    "        ...\n",
    "        \n",
    "        Returns\n",
    "        -------\n",
    "        tuple\n",
    "            The updated calculations and parameters stored in a tuple\n",
    "            `(LaminateModel, FeatureInput)``.\n",
    "\n",
    "            df : DataFrame\n",
    "                LaminateModel with IDs and Dimensional Variables.\n",
    "            FeatureInut : dict\n",
    "                Geometry, laminate parameters and more.  Updates Globals dict for\n",
    "                parameters in the dashboard output.\n",
    "\n",
    "\n",
    "        '''\n",
    "\n",
    "        ...\n",
    "        \n",
    "        return (df, FeatureInput)\n",
    "\n",
    "\n",
    "    #  Add Defaults here\n",
    "\n",
    "```"
   ]
  },
  {
   "cell_type": "markdown",
   "metadata": {},
   "source": [
    "### What are `Defaults`?"
   ]
  },
  {
   "cell_type": "markdown",
   "metadata": {},
   "source": [
    "Recall there are a set of boilerpoint **geometric, loading and material parameters** that are required to run LT calculations.  During analysis, retyping these parameters may become tedious for each time you wish to run a simple plot or test parallel case.  Therefore, you can prepare variables that store default parameters with specific values.\n",
    "\n",
    "LamAna eases this process by simply inheriting from `BaseDefaults`.  The `BaseDefaults` class stores a number of common *geometry strings*, *Geometry objects* and arbitrary *loading parameters*/*material properties*.  These values are intended to get you started, but you can alter them to fit your better suit model.  In addition, this class has methods for easily building formatted *FeatureInput* objects."
   ]
  },
  {
   "cell_type": "markdown",
   "metadata": {
    "collapsed": false
   },
   "source": [
    "```python\n",
    "class Defaults(BaseDefaults):\n",
    "    '''Return parameters for building distributions cases.  Useful for consistent\n",
    "    testing.\n",
    "\n",
    "    Dimensional defaults are inherited from utils.BaseDefaults().\n",
    "    Material-specific parameters are defined here by he user.\n",
    "\n",
    "    - Default geometric parameters\n",
    "    - Default material properties\n",
    "    - Default FeatureInput\n",
    "\n",
    "    Examples\n",
    "    ========\n",
    "    >>> dft = Defaults()\n",
    "    >>> dft.load_params\n",
    "    {'R' : 12e-3, 'a' : 7.5e-3, 'p' : 1, 'P_a' : 1, 'r' : 2e-4,}\n",
    "\n",
    "    >>> dft.mat_props\n",
    "    {'Modulus': {'HA': 5.2e10, 'PSu': 2.7e9},\n",
    "    'Poissons': {'HA': 0.25, 'PSu': 0.33}}\n",
    "\n",
    "    >>> dft.FeatureInput\n",
    "     {'Geometry' : '400-[200]-800',\n",
    "      'Geometric' : {'R' : 12e-3, 'a' : 7.5e-3, 'p' : 1, 'P_a' : 1, 'r' : 2e-4,},\n",
    "      'Materials' : {'HA' : [5.2e10, 0.25], 'PSu' : [2.7e9, 0.33],},\n",
    "      'Custom' : None,\n",
    "      'Model' : Wilson_LT}\n",
    "\n",
    "    '''\n",
    "    def __init__(self):\n",
    "        BaseDefaults.__init__(self)\n",
    "        '''DEV: Add defaults first.  Then adjust attributes.'''\n",
    "        # DEFAULTS ------------------------------------------------------------\n",
    "        # Build dicts of geometric and material parameters\n",
    "        self.load_params = {\n",
    "            'R': 12e-3,                                    # specimen radius\n",
    "            'a': 7.5e-3,                                   # support ring radius\n",
    "            'p': 5,                                        # points/layer\n",
    "            'P_a': 1,                                      # applied load\n",
    "            'r': 2e-4,                                     # radial distance from center loading\n",
    "        }\n",
    "\n",
    "        self.mat_props = {\n",
    "            'Modulus': {'HA': 5.2e10, 'PSu': 2.7e9},\n",
    "            'Poissons': {'HA': 0.25, 'PSu': 0.33}\n",
    "        }\n",
    "\n",
    "        # ATTRIBUTES ----------------------------------------------------------\n",
    "        # FeatureInput\n",
    "        self.FeatureInput = self.get_FeatureInput(\n",
    "            self.Geo_objects['standard'][0],\n",
    "            load_params=self.load_params,\n",
    "            mat_props=self.mat_props,\n",
    "            model='Wilson_LT',\n",
    "            global_vars=None\n",
    "        )\n",
    "```"
   ]
  },
  {
   "cell_type": "raw",
   "metadata": {
    "collapsed": true,
    "raw_mimetype": "text/restructuredtext"
   },
   "source": [
    ".. see also ::\n",
    "    \n",
    "    The latter guidelines pretain to authoring custom models on your local machine.  If you would like to share you model, see the `Contributions: As an Author <contribution>_` section for more details."
   ]
  },
  {
   "cell_type": "markdown",
   "metadata": {},
   "source": [
    "##### Handling Model Exceptions (0.4.3c6)"
   ]
  },
  {
   "cell_type": "markdown",
   "metadata": {
    "collapsed": true
   },
   "source": [
    "**The oneous of exception handling is maintained by the model's author.**\n",
    "\n",
    "Since users can create their own models and use them in `LamAna`, it is important to handle erroroneous code.  The library has some error handling implemented to prevent erroroneous code from halting LamAna.  Generally, if an error occurs during the handshaking period between `theories` and `models`, a `ModelError` is raised.  The user is warned and a provisional rollback occurs to a `Laminate` percursor. A traceback will still print even though the exception was caught, allowing the author to improve their code and prevent breakage."
   ]
  },
  {
   "cell_type": "markdown",
   "metadata": {},
   "source": [
    "### Modified Classical Laminate Theory - `Wilson_LT`"
   ]
  },
  {
   "cell_type": "markdown",
   "metadata": {},
   "source": [
    "Here are a set of equations for a default model in LamAna.  This model modifies Classical Laminate Theory (CLT) for laminates of circular disks, alternating ceramic-polymer materials.  Disks were loaded in biaxial flexure.\n",
    "\n",
    "**Stiffness Matrix**: $E$ is elastic modulus, $\\nu$ is Poisson's ratio. \n",
    "\n",
    "$$|Q| = \\begin{vmatrix}\n",
    "Q_{11}& Q_{12}\\\\\n",
    "Q_{21}& Q_{22}\n",
    "\\end{vmatrix}$$\n",
    "\n",
    "$$Q_{11}=Q_{22}=E/(1-\\nu^2)$$\n",
    "\n",
    "$$Q_{12}=Q_{21}=\\nu E/(1-\\nu^2)$$\n",
    "\n",
    "**Bending**: $k$ is essentially the enumerated interface where $k=0$ is tensile surface. $h$ is the layer thickness relative to the neutral axis where $t_{middle} = h_{middle}/2$.  $z$ (lower case) is the relative distance betweeen the neuatral axis and a lamina centroid.  \n",
    "\n",
    "$$|D| = \\begin{vmatrix}\n",
    "D_{11}& D_{12}\\\\\n",
    "D_{21}& D_{22}\n",
    "\\end{vmatrix}$$\n",
    "\n",
    "$$D_{11}=D_{22}=\\Sigma_{k=1}^N Q_{11(k)}((h_{(k)}^3/12)+h_{(k)}z_{(k)}^2)$$\n",
    "\n",
    "$$D_{12}=D_{21}=\\Sigma_{k=1}^N Q_{12(k)}((h_{(k)}^3/12)+h_{(k)}z_{(k)}^2)$$\n",
    "\n",
    "\n",
    "**Equivalent Poisson's Ratio**\n",
    "\n",
    "$$\\nu_{eq} = D_{12}/D_{11}$$\n",
    "\n",
    "**Moments**: radial and tangential bending moments.  The tangential stress is used for the failure stress.\n",
    "\n",
    "$$M_r = (P/4\\pi)[(1+\\nu_{eq})\\log(a/r)]$$\n",
    "\n",
    "$$M_t = (P/4\\pi)[(1+\\nu_{eq})\\log(a/r)+(1-\\nu_{eq})]$$\n",
    "\n",
    "**Curvature**\n",
    "\n",
    "$$ \\begin{Bmatrix}\n",
    "    K_r \\\\\n",
    "    K_t\n",
    "\\end{Bmatrix}\n",
    "    = [D]^{-1}\n",
    "\\begin{Bmatrix}\n",
    "    M_r \\\\\n",
    "    M_t\n",
    "\\end{Bmatrix}$$\n",
    "\n",
    "**Strain**: $Z$ (caplital) is the distance betwen the neutral axis and the lamina interface. \n",
    "\n",
    "$$ \\begin{Bmatrix}\n",
    "    \\epsilon_r \\\\\n",
    "    \\epsilon_t\n",
    "\\end{Bmatrix}\n",
    "= Z_k\n",
    "\\begin{Bmatrix}\n",
    "    K_r \\\\\n",
    "    K_t\n",
    "\\end{Bmatrix}$$\n",
    "\n",
    "**Stress**\n",
    "\n",
    "$$ \\begin{Bmatrix}\n",
    "\\sigma_r \\\\\n",
    "\\sigma_t\n",
    "\\end{Bmatrix}\n",
    "= [Q]\n",
    "\\begin{Bmatrix}\n",
    "\\epsilon_r \\\\\n",
    "\\epsilon_t\n",
    "\\end{Bmatrix}$$"
   ]
  }
 ],
 "metadata": {
  "anaconda-cloud": {},
  "celltoolbar": "Raw Cell Format",
  "kernelspec": {
   "display_name": "Python [py27]",
   "language": "python",
   "name": "Python [py27]"
  },
  "language_info": {
   "codemirror_mode": {
    "name": "ipython",
    "version": 2
   },
   "file_extension": ".py",
   "mimetype": "text/x-python",
   "name": "python",
   "nbconvert_exporter": "python",
   "pygments_lexer": "ipython2",
   "version": "2.7.12"
  },
  "toc": {
   "toc_cell": false,
   "toc_number_sections": false,
   "toc_threshold": "2",
   "toc_window_display": false
  }
 },
 "nbformat": 4,
 "nbformat_minor": 0
}
