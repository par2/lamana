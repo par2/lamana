{
 "cells": [
  {
   "cell_type": "code",
   "execution_count": 1,
   "metadata": {
    "collapsed": false,
    "nbsphinx": "hidden"
   },
   "outputs": [
    {
     "name": "stdout",
     "output_type": "stream",
     "text": [
      "Last Run: 2016-09-16 20:44:58\n"
     ]
    }
   ],
   "source": [
    "# Hidden TimeStamp\n",
    "import time, datetime\n",
    "st = datetime.datetime.fromtimestamp(time.time()).strftime('%Y-%m-%d %H:%M:%S')\n",
    "print('Last Run: {}'.format(st))"
   ]
  },
  {
   "cell_type": "markdown",
   "metadata": {},
   "source": [
    "# Key Package Components"
   ]
  },
  {
   "cell_type": "markdown",
   "metadata": {},
   "source": [
    "In this section, each of the core modules will be discussed in greater detail."
   ]
  },
  {
   "cell_type": "markdown",
   "metadata": {},
   "source": [
    "---"
   ]
  },
  {
   "cell_type": "markdown",
   "metadata": {},
   "source": [
    "## Core Module: `input_`"
   ]
  },
  {
   "cell_type": "markdown",
   "metadata": {},
   "source": [
    "### `Geometry` class\n",
    "\n",
    "This class is designed for parsing a user input string and returning a geometric data structure.  The raw *input string* is assumed to be a *geometry string* and is converted to Geometry object.  In summary:\n",
    "\n",
    "    lamana.input_.Geometry(<input_str>) --> <Geometry object>\n",
    "\n",
    "#### Geometry Data Structures\n",
    "\n",
    "When an input string is formatted, it becomes a  *geometry string*.  An acceptible format is the **[General Convention](lpep.ipynb#LPEP-001:-Implementing-Coding-and-Package-Standards)** that represents characteristic laminae types of the format outer-[inner_i]-middle.\n",
    "\n",
    "A `Geometry object` is combining mixed Pythonic types - specifically a `namedtuple` comprising floats, a list and a string (optional).  Summarize below:\n",
    "\n",
    "|Object|Definition|Type|Example|\n",
    "|:--|:--|:--:|:--|\n",
    "|*input string*| a raw user input | `str` |`'400-200-800'` | \n",
    "|*geometry string*| formatted laminate geometry | `str` |`'400.0-[200.0]-800.0'`|\n",
    "|*Geometry object*| `Geometry` class instance | `namedtuple` |`<Geometry object (400.0-[200.0]-800.0')>`|\n",
    "\n",
    "By convention, names that reference geometry strings are typically lower-case, e.g.: \n",
    "\n",
    "- `g`, `geo_inputs`, `geos` or `geos_full` \n",
    "- `geos = ['400-200-800', '400-[100,100]-400S']`   \n",
    "\n",
    "Names that reference `Geometry` objects are typically capatlized, e.g.: \n",
    "\n",
    "- `G`, `Geo_objects`, `Geos` or `Geos_full` \n",
    "- `G = la.input_.Geometry(FeatureInput)`"
   ]
  },
  {
   "cell_type": "markdown",
   "metadata": {},
   "source": [
    "### `BaseDefaults` class\n",
    "\n",
    "This class essentially stores common geometry strings and `Geometry` objects.  Placing them here allows simple inheritance of starter objects.  \n",
    "\n",
    "There are two main dicts which are stored as instance attributes: `geo_inputs` and `Geo_objects`\n",
    "\n",
    "####  The `geo_inputs` Dictionary\n",
    "\n",
    "This dict comprises sample geometry strings where initial keys are named by the number of plies, e.g `'5-ply'`.  The number of total plies correlates to the total number of laminae types as determined by $$2(outer + inner) + middle$$  \n",
    "\n",
    "Here is an example `geo_inputs` dict:\n",
    "\n",
    "```\n",
    "geo_inputs = {\n",
    "    '1-ply': ['0-0-2000', '0-0-1000'],\n",
    "    '2-ply': ['1000-0-0'],\n",
    "    '3-ply': ['600-0-800', '600-0-400S'],\n",
    "    '4-ply': ['500-500-0', '400-[200]-0'],\n",
    "    '5-ply': ['400-200-800', '400-[200]-800', '400-200-400S'],\n",
    "    '6-ply': ['400-[100,100]-0', '500-[250,250]-0'],\n",
    "    '7-ply': ['400-[100,100]-800', '400-[100,100]-400S'],\n",
    "    '9-ply': ['400-[100,100,100]-800'],\n",
    "    '10-ply': ['500-[50,50,50,50]-0'],\n",
    "    '11-ply': ['400-[100,100,100,100]-800'],\n",
    "    '13-ply': ['400-[100,100,100,100,100]-800'],\n",
    "}\n",
    "```\n",
    "Extra keys are added to this dict that dynamically append additional entries to this initial dict.  For instance, the keys 'geos_even', 'geos_odd' and 'geos_all' auto append sets of even, odd all geometry strings from the extant dictionary.  You can access the static and dynamic keys simply using the `.keys()` method.\n",
    "\n",
    "Note the naming convention of using 's':\n",
    "\n",
    "- `\"geo_input**s**\"`: the base dictionary\n",
    "- `\"geo**s**_<group>\"`: sets of existing dict values appended to the dict.\n",
    "\n",
    "Since this is a simiple `dict`, an author or developer can easily extend either the base or appended `dict` items.\n",
    "\n",
    "#### The `Geo_objects` Dictionary\n",
    "\n",
    "This is a lazy dictionary.  All entries of `geo_inputs` are automatically converted and stored as `Geometry` objects.  The purpose here is to eliminate the added step of calling Geometry to convert strings.  This `Geo_objects` and `geo_inputs` are both created using similar private methods, so there underlying mechanisms parallel.\n",
    "\n",
    "#### Subclassing `BaseDefaults`\n",
    "\n",
    "The remaining default objects such as `load_params`, `mat_props` and `FeatureInput` are particular to specific experimental setups and cannot be effectively generalized.  However, there is a `get_FeatureInput()` method use to help consistently format.  Additionally, this class can be subclassed to a custom `Defaults` class by the author, helpful in custom models.  This has a number of benefits for storing custom start values.  See the [Author Documentation](writecustom.ipynb#What-are-Defaults?) for examples of subclassing."
   ]
  },
  {
   "cell_type": "raw",
   "metadata": {
    "raw_mimetype": "text/restructuredtext"
   },
   "source": [
    ".. important ::\n",
    "        \n",
    "    DEV: Only extend geometry strings in  `geo_inputs`.  Removing or \"trimming\" these dicts may break tests."
   ]
  },
  {
   "cell_type": "markdown",
   "metadata": {},
   "source": [
    "---"
   ]
  },
  {
   "cell_type": "markdown",
   "metadata": {},
   "source": [
    "## Feature Module: `distributions`"
   ]
  },
  {
   "cell_type": "markdown",
   "metadata": {},
   "source": [
    "### `Case` class\n",
    "\n",
    "The `Case` class translates user information into managable, analytical units.  The are three main steps in using a `Case` object:\n",
    "\n",
    "1. instantiate a `Case` instance\n",
    "2. apply user information such as geometry strings, model name, etc.\n",
    "3. access method and properties, such as `plot()` and `total`\n",
    "\n",
    "Here is an idiomatic example of the latter characteristics:\n",
    "\n",
    "    >>> case = la.distributions.Case(load_params, mat_props)\n",
    "    >>> case.apply(geo_strings=None, model='Wilson_LT', **kwargs)\n",
    "    >>> case.plot(**kwargs)\n",
    "\n",
    "The `case` instance accepts loading and material information as dictionaries.  Specific geometry strings and a model are applied to the `case` instance.  The `apply()` method generates a `FeatureInput` object, which results in a `LaminateModel` object (or objects).   Information is parsed, calculated (such as layer thicknesses) and stored in attributes.  These attributes and methods are then accessible for performing analysis, most importantly the `plot()` method.\n",
    "\n",
    "Therefore, you can think of a case as an analytical unit comprising start up data and a packaged `LaminateModel` objects.\n",
    "\n",
    "### `Cases` class\n",
    "\n",
    "The `Cases` class handles multiple case objects.  For example, set operations can be performed on multiple cases.  In this context, each `case` is termed a \"`caselet`\" that typically correlate with a matplotlib subplot.  Here is an idiomatic example:\n",
    "\n",
    "    >>> import lamana as la\n",
    "    \n",
    "    >>> bdft = la.input_.BaseDefaults()\n",
    "    >>> cases = Cases(bdft.geo_inputs['geos_all'], ps=[2,3,4])\n",
    "\n",
    "The latter code uses defaults to build cases for all geometry strings contained in `BaseDefaults()`, one for each `p` number of datapoints.  In other words, in this example, *dozens* of analytical caselet units are built with only three lines of code.  See [LPEP 002](lpep.ipynb#LPEP-002:--Extending-Cases-with-Patterns) and [LPEP 003](lpep.ipynb#LPEP-003:--A-humble-case-for-caselets) for motivations and details regarding `Cases`. "
   ]
  },
  {
   "cell_type": "markdown",
   "metadata": {},
   "source": [
    "---"
   ]
  },
  {
   "cell_type": "markdown",
   "metadata": {},
   "source": [
    "## Core Module: `constructs`"
   ]
  },
  {
   "cell_type": "markdown",
   "metadata": {},
   "source": [
    "In principle, the `constructs` module builds a `LaminateModel` object.  Technically a `LaminateModel` is a `pandas` DataFrame representing a physical laminate with helpful attributes.  DataFrames provide a powerful data structure for visualizing and analyzing numerial data in a simple tabular format.\n",
    "\n",
    "The `constructs` module computes laminate dimensional columns and compiles theoretical calculations handled by the complementary `theories` module.  Column names represent computational variables defined in the next sub-section.\n",
    "\n",
    "### Preface: Variable Classifications\n",
    "\n",
    "Before we discuss the laminate structure, we distinguish two ubiquitous variable categories used internally: `constructs` and `theories` variables.  In a full laminate DataFrame, these categories comprise columns of data are represented by columns.  The categories variables, columns and corresponding modules are illustrated in the image below and described in greater detail:\n",
    "\n",
    "![dataframe output](./_images/dataframe_output.png)\n",
    "\n",
    "This image shows the result data contained in a DataFrame.  Categories of columns (IDs, dimensionals and models).  The first two categories are computed by `constructs.Laminate` class.  This data is computed based on data supplied to FeatureInput.  The models columns are computed by the `theories` module and corresponding `models` classes.  The highlighted blue text indicates data supplied by user/author interaction.  For clarity, rows are colored with alternating red and orange colors to distinguish separate layers.  We quickly see the inherent visual benefits using a DataFrame.\n",
    "\n",
    "- See the Appendix for clues on [distinguishing variable types in DataFrames](#constructs:-\"Laminate\"-vs.-\"Model\"-variables).\n",
    "- See the Appendix for more [details on variables derived from models](#constructs:-More-on-Model-Variables)."
   ]
  },
  {
   "cell_type": "markdown",
   "metadata": {},
   "source": [
    "### The `LaminateModel` Architecture\n",
    "\n",
    "This section will describe in greater detail how `LaminateModel` objects are constructed.  \n",
    "\n",
    "When the user calls `case.apply()`, a number of inherited objects are made.  The stages for building a `LaminateModel` object are outlined below and directly reflect the implementation of the `constructs` classes.\n",
    "\n",
    "- Stage 1: build a `Stack`; a primitive laminate of order layers\n",
    "- Stage 2: build a `Laminate`; calculate Laminate dimensional values (LFrame)\n",
    "- Stage 3: build a `LaminateModel`; calculate laminate theory Model values (LMFrame)\n",
    "\n",
    "`LaminateModel` inherits from `Laminate`, which inherits from the `Stack` class.\n",
    "All accept a `FeatureInput` argument.\n",
    "\n",
    "\n",
    "#### Stage 1: The `Stack` Class\n",
    "\n",
    "The purpose of the `Stack` class is to build a skeletal, precusor of a primitive `Laminate` object.  This class houses methods for parsing `Geometry` objects into ordered layers, adding materials labels for each layer and setting *expected* stress states for each tensile or compressive side.  `Stack` returns a tuple containing stack-related information (described below).\n",
    "\n",
    "For a given `Geometry` object instance the `Stack().StackTuple` method  creates a `namedtuple` conprising stack information.  `StackTuple` contains attributes to access:\n",
    "\n",
    "- stack `order`\n",
    "- the number of plies, `nplies`\n",
    "- the technical `name` for the laminate, \"4-ply\", \"5-ply\"\n",
    "- a convenient `alias` if any, e.g. \"Bilayer\", \"Trilayer\"\n",
    "\n",
    "The `stack` attribute accesses a dictionary of the laminate layers ordered from bottom to top layers (tensile to compressive).  Although Python dictionaries are unsorted, this particular dictionary is ordered because each layer is enumerated and stored as keys to perserve the order, layer thickness and layer type (sometimes referred as \"ltype\").  \n",
    "\n",
    "```python\n",
    "\n",
    "Examples\n",
    "--------\n",
    ">>> import LamAna as la\n",
    ">>> G = la.input_.Geometry(['400-200-800'])\n",
    ">>> G\n",
    "<Geometry object (400-[200]-800)>\n",
    "\n",
    "Create a StackTuple and access its attributes\n",
    ">>> st = constructs.Stack(G).StackTuple    # converts G to a namedtuple\n",
    ">>> st.order                               # access namedtuple attributes\n",
    "{1: [400.0, 'outer'],\n",
    " 2: [200.0, 'inner']\n",
    " 3: [800.0, 'middle']\n",
    " 4: [200.0, 'inner']\n",
    " 5: [400.0, 'outer']}\n",
    ">>> st.nplies\n",
    "5\n",
    ">>> st.name\n",
    "'5-ply'\n",
    ">>> st.alias\n",
    "'standard'\n",
    "\n",
    "```\n",
    "\n",
    "#### Stage 2: The `Laminate` class\n",
    "\n",
    "The `Laminate` class prepares the geometric calculations of the laminate.  Given a `Stack` object, this class adds materials, stress sides and dimensional calculations.\n",
    "\n",
    "`Geometry` information, material parameters and loading parameters are packed in a single  `FeatureInput` object - a dict of useful information that is passed between modules.  `Laminate` inherits from `Stack` and builds an LFrame object.   Stack information is stored in an instance attribute called `Snapshot` and then converted to a set of DataFrames.  \n",
    "\n",
    "In summary, the IDs and dimensional data are determined and computed by `Stack` and `Laminate`.  Combined, this information builds an LFrame.\n",
    "\n",
    "\n",
    "- See the Appendix for detail on [`FeatureInput`](#constructs:-More-on-FeatureInput).\n",
    "- See the Appendix for details on [the `Snapshot` and other `Laminate` variables](#constructs:-More-on-Laminate-Variables).\n",
    "- See the Appendix for details on [how materials are ordered in a stack](#constructs:-Material-Stacking-Order).\n",
    "\n",
    "#### Stage 3: The `LaminateModel`\n",
    "\n",
    "A `LaminateModel` object combines all dimensional information from `Laminate` with theoretical calculations produced from a laminate theory `Model`, e.g. stress/strain.  \n",
    "\n",
    "Referring to the diagram, `LaminateModel._build_LMFrame()` calls `theories.handshake()` and tries to pass in an instance of itself.  The `self` at this point is a `Laminate` including an LFrame, which comprises IDs and Dimensional columns only.  An author, therefore, has full access to all `Laminate` attributes.  \n",
    "\n",
    "From here, `theories.handshakes()` searches within the models directory for a model (grey, dashed arrows) specified by the user at the time of instantiation, i.e. `Case.apply(*args, model=<model_name>).` The resultant DataFrame is assigned to the `LaminateModel.LMFrame`) and a final `LaminateModel` is created.  Details of this workflow are illustrated in [`Laminate` Handling](#Core-Module:-theories)."
   ]
  },
  {
   "cell_type": "markdown",
   "metadata": {},
   "source": [
    "### Data Structures\n",
    "\n",
    "There are three main DataFrame types in LamAna.  Here we illustrate their similarities:\n",
    "\n",
    "- `Snapshot`: a preview DataFrame of the `Stack` (see materials, layer info order); contains one row per layer.\n",
    "- `LFrame`: updated `Snapshot` of IDs and dimensionals; contains `p` rows per layer.\n",
    "- `LMFrame`: updated LFrame with models computed columns.\n",
    "\n",
    "![laminate objects](./_images/laminate_objects.png)\n",
    "\n",
    "The `LMFrame` is the primary data structure of interest containing all IDs, Dimensional and Model data and `p` number of rows pertaining to data points within a given lamina.  We will briefly summarize how to build the LMFrame and how columns are populated.  \n",
    "\n",
    "\n",
    "#### ID Columns\n",
    "\n",
    "The `Snapshot` updates the ID columns througe the `Laminate._build_snapshot()` method.  It is the precusor to the LFrame and the LMFrame.\n",
    "\n",
    "    Variables addressed \n",
    "    -------------------\n",
    "    `layer_, side_, matl_, type_, t_`\n",
    "\n",
    "- See the Appendix for details on [the `Snapshot` variables](#constructs:-More-on-Laminate-Variables).\n",
    "\n",
    "#### Dimensional Columns\n",
    "\n",
    "Dimensional variable columns are populated through the `Laminate._build_LFrame()` method, which contains algorithms for calculating relative and absolute heights, thicknesses and midplane distances relative to the neutral axis.  These columns contain dimensional data that are determined independent from the laminate theory model. \n",
    "\n",
    "    Variables addresed \n",
    "    ------------------\n",
    "    `label_, h_, d_, intf_, k_, Z_, z_`\n",
    "\n",
    "These variables are defined in the `Laminate` class docstring.\n",
    "\n",
    "\n",
    "- See the Appendix for [more details on the label variable](#constructs:-More-on-label_) to understand the role of points, `p` and their relationship to DataFrame rows.  \n",
    "\n",
    "#### Model Columns\n",
    "\n",
    "Finally, the Model variable columns are populated using `Laminate._build_LMFrame()`. These columns contain data based on calculations from laminate theory for a selected model.  Here global_vars and inline_vars are calculated.\n",
    "\n",
    "    Variables addressed\n",
    "    --------------------\n",
    "    global_vars = [`v_eq, D_11T, D_12T, M_r, M_t, D_11p, D_12n, K_r, K_t`] --> FeatureInput['Global'] (dict entry)\n",
    "    \n",
    "    inline_vars = [`Q11, Q12, D11, D12, strain_r, strain_t, stress_r, stress_t, stress_f`] --> LaminateModel object (DataFrame)\n",
    "\n",
    "- See the Appendix for more on [`global_vars` and `inline_vars`](#constructs:-More-on-Model-Variables)."
   ]
  },
  {
   "cell_type": "raw",
   "metadata": {
    "raw_mimetype": "text/restructuredtext"
   },
   "source": [
    ".. important::\n",
    "\n",
    "    Only \"interfacial\" points are theoretically verifiable as these represent the maximum principal strains and stresses determined from CLT.  The \"internal\" and \"discontinuity\" points are visual constructs based on algorithms used with matplotlib to join points, and assume a linear stress distribution.  The algorithms for these points must be considered carefully if not completely exclued when drawing conclusions on true internal stress states."
   ]
  },
  {
   "cell_type": "markdown",
   "metadata": {},
   "source": [
    "---"
   ]
  },
  {
   "cell_type": "markdown",
   "metadata": {},
   "source": [
    "## Core Module: `theories`"
   ]
  },
  {
   "cell_type": "markdown",
   "metadata": {},
   "source": [
    "The module is responsbile for merging the `Laminate` date with theoretrical data  to produce a `LaminateModel`.\n",
    "\n",
    "### `LaminateModel` Handling\n",
    "\n",
    "For clarity, a diagram of `LaminateModel` handling is illustrated.  \n",
    "\n",
    "The `Laminate` object, carrying the LFrame is passed from `constructs` to `theories`.  If successful, the `LaminateModel` is returned to `constructs`; otherwise an exception is caught in `constructs` and a `ModelError` is raised.  Further up in a Feature module, this error is handled and initiates a rollback to an LFrame.\n",
    "\n",
    "![theories flowchart](./_images/diagram_theories.png)"
   ]
  },
  {
   "cell_type": "markdown",
   "metadata": {},
   "source": [
    "A model is simply a module that contains code for handling laminate theory calculations.  The purpose of the model is to update the LFrame with Model variable columns of LT calculations.  `handshake()` automatically distinguishes whether the author implemented a class-style or function-style model.  The **most important hook method/function is `_use_model_()`**, which must be present somewhere inside the model module and must return a tuple containing:\n",
    "\n",
    "    - an updated Laminate DataFrame with model data columns (a.k.a. `LaminateModel`)\n",
    "    - a `FeatureInput` with updated `'Globals'` key.\n",
    "    \n",
    "`'Globals'` is a `dict` of calculated constants, used in exported reports [see output_ section](#Core-Module:-output_). \n",
    "\n",
    "Post-handshake, the self instance of the `LaminateModel` is updated with the new `LaminateModel` and `FeatureInput` (green arrow).  Otherwise exceptions are raised. A commom exception are for Laminates with `p=1`, which detects an `INDET` value in middle layers.  Handling these exceptions is done in the other modules.  \n",
    "\n",
    "### Custom Models\n",
    "\n",
    "Sometimes Classical Laminate Theory needs to be modified to fit a specific set of constraints or boundary conditions.  The LamAna package has powerful, extensible options for integrating user user-defined (authored) implementations of their own custom laminate theory models.  By convention, custom models are named by the author and suffixed by the characters \"`_LT`\"). \n",
    "\n",
    "A library of these custom models, tests and pre-defined defaults are stored in the `models` directory (sub-package).  Code for calculations, related exceptions, `FeatureInput` variables and defaults are stored in a models module.  The `theories` module then merge the model calculations with the procedures described above."
   ]
  },
  {
   "cell_type": "markdown",
   "metadata": {},
   "source": [
    "---"
   ]
  },
  {
   "cell_type": "markdown",
   "metadata": {},
   "source": [
    "## Core Module: `output_`"
   ]
  },
  {
   "cell_type": "markdown",
   "metadata": {},
   "source": [
    "A summary of `output` objects\n",
    "\n",
    "| Object | Purpose |\n",
    "|:------ |:-------- |\n",
    "| `SinglePlot` | Stress distribution for a single geometry |\n",
    "| `MultiPlot` | Stress distributions for a multiple geometries |\n",
    "| `HalfPlot` | Partial plot of either compression or tension side |\n",
    "| `QuarterPlot` | Partial halfplot excluding side without data |\n",
    "| `PanelPlot` | A series of subplots side-by-side |\n",
    "| `RatioPlot` | Ratio thickness plot; prinicipal stress vs. ratio |\n",
    "| `PredictPlot` | Plot of experimental failure load or stress vs. middle layer princ. stress |"
   ]
  },
  {
   "cell_type": "raw",
   "metadata": {
    "collapsed": true,
    "raw_mimetype": "text/restructuredtext"
   },
   "source": [
    ".. note::\n",
    "\n",
    "    Development is in alpha status for this module.  Therefore, not all objects are implemented.  The majority of plotting options are handled by temporary private functions called _distribplot() and _multiplot().  "
   ]
  },
  {
   "cell_type": "markdown",
   "metadata": {},
   "source": [
    "### Exporting Data\n",
    "\n",
    "The `utils.tools.export()` function is used to save data as regular or temporary files of .xslx or .csv files.  Files are automatically stored in the default export folder. More details are shown in the Demonstrations file."
   ]
  },
  {
   "cell_type": "markdown",
   "metadata": {},
   "source": [
    "---"
   ]
  },
  {
   "cell_type": "markdown",
   "metadata": {},
   "source": [
    "## Appendix"
   ]
  },
  {
   "cell_type": "markdown",
   "metadata": {},
   "source": [
    "### `constructs`: \"Laminate\" vs. \"Model\" variables"
   ]
  },
  {
   "cell_type": "markdown",
   "metadata": {},
   "source": [
    "- **Laminate** (or `constructs`) variables are responsible for building the laminate [stack](#First:-The-Stack-Class) and computing dimensional data.  Internally, these varibles will be semantically distinguished with a single trailing underscore.\n",
    "    1. **ID**: variables related to layer and row identifications \n",
    "        1. `layer_`, `side_`, `matl_`, `type_`, `t_`\n",
    "    2. **Dimensional**: variables of heights relative to cross-sectional planes\n",
    "        1. `label_`, `h_`, `d_`, `intf_`, `k_`, `Z_`, `z_` \n",
    "- **Model** (or `theories`) variables are all remaining columns relevant for LT calculations as prescribed by a given model. Since these variables are author and model-specific, there is no unified semantic or naming convention.\n",
    "\n",
    "The fine-grained details of model variables are not essential for typical API useage.  However, these detail may be helpful when authoring custom code that integrates with LamAna. Therefore, the next section with discuss this granuity, but may be overlooked by most readers."
   ]
  },
  {
   "cell_type": "markdown",
   "metadata": {},
   "source": [
    "### `constructs`: More on Model Variables"
   ]
  },
  {
   "cell_type": "markdown",
   "metadata": {},
   "source": [
    "For more detailed discussions, model variables can be further divided into sub-categories.  There common subsets are as follows:\n",
    "\n",
    "1. **User**: global variables delibrately set by the user at startup\n",
    "2. **Inline**: variables used per lamina at a kth level (row)\n",
    "3. **Global**: variables applied to the laminate, accessible by ks\n",
    "\n",
    "Although model variables are often particular to a chosen model, e.g Wilson_LT, there are some  general trends that may be adopted.  Some model variables are provided at startup by the user (user_vars).  Some variables are calculated for each row in the data table (inline_vars).  Some variables are calculated by the designated laminate theory model, which provide constants for remaining calculations (global_vars).  Since global values are the same for every row, these constants are not included in the DataFrame, but they are stored internally within a Globals `dict`.  The details of this storage are coded within each model module.  \n",
    "\n",
    "*Global* values are of particular importance to `FeatureInput` objects and when exporting meta data as dashboards in spreadsheets. In contrast, *Inline* values alter directly with the dimensional values thoroughout the lamainate thickness. Names of common variables used in `distributions` are organized below:\n",
    "\n",
    "*Model Variable Subsets*\n",
    "\n",
    "    Model_vars = {user_vars, inline_vars, global_vars}\n",
    "\n",
    "*Examples of Subsets of Model Variables*\n",
    "\n",
    "- user_vars   = [`mat_props`, `load_params`]\n",
    "- global_vars = [`v_eq`, `D_11T`, `D_12T`, `M_r`, `M_t`, `D_11p`, `D_12n`, `K_r`, `K_t`]\n",
    "- inline_vars = [`Q11`, `Q12`, `D11`, `D12`, `strain_r`, `strain_t`,\n",
    "    `stress_r`, `stress_t`, `stress_f`]\n",
    "\n",
    "Aside from user variables, all others are found as headers for columns in a DataFrame (or spreadsheet)."
   ]
  },
  {
   "cell_type": "markdown",
   "metadata": {},
   "source": [
    "### `constructs`: More on `Laminate` Variables"
   ]
  },
  {
   "cell_type": "markdown",
   "metadata": {},
   "source": [
    "The `Laminate._build_snapshot()`, extends the `Stack` object  by converting the ordered stack into DataFrame with assigned materials.  This `Snapshot` gives a preview of the laminate geometry, idenfiers (IDs) and stacking order materials. This \"snapshot\" has the following ID columns of infornation, which are accessible to the user in a `Case` instance (see `distributions.Case.snapshot`):\n",
    "\n",
    "    Variables addressed: `layer_, matl_, type_, t_`\n",
    "\n",
    "`Snapshot` is updated with labels of expected tensile and compressive stresses are located (`side_`) are assigned to a laminate through the `Laminate._set_stresses()` method.  This function accounts for DataFrames with even and odd rows.  For odd rows, 'None' is assigned to the neutral axis, implying \"no stress\".\n",
    "\n",
    "    Variables addressed: `side_`\n",
    "    \n",
    "The final `Snapshot` serves as the \"primitive\" precursor to an LFrame.  In fact, `_build_primitive()` method takes a `snapshot` DataFrame and simply adds are `p` number of rows for each layer.  The resulting `_primitive` is essential for STAGE 2 of the `Laminate` construction."
   ]
  },
  {
   "cell_type": "raw",
   "metadata": {
    "raw_mimetype": "text/restructuredtext"
   },
   "source": [
    ".. note ::\n",
    "\n",
    "    This stress assignment is a general designation coarsely determined by which side of the netural axis a row is found.  The rigorous or finite stress state can be calculated through other analytical tools means such as Finite Element Analysis."
   ]
  },
  {
   "cell_type": "markdown",
   "metadata": {},
   "source": [
    "### `constructs`: Material Stacking Order"
   ]
  },
  {
   "cell_type": "markdown",
   "metadata": {},
   "source": [
    "The material order is initially defined by the user `mat_props` dict in `distributions` and automatically parsed in the `input_` module.  Extracting order from a dict is not trivial, so the default sorting is alphabetical order.  This order is handled by converting the dict to a pandas index.  See `Stack.add_materials()` method for more details.\n",
    "\n",
    "As of 0.4.3d4, the user can partially override the default ordering by setting the `materials` property in the Case instance.  This allows simple control of the stacking order in the final laminate stack and `Laminate` objects. At the moment, a list of materials is cycled through; more customizations have not been implemented yet.\n",
    "\n",
    "```python\n",
    ">>> case.material\n",
    "['HA', 'PSu']                                     # alphabetical order\n",
    ">>> case.material = ['PSu', 'HA']                 # overriding order    \n",
    ">>> case.material\n",
    "['PSu', 'HA']\n",
    ">>> case.apply(...)             \n",
    "<materials DataFrame>                             # cycles the stacking order\n",
    "\n",
    "```"
   ]
  },
  {
   "cell_type": "markdown",
   "metadata": {},
   "source": [
    "### `constructs`: More on `FeatureInput`"
   ]
  },
  {
   "cell_type": "markdown",
   "metadata": {},
   "source": [
    "A Feature module defines a `FeatureInput` object. \n",
    "\n",
    "For `distributions`, it is defined in `Case`. `FeatureInput`s contain information that is passed between objects.  For instance, this object transfers user input data in `distributions` (converted in `input_`) to the `constructs` module to build the laminate stack and populate ID and dimensional columns. A FeatureInput from `distributions` looks like the following (as of 0.4.4b).\n",
    "```python\n",
    "FeatureInput = {\n",
    "    'Geometry': <Geometry object>,\n",
    "    'Loading': <load_params dict>,\n",
    "    'Materials': <mat_props dict>,\n",
    "    'Custom': <undefined>,\n",
    "    'Model': <string>,\n",
    "    'Globals': <dict>,\n",
    "}\n",
    "```                    \n",
    "After calculating model data, the \"Globals\" key is updated containing all necessary `globabl_vars`.  These variables are constant and are necessary for further calculations of `inline_vars`.  Here is an example of Global variables key-value pair in FeatureInput.\n",
    "\n",
    "```python\n",
    "FeatureInput['Globals'] = [v_eq, D_11T, D_12T, M_r, M_t, D_11p, D_12n, K_r, K_t]\n",
    "```"
   ]
  },
  {
   "cell_type": "markdown",
   "metadata": {},
   "source": [
    "### `constructs`: More on `label_`"
   ]
  },
  {
   "cell_type": "markdown",
   "metadata": {},
   "source": [
    "See [LPEP 001.02](lpep.ipynb#LPEP-001:-Implementing-Coding-and-Package-Standards) for standards of API units.\n",
    "\n",
    "For this explanation, imagine we transverse the absolute height of the laminate at different cross-sectional planes.  The values of inline stress points are calculated along different planes throughout the laminate thickness. What happens at interfaces where two materials meet with different stresses?  How are these two stress points differentiated in a DataFrame or in a plot?  For plotting purposes, we need to define different types of points in separate rows.  Here we define some rules and four types of points found within a (i.e. DataFrame rows):\n",
    "\n",
    "1. interfacial - point on unbound outer surfaces and bound internal surfaces.\n",
    "2. internal - point with the lamina thickness between interfaces \n",
    "3. discontinuity - point on bounded interfaces pertaining to an adjacent lamina\n",
    "4. neutralaxis - the middle, symmetric axial plane\n",
    "\n",
    "Of these points, only the interfacial point is determined by classical laminate theory.  How these points are distributed depends on their locations within each lamina and whether they are located on the tensile or compressive `side_`.   The image below illustrates the different points from above with respect to `k_` (the fractional height for a given layer).\n",
    "\n",
    "![points](./_images/points.png)\n",
    "\n",
    "The neutral axis exists in physical laminates, but they are only represented as a single row in a DataFrame of odd ply and odd `p`; they are not displayed in even laminates. \n",
    "\n",
    "Notice various layers have different point types:\n",
    "\n",
    "- Middle layers have two interfacial points, no discontinuities and a neutral axis.\n",
    "- If `p >= 2`, all other layers have one interfacial point with a discontinuity.\n",
    "- Monoliths do not have discontinuities"
   ]
  },
  {
   "cell_type": "raw",
   "metadata": {
    "raw_mimetype": "text/restructuredtext"
   },
   "source": [
    ".. note::\n",
    "\n",
    "    The midplane z height (`z_`) for discontinuities assumes a non-zero, lower limit value equal to the Z_ height of the bounding layer.  This value should be verified."
   ]
  },
  {
   "cell_type": "markdown",
   "metadata": {},
   "source": [
    "### More on `IndeterminateError`"
   ]
  },
  {
   "cell_type": "markdown",
   "metadata": {},
   "source": [
    "An `IndeterminateError` is thrown in when a value cannot be calculated.  An `INDET` value is substituted in appropriate DataFrame cells.  \n",
    "\n",
    "An example for such an error is illustrated when determining the stress `side_` for a monolith with one data point (`nplies=1`, `p=1`).  From a design perspective, the location of the stress point is ambiguous, either on one interface or more intuitively at the center.  Of course, the center of the visual construct is at the neutral axis, which would report zero stress.  This position is misleading for representative stress state of the monolith.  Therefore, the `InderminateError` is thrown, recommending at least p = 2 for disambiguated stress calculations and reporting `INDET` for the indetermined value.  "
   ]
  }
 ],
 "metadata": {
  "anaconda-cloud": {},
  "celltoolbar": "Raw Cell Format",
  "kernelspec": {
   "display_name": "Python [py27]",
   "language": "python",
   "name": "Python [py27]"
  },
  "language_info": {
   "codemirror_mode": {
    "name": "ipython",
    "version": 2
   },
   "file_extension": ".py",
   "mimetype": "text/x-python",
   "name": "python",
   "nbconvert_exporter": "python",
   "pygments_lexer": "ipython2",
   "version": "2.7.12"
  },
  "toc": {
   "toc_cell": false,
   "toc_number_sections": false,
   "toc_threshold": "2",
   "toc_window_display": false
  }
 },
 "nbformat": 4,
 "nbformat_minor": 0
}
