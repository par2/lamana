{
 "cells": [
  {
   "cell_type": "code",
   "execution_count": 1,
   "metadata": {
    "collapsed": false,
    "nbsphinx": "hidden",
    "slideshow": {
     "slide_type": "-"
    }
   },
   "outputs": [
    {
     "name": "stdout",
     "output_type": "stream",
     "text": [
      "Last Run: 2016-07-06 21:09:43\n"
     ]
    }
   ],
   "source": [
    "# Hidden TimeStamp\n",
    "import time, datetime\n",
    "st = datetime.datetime.fromtimestamp(time.time()).strftime('%Y-%m-%d %H:%M:%S')\n",
    "print('Last Run: {}'.format(st))"
   ]
  },
  {
   "cell_type": "raw",
   "metadata": {
    "raw_mimetype": "text/restructuredtext"
   },
   "source": [
    ".. _advanced-install:"
   ]
  },
  {
   "cell_type": "markdown",
   "metadata": {},
   "source": [
    "# Advanced Installation"
   ]
  },
  {
   "cell_type": "markdown",
   "metadata": {},
   "source": [
    "This document details installation philosophies and approaches for maintaining reproducible packages."
   ]
  },
  {
   "cell_type": "markdown",
   "metadata": {},
   "source": [
    "## Philosphophy on Reproducibility"
   ]
  },
  {
   "cell_type": "markdown",
   "metadata": {},
   "source": [
    "**Problem**:  The same package can behave differently based on:\n",
    "\n",
    "1. the dependency environment and versions\n",
    "1. third-party updates to dependencies\n",
    "1. operating system (OS)\n",
    "\n",
    "The first and second items are prevented with pinned dependencies, one method for [repeatable packages](https://pip.pypa.io/en/stable/user_guide/#ensuring-repeatability).  The third item is prevented through continuous integration, specifically with [Travis](https://travis-ci.org/) and [Appveyor](https://www.appveyor.com/) (for Linux and Windows systems respectively).  We will discuss proposals for the first two items only.  \n",
    "\n",
    "**Proposal**: We endorse freezing dependencies at the start and end of the delevopment release cycle.\n",
    "\n",
    "- *Start*: freeze the conda enviroment in an `environment.yaml` file\n",
    "- *End*: freeze all dependencies in `dev_requirement.txt` and critical dependencies in `requirements.txt` files. \n"
   ]
  },
  {
   "cell_type": "code",
   "execution_count": null,
   "metadata": {
    "collapsed": true
   },
   "outputs": [],
   "source": [
    "# TODO: Add diagram of trends in typical release cycle; show start and end freezings."
   ]
  },
  {
   "cell_type": "markdown",
   "metadata": {},
   "source": [
    "## How Reprodicibility Is Approached in LamAna\n",
    "\n",
    "If packages work flawlessly, reproducible environments are generally not necessary for successful package use.  Reproducible enviroments do become important when dependencies conflict with the package due to bugged patches or API changes in sub-dependencies.  LamAna support either a \"hands-off\" or \"hands-off\" approach to versioning dependencies.\n",
    "\n",
    "### Hands-off Approach\n",
    "\n",
    "By default, LamAna (and most Pythonic packages) assume that dependencies are coded with minimal API changes that intentionally break code.  For example, sub-dependencies may require non-pythonic extensions to build correctly such as C/C++ compiliers.  If so, warnings are commonly issued to the users.  With this in mind, users can simply:\n",
    "\n",
    "    $ pip install lamana\n",
    "    \n",
    "This command searches for dependencies in the `install_requires` key of the `setup.py` file.  Dependencies intentionally unpinned here, which means a user will download the latest version of every dependency listed.\n",
    "\n",
    "### Hands-on Approach\n",
    "\n",
    "In the case where a dependency change breaks the package, the user is empowered to recreate a the dependency environment in which the release was oringially developed and known to work.  The recreated environment installs pinned dependencies from a frozen `requirements.txt` file.  This file represents the last list of known dependencies to a work with package correctly.\n",
    "\n",
    "    $ pip install -r </path/to/requirements.txt>\n",
    "    \n",
    "    $ pip install lamana                        # source            \n",
    "\n",
    "Locating this file is not hard.  Each release is shipped with this a requirements.txt file.  The file simply needs to be download from the archives of the correct version of lamana hosted at [GitHub releases](https://github.com/par2/lamana/releases) or search on [PyPI](https://pypi.python.org/pypi). Extract the file to your computer and run the commands. \n",
    "\n",
    "It should be noted that installing pinned dependencies will change the current environement by upgrading or more likely downgrading existing packages to versions assigned in the requirements file.  A developement environment is recommended for testing installations.\n",
    "\n",
    "### Installing from wheels (optional)\n",
    "\n",
    "Sometimes installing from source is slow.  You can force the latter installation method to install with faster binaries. \n",
    "\n",
    "    $ pip install lamana --use-wheel            # binary  "
   ]
  },
  {
   "cell_type": "markdown",
   "metadata": {},
   "source": [
    "## Creating a developer environment with `conda`\n",
    " \n",
    "The latter methods can be very slow, especially when intalling dependencies that rely on C extensions (numpy, pandas).  Anaconda serves as the most consistent option for building dependencies and sub-dependencies.  [Here is a supporting rationale](https://gist.github.com/dan-blanchard/7045057) for using `conda` in travis.  The following creates a fresh conda environment with critical dependencies that trigger installation of sub-dependencies required for LamAna. \n",
    "\n",
    "```bash\n",
    "$ git clone -b <branch name> https://github.com/par2/lamana\n",
    "$ conda create -n <testenv name> pip nose numpy matplotlib pandas\n",
    "$ source activate <testenv name>       # exclude source for Windows \n",
    "$ pip install -r dev_requirements.txt\n",
    "$ pip install .                        # within lamana directory\n",
    "```\n",
    "\n",
    "The first command downloads the repo from a spefic branch using [git](https://git-scm.com/downloads).  The second command creates a reproducbile virtual environment using `conda` where therein, isolated versions of pip and nose are installed.  Specific dependencies of the latest versions are downloaded within this environment which contain a necessary backend of sub-dependencies that are difficult to install manually. The environment is activated in the next command.  Once the conda build is setup, `pip` will downgrade the existing versions to the pinned versions found in the requirments.txt file.  Afterwards, the package is finally installed mimicking the original release environment.  \n",
    "\n",
    "The latter installation method should work fine.  To check, the following command should be able to run without errors:\n",
    "\n",
    "    $ nosetests\n",
    "\n",
    "Now, you should be able to run include jupyter notebook Demos."
   ]
  },
  {
   "cell_type": "markdown",
   "metadata": {},
   "source": [
    "### Installing dependencies from source\n",
    "\n",
    "**In the absence of Anaconda**, installing the three major dependendencies from source can be tedious and arduous, specifically `numpy`, `pandas` and `matplotlib`.  Here are some reasons and tips [1](https://stackoverflow.com/questions/26473681/pip-install-numpy-throws-an-error-ascii-codec-cant-decode-byte-0xe2), [2](https://stackoverflow.com/questions/25674612/ubuntu-14-04-pip-cannot-upgrade-matplotllib) for installing dependencies if they are not setup on your system.\n",
    "\n",
    "On Debian-based systems, install the following pre-requisites.  \n",
    "\n",
    "    $ apt-get install build-essential python3-dev\n",
    "\n",
    "\n",
    "On Windows systems, be certain to install the [appropriate Visual Studio C-compilers](https://matthew-brett.github.io/pydagogue/python_msvc.html)."
   ]
  },
  {
   "cell_type": "raw",
   "metadata": {
    "raw_mimetype": "text/restructuredtext"
   },
   "source": [
    ".. note::\n",
    "\n",
    "    Installing dependencies on windows can be troublesomes.  See the `installation guide for matplotlib <http://matplotlib.org/users/installing.html>`_. Try `this <https://github.com/matplotlib/matplotlib/issues/3029/>`_ or `this <http://newcoder.io/dataviz/part-0/>`_ for issues installing matplotlib.   Future developments will work towards OS agnostiscism with continuous Integration on Linux, OS and Windows using Travis and Appveyor. "
   ]
  },
  {
   "cell_type": "raw",
   "metadata": {
    "raw_mimetype": "text/restructuredtext"
   },
   "source": [
    ".. important::\n",
    "\n",
    "    If issues still arise, ensure the following requisites are satisfied:\n",
    "    \n",
    "    - the conda environment is properly set up with dependencies and compiled sub-dependencies e.g. C-extensions (see above)\n",
    "    - the appropriate `compiler libraries <https://github.com/pydata/pandas/issues/1880>`_ are installed `on your specific OS <https://matthew-brett.github.io/pydagogue/python_msvc.html>`_, i.e. gcc for Linux, Visual Studio for Windows.  With conda, this should not be necessary.\n",
    "    - `sufficient memory <http://ze.phyr.us/pandas-memory-crash/>`__ is available to compile C-extensions, e.g. 0.5-1 GB minimum\n",
    "    - the appropriate LamAna version, compatible python version and dependency versions are installed according to requirements.txt (see the :ref:`Dependencies chart <dependencies-chart>`)"
   ]
  },
  {
   "cell_type": "raw",
   "metadata": {
    "raw_mimetype": "text/restructuredtext"
   },
   "source": [
    ".. _dependencies-chart:"
   ]
  },
  {
   "cell_type": "markdown",
   "metadata": {},
   "source": [
    "### Dependencies\n",
    "\n",
    "- Mandatory Dependencies\n",
    "    - [numpy](http://www.numpy.org/) \n",
    "    - [matplotlib](http://matplotlib.org/)\n",
    "    - [pandas](http://pandas.pydata.org/)\n",
    "\n",
    "\n",
    "- Recommended Dependencies\n",
    "    - [notebook](http://jupyter.org/)\n",
    "\n",
    "\n",
    "The following table shows a chart of tested build build compatible with LamAna:\n",
    "    \n",
    "|lamana|python|dependency|OS|\n",
    "|:--|:--|:--|:--|\n",
    "|0.4.8|2.7.6, 2.7.10, 3.3, 3.4, 3.5, 3.5.1| numpy==1.10.1, pandas==0.16.2, matplotlib==1.5.0|linux, local win(?)|\n",
    "|0.4.9|2.7, 3.3, 3.4, 3.5, 3.5.1| conda==3.19.0, numpy==1.10.1, pandas==0.16.2, matplotlib==1.4.3|linux, win(?)|\n",
    "|0.4.10|2.7, 2.7.11, 3.3, 3.4, 3.5, 3.5.1| conda==3.19.0, numpy==1.10.2, pandas==0.17.1, matplotlib==1.5.1|linux |\n",
    "|0.4.10|2.7 (x32, x64), 3.4 (x32), 3.5 (x32, x64)| conda==3.19.0, numpy==1.10.2, pandas==0.17.1, matplotlib==1.5.1| win |"
   ]
  },
  {
   "cell_type": "raw",
   "metadata": {
    "collapsed": true,
    "raw_mimetype": "text/restructuredtext"
   },
   "source": [
    ".. note:\n",
    "    \n",
    "    As of 0.4.10, appveyor cannot validate Python 3.4 builds Windows 64-bit systems.  This a `persistent issue <http://help.appveyor.com/discussions/problems/2112-build-works-for-py27-py27-x64-and-py34-but-fails-on-py34-x64-when-installingcompiling-numpy>`_ that has not yet been resolved."
   ]
  }
 ],
 "metadata": {
  "celltoolbar": "Raw Cell Format",
  "kernelspec": {
   "display_name": "Python 3",
   "language": "python",
   "name": "python3"
  },
  "language_info": {
   "codemirror_mode": {
    "name": "ipython",
    "version": 3
   },
   "file_extension": ".py",
   "mimetype": "text/x-python",
   "name": "python",
   "nbconvert_exporter": "python",
   "pygments_lexer": "ipython3",
   "version": "3.3.5"
  },
  "toc": {
   "toc_cell": false,
   "toc_number_sections": false,
   "toc_threshold": "2",
   "toc_window_display": false
  }
 },
 "nbformat": 4,
 "nbformat_minor": 0
}
