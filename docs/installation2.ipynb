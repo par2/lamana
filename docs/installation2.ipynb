{
 "cells": [
  {
   "cell_type": "code",
   "execution_count": 1,
   "metadata": {
    "collapsed": false,
    "nbsphinx": "hidden",
    "slideshow": {
     "slide_type": "-"
    }
   },
   "outputs": [
    {
     "name": "stdout",
     "output_type": "stream",
     "text": [
      "Last Run: 2016-07-27 10:44:38\n"
     ]
    }
   ],
   "source": [
    "# Hidden TimeStamp\n",
    "import time, datetime\n",
    "st = datetime.datetime.fromtimestamp(time.time()).strftime('%Y-%m-%d %H:%M:%S')\n",
    "print('Last Run: {}'.format(st))"
   ]
  },
  {
   "cell_type": "raw",
   "metadata": {
    "raw_mimetype": "text/restructuredtext"
   },
   "source": [
    ".. _advanced-install:"
   ]
  },
  {
   "cell_type": "markdown",
   "metadata": {},
   "source": [
    "# Advanced Installation"
   ]
  },
  {
   "cell_type": "markdown",
   "metadata": {},
   "source": [
    "This document details installation philosophies and approaches for maintaining reproducible packages."
   ]
  },
  {
   "cell_type": "markdown",
   "metadata": {},
   "source": [
    "## Philosphophy on Reproducibility"
   ]
  },
  {
   "cell_type": "markdown",
   "metadata": {},
   "source": [
    "**Problem**:  The same package can behave differently based on:\n",
    "\n",
    "1. the dependency environment and versions\n",
    "1. third-party updates to dependencies\n",
    "1. operating system (OS)\n",
    "\n",
    "The first and second items are prevented with pinned dependencies, one method for [repeatable packages](https://pip.pypa.io/en/stable/user_guide/#ensuring-repeatability).  The third item is prevented through continuous integration, specifically with [Travis](https://travis-ci.org/) and [Appveyor](https://www.appveyor.com/) (for Linux and Windows systems respectively).  We will discuss proposals for the first two items only.  \n",
    "\n",
    "**Proposed Solution**: We take \"snapshots\" of our build environments before each release cycle.\n",
    "\n",
    "- *Start*: update then freeze the conda enviroment in `environment.yaml` files\n",
    "- *During*: update dependencies as needed `requirements.txt` and `dev_requirements.txt`"
   ]
  },
  {
   "cell_type": "markdown",
   "metadata": {},
   "source": [
    "## Reproducibility in LamAna\n",
    "\n",
    "Reproducible enviroments are important when dependencies conflict with the package due to bugged patches or API changes occuring upstream among sub-dependencies.  In addition to the Develop-Release Cycle Workflow, LamAna endorses both \"hands-off\" and \"hands-on\" options for installing.\n",
    "\n",
    "### Hands-off Approach: unpinned\n",
    "\n",
    "By default, LamAna (and most Pythonic packages) assume that dependencies are coded with minimal API changes that intentionally break code.  With this in mind, users can simply:\n",
    "\n",
    "```bash\n",
    "$ pip install lamana\n",
    "```\n",
    "\n",
    "This command searches for dependencies in the `install_requires` key of the `setup.py` file.  Dependencies are intentionally \"unpinned\" here, which means a user will (usually) download the latest version of every dependency listed.\n",
    "\n",
    "### Hands-on Approach: pinned\n",
    "\n",
    "One issue with unpinned dependencies is updates can break a package.  You can protect against such unpredictable changes by pinning dependencies.  In such a case that a dependency fails to install, the user rely on a few **pinned** alternatives:\n",
    "\n",
    "#### 1. Install from `conda` (recommended)\n",
    "\n",
    "At times, dependencies fail to install correctly through `pip`.  This method proves be the most reliable for installing dependencies:\n",
    "\n",
    "```bash\n",
    "$ conda install numpy pandas matplotlib  \n",
    "$ pip install lamana  \n",
    "```\n",
    "\n",
    "#### 2. Install from a `wheel` file (optional)\n",
    "\n",
    "Sometimes installing from source is slow.  You can force the latter installation method to install with faster binaries. \n",
    "\n",
    "```bash\n",
    "$ pip install lamana --use-wheel            # binary  \n",
    "```\n",
    "\n",
    "#### 3. Install with a `requirements.txt` File (optional)\n",
    "\n",
    "We can recreate the original dependency environment in which the release was originally developed and working.  The recreated environment installs pinned dependencies from a frozen `requirements.txt` file.  \n",
    "\n",
    "Acquire the file by downloading from the release version on GitHub website.  Locating this file is not hard.  Each release is shipped with this a requirements.txt file.  The file simply needs to be download from the archives of the correct version of lamana hosted at [GitHub releases](https://github.com/par2/lamana/releases) or search on [PyPI](https://pypi.python.org/pypi). Extract the file to your computer and run the commands. \n",
    "\n",
    "\n",
    "```bash\n",
    "$ pip install -r </path/to/requirements.txt>    \n",
    "$ pip install lamana                        # source            \n",
    "```"
   ]
  },
  {
   "cell_type": "raw",
   "metadata": {
    "raw_mimetype": "text/restructuredtext"
   },
   "source": [
    ".. important::\n",
    "\n",
    "    It should be noted that installing pinned dependencies will change the current environment by upgrading (or more likely downgrading) existing packages to versions assigned in the requirements file.  A developement environment is recommended for testing installations. "
   ]
  },
  {
   "cell_type": "markdown",
   "metadata": {},
   "source": [
    "Instructions for setting up consistent virtural environments are described in the [testing section](testing.ipynb#Regression-Tests-with-nb_conda_kernels)."
   ]
  },
  {
   "cell_type": "markdown",
   "metadata": {},
   "source": [
    "## Installing dependencies from source (intermediate)\n",
    "\n",
    "**In the absence of Anaconda**, installing dependendencies from source can be tedious and arduous, specifically `numpy`, `pandas` and `matplotlib`.  Here are some reasons and tips [1](https://stackoverflow.com/questions/26473681/pip-install-numpy-throws-an-error-ascii-codec-cant-decode-byte-0xe2), [2](https://stackoverflow.com/questions/25674612/ubuntu-14-04-pip-cannot-upgrade-matplotllib) for installing dependencies if they are not setup on your system.\n",
    "\n",
    "On Debian-based systems, install the following pre-requisites.  \n",
    "\n",
    "    $ apt-get install build-essential python3-dev\n",
    "\n",
    "\n",
    "On Windows systems, be certain to install the [appropriate Visual Studio C-compilers](https://matthew-brett.github.io/pydagogue/python_msvc.html).\n",
    "\n",
    "This option tends to be painful and are discoruaged if possible."
   ]
  },
  {
   "cell_type": "raw",
   "metadata": {
    "raw_mimetype": "text/restructuredtext"
   },
   "source": [
    ".. note::\n",
    "\n",
    "    Installing dependencies on Windows systems can be troublesome.  See the `installation guide for matplotlib <http://matplotlib.org/users/installing.html>`_. Try `this <https://github.com/matplotlib/matplotlib/issues/3029/>`_ or `this <http://newcoder.io/dataviz/part-0/>`_ for issues installing matplotlib.   Future developments will work towards OS agnostiscism with continuous Integration on Linux, OS and Windows using Travis and Appveyor. "
   ]
  },
  {
   "cell_type": "raw",
   "metadata": {
    "raw_mimetype": "text/restructuredtext"
   },
   "source": [
    ".. important::\n",
    "\n",
    "    If issues still arise, ensure the following requisites are satisfied:\n",
    "    \n",
    "    - the conda environment is properly set up with dependencies and compiled sub-dependencies e.g. C-extensions (see above)\n",
    "    - the appropriate `compiler libraries <https://github.com/pydata/pandas/issues/1880>`_ are installed `on your specific OS <https://matthew-brett.github.io/pydagogue/python_msvc.html>`_, i.e. gcc for Linux, Visual Studio for Windows.  With conda, this should not be necessary.\n",
    "    - `sufficient memory <http://ze.phyr.us/pandas-memory-crash/>`__ is available to compile C-extensions, e.g. 0.5-1 GB minimum\n",
    "    - the appropriate LamAna version, compatible python version and dependency versions are installed according to ``requirements.txt`` (see the :ref:`Dependencies chart <dependencies-chart>`)"
   ]
  },
  {
   "cell_type": "raw",
   "metadata": {
    "raw_mimetype": "text/restructuredtext"
   },
   "source": [
    ".. _dependencies-chart:"
   ]
  },
  {
   "cell_type": "markdown",
   "metadata": {},
   "source": [
    "### Dependencies\n",
    "\n",
    "- Mandatory Dependencies\n",
    "    - [numpy](http://www.numpy.org/) \n",
    "    - [matplotlib](http://matplotlib.org/)\n",
    "    - [pandas](http://pandas.pydata.org/)\n",
    "    - [openpyxl](https://openpyxl.readthedocs.io/en/default/)\n",
    "    - [xlrd](http://xlrd.readthedocs.io/en/latest/)\n",
    "\n",
    "- Recommended Dependencies\n",
    "    - [notebook](http://jupyter.org/)\n",
    "\n",
    "\n",
    "The following table shows a chart of tested builds compatible with LamAna:\n",
    "    \n",
    "|lamana|python|dependency|OS|\n",
    "|:--|:--|:--|:--|\n",
    "|0.4.8|2.7.6, 2.7.10, 3.3, 3.4, 3.5, 3.5.1| numpy==1.10.1, pandas==0.16.2, matplotlib==1.5.0|linux, local win(?)|\n",
    "|0.4.9|2.7, 3.3, 3.4, 3.5, 3.5.1| conda==3.19.0, numpy==1.10.1, pandas==0.16.2, matplotlib==1.4.3|linux, win(?)|\n",
    "|0.4.10|2.7, 2.7.11, 3.3, 3.4, 3.5, 3.5.1| conda==3.19.0, numpy==1.10.2, pandas==0.17.1, matplotlib==1.5.1|linux |\n",
    "|0.4.10|2.7 (x32, x64), 3.4 (x32), 3.5 (x32, x64)| conda==3.19.0, numpy==1.10.2, pandas==0.17.1, matplotlib==1.5.1| win |\n",
    "|latest|2.7 (x32, x64), 3.4 (x32), 3.5 (x32, x64)| conda>=3.19.0, numpy>=1.10.2, pandas>=0.17.1, matplotlib>=1.5.1| win |"
   ]
  },
  {
   "cell_type": "raw",
   "metadata": {
    "collapsed": true,
    "raw_mimetype": "text/restructuredtext"
   },
   "source": [
    ".. note::\n",
    "    \n",
    "    As of 0.4.10, Appveyor cannot validate Python 3.4 builds Windows 64-bit systems.  This a `persistent issue <http://help.appveyor.com/discussions/problems/2112-build-works-for-py27-py27-x64-and-py34-but-fails-on-py34-x64-when-installingcompiling-numpy>`_ that has not yet been resolved.\n",
    "    \n",
    "    As of 0.4.13, ``ipykernel`` is incompatible with Python 3.3.  This affects notebook regression tests that use ``nb_conda_kernels``."
   ]
  }
 ],
 "metadata": {
  "anaconda-cloud": {},
  "celltoolbar": "Raw Cell Format",
  "kernelspec": {
   "display_name": "Python [py27]",
   "language": "python",
   "name": "Python [py27]"
  },
  "language_info": {
   "codemirror_mode": {
    "name": "ipython",
    "version": 2
   },
   "file_extension": ".py",
   "mimetype": "text/x-python",
   "name": "python",
   "nbconvert_exporter": "python",
   "pygments_lexer": "ipython2",
   "version": "2.7.12"
  },
  "toc": {
   "toc_cell": false,
   "toc_number_sections": false,
   "toc_threshold": "2",
   "toc_window_display": false
  }
 },
 "nbformat": 4,
 "nbformat_minor": 0
}
