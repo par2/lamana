{
 "cells": [
  {
   "cell_type": "code",
   "execution_count": 1,
   "metadata": {
    "collapsed": false,
    "nbsphinx": "hidden"
   },
   "outputs": [
    {
     "name": "stdout",
     "output_type": "stream",
     "text": [
      "Last Run: 2016-01-14 14:15:10\n"
     ]
    }
   ],
   "source": [
    "# Hidden TimeStamp\n",
    "import time, datetime\n",
    "st = datetime.datetime.fromtimestamp(time.time()).strftime('%Y-%m-%d %H:%M:%S')\n",
    "print('Last Run: {}'.format(st))"
   ]
  },
  {
   "cell_type": "markdown",
   "metadata": {},
   "source": [
    "# Lamana Overview (Detailed)"
   ]
  },
  {
   "cell_type": "markdown",
   "metadata": {},
   "source": [
    "## The Package Architecture\n",
    "\n",
    "The current package stems from a simple legacy script (circa 2014).  It has since been updated and currently abstracted with a focus to analyze more general laminated problems.  \n",
    "\n",
    "The repository is extensibily designed for various geometry constructs given a specified, customized model.  This design architecture is diagrammed below.  \n",
    "\n",
    "![API Diagram](./_images/diagram.png)\n",
    "\n",
    "As shown, each diamond represents a module.  The diagram illustrates their relationships in passing objects between modules. The user-related areas are highlighted blue.  The component of the lamana project can be distinguished in three types:\n",
    "\n",
    "- Frontend: user-interacted, feature modules of particular interest that utilize laminate theory models\n",
    "- Extension: directories/modules extending capabilities of the repository, e.g. `models` directory containing user defined laminate theories (`Classical_LT`, `Wilson_LT`).\n",
    "- Backend: remaining modules, `input_`, `constructs_`, `theories_`, `output_`; workhorse facotries of LaminateMOdel objects.\n",
    "\n",
    "The project is extensible in part by adding new *Features* modules that integrate with the existing backend. *\"Feature\"* modules are the frontend of the repo because they are what users interact wih most. \n",
    "\n",
    "However for simplicity, the core modules and features will coexist within a single directory.  The package file structure can be reviewed [on GitHub](https://github.com/par2/lamana/tree/develop/).  The first measure of sucess for this package is generating reproducibile results of stress `distributions` module.  Since `distributions` was the first feature module developed, it will be the default rerfence this documentation."
   ]
  },
  {
   "cell_type": "raw",
   "metadata": {
    "raw_mimetype": "text/restructuredtext"
   },
   "source": [
    ".. note ::\n",
    "\n",
    "    This project is forked from legacy code: Script - Laminate_Stress_Constant_Thickness_3a3.ipynb."
   ]
  },
  {
   "cell_type": "code",
   "execution_count": null,
   "metadata": {
    "collapsed": true
   },
   "outputs": [],
   "source": []
  },
  {
   "cell_type": "code",
   "execution_count": null,
   "metadata": {
    "collapsed": true
   },
   "outputs": [],
   "source": []
  },
  {
   "cell_type": "code",
   "execution_count": null,
   "metadata": {
    "collapsed": true
   },
   "outputs": [],
   "source": []
  },
  {
   "cell_type": "code",
   "execution_count": null,
   "metadata": {
    "collapsed": true
   },
   "outputs": [],
   "source": []
  },
  {
   "cell_type": "markdown",
   "metadata": {},
   "source": [
    "## FeatureInput\n",
    "\n",
    "A FeatureInput is one of the key objects.  Here are the components:\n",
    "\n",
    "| Key | Value | Description | \n",
    "|:---:|:-----:|:-----------:|\n",
    "| Geometry | Geometry object | a single tuple of Geometry thicknesses |\n",
    "| Parameters| load_params | loading parameters |\n",
    "| Properties | mat_props | material properties, e.g. modulus, Poisson's ratio |\n",
    "| Materials | materials index | ordered list of materials from DataFrame index |\n",
    "| Model | model str | selected string of model name |\n",
    "| Globals | None | a placeholder for future ubiquitous model variables |\n",
    "\n",
    "`custom_matls` was depredated and replaced with `materials.`  The materials order is saved as a list and  interacts with the material cycler in `add_materials`.  It can be overwritten.  Parameters are associated with loading parameters.  Properties are associated with material properties."
   ]
  },
  {
   "cell_type": "markdown",
   "metadata": {},
   "source": [
    "```python\n",
    "def make_FeatureInput(Geometry):\n",
    "    '''Return a FeatureInput object.'''\n",
    "    FI = {\n",
    "        'Geometry': Geometry,                       # defined in Case      \n",
    "        'Parameters': load_params,\n",
    "        'Properties': mat_props,\n",
    "        'Materials': materials,                     # set material order\n",
    "        'Model': model,\n",
    "        'Globals': None,                            # defined in theories/models\n",
    "    }             \n",
    "    return FI\n",
    "```"
   ]
  },
  {
   "cell_type": "code",
   "execution_count": null,
   "metadata": {
    "collapsed": true
   },
   "outputs": [],
   "source": []
  }
 ],
 "metadata": {
  "celltoolbar": "Edit Metadata",
  "kernelspec": {
   "display_name": "Python 3",
   "language": "python",
   "name": "python3"
  },
  "language_info": {
   "codemirror_mode": {
    "name": "ipython",
    "version": 3
   },
   "file_extension": ".py",
   "mimetype": "text/x-python",
   "name": "python",
   "nbconvert_exporter": "python",
   "pygments_lexer": "ipython3",
   "version": "3.3.5"
  }
 },
 "nbformat": 4,
 "nbformat_minor": 0
}
