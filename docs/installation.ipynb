{
 "cells": [
  {
   "cell_type": "code",
   "execution_count": 2,
   "metadata": {
    "collapsed": false,
    "nbsphinx": "hidden",
    "slideshow": {
     "slide_type": "-"
    }
   },
   "outputs": [
    {
     "name": "stdout",
     "output_type": "stream",
     "text": [
      "Last Run: 2016-01-15 23:22:20\n"
     ]
    }
   ],
   "source": [
    "# Hidden TimeStamp\n",
    "import time, datetime\n",
    "st = datetime.datetime.fromtimestamp(time.time()).strftime('%Y-%m-%d %H:%M:%S')\n",
    "print('Last Run: {}'.format(st))"
   ]
  },
  {
   "cell_type": "markdown",
   "metadata": {},
   "source": [
    "# Installation\n",
    "\n",
    "These introductions explain how to install LamAna. We recommend installing [Anaconda (Python 2.7.6+ or Python 3.3+)](https://www.continuum.io/downloads)."
   ]
  },
  {
   "cell_type": "markdown",
   "metadata": {},
   "source": [
    "## How to install LamAna\n",
    "\n",
    "There are two simple options for installing LamAna. Open a terminal and run one of the following options:\n",
    "\n",
    "    $ pip install lamana                       # source (Default)\n",
    "\n",
    "    $ pip install lamana --use-wheel           # binary"
   ]
  },
  {
   "cell_type": "raw",
   "metadata": {
    "raw_mimetype": "text/restructuredtext"
   },
   "source": [
    ".. note::\n",
    "\n",
    "    The first option is most succint and builds a LamAna installation from source. The second option builds more quickly from a binary that uses pre-compiled libraries.  Both options install the most current dependencies."
   ]
  },
  {
   "cell_type": "markdown",
   "metadata": {},
   "source": [
    "If either of the latter commands work fine, **you can skip the rest of this section**.  See the remaining instructions for more detailed information."
   ]
  },
  {
   "cell_type": "markdown",
   "metadata": {},
   "source": [
    "## Experienced Python users\n",
    "\n",
    "### Installing reproducible environments from \"pinned\" dependencies\n",
    "\n",
    "Sometimes a dependency can be updated and break an upstream package.  For example, sub-dependencies may require non-pythonic extensions to build correctly such as C/C++ compiliers.  Thus, a list of frozen version numbers or \"pinned dependencies\" are included in a special requirements.txt file, which can be invoked at installation to mimic the original release environment.\n",
    "\n",
    "    $ pip install lamana -r requirements.txt   # source (Recommended)"
   ]
  },
  {
   "cell_type": "markdown",
   "metadata": {},
   "source": [
    "The latter option generates an installation using pinned dependencies that have been tested and are known to work correctly at the time of release.  This approach is considered \"hands-on\" because installing pinned dependencies may downgrade or upgrade some local packages (see affected dependencies in requirements.txt). This precaution is made to protect your native environment from unintended changes.  However, consider installing with requirements.txt if the default installation commands fail or bugs are detected. "
   ]
  },
  {
   "cell_type": "raw",
   "metadata": {
    "raw_mimetype": "text/restructuredtext"
   },
   "source": [
    ".. important::\n",
    "\n",
    "    As of LamAna 0.4.10-dev, the most essential requirements are stored in requirements.txt.  This change was made to obivate installing unneeded dependencies for other platforms such as readthedocs.  The exhaustive list of sub-dependencies is now saved in dev_requirements.txt.  "
   ]
  },
  {
   "cell_type": "raw",
   "metadata": {
    "raw_mimetype": "text/restructuredtext"
   },
   "source": [
    ".. note::\n",
    "\n",
    "    By default, pinned dependencies were not included in LamAna's `setup.py`. Thus the first installation methods serve as a minimally invasive, \"hands-off\" approaches.  "
   ]
  },
  {
   "cell_type": "raw",
   "metadata": {
    "raw_mimetype": "text/restructuredtext"
   },
   "source": [
    ".. seealso::\n",
    "\n",
    "    See the requirement.txt file for a list of pinned dependencies possibly influnced by the latter command."
   ]
  },
  {
   "cell_type": "markdown",
   "metadata": {},
   "source": [
    "### Installing from wheels (optional)\n",
    "\n",
    "Ideally we would prefer to offer a reproducible binary option as well, but there is currently no straightforward way of installing requirements of a binary from PyPI, as all data is meta and encased in the `.whl` file.  Unlike a source distribution, which may contain the `requirements.txt` file, wheels do not appear to include the necessary root directory files.  Should you desire a reproducible binary installation, the workaround for this technicality is to download/clone the corresponding release package from github and point the `-r` flag to the location of the downloaded `requirements.txt` file.\n",
    "\n",
    "    $ pip install lamana --use-wheel -r /path/to/requirements.txt  # binary  "
   ]
  },
  {
   "cell_type": "markdown",
   "metadata": {},
   "source": [
    "### Installing dependencies from source\n",
    "\n",
    "**In the absence of Anaconda**, installing the three major dependendencies from source can be tedious and arduous, specifically `numpy`, `pandas` and `matplotlib`.  Here are some reasons and tips [1](https://stackoverflow.com/questions/26473681/pip-install-numpy-throws-an-error-ascii-codec-cant-decode-byte-0xe2), [2](https://stackoverflow.com/questions/25674612/ubuntu-14-04-pip-cannot-upgrade-matplotllib) for installing dependencies if they are not setup on your system.\n",
    "\n",
    "On Debian-based systems, install the following pre-requisites.  \n",
    "\n",
    "    $ apt-get install build-essential python3-dev\n",
    "\n",
    "\n",
    "On Windows systems, be certain to install the [appropriate Visual Studio C-compilers](https://matthew-brett.github.io/pydagogue/python_msvc.html)."
   ]
  },
  {
   "cell_type": "raw",
   "metadata": {
    "raw_mimetype": "text/restructuredtext"
   },
   "source": [
    ".. note::\n",
    "\n",
    "    Installing dependencies on windows can be troublesomes.  See the `installation guide for matplotlib <http://matplotlib.org/users/installing.html>`_. Try `this <https://github.com/matplotlib/matplotlib/issues/3029/>`_ or `this <http://newcoder.io/dataviz/part-0/>`_ for issues installing matplotlib.   Future developments will work towards OS agnostiscism with continuous Integration on Linux, OS and Windows using Travis and Appveyor. "
   ]
  },
  {
   "cell_type": "markdown",
   "metadata": {},
   "source": [
    "### Creating a developer environment with `conda`\n",
    " \n",
    "Minimal LamAna development requires testing code in a reproducible enviroment.  Anaconda is the most consistent option for test environments of dependencies and sub-dependencies.  [Here is a supporting rationale](https://gist.github.com/dan-blanchard/7045057) for using `conda` in travis.  The following creates a fresh conda environment with critical dependencies that trigger installation of sub-dependencies required for LamAna. \n",
    "\n",
    "```bash\n",
    "$ git clone -b <branch name> https://github.com/par2/lamana\n",
    "$ conda create -n <testenv name> pip nose numpy matplotlib pandas\n",
    "$ source activate <testenv name>       # exclude source for Windows \n",
    "$ pip install -r dev_requirements.txt\n",
    "$ pip install .                        # within lamana directory\n",
    "```\n",
    "\n",
    "The first command downloads the repo from a spefic branch using [`git`](https://git-scm.com/downloads).  The second command creates a reproducbile virtual environment using `conda` where therein, isolated versions of pip and nose are installed.  Specific dependencies of the latest versions are downloaded within this environment which contain a necessary backend of sub-dependencies that are difficult to install manually. The environment is activated in the next command.  Once the conda build is setup, `pip` will downgrade the existing versions to the pinned versions found in the requirments.txt file.  Afterwards, the package is finally installed mimicking the original release environment.  \n",
    "\n",
    "The latter installation method should work fine.  To check, the following command should be able to run without errors:\n",
    "\n",
    "    $ nosetests\n",
    "\n",
    "Now, you should be able to run include jupyter notebook Demos."
   ]
  },
  {
   "cell_type": "raw",
   "metadata": {
    "raw_mimetype": "text/restructuredtext"
   },
   "source": [
    ".. important::\n",
    "\n",
    "    If issues still arise, ensure the following requisites are satisfied:\n",
    "    \n",
    "    - the conda environment is properly set up with dependencies and compiled sub-dependencies e.g. C-extensions (see above)\n",
    "    - the appropriate `compiler libraries <https://github.com/pydata/pandas/issues/1880>`_ are installed `on your specific OS <https://matthew-brett.github.io/pydagogue/python_msvc.html>`_, i.e. gcc for Linux, Visual Studio for Windows.  With conda, this should not be necessary.\n",
    "    - `sufficient memory <http://ze.phyr.us/pandas-memory-crash/>`__ is available to compile C-extensions, e.g. 0.5-1 GB minimum\n",
    "    - the appropriate LamAna version, compatible python version and dependency versions are installed according to requirements.txt (see the :ref:`Dependencies chart <dependencies-chart>`)"
   ]
  },
  {
   "cell_type": "raw",
   "metadata": {
    "raw_mimetype": "text/restructuredtext"
   },
   "source": [
    ".. _dependencies-chart:"
   ]
  },
  {
   "cell_type": "markdown",
   "metadata": {},
   "source": [
    "### Dependencies\n",
    "\n",
    "The following table shows a chart of tested build build compatible with LamAna:\n",
    "    \n",
    "|lamana|python|dependency|OS|\n",
    "|:--|:--|:--|:--|\n",
    "|0.4.8|2.7, 3.3, 3.4| numpy==1.9.2, pandas==0.16.2, matplotlib==1.4.3|linux, not win10|\n",
    "|0.4.8|2.7, 3.3, 3.4, 3.5, 3.5.1| numpy==1.10.1, pandas==0.16.2, matplotlib==1.4.3|linux|\n",
    "|0.4.8|2.7.6, 2.7.10, 3.3, 3.4, 3.5, 3.5.1| numpy==1.10.1, pandas==0.16.2, matplotlib==1.5.0|linux, local win|\n",
    "|0.4.9|2.7, 3.3, 3.4, 3.5, 3.5.1| conda==3.19.0, numpy==1.10.1, pandas==0.16.2, matplotlib==1.4.3|linux, win|"
   ]
  }
 ],
 "metadata": {
  "celltoolbar": "Raw Cell Format",
  "kernelspec": {
   "display_name": "Python 3",
   "language": "python",
   "name": "python3"
  },
  "language_info": {
   "codemirror_mode": {
    "name": "ipython",
    "version": 3
   },
   "file_extension": ".py",
   "mimetype": "text/x-python",
   "name": "python",
   "nbconvert_exporter": "python",
   "pygments_lexer": "ipython3",
   "version": "3.3.5"
  }
 },
 "nbformat": 4,
 "nbformat_minor": 0
}
