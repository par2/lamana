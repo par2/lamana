{
 "cells": [
  {
   "cell_type": "code",
   "execution_count": 1,
   "metadata": {
    "collapsed": false,
    "nbsphinx": "hidden"
   },
   "outputs": [
    {
     "name": "stdout",
     "output_type": "stream",
     "text": [
      "Last Run: 2016-01-15 20:45:02\n"
     ]
    }
   ],
   "source": [
    "# Hidden TimeStamp\n",
    "import time, datetime\n",
    "st = datetime.datetime.fromtimestamp(time.time()).strftime('%Y-%m-%d %H:%M:%S')\n",
    "print('Last Run: {}'.format(st))"
   ]
  },
  {
   "cell_type": "markdown",
   "metadata": {},
   "source": [
    "# Contributions"
   ]
  },
  {
   "cell_type": "markdown",
   "metadata": {},
   "source": [
    "First, thank you for your interests in potentially improving LamAna. \n",
    "\n",
    "At the moment, you can contribute to the LamAna community as an Author or Developer in several ways."
   ]
  },
  {
   "cell_type": "markdown",
   "metadata": {},
   "source": [
    "## As an Author"
   ]
  },
  {
   "cell_type": "markdown",
   "metadata": {},
   "source": [
    "### to the Models Library"
   ]
  },
  {
   "cell_type": "markdown",
   "metadata": {},
   "source": [
    "You have worked on your custom model and you would like to share it with others.  You can sumbit your custom model as an extension to the current models library as a pull request on GitHub.  As an extension, other users can access your model with ease.  With further review and community acceptance, the most favorable models will be accepted into the core LamAna models library. Please do the following:\n",
    "\n",
    "1. create Python files subclassed from `theories.Model`\n",
    "1. write tests\n",
    "1. document your code\n",
    "1. cite academic references\n",
    "1. include supporting validation or FEA data (preferred)\n",
    "\n",
    "The LamAna Project welcomes open contributions to the offical `models` library.  It is envisioned that a stable source of reliable laminate anaylsis models will be useful to other users, similar to the way R package libraries are maintained."
   ]
  },
  {
   "cell_type": "markdown",
   "metadata": {},
   "source": [
    "## As a Developer"
   ]
  },
  {
   "cell_type": "markdown",
   "metadata": {},
   "source": [
    "### to LPEPs"
   ]
  },
  {
   "cell_type": "markdown",
   "metadata": {},
   "source": [
    "If you are not interested in writing code, but would like to propose an idea for enchancing LamAna, you can submit an LPEP for review.  \n",
    "\n",
    "1. Please draft your proposals in a similar format to existing LPEPs as jupyter notebooks\n",
    "1. You  can submit a pull request on GitHub.\n",
    "\n",
    "The LPEP [submission](https://www.python.org/dev/peps/pep-0001/#id29) and content [guidelines](https://www.python.org/dev/peps/pep-0001/#id32) closely follow PEP 0001. "
   ]
  },
  {
   "cell_type": "markdown",
   "metadata": {},
   "source": [
    "### to Package Code"
   ]
  },
  {
   "cell_type": "markdown",
   "metadata": {},
   "source": [
    "If you would like to improve the latest version, please do the following:\n",
    "\n",
    "1. `git clone` the `develop` branch\n",
    "1. write tests for your enhancement\n",
    "1. modify the code with appropriate comments\n",
    "1. successfully run tests \n",
    "1. write documentation in a jupyter notebook\n",
    "1. submit your test, code and documentation as a pull requests on GitHub.  \n",
    "\n",
    "The latter steps pertain to adding or enchancing Feature modules and improving core modules.  For starters, you can look to the demontraions or showcase as motivation for improving LamAna's *functionality*, *clarity* or *optimization*.\n",
    "\n",
    "Thanks for your contributions.  You are helping to improve the LamAna community!"
   ]
  },
  {
   "cell_type": "code",
   "execution_count": null,
   "metadata": {
    "collapsed": true
   },
   "outputs": [],
   "source": []
  }
 ],
 "metadata": {
  "celltoolbar": "Edit Metadata",
  "kernelspec": {
   "display_name": "Python 3",
   "language": "python",
   "name": "python3"
  },
  "language_info": {
   "codemirror_mode": {
    "name": "ipython",
    "version": 3
   },
   "file_extension": ".py",
   "mimetype": "text/x-python",
   "name": "python",
   "nbconvert_exporter": "python",
   "pygments_lexer": "ipython3",
   "version": "3.3.5"
  }
 },
 "nbformat": 4,
 "nbformat_minor": 0
}
