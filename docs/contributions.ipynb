{
 "cells": [
  {
   "cell_type": "code",
   "execution_count": 1,
   "metadata": {
    "collapsed": false,
    "nbsphinx": "hidden"
   },
   "outputs": [
    {
     "name": "stdout",
     "output_type": "stream",
     "text": [
      "Last Run: 2016-09-16 23:32:43\n"
     ]
    }
   ],
   "source": [
    "# Hidden TimeStamp\n",
    "import time, datetime\n",
    "st = datetime.datetime.fromtimestamp(time.time()).strftime('%Y-%m-%d %H:%M:%S')\n",
    "print('Last Run: {}'.format(st))"
   ]
  },
  {
   "cell_type": "markdown",
   "metadata": {},
   "source": [
    "# Contributing Code"
   ]
  },
  {
   "cell_type": "markdown",
   "metadata": {},
   "source": [
    "First, thank you for your interests in improving LamAna.  At the moment, you can contribute to the LamAna community as an Author or Developer in several ways."
   ]
  },
  {
   "cell_type": "markdown",
   "metadata": {},
   "source": [
    "## As an Author"
   ]
  },
  {
   "cell_type": "markdown",
   "metadata": {},
   "source": [
    "### to the Models Library"
   ]
  },
  {
   "cell_type": "markdown",
   "metadata": {},
   "source": [
    "**So you have worked on your custom model and you would like to share it with others...**\n",
    "\n",
    "You can sumbit your custom model as an extension to the current models library with a pull request on GitHub.  As an extension, other users can access your model with ease.  After further review and community acceptance, favorable models will be accepted into the core LamAna models library. Please do the following:\n",
    "\n",
    "1. Create Python files subclassed from `theories.Model`\n",
    "1. Write tests\n",
    "1. Document your code\n",
    "1. Cite academic references\n",
    "1. Include supporting validation or FEA data (preferred)\n",
    "\n",
    "The LamAna Project welcomes open contributions to the official `models` library.  It is envisioned that a stable source of reliable laminate anaylsis models will be useful to other users, similar to the way R package libraries are maintained."
   ]
  },
  {
   "cell_type": "markdown",
   "metadata": {},
   "source": [
    "## As a Developer"
   ]
  },
  {
   "cell_type": "markdown",
   "metadata": {},
   "source": [
    "### to LPEPs"
   ]
  },
  {
   "cell_type": "markdown",
   "metadata": {},
   "source": [
    "**If you prefer to propose an idea for enchancing LamAna, you can submit an LPEP for review.**  \n",
    "\n",
    "1. Please draft your proposals in a similar format to existing [LPEPs](lpep.ipynb) as a jupyter notebook\n",
    "1. Submit a pull request on GitHub.\n",
    "\n",
    "The LPEP [submission](https://www.python.org/dev/peps/pep-0001/#id29) and content [guidelines](https://www.python.org/dev/peps/pep-0001/#id32) closely follow Python's PEP 0001. "
   ]
  },
  {
   "cell_type": "markdown",
   "metadata": {},
   "source": [
    "### to Project Code"
   ]
  },
  {
   "cell_type": "markdown",
   "metadata": {},
   "source": [
    "**If you would like to improve the latest development code...**\n",
    "\n",
    "1. Fork or `git clone` the `develop` branch\n",
    "1. Use [gitflow](https://github.com/petervanderdoes/gitflow-avh) to make feature branches\n",
    "1. Since [GitHub squashes local commits](http://jamescooke.info/git-to-squash-or-not-to-squash.html), **add detailed commit history** to the feature branch merge commits\n",
    "1. Write tests for your enhancement\n",
    "1. Modify the code with [insightful docstrings](https://github.com/numpy/numpy/blob/master/doc/HOWTO_DOCUMENT.rst.txt)\n",
    "1. Successfully run tests\n",
    "1. Write documentation in a jupyter notebook\n",
    "1. Submit your test, code and documentation as a pull requests on GitHub.  \n",
    "\n",
    "The latter steps pertain to adding or enchancing Feature modules and improving core modules.  For starters, you can look to the demonstrations or gallery as motivation for improving LamAna's *functionality*, *clarity* or *optimization*.\n",
    "\n",
    "**Thank you** for your contributions.  You are helping to improve the LamAna community!"
   ]
  },
  {
   "cell_type": "markdown",
   "metadata": {
    "collapsed": true
   },
   "source": [
    "## Resources"
   ]
  },
  {
   "cell_type": "markdown",
   "metadata": {},
   "source": [
    "If you are new to developing, here are some resources to get started on this project:\n",
    "\n",
    "- [Git](https://git-scm.com/downloads): default version control\n",
    "- [GitHub](https://github.com): git host opensource projects\n",
    "- [gitflow-avh](https://github.com/petervanderdoes/gitflow-avh): a git extension used to ease development workflow\n",
    "- [atom](https://atom.io/): an great, open source text editor (using linter, flake8, minimap, pygments, colorpicker)\n",
    "- [Numpy docstring guide](https://github.com/numpy/numpy/blob/master/doc/HOWTO_DOCUMENT.rst.txt)\n",
    "\n",
    "The following packages are available in `conda` or `pip`:\n",
    "\n",
    "- [nose](https://nose.readthedocs.org/en/latest/): test code; see also `pytest` alternative.\n",
    "\n",
    "The following are Sphinx extensions helpful in documenting code:\n",
    "\n",
    "- [autodoc](https://codeandchaos.wordpress.com/2012/07/30/sphinx-autodoc-tutorial-for-dummies/): auto generate api docs\n",
    "- [autosummary](http://www.sphinx-doc.org/en/stable/ext/autosummary.html): make a custom API reference, summary table\n",
    "- [nbsphinx](https://nbsphinx.readthedocs.org/en/0.2.2/): auto generate rst files from jupyter notebook files\n",
    "- [numpydoc](https://codeandchaos.wordpress.com/2012/08/09/sphinx-and-numpydoc/): auto format docs using numpy-style docstrings\n",
    "- [napoleon](http://www.sphinx-doc.org/en/stable/ext/napoleon.html#module-sphinx.ext.napoleon): numpy and google-style doctrings\n",
    "- [viewcode](http://www.sphinx-doc.org/en/stable/ext/viewcode.html?highlight=viewcode#module-sphinx.ext.viewcode): link api references and see implementation of the code directly in source.\n",
    "\n",
    "The following are useful web-based tools:\n",
    "\n",
    "- [Travis](https://docs.travis-ci.com/user/customizing-the-build): test builds on Linux/Mac systems and dependency versions\n",
    "- [Appveyor](https://www.appveyor.com/): test builds on windows machines\n",
    "- [Shippable](https://app.shippable.com/): a secondary host for Linux/Mac systems\n",
    "- [readthedocs](https://readthedocs.org/): automate doc builds (in a travis-like way)\n",
    "- [TestPyPI](https://testpypi.python.org/pypi): Test code before officially hosting to PyPI\n",
    "- [PyPI](https://pypi.python.org/pypi): host Python projects"
   ]
  }
 ],
 "metadata": {
  "kernelspec": {
   "display_name": "Python [py27]",
   "language": "python",
   "name": "Python [py27]"
  },
  "language_info": {
   "codemirror_mode": {
    "name": "ipython",
    "version": 2
   },
   "file_extension": ".py",
   "mimetype": "text/x-python",
   "name": "python",
   "nbconvert_exporter": "python",
   "pygments_lexer": "ipython2",
   "version": "2.7.12"
  },
  "toc": {
   "toc_cell": false,
   "toc_number_sections": false,
   "toc_threshold": "2",
   "toc_window_display": false
  }
 },
 "nbformat": 4,
 "nbformat_minor": 0
}
