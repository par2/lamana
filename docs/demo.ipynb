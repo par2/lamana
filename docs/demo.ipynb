{
 "cells": [
  {
   "cell_type": "code",
   "execution_count": 1,
   "metadata": {
    "collapsed": false,
    "nbsphinx": "hidden",
    "scrolled": true
   },
   "outputs": [
    {
     "name": "stdout",
     "output_type": "stream",
     "text": [
      "Last Run:  2016-07-26 09:17:11\n"
     ]
    }
   ],
   "source": [
    "# Hidden TimeStamp\n",
    "import time, datetime\n",
    "st = datetime.datetime.fromtimestamp(time.time()).strftime('%Y-%m-%d %H:%M:%S')\n",
    "print('Last Run: ', st)"
   ]
  },
  {
   "cell_type": "code",
   "execution_count": 2,
   "metadata": {
    "collapsed": false,
    "nbsphinx": "hidden"
   },
   "outputs": [],
   "source": [
    "# Hidden Working Directory\n",
    "# Run this cell only once\n",
    "from IPython.display import clear_output\n",
    "\n",
    "%cd ../\n",
    "clear_output()"
   ]
  },
  {
   "cell_type": "code",
   "execution_count": 3,
   "metadata": {
    "collapsed": false,
    "nbsphinx": "hidden",
    "scrolled": true
   },
   "outputs": [
    {
     "data": {
      "application/json": {
       "Software versions": [
        {
         "module": "Python",
         "version": "3.5.1 64bit [MSC v.1900 64 bit (AMD64)]"
        },
        {
         "module": "IPython",
         "version": "4.1.2"
        },
        {
         "module": "OS",
         "version": "Windows 10 10.0.10586 SP0"
        },
        {
         "module": "numpy",
         "version": "1.11.1"
        },
        {
         "module": "matplotlib",
         "version": "1.5.1"
        },
        {
         "module": "pandas",
         "version": "0.18.1"
        },
        {
         "module": "six",
         "version": "1.10.0"
        },
        {
         "module": "openpyxl",
         "version": "2.3.5"
        },
        {
         "module": "xlrd",
         "version": "1.0.0"
        },
        {
         "module": "version_information",
         "version": "1.0.3"
        },
        {
         "module": "lamana",
         "version": "0.4.13-dev"
        }
       ]
      },
      "text/html": [
       "<table><tr><th>Software</th><th>Version</th></tr><tr><td>Python</td><td>3.5.1 64bit [MSC v.1900 64 bit (AMD64)]</td></tr><tr><td>IPython</td><td>4.1.2</td></tr><tr><td>OS</td><td>Windows 10 10.0.10586 SP0</td></tr><tr><td>numpy</td><td>1.11.1</td></tr><tr><td>matplotlib</td><td>1.5.1</td></tr><tr><td>pandas</td><td>0.18.1</td></tr><tr><td>six</td><td>1.10.0</td></tr><tr><td>openpyxl</td><td>2.3.5</td></tr><tr><td>xlrd</td><td>1.0.0</td></tr><tr><td>version_information</td><td>1.0.3</td></tr><tr><td>lamana</td><td>0.4.13-dev</td></tr><tr><td colspan='2'>Tue Jul 26 09:17:13 2016 Eastern Daylight Time</td></tr></table>"
      ],
      "text/latex": [
       "\\begin{tabular}{|l|l|}\\hline\n",
       "{\\bf Software} & {\\bf Version} \\\\ \\hline\\hline\n",
       "Python & 3.5.1 64bit [MSC v.1900 64 bit (AMD64)] \\\\ \\hline\n",
       "IPython & 4.1.2 \\\\ \\hline\n",
       "OS & Windows 10 10.0.10586 SP0 \\\\ \\hline\n",
       "numpy & 1.11.1 \\\\ \\hline\n",
       "matplotlib & 1.5.1 \\\\ \\hline\n",
       "pandas & 0.18.1 \\\\ \\hline\n",
       "six & 1.10.0 \\\\ \\hline\n",
       "openpyxl & 2.3.5 \\\\ \\hline\n",
       "xlrd & 1.0.0 \\\\ \\hline\n",
       "version_information & 1.0.3 \\\\ \\hline\n",
       "lamana & 0.4.13-dev \\\\ \\hline\n",
       "\\hline \\multicolumn{2}{|l|}{Tue Jul 26 09:17:13 2016 Eastern Daylight Time} \\\\ \\hline\n",
       "\\end{tabular}\n"
      ],
      "text/plain": [
       "Software versions\n",
       "Python 3.5.1 64bit [MSC v.1900 64 bit (AMD64)]\n",
       "IPython 4.1.2\n",
       "OS Windows 10 10.0.10586 SP0\n",
       "numpy 1.11.1\n",
       "matplotlib 1.5.1\n",
       "pandas 0.18.1\n",
       "six 1.10.0\n",
       "openpyxl 2.3.5\n",
       "xlrd 1.0.0\n",
       "version_information 1.0.3\n",
       "lamana 0.4.13-dev\n",
       "Tue Jul 26 09:17:13 2016 Eastern Daylight Time"
      ]
     },
     "execution_count": 3,
     "metadata": {},
     "output_type": "execute_result"
    }
   ],
   "source": [
    "# Hidden Versioning\n",
    "import numpy, matplotlib, pandas, six, openpyxl, xlrd, version_information, lamana\n",
    "%reload_ext version_information\n",
    "%version_information numpy, matplotlib, pandas, six, openpyxl, xlrd, version_information, lamana"
   ]
  },
  {
   "cell_type": "code",
   "execution_count": 4,
   "metadata": {
    "collapsed": false,
    "nbsphinx": "hidden"
   },
   "outputs": [
    {
     "name": "stdout",
     "output_type": "stream",
     "text": [
      "Interactive namespace is empty.\n"
     ]
    }
   ],
   "source": [
    "# Hidden Namespace Reset\n",
    "%reset -sf\n",
    "%whos"
   ]
  },
  {
   "cell_type": "markdown",
   "metadata": {},
   "source": [
    "# Demonstration"
   ]
  },
  {
   "cell_type": "markdown",
   "metadata": {},
   "source": [
    "The following demonstration includes basic and intermediate uses of the LamAna Project library.  It is intended to exhaustively reference all API features, therefore some advandced demonstrations will favor technical detail. "
   ]
  },
  {
   "cell_type": "markdown",
   "metadata": {},
   "source": [
    "# Tutorial: Basic"
   ]
  },
  {
   "cell_type": "markdown",
   "metadata": {},
   "source": [
    "## User Input Startup"
   ]
  },
  {
   "cell_type": "code",
   "execution_count": 5,
   "metadata": {
    "collapsed": false
   },
   "outputs": [],
   "source": [
    "#------------------------------------------------------------------------------\n",
    "import pandas as pd\n",
    "\n",
    "import lamana as la\n",
    "#import LamAna as la\n",
    "\n",
    "%matplotlib inline\n",
    "#%matplotlib nbagg\n",
    "# PARAMETERS ------------------------------------------------------------------\n",
    "# Build dicts of geometric and material parameters\n",
    "load_params = {'R' : 12e-3,                                # specimen radius\n",
    "               'a' : 7.5e-3,                               # support ring radius\n",
    "               'r' : 2e-4,                                 # radial distance from center loading\n",
    "               'P_a' : 1,                                  # applied load\n",
    "               'p' : 5,                                    # points/layer\n",
    "               }\n",
    "\n",
    "# Quick Form: a dict of lists\n",
    "mat_props = {'HA' : [5.2e10, 0.25],\n",
    "             'PSu' : [2.7e9, 0.33],            \n",
    "             }\n",
    "\n",
    "# Standard Form: a dict of dicts\n",
    "# mat_props = {'Modulus': {'HA': 5.2e10, 'PSu': 2.7e9},\n",
    "#              'Poissons': {'HA': 0.25, 'PSu': 0.33}}\n",
    "\n",
    "\n",
    "# What geometries to test?\n",
    "# Make tuples of desired geometeries to analyze: outer - {inner...-....}_i - middle\n",
    "\n",
    "# Current Style\n",
    "g1 = ('0-0-2000')                                          # Monolith\n",
    "g2 = ('1000-0-0')                                          # Bilayer\n",
    "g3 = ('600-0-800')                                         # Trilayer\n",
    "g4 = ('500-500-0')                                         # 4-ply\n",
    "g5 = ('400-200-800')                                       # Short-hand; <= 5-ply\n",
    "g6 = ('400-200-400S')                                      # Symmetric\n",
    "g7 = ('400-[200]-800')                                     # General convention; 5-ply \n",
    "g8 = ('400-[100,100]-800')                                 # General convention; 7-plys \n",
    "g9 = ('400-[100,100]-400S')                                # General and Symmetric convention; 7-plys \n",
    "\n",
    "'''Add to test set'''\n",
    "g13 = ('400-[150,50]-800')                                 # Dissimilar inner_is     \n",
    "g14 = ('400-[25,125,50]-800')                         \n",
    "\n",
    "\n",
    "geos_most = [g1, g2, g3, g4, g5]\n",
    "geos_special = [g6, g7, g8, g9]\n",
    "geos_full = [g1, g2, g3, g4, g5, g6, g7, g8, g9]\n",
    "geos_dissimilar = [g13, g14]\n",
    "\n",
    "# Future Style\n",
    "#geos1 = ((400-400-400),(400-200-800),(400-350-500))        # same total thickness\n",
    "#geos2 = ((400-400-400), (400-500-1600), (400-200-800))     # same outer thickness"
   ]
  },
  {
   "cell_type": "code",
   "execution_count": 6,
   "metadata": {
    "collapsed": true
   },
   "outputs": [],
   "source": [
    "#import pandas as pd\n",
    "pd.set_option('display.max_columns', 10)\n",
    "pd.set_option('precision', 4)"
   ]
  },
  {
   "cell_type": "markdown",
   "metadata": {},
   "source": [
    "## Goal: Generate a Plot in 3 Lines of Code"
   ]
  },
  {
   "cell_type": "code",
   "execution_count": 7,
   "metadata": {
    "collapsed": false
   },
   "outputs": [
    {
     "data": {
      "image/png": "[encoded data removed]",
      "text/plain": [
       "<matplotlib.figure.Figure at 0x20226b35ba8>"
      ]
     },
     "metadata": {},
     "output_type": "display_data"
    }
   ],
   "source": [
    "case1 = la.distributions.Case(load_params, mat_props)      # instantiate a User Input Case Object through distributions\n",
    "case1.apply(['400-200-800'])\n",
    "case1.plot()"
   ]
  },
  {
   "cell_type": "markdown",
   "metadata": {},
   "source": [
    "That's it!  The rest of this demonstration showcases API functionality of the LamAna project."
   ]
  },
  {
   "cell_type": "markdown",
   "metadata": {},
   "source": [
    "## Calling Case attributes"
   ]
  },
  {
   "cell_type": "markdown",
   "metadata": {},
   "source": [
    "Passed in arguments are acessible, but can be displayed as pandas Series and DataFrames."
   ]
  },
  {
   "cell_type": "code",
   "execution_count": 8,
   "metadata": {
    "collapsed": false
   },
   "outputs": [
    {
     "data": {
      "text/plain": [
       "{'P_a': 1, 'R': 0.012, 'a': 0.0075, 'p': 5, 'r': 0.0002}"
      ]
     },
     "execution_count": 8,
     "metadata": {},
     "output_type": "execute_result"
    }
   ],
   "source": [
    "# Original\n",
    "case1.load_params"
   ]
  },
  {
   "cell_type": "code",
   "execution_count": 9,
   "metadata": {
    "collapsed": false
   },
   "outputs": [
    {
     "data": {
      "text/plain": [
       "P_a    1.0000\n",
       "R      0.0120\n",
       "a      0.0075\n",
       "p      5.0000\n",
       "r      0.0002\n",
       "dtype: float64"
      ]
     },
     "execution_count": 9,
     "metadata": {},
     "output_type": "execute_result"
    }
   ],
   "source": [
    "# Series View\n",
    "case1.parameters"
   ]
  },
  {
   "cell_type": "code",
   "execution_count": 10,
   "metadata": {
    "collapsed": false
   },
   "outputs": [
    {
     "data": {
      "text/plain": [
       "defaultdict(dict,\n",
       "            {'Modulus': {'HA': 52000000000.0, 'PSu': 2700000000.0},\n",
       "             'Poissons': {'HA': 0.25, 'PSu': 0.33}})"
      ]
     },
     "execution_count": 10,
     "metadata": {},
     "output_type": "execute_result"
    }
   ],
   "source": [
    "# Original\n",
    "case1.mat_props"
   ]
  },
  {
   "cell_type": "code",
   "execution_count": 11,
   "metadata": {
    "collapsed": false,
    "scrolled": true
   },
   "outputs": [
    {
     "data": {
      "text/html": [
       "<div>\n",
       "<table border=\"1\" class=\"dataframe\">\n",
       "  <thead>\n",
       "    <tr style=\"text-align: right;\">\n",
       "      <th></th>\n",
       "      <th>Modulus</th>\n",
       "      <th>Poissons</th>\n",
       "    </tr>\n",
       "    <tr>\n",
       "      <th>materials</th>\n",
       "      <th></th>\n",
       "      <th></th>\n",
       "    </tr>\n",
       "  </thead>\n",
       "  <tbody>\n",
       "    <tr>\n",
       "      <th>HA</th>\n",
       "      <td>5.2000e+10</td>\n",
       "      <td>0.25</td>\n",
       "    </tr>\n",
       "    <tr>\n",
       "      <th>PSu</th>\n",
       "      <td>2.7000e+09</td>\n",
       "      <td>0.33</td>\n",
       "    </tr>\n",
       "  </tbody>\n",
       "</table>\n",
       "</div>"
      ],
      "text/plain": [
       "              Modulus  Poissons\n",
       "materials                      \n",
       "HA         5.2000e+10      0.25\n",
       "PSu        2.7000e+09      0.33"
      ]
     },
     "execution_count": 11,
     "metadata": {},
     "output_type": "execute_result"
    }
   ],
   "source": [
    "# DataFrame View\n",
    "case1.properties"
   ]
  },
  {
   "cell_type": "code",
   "execution_count": 12,
   "metadata": {
    "collapsed": false
   },
   "outputs": [
    {
     "data": {
      "text/plain": [
       "{'Modulus': {'HA': 52000000000.0, 'PSu': 2700000000.0},\n",
       " 'Poissons': {'HA': 0.25, 'PSu': 0.33000000000000002}}"
      ]
     },
     "execution_count": 12,
     "metadata": {},
     "output_type": "execute_result"
    }
   ],
   "source": [
    "# Equivalent Standard Form\n",
    "case1.properties.to_dict()"
   ]
  },
  {
   "cell_type": "markdown",
   "metadata": {},
   "source": [
    "Reset material order.  Changes are relfected in the properties view and stacking order."
   ]
  },
  {
   "cell_type": "code",
   "execution_count": 13,
   "metadata": {
    "collapsed": false
   },
   "outputs": [
    {
     "data": {
      "text/html": [
       "<div>\n",
       "<table border=\"1\" class=\"dataframe\">\n",
       "  <thead>\n",
       "    <tr style=\"text-align: right;\">\n",
       "      <th></th>\n",
       "      <th>Modulus</th>\n",
       "      <th>Poissons</th>\n",
       "    </tr>\n",
       "    <tr>\n",
       "      <th>materials</th>\n",
       "      <th></th>\n",
       "      <th></th>\n",
       "    </tr>\n",
       "  </thead>\n",
       "  <tbody>\n",
       "    <tr>\n",
       "      <th>PSu</th>\n",
       "      <td>2.7000e+09</td>\n",
       "      <td>0.33</td>\n",
       "    </tr>\n",
       "    <tr>\n",
       "      <th>HA</th>\n",
       "      <td>5.2000e+10</td>\n",
       "      <td>0.25</td>\n",
       "    </tr>\n",
       "  </tbody>\n",
       "</table>\n",
       "</div>"
      ],
      "text/plain": [
       "              Modulus  Poissons\n",
       "materials                      \n",
       "PSu        2.7000e+09      0.33\n",
       "HA         5.2000e+10      0.25"
      ]
     },
     "execution_count": 13,
     "metadata": {},
     "output_type": "execute_result"
    }
   ],
   "source": [
    "case1.materials = ['PSu', 'HA']\n",
    "case1.properties"
   ]
  },
  {
   "cell_type": "markdown",
   "metadata": {},
   "source": [
    "Serial resets"
   ]
  },
  {
   "cell_type": "code",
   "execution_count": 14,
   "metadata": {
    "collapsed": false
   },
   "outputs": [
    {
     "data": {
      "text/html": [
       "<div>\n",
       "<table border=\"1\" class=\"dataframe\">\n",
       "  <thead>\n",
       "    <tr style=\"text-align: right;\">\n",
       "      <th></th>\n",
       "      <th>Modulus</th>\n",
       "      <th>Poissons</th>\n",
       "    </tr>\n",
       "    <tr>\n",
       "      <th>materials</th>\n",
       "      <th></th>\n",
       "      <th></th>\n",
       "    </tr>\n",
       "  </thead>\n",
       "  <tbody>\n",
       "    <tr>\n",
       "      <th>PSu</th>\n",
       "      <td>2.7000e+09</td>\n",
       "      <td>0.33</td>\n",
       "    </tr>\n",
       "    <tr>\n",
       "      <th>HA</th>\n",
       "      <td>5.2000e+10</td>\n",
       "      <td>0.25</td>\n",
       "    </tr>\n",
       "  </tbody>\n",
       "</table>\n",
       "</div>"
      ],
      "text/plain": [
       "              Modulus  Poissons\n",
       "materials                      \n",
       "PSu        2.7000e+09      0.33\n",
       "HA         5.2000e+10      0.25"
      ]
     },
     "execution_count": 14,
     "metadata": {},
     "output_type": "execute_result"
    }
   ],
   "source": [
    "case1.materials = ['PSu', 'HA', 'HA']\n",
    "case1.properties"
   ]
  },
  {
   "cell_type": "code",
   "execution_count": 15,
   "metadata": {
    "collapsed": false
   },
   "outputs": [
    {
     "data": {
      "text/plain": [
       "['PSu', 'HA', 'HA']"
      ]
     },
     "execution_count": 15,
     "metadata": {},
     "output_type": "execute_result"
    }
   ],
   "source": [
    "case1.materials                                          # get reorderd list of materials"
   ]
  },
  {
   "cell_type": "code",
   "execution_count": 16,
   "metadata": {
    "collapsed": false
   },
   "outputs": [
    {
     "data": {
      "text/plain": [
       "['PSu', 'HA', 'HA']"
      ]
     },
     "execution_count": 16,
     "metadata": {},
     "output_type": "execute_result"
    }
   ],
   "source": [
    "case1._materials"
   ]
  },
  {
   "cell_type": "code",
   "execution_count": 17,
   "metadata": {
    "collapsed": false
   },
   "outputs": [],
   "source": [
    "case1.apply(geos_full) "
   ]
  },
  {
   "cell_type": "code",
   "execution_count": 18,
   "metadata": {
    "collapsed": false
   },
   "outputs": [
    {
     "data": {
      "text/html": [
       "<div>\n",
       "<table border=\"1\" class=\"dataframe\">\n",
       "  <thead>\n",
       "    <tr style=\"text-align: right;\">\n",
       "      <th></th>\n",
       "      <th>layer</th>\n",
       "      <th>side</th>\n",
       "      <th>matl</th>\n",
       "      <th>type</th>\n",
       "      <th>t(um)</th>\n",
       "    </tr>\n",
       "  </thead>\n",
       "  <tbody>\n",
       "    <tr>\n",
       "      <th>0</th>\n",
       "      <td>1</td>\n",
       "      <td>Tens.</td>\n",
       "      <td>PSu</td>\n",
       "      <td>outer</td>\n",
       "      <td>400.0</td>\n",
       "    </tr>\n",
       "    <tr>\n",
       "      <th>1</th>\n",
       "      <td>2</td>\n",
       "      <td>Tens.</td>\n",
       "      <td>HA</td>\n",
       "      <td>inner</td>\n",
       "      <td>100.0</td>\n",
       "    </tr>\n",
       "    <tr>\n",
       "      <th>2</th>\n",
       "      <td>3</td>\n",
       "      <td>Tens.</td>\n",
       "      <td>HA</td>\n",
       "      <td>inner</td>\n",
       "      <td>100.0</td>\n",
       "    </tr>\n",
       "    <tr>\n",
       "      <th>3</th>\n",
       "      <td>4</td>\n",
       "      <td>INDET</td>\n",
       "      <td>PSu</td>\n",
       "      <td>middle</td>\n",
       "      <td>800.0</td>\n",
       "    </tr>\n",
       "    <tr>\n",
       "      <th>4</th>\n",
       "      <td>5</td>\n",
       "      <td>Comp.</td>\n",
       "      <td>HA</td>\n",
       "      <td>inner</td>\n",
       "      <td>100.0</td>\n",
       "    </tr>\n",
       "    <tr>\n",
       "      <th>5</th>\n",
       "      <td>6</td>\n",
       "      <td>Comp.</td>\n",
       "      <td>HA</td>\n",
       "      <td>inner</td>\n",
       "      <td>100.0</td>\n",
       "    </tr>\n",
       "    <tr>\n",
       "      <th>6</th>\n",
       "      <td>7</td>\n",
       "      <td>Comp.</td>\n",
       "      <td>PSu</td>\n",
       "      <td>outer</td>\n",
       "      <td>400.0</td>\n",
       "    </tr>\n",
       "  </tbody>\n",
       "</table>\n",
       "</div>"
      ],
      "text/plain": [
       "   layer   side matl    type  t(um)\n",
       "0      1  Tens.  PSu   outer  400.0\n",
       "1      2  Tens.   HA   inner  100.0\n",
       "2      3  Tens.   HA   inner  100.0\n",
       "3      4  INDET  PSu  middle  800.0\n",
       "4      5  Comp.   HA   inner  100.0\n",
       "5      6  Comp.   HA   inner  100.0\n",
       "6      7  Comp.  PSu   outer  400.0"
      ]
     },
     "execution_count": 18,
     "metadata": {},
     "output_type": "execute_result"
    }
   ],
   "source": [
    "case1.snapshots[-1]"
   ]
  },
  {
   "cell_type": "code",
   "execution_count": 19,
   "metadata": {
    "collapsed": false
   },
   "outputs": [
    {
     "data": {
      "text/plain": [
       "'Need to bypass pandas abc ordering of indicies.'"
      ]
     },
     "execution_count": 19,
     "metadata": {},
     "output_type": "execute_result"
    }
   ],
   "source": [
    "'''Need to bypass pandas abc ordering of indicies.'''"
   ]
  },
  {
   "cell_type": "markdown",
   "metadata": {},
   "source": [
    "Reset the parameters"
   ]
  },
  {
   "cell_type": "code",
   "execution_count": 20,
   "metadata": {
    "collapsed": true
   },
   "outputs": [],
   "source": [
    "mat_props2 = {'HA' : [5.3e10, 0.25],\n",
    "              'PSu' : [2.8e9, 0.33],            \n",
    "             }"
   ]
  },
  {
   "cell_type": "code",
   "execution_count": 21,
   "metadata": {
    "collapsed": false,
    "scrolled": true
   },
   "outputs": [
    {
     "data": {
      "text/html": [
       "<div>\n",
       "<table border=\"1\" class=\"dataframe\">\n",
       "  <thead>\n",
       "    <tr style=\"text-align: right;\">\n",
       "      <th></th>\n",
       "      <th>Modulus</th>\n",
       "      <th>Poissons</th>\n",
       "    </tr>\n",
       "    <tr>\n",
       "      <th>materials</th>\n",
       "      <th></th>\n",
       "      <th></th>\n",
       "    </tr>\n",
       "  </thead>\n",
       "  <tbody>\n",
       "    <tr>\n",
       "      <th>HA</th>\n",
       "      <td>5.3000e+10</td>\n",
       "      <td>0.25</td>\n",
       "    </tr>\n",
       "    <tr>\n",
       "      <th>PSu</th>\n",
       "      <td>2.8000e+09</td>\n",
       "      <td>0.33</td>\n",
       "    </tr>\n",
       "  </tbody>\n",
       "</table>\n",
       "</div>"
      ],
      "text/plain": [
       "              Modulus  Poissons\n",
       "materials                      \n",
       "HA         5.3000e+10      0.25\n",
       "PSu        2.8000e+09      0.33"
      ]
     },
     "execution_count": 21,
     "metadata": {},
     "output_type": "execute_result"
    }
   ],
   "source": [
    "case1 = la.distributions.Case(load_params, mat_props2) \n",
    "case1.properties"
   ]
  },
  {
   "cell_type": "markdown",
   "metadata": {},
   "source": [
    "## `apply()` Geometries and LaminateModels"
   ]
  },
  {
   "cell_type": "markdown",
   "metadata": {},
   "source": [
    "Construct a laminate using geometric, matrial paramaters and geometries."
   ]
  },
  {
   "cell_type": "code",
   "execution_count": 22,
   "metadata": {
    "collapsed": false
   },
   "outputs": [],
   "source": [
    "case2 = la.distributions.Case(load_params, mat_props) \n",
    "case2.apply(geos_full)                                     # default model Wilson_LT"
   ]
  },
  {
   "cell_type": "markdown",
   "metadata": {},
   "source": [
    "Access the user input geometries"
   ]
  },
  {
   "cell_type": "code",
   "execution_count": 23,
   "metadata": {
    "collapsed": false
   },
   "outputs": [
    {
     "data": {
      "text/plain": [
       "[Geometry object (0.0-[0.0]-2000.0),\n",
       " Geometry object (1000.0-[0.0]-0.0),\n",
       " Geometry object (600.0-[0.0]-800.0),\n",
       " Geometry object (500.0-[500.0]-0.0),\n",
       " Geometry object (400.0-[200.0]-800.0),\n",
       " Geometry object (400.0-[200.0]-400.0S),\n",
       " Geometry object (400.0-[200.0]-800.0),\n",
       " Geometry object (400.0-[100.0,100.0]-800.0),\n",
       " Geometry object (400.0-[100.0,100.0]-400.0S)]"
      ]
     },
     "execution_count": 23,
     "metadata": {},
     "output_type": "execute_result"
    }
   ],
   "source": [
    "case2.Geometries                                           # using an attribute, __repr__"
   ]
  },
  {
   "cell_type": "code",
   "execution_count": 24,
   "metadata": {
    "collapsed": false
   },
   "outputs": [
    {
     "name": "stdout",
     "output_type": "stream",
     "text": [
      "[Geometry object (0.0-[0.0]-2000.0), Geometry object (1000.0-[0.0]-0.0), Geometry object (600.0-[0.0]-800.0), Geometry object (500.0-[500.0]-0.0), Geometry object (400.0-[200.0]-800.0), Geometry object (400.0-[200.0]-400.0S), Geometry object (400.0-[200.0]-800.0), Geometry object (400.0-[100.0,100.0]-800.0), Geometry object (400.0-[100.0,100.0]-400.0S)]\n"
     ]
    }
   ],
   "source": [
    "print(case2.Geometries)                                    # uses __str__  "
   ]
  },
  {
   "cell_type": "code",
   "execution_count": 25,
   "metadata": {
    "collapsed": false
   },
   "outputs": [
    {
     "data": {
      "text/plain": [
       "Geometry object (0.0-[0.0]-2000.0)"
      ]
     },
     "execution_count": 25,
     "metadata": {},
     "output_type": "execute_result"
    }
   ],
   "source": [
    "case2.Geometries[0]                                        # indexing"
   ]
  },
  {
   "cell_type": "markdown",
   "metadata": {},
   "source": [
    "We can compare Geometry objects with builtin Python operators.  This process  directly compares GeometryTuples in the `Geometry` class."
   ]
  },
  {
   "cell_type": "code",
   "execution_count": 26,
   "metadata": {
    "collapsed": false
   },
   "outputs": [
    {
     "data": {
      "text/plain": [
       "True"
      ]
     },
     "execution_count": 26,
     "metadata": {},
     "output_type": "execute_result"
    }
   ],
   "source": [
    "bilayer = case2.Geometries[1]                              # (1000.0-[0.0]-0.0)       \n",
    "trilayer = case2.Geometries[2]                             # (600.0-[0.0]-800.0)        \n",
    "#bilayer == trilayer\n",
    "bilayer != trilayer"
   ]
  },
  {
   "cell_type": "markdown",
   "metadata": {},
   "source": [
    "Get all thicknesses for selected layers."
   ]
  },
  {
   "cell_type": "code",
   "execution_count": 27,
   "metadata": {
    "collapsed": false
   },
   "outputs": [
    {
     "data": {
      "text/plain": [
       "[2000.0, 0.0, 800.0, 0.0, 800.0, 400.0, 800.0, 800.0, 400.0]"
      ]
     },
     "execution_count": 27,
     "metadata": {},
     "output_type": "execute_result"
    }
   ],
   "source": [
    "case2.middle"
   ]
  },
  {
   "cell_type": "code",
   "execution_count": 28,
   "metadata": {
    "collapsed": false
   },
   "outputs": [
    {
     "data": {
      "text/plain": [
       "[[0.0],\n",
       " [0.0],\n",
       " [0.0],\n",
       " [500.0],\n",
       " [200.0],\n",
       " [200.0],\n",
       " [200.0],\n",
       " [100.0, 100.0],\n",
       " [100.0, 100.0]]"
      ]
     },
     "execution_count": 28,
     "metadata": {},
     "output_type": "execute_result"
    }
   ],
   "source": [
    "case2.inner"
   ]
  },
  {
   "cell_type": "code",
   "execution_count": 29,
   "metadata": {
    "collapsed": false
   },
   "outputs": [
    {
     "data": {
      "text/plain": [
       "[100.0, 100.0]"
      ]
     },
     "execution_count": 29,
     "metadata": {},
     "output_type": "execute_result"
    }
   ],
   "source": [
    "case2.inner[-1]"
   ]
  },
  {
   "cell_type": "code",
   "execution_count": 30,
   "metadata": {
    "collapsed": false
   },
   "outputs": [
    {
     "data": {
      "text/plain": [
       "100.0"
      ]
     },
     "execution_count": 30,
     "metadata": {},
     "output_type": "execute_result"
    }
   ],
   "source": [
    "case2.inner[-1][0]                                         # List indexing allowed  "
   ]
  },
  {
   "cell_type": "code",
   "execution_count": 31,
   "metadata": {
    "collapsed": false
   },
   "outputs": [
    {
     "data": {
      "text/plain": [
       "[0.0, 0.0, 0.0, 500.0, 200.0, 200.0, 200.0, 100.0, 100.0]"
      ]
     },
     "execution_count": 31,
     "metadata": {},
     "output_type": "execute_result"
    }
   ],
   "source": [
    "[first[0] for first in case2.inner]                        # iterate  "
   ]
  },
  {
   "cell_type": "code",
   "execution_count": 32,
   "metadata": {
    "collapsed": false
   },
   "outputs": [
    {
     "data": {
      "text/plain": [
       "[0.0, 1000.0, 600.0, 500.0, 400.0, 400.0, 400.0, 400.0, 400.0]"
      ]
     },
     "execution_count": 32,
     "metadata": {},
     "output_type": "execute_result"
    }
   ],
   "source": [
    "case2.outer"
   ]
  },
  {
   "cell_type": "markdown",
   "metadata": {},
   "source": [
    "A general and very important object is the LaminateModel."
   ]
  },
  {
   "cell_type": "code",
   "execution_count": 33,
   "metadata": {
    "collapsed": false
   },
   "outputs": [
    {
     "data": {
      "text/plain": [
       "[<lamana LaminateModel object (0.0-[0.0]-2000.0), p=5>,\n",
       " <lamana LaminateModel object (1000.0-[0.0]-0.0), p=5>,\n",
       " <lamana LaminateModel object (600.0-[0.0]-800.0), p=5>,\n",
       " <lamana LaminateModel object (500.0-[500.0]-0.0), p=5>,\n",
       " <lamana LaminateModel object (400.0-[200.0]-800.0), p=5>,\n",
       " <lamana LaminateModel object (400.0-[200.0]-400.0S), p=5>,\n",
       " <lamana LaminateModel object (400.0-[200.0]-800.0), p=5>,\n",
       " <lamana LaminateModel object (400.0-[100.0,100.0]-800.0), p=5>,\n",
       " <lamana LaminateModel object (400.0-[100.0,100.0]-400.0S), p=5>]"
      ]
     },
     "execution_count": 33,
     "metadata": {},
     "output_type": "execute_result"
    }
   ],
   "source": [
    "case2.LMs"
   ]
  },
  {
   "cell_type": "markdown",
   "metadata": {},
   "source": [
    "Sometimes might you want to throw in a bunch of geometry strings from different groups.  If there are repeated strings in different groups (set intersections), you can tell `Case` to only give a unique result. \n",
    "\n",
    "For instane, here we combine two groups of geometry strings, 5-plys and odd-plys.  Clearly these two groups overlap, and there are some repeated geometries (one with different conventions).  Using the `unique` keyword, Case only operates on a unique set of `Geometry` objects (independent of convention), resulting in a unique set of LaminateModels. "
   ]
  },
  {
   "cell_type": "code",
   "execution_count": 34,
   "metadata": {
    "collapsed": false
   },
   "outputs": [
    {
     "data": {
      "text/plain": [
       "['400-[200]-800',\n",
       " '350-400-500',\n",
       " '200-100-1400',\n",
       " '400-200-800',\n",
       " '350-400-500',\n",
       " '400.0-[100.0,100.0]-800.0']"
      ]
     },
     "execution_count": 34,
     "metadata": {},
     "output_type": "execute_result"
    }
   ],
   "source": [
    "fiveplys = ['400-[200]-800', '350-400-500', '200-100-1400']\n",
    "oddplys = ['400-200-800', '350-400-500', '400.0-[100.0,100.0]-800.0']\n",
    "mix = fiveplys + oddplys\n",
    "mix"
   ]
  },
  {
   "cell_type": "code",
   "execution_count": 35,
   "metadata": {
    "collapsed": false
   },
   "outputs": [
    {
     "data": {
      "text/plain": [
       "[<lamana LaminateModel object (400.0-[200.0]-800.0), p=5>,\n",
       " <lamana LaminateModel object (350.0-[400.0]-500.0), p=5>,\n",
       " <lamana LaminateModel object (200.0-[100.0]-1400.0), p=5>,\n",
       " <lamana LaminateModel object (400.0-[200.0]-800.0), p=5>,\n",
       " <lamana LaminateModel object (350.0-[400.0]-500.0), p=5>,\n",
       " <lamana LaminateModel object (400.0-[100.0,100.0]-800.0), p=5>]"
      ]
     },
     "execution_count": 35,
     "metadata": {},
     "output_type": "execute_result"
    }
   ],
   "source": [
    "# Non-unique, repeated 5-plys \n",
    "case_ = la.distributions.Case(load_params, mat_props) \n",
    "case_.apply(mix)\n",
    "case_.LMs"
   ]
  },
  {
   "cell_type": "code",
   "execution_count": 36,
   "metadata": {
    "collapsed": false
   },
   "outputs": [
    {
     "data": {
      "text/plain": [
       "[<lamana LaminateModel object (400.0-[200.0]-800.0), p=5>,\n",
       " <lamana LaminateModel object (350.0-[400.0]-500.0), p=5>,\n",
       " <lamana LaminateModel object (200.0-[100.0]-1400.0), p=5>,\n",
       " <lamana LaminateModel object (400.0-[100.0,100.0]-800.0), p=5>]"
      ]
     },
     "execution_count": 36,
     "metadata": {},
     "output_type": "execute_result"
    }
   ],
   "source": [
    "# Unique \n",
    "case_ = la.distributions.Case(load_params, mat_props) \n",
    "case_.apply(mix, unique=True)\n",
    "case_.LMs"
   ]
  },
  {
   "cell_type": "markdown",
   "metadata": {
    "collapsed": true
   },
   "source": [
    "## DataFrame Access"
   ]
  },
  {
   "cell_type": "markdown",
   "metadata": {},
   "source": [
    "You can get a quick view of the stack using the `snapshot` method.  This gives access to a `Construct` - a DataFrame converted stack."
   ]
  },
  {
   "cell_type": "code",
   "execution_count": 37,
   "metadata": {
    "collapsed": false
   },
   "outputs": [
    {
     "data": {
      "text/html": [
       "<div>\n",
       "<table border=\"1\" class=\"dataframe\">\n",
       "  <thead>\n",
       "    <tr style=\"text-align: right;\">\n",
       "      <th></th>\n",
       "      <th>layer</th>\n",
       "      <th>side</th>\n",
       "      <th>matl</th>\n",
       "      <th>type</th>\n",
       "      <th>t(um)</th>\n",
       "    </tr>\n",
       "  </thead>\n",
       "  <tbody>\n",
       "    <tr>\n",
       "      <th>0</th>\n",
       "      <td>1</td>\n",
       "      <td>Tens.</td>\n",
       "      <td>HA</td>\n",
       "      <td>outer</td>\n",
       "      <td>400.0</td>\n",
       "    </tr>\n",
       "    <tr>\n",
       "      <th>1</th>\n",
       "      <td>2</td>\n",
       "      <td>Tens.</td>\n",
       "      <td>PSu</td>\n",
       "      <td>inner</td>\n",
       "      <td>100.0</td>\n",
       "    </tr>\n",
       "    <tr>\n",
       "      <th>2</th>\n",
       "      <td>3</td>\n",
       "      <td>Tens.</td>\n",
       "      <td>HA</td>\n",
       "      <td>inner</td>\n",
       "      <td>100.0</td>\n",
       "    </tr>\n",
       "    <tr>\n",
       "      <th>3</th>\n",
       "      <td>4</td>\n",
       "      <td>INDET</td>\n",
       "      <td>PSu</td>\n",
       "      <td>middle</td>\n",
       "      <td>800.0</td>\n",
       "    </tr>\n",
       "    <tr>\n",
       "      <th>4</th>\n",
       "      <td>5</td>\n",
       "      <td>Comp.</td>\n",
       "      <td>HA</td>\n",
       "      <td>inner</td>\n",
       "      <td>100.0</td>\n",
       "    </tr>\n",
       "    <tr>\n",
       "      <th>5</th>\n",
       "      <td>6</td>\n",
       "      <td>Comp.</td>\n",
       "      <td>PSu</td>\n",
       "      <td>inner</td>\n",
       "      <td>100.0</td>\n",
       "    </tr>\n",
       "    <tr>\n",
       "      <th>6</th>\n",
       "      <td>7</td>\n",
       "      <td>Comp.</td>\n",
       "      <td>HA</td>\n",
       "      <td>outer</td>\n",
       "      <td>400.0</td>\n",
       "    </tr>\n",
       "  </tbody>\n",
       "</table>\n",
       "</div>"
      ],
      "text/plain": [
       "   layer   side matl    type  t(um)\n",
       "0      1  Tens.   HA   outer  400.0\n",
       "1      2  Tens.  PSu   inner  100.0\n",
       "2      3  Tens.   HA   inner  100.0\n",
       "3      4  INDET  PSu  middle  800.0\n",
       "4      5  Comp.   HA   inner  100.0\n",
       "5      6  Comp.  PSu   inner  100.0\n",
       "6      7  Comp.   HA   outer  400.0"
      ]
     },
     "execution_count": 37,
     "metadata": {},
     "output_type": "execute_result"
    }
   ],
   "source": [
    "case2.snapshots[-1]"
   ]
  },
  {
   "cell_type": "markdown",
   "metadata": {},
   "source": [
    "We can easily view entire laminate DataFrames using the `frames` attribute.  This gives access to `LaminateModels` (DataFrame) objects, which extends the stack view so that laminate theory is applied to each row."
   ]
  },
  {
   "cell_type": "code",
   "execution_count": 38,
   "metadata": {
    "collapsed": false
   },
   "outputs": [
    {
     "data": {
      "text/plain": [
       "'Consider head command for frames list'"
      ]
     },
     "execution_count": 38,
     "metadata": {},
     "output_type": "execute_result"
    }
   ],
   "source": [
    "'''Consider head command for frames list'''"
   ]
  },
  {
   "cell_type": "code",
   "execution_count": 39,
   "metadata": {
    "collapsed": false
   },
   "outputs": [],
   "source": [
    "#case2.frames"
   ]
  },
  {
   "cell_type": "code",
   "execution_count": 40,
   "metadata": {
    "collapsed": false
   },
   "outputs": [],
   "source": [
    "##with pd.set_option('display.max_columns', None):           # display all columns, within this context manager \n",
    "##    case2.frames[5]"
   ]
  },
  {
   "cell_type": "code",
   "execution_count": 41,
   "metadata": {
    "collapsed": false
   },
   "outputs": [
    {
     "data": {
      "text/html": [
       "<div>\n",
       "<table border=\"1\" class=\"dataframe\">\n",
       "  <thead>\n",
       "    <tr style=\"text-align: right;\">\n",
       "      <th></th>\n",
       "      <th>layer</th>\n",
       "      <th>side</th>\n",
       "      <th>type</th>\n",
       "      <th>matl</th>\n",
       "      <th>label</th>\n",
       "      <th>...</th>\n",
       "      <th>strain_r</th>\n",
       "      <th>strain_t</th>\n",
       "      <th>stress_r (Pa/N)</th>\n",
       "      <th>stress_t (Pa/N)</th>\n",
       "      <th>stress_f (MPa/N)</th>\n",
       "    </tr>\n",
       "  </thead>\n",
       "  <tbody>\n",
       "    <tr>\n",
       "      <th>0</th>\n",
       "      <td>1</td>\n",
       "      <td>Tens.</td>\n",
       "      <td>outer</td>\n",
       "      <td>HA</td>\n",
       "      <td>interface</td>\n",
       "      <td>...</td>\n",
       "      <td>3.4519e-06</td>\n",
       "      <td>5.9651e-06</td>\n",
       "      <td>274182.8243</td>\n",
       "      <td>378730.6630</td>\n",
       "      <td>0.3787</td>\n",
       "    </tr>\n",
       "    <tr>\n",
       "      <th>1</th>\n",
       "      <td>1</td>\n",
       "      <td>Tens.</td>\n",
       "      <td>outer</td>\n",
       "      <td>HA</td>\n",
       "      <td>internal</td>\n",
       "      <td>...</td>\n",
       "      <td>3.1067e-06</td>\n",
       "      <td>5.3686e-06</td>\n",
       "      <td>246764.5419</td>\n",
       "      <td>340857.5967</td>\n",
       "      <td>0.3409</td>\n",
       "    </tr>\n",
       "    <tr>\n",
       "      <th>2</th>\n",
       "      <td>1</td>\n",
       "      <td>Tens.</td>\n",
       "      <td>outer</td>\n",
       "      <td>HA</td>\n",
       "      <td>internal</td>\n",
       "      <td>...</td>\n",
       "      <td>2.7615e-06</td>\n",
       "      <td>4.7721e-06</td>\n",
       "      <td>219346.2594</td>\n",
       "      <td>302984.5304</td>\n",
       "      <td>0.3030</td>\n",
       "    </tr>\n",
       "    <tr>\n",
       "      <th>3</th>\n",
       "      <td>1</td>\n",
       "      <td>Tens.</td>\n",
       "      <td>outer</td>\n",
       "      <td>HA</td>\n",
       "      <td>internal</td>\n",
       "      <td>...</td>\n",
       "      <td>2.4163e-06</td>\n",
       "      <td>4.1756e-06</td>\n",
       "      <td>191927.9770</td>\n",
       "      <td>265111.4641</td>\n",
       "      <td>0.2651</td>\n",
       "    </tr>\n",
       "    <tr>\n",
       "      <th>4</th>\n",
       "      <td>1</td>\n",
       "      <td>Tens.</td>\n",
       "      <td>outer</td>\n",
       "      <td>HA</td>\n",
       "      <td>discont.</td>\n",
       "      <td>...</td>\n",
       "      <td>2.0712e-06</td>\n",
       "      <td>3.5791e-06</td>\n",
       "      <td>164509.6946</td>\n",
       "      <td>227238.3978</td>\n",
       "      <td>0.2272</td>\n",
       "    </tr>\n",
       "  </tbody>\n",
       "</table>\n",
       "<p>5 rows × 22 columns</p>\n",
       "</div>"
      ],
      "text/plain": [
       "   layer   side   type matl      label        ...           strain_r  \\\n",
       "0      1  Tens.  outer   HA  interface        ...         3.4519e-06   \n",
       "1      1  Tens.  outer   HA   internal        ...         3.1067e-06   \n",
       "2      1  Tens.  outer   HA   internal        ...         2.7615e-06   \n",
       "3      1  Tens.  outer   HA   internal        ...         2.4163e-06   \n",
       "4      1  Tens.  outer   HA   discont.        ...         2.0712e-06   \n",
       "\n",
       "     strain_t  stress_r (Pa/N)  stress_t (Pa/N)  stress_f (MPa/N)  \n",
       "0  5.9651e-06      274182.8243      378730.6630            0.3787  \n",
       "1  5.3686e-06      246764.5419      340857.5967            0.3409  \n",
       "2  4.7721e-06      219346.2594      302984.5304            0.3030  \n",
       "3  4.1756e-06      191927.9770      265111.4641            0.2651  \n",
       "4  3.5791e-06      164509.6946      227238.3978            0.2272  \n",
       "\n",
       "[5 rows x 22 columns]"
      ]
     },
     "execution_count": 41,
     "metadata": {},
     "output_type": "execute_result"
    }
   ],
   "source": [
    "case2.frames[5].head()"
   ]
  },
  {
   "cell_type": "code",
   "execution_count": 42,
   "metadata": {
    "collapsed": false
   },
   "outputs": [
    {
     "data": {
      "text/plain": [
       "'Extend laminate attributes'"
      ]
     },
     "execution_count": 42,
     "metadata": {},
     "output_type": "execute_result"
    }
   ],
   "source": [
    "'''Extend laminate attributes'''"
   ]
  },
  {
   "cell_type": "code",
   "execution_count": 43,
   "metadata": {
    "collapsed": false
   },
   "outputs": [],
   "source": [
    "case3 = la.distributions.Case(load_params, mat_props) \n",
    "case3.apply(geos_dissimilar)\n",
    "#case3.frames"
   ]
  },
  {
   "cell_type": "markdown",
   "metadata": {},
   "source": [
    "NOTE, for even plies, the material is set alternate for each layer.  Thus outers layers may be different materials."
   ]
  },
  {
   "cell_type": "code",
   "execution_count": 44,
   "metadata": {
    "collapsed": false
   },
   "outputs": [
    {
     "data": {
      "text/plain": [
       "''"
      ]
     },
     "execution_count": 44,
     "metadata": {},
     "output_type": "execute_result"
    }
   ],
   "source": [
    "case4 = la.distributions.Case(load_params, mat_props) \n",
    "case4.apply(['400-[100,100,100]-0'])\n",
    "case4.frames[0][['layer', 'matl', 'type']]\n",
    ";"
   ]
  },
  {
   "cell_type": "code",
   "execution_count": 45,
   "metadata": {
    "collapsed": false
   },
   "outputs": [
    {
     "data": {
      "text/plain": [
       "'Add functionality to customize material type.'"
      ]
     },
     "execution_count": 45,
     "metadata": {},
     "output_type": "execute_result"
    }
   ],
   "source": [
    "'''Add functionality to customize material type.'''"
   ]
  },
  {
   "cell_type": "markdown",
   "metadata": {},
   "source": [
    "### Totaling"
   ]
  },
  {
   "cell_type": "markdown",
   "metadata": {},
   "source": [
    "The `distributions.Case` class has useful properties available for totaling specific layers for a group of laminates as lists.  As these properties return lists, these results can be **sliced** and **iterated**."
   ]
  },
  {
   "cell_type": "code",
   "execution_count": 46,
   "metadata": {
    "collapsed": false
   },
   "outputs": [
    {
     "data": {
      "text/plain": [
       "'Show Geometry first then case use.'"
      ]
     },
     "execution_count": 46,
     "metadata": {},
     "output_type": "execute_result"
    }
   ],
   "source": [
    "'''Show Geometry first then case use.'''"
   ]
  },
  {
   "cell_type": "markdown",
   "metadata": {},
   "source": [
    "###### `.total` property"
   ]
  },
  {
   "cell_type": "code",
   "execution_count": 47,
   "metadata": {
    "collapsed": false
   },
   "outputs": [
    {
     "data": {
      "text/plain": [
       "[2000.0, 2000.0, 2000.0, 2000.0, 2000.0, 2000.0, 2000.0, 2000.0, 2000.0]"
      ]
     },
     "execution_count": 47,
     "metadata": {},
     "output_type": "execute_result"
    }
   ],
   "source": [
    "case2.total"
   ]
  },
  {
   "cell_type": "code",
   "execution_count": 48,
   "metadata": {
    "collapsed": false
   },
   "outputs": [
    {
     "data": {
      "text/plain": [
       "[2000.0, 0.0, 800.0, 0.0, 800.0, 800.0, 800.0, 800.0, 800.0]"
      ]
     },
     "execution_count": 48,
     "metadata": {},
     "output_type": "execute_result"
    }
   ],
   "source": [
    "case2.total_middle"
   ]
  },
  {
   "cell_type": "code",
   "execution_count": 49,
   "metadata": {
    "collapsed": false
   },
   "outputs": [
    {
     "data": {
      "text/plain": [
       "[2000.0, 0.0, 800.0, 0.0, 800.0, 800.0, 800.0, 800.0, 800.0]"
      ]
     },
     "execution_count": 49,
     "metadata": {},
     "output_type": "execute_result"
    }
   ],
   "source": [
    "case2.total_middle"
   ]
  },
  {
   "cell_type": "code",
   "execution_count": 50,
   "metadata": {
    "collapsed": false
   },
   "outputs": [
    {
     "data": {
      "text/plain": [
       "[[0.0],\n",
       " [0.0],\n",
       " [0.0],\n",
       " [1000.0],\n",
       " [400.0],\n",
       " [400.0],\n",
       " [400.0],\n",
       " [200.0, 200.0],\n",
       " [200.0, 200.0]]"
      ]
     },
     "execution_count": 50,
     "metadata": {},
     "output_type": "execute_result"
    }
   ],
   "source": [
    "case2.total_inner_i"
   ]
  },
  {
   "cell_type": "code",
   "execution_count": 51,
   "metadata": {
    "collapsed": false
   },
   "outputs": [
    {
     "data": {
      "text/plain": [
       "[0.0, 2000.0, 1200.0, 1000.0, 800.0, 800.0, 800.0, 800.0, 800.0]"
      ]
     },
     "execution_count": 51,
     "metadata": {},
     "output_type": "execute_result"
    }
   ],
   "source": [
    "case2.total_outer"
   ]
  },
  {
   "cell_type": "code",
   "execution_count": 52,
   "metadata": {
    "collapsed": false
   },
   "outputs": [
    {
     "data": {
      "text/plain": [
       "[800.0, 800.0, 800.0, 800.0]"
      ]
     },
     "execution_count": 52,
     "metadata": {},
     "output_type": "execute_result"
    }
   ],
   "source": [
    "case2.total_outer[4:-1]                                    # slicing   "
   ]
  },
  {
   "cell_type": "code",
   "execution_count": 53,
   "metadata": {
    "collapsed": false
   },
   "outputs": [
    {
     "data": {
      "text/plain": [
       "[0.0, 0.0, 0.0, 500.0, 200.0, 200.0, 200.0, 100.0, 100.0]"
      ]
     },
     "execution_count": 53,
     "metadata": {},
     "output_type": "execute_result"
    }
   ],
   "source": [
    "[inner_i[-1]/2.0 for inner_i in case2.total_inner_i]       # iterate                                                                               "
   ]
  },
  {
   "cell_type": "markdown",
   "metadata": {},
   "source": [
    "###### `Geometry` Totals"
   ]
  },
  {
   "cell_type": "markdown",
   "metadata": {},
   "source": [
    "The total attribute used in Case actually dervive from attributes for Geometry objects individually.  On Geometry objects, they return specific thicknesses instead of lists of thicknesses."
   ]
  },
  {
   "cell_type": "code",
   "execution_count": 54,
   "metadata": {
    "collapsed": false
   },
   "outputs": [
    {
     "data": {
      "text/plain": [
       "Geometry object (400.0-[100.0,100.0]-400.0S)"
      ]
     },
     "execution_count": 54,
     "metadata": {},
     "output_type": "execute_result"
    }
   ],
   "source": [
    "G1 = case2.Geometries[-1]\n",
    "G1"
   ]
  },
  {
   "cell_type": "code",
   "execution_count": 55,
   "metadata": {
    "collapsed": false
   },
   "outputs": [
    {
     "data": {
      "text/plain": [
       "2000.0"
      ]
     },
     "execution_count": 55,
     "metadata": {},
     "output_type": "execute_result"
    }
   ],
   "source": [
    "G1.total                                                   # laminate thickness (um)"
   ]
  },
  {
   "cell_type": "code",
   "execution_count": 56,
   "metadata": {
    "collapsed": false
   },
   "outputs": [
    {
     "data": {
      "text/plain": [
       "[200.0, 200.0]"
      ]
     },
     "execution_count": 56,
     "metadata": {},
     "output_type": "execute_result"
    }
   ],
   "source": [
    "G1.total_inner_i                                           # inner_i laminae"
   ]
  },
  {
   "cell_type": "code",
   "execution_count": 57,
   "metadata": {
    "collapsed": false
   },
   "outputs": [
    {
     "data": {
      "text/plain": [
       "200.0"
      ]
     },
     "execution_count": 57,
     "metadata": {},
     "output_type": "execute_result"
    }
   ],
   "source": [
    "G1.total_inner_i[0]                                        # inner_i lamina pair"
   ]
  },
  {
   "cell_type": "code",
   "execution_count": 58,
   "metadata": {
    "collapsed": false
   },
   "outputs": [
    {
     "data": {
      "text/plain": [
       "400.0"
      ]
     },
     "execution_count": 58,
     "metadata": {},
     "output_type": "execute_result"
    }
   ],
   "source": [
    "sum(G1.total_inner_i)                                      # inner total"
   ]
  },
  {
   "cell_type": "code",
   "execution_count": 59,
   "metadata": {
    "collapsed": false
   },
   "outputs": [
    {
     "data": {
      "text/plain": [
       "400.0"
      ]
     },
     "execution_count": 59,
     "metadata": {},
     "output_type": "execute_result"
    }
   ],
   "source": [
    "G1.total_inner                                             # inner total"
   ]
  },
  {
   "cell_type": "markdown",
   "metadata": {},
   "source": [
    "## `LaminateModel` Attributes"
   ]
  },
  {
   "cell_type": "markdown",
   "metadata": {},
   "source": [
    "Access the LaminateModel object directly using the `LMs` attribute."
   ]
  },
  {
   "cell_type": "code",
   "execution_count": 60,
   "metadata": {
    "collapsed": false
   },
   "outputs": [
    {
     "data": {
      "text/html": [
       "<div>\n",
       "<table border=\"1\" class=\"dataframe\">\n",
       "  <thead>\n",
       "    <tr style=\"text-align: right;\">\n",
       "      <th></th>\n",
       "      <th>layer</th>\n",
       "      <th>side</th>\n",
       "      <th>type</th>\n",
       "      <th>matl</th>\n",
       "      <th>label</th>\n",
       "      <th>...</th>\n",
       "      <th>strain_r</th>\n",
       "      <th>strain_t</th>\n",
       "      <th>stress_r (Pa/N)</th>\n",
       "      <th>stress_t (Pa/N)</th>\n",
       "      <th>stress_f (MPa/N)</th>\n",
       "    </tr>\n",
       "  </thead>\n",
       "  <tbody>\n",
       "    <tr>\n",
       "      <th>10</th>\n",
       "      <td>3</td>\n",
       "      <td>Tens.</td>\n",
       "      <td>middle</td>\n",
       "      <td>HA</td>\n",
       "      <td>interface</td>\n",
       "      <td>...</td>\n",
       "      <td>1.3808e-06</td>\n",
       "      <td>2.3860e-06</td>\n",
       "      <td>109673.1297</td>\n",
       "      <td>151492.2652</td>\n",
       "      <td>0.1515</td>\n",
       "    </tr>\n",
       "    <tr>\n",
       "      <th>11</th>\n",
       "      <td>3</td>\n",
       "      <td>Tens.</td>\n",
       "      <td>middle</td>\n",
       "      <td>HA</td>\n",
       "      <td>internal</td>\n",
       "      <td>...</td>\n",
       "      <td>6.9039e-07</td>\n",
       "      <td>1.1930e-06</td>\n",
       "      <td>54836.5649</td>\n",
       "      <td>75746.1326</td>\n",
       "      <td>0.0757</td>\n",
       "    </tr>\n",
       "    <tr>\n",
       "      <th>12</th>\n",
       "      <td>3</td>\n",
       "      <td>None</td>\n",
       "      <td>middle</td>\n",
       "      <td>HA</td>\n",
       "      <td>neut. axis</td>\n",
       "      <td>...</td>\n",
       "      <td>0.0000e+00</td>\n",
       "      <td>0.0000e+00</td>\n",
       "      <td>0.0000</td>\n",
       "      <td>0.0000</td>\n",
       "      <td>0.0000</td>\n",
       "    </tr>\n",
       "    <tr>\n",
       "      <th>13</th>\n",
       "      <td>3</td>\n",
       "      <td>Comp.</td>\n",
       "      <td>middle</td>\n",
       "      <td>HA</td>\n",
       "      <td>internal</td>\n",
       "      <td>...</td>\n",
       "      <td>-6.9039e-07</td>\n",
       "      <td>-1.1930e-06</td>\n",
       "      <td>-54836.5649</td>\n",
       "      <td>-75746.1326</td>\n",
       "      <td>-0.0757</td>\n",
       "    </tr>\n",
       "    <tr>\n",
       "      <th>14</th>\n",
       "      <td>3</td>\n",
       "      <td>Comp.</td>\n",
       "      <td>middle</td>\n",
       "      <td>HA</td>\n",
       "      <td>interface</td>\n",
       "      <td>...</td>\n",
       "      <td>-1.3808e-06</td>\n",
       "      <td>-2.3860e-06</td>\n",
       "      <td>-109673.1297</td>\n",
       "      <td>-151492.2652</td>\n",
       "      <td>-0.1515</td>\n",
       "    </tr>\n",
       "  </tbody>\n",
       "</table>\n",
       "<p>5 rows × 22 columns</p>\n",
       "</div>"
      ],
      "text/plain": [
       "    layer   side    type matl       label        ...           strain_r  \\\n",
       "10      3  Tens.  middle   HA   interface        ...         1.3808e-06   \n",
       "11      3  Tens.  middle   HA    internal        ...         6.9039e-07   \n",
       "12      3   None  middle   HA  neut. axis        ...         0.0000e+00   \n",
       "13      3  Comp.  middle   HA    internal        ...        -6.9039e-07   \n",
       "14      3  Comp.  middle   HA   interface        ...        -1.3808e-06   \n",
       "\n",
       "      strain_t  stress_r (Pa/N)  stress_t (Pa/N)  stress_f (MPa/N)  \n",
       "10  2.3860e-06      109673.1297      151492.2652            0.1515  \n",
       "11  1.1930e-06       54836.5649       75746.1326            0.0757  \n",
       "12  0.0000e+00           0.0000           0.0000            0.0000  \n",
       "13 -1.1930e-06      -54836.5649      -75746.1326           -0.0757  \n",
       "14 -2.3860e-06     -109673.1297     -151492.2652           -0.1515  \n",
       "\n",
       "[5 rows x 22 columns]"
      ]
     },
     "execution_count": 60,
     "metadata": {},
     "output_type": "execute_result"
    }
   ],
   "source": [
    "case2.LMs[5].Middle"
   ]
  },
  {
   "cell_type": "code",
   "execution_count": 61,
   "metadata": {
    "collapsed": false
   },
   "outputs": [
    {
     "data": {
      "text/html": [
       "<div>\n",
       "<table border=\"1\" class=\"dataframe\">\n",
       "  <thead>\n",
       "    <tr style=\"text-align: right;\">\n",
       "      <th></th>\n",
       "      <th>layer</th>\n",
       "      <th>side</th>\n",
       "      <th>type</th>\n",
       "      <th>matl</th>\n",
       "      <th>label</th>\n",
       "      <th>...</th>\n",
       "      <th>strain_r</th>\n",
       "      <th>strain_t</th>\n",
       "      <th>stress_r (Pa/N)</th>\n",
       "      <th>stress_t (Pa/N)</th>\n",
       "      <th>stress_f (MPa/N)</th>\n",
       "    </tr>\n",
       "  </thead>\n",
       "  <tbody>\n",
       "    <tr>\n",
       "      <th>5</th>\n",
       "      <td>2</td>\n",
       "      <td>Tens.</td>\n",
       "      <td>inner</td>\n",
       "      <td>PSu</td>\n",
       "      <td>interface</td>\n",
       "      <td>...</td>\n",
       "      <td>2.0712e-06</td>\n",
       "      <td>3.5791e-06</td>\n",
       "      <td>9854.1805</td>\n",
       "      <td>12915.3340</td>\n",
       "      <td>0.0129</td>\n",
       "    </tr>\n",
       "    <tr>\n",
       "      <th>6</th>\n",
       "      <td>2</td>\n",
       "      <td>Tens.</td>\n",
       "      <td>inner</td>\n",
       "      <td>PSu</td>\n",
       "      <td>internal</td>\n",
       "      <td>...</td>\n",
       "      <td>1.8986e-06</td>\n",
       "      <td>3.2808e-06</td>\n",
       "      <td>9032.9988</td>\n",
       "      <td>11839.0562</td>\n",
       "      <td>0.0118</td>\n",
       "    </tr>\n",
       "    <tr>\n",
       "      <th>7</th>\n",
       "      <td>2</td>\n",
       "      <td>Tens.</td>\n",
       "      <td>inner</td>\n",
       "      <td>PSu</td>\n",
       "      <td>internal</td>\n",
       "      <td>...</td>\n",
       "      <td>1.7260e-06</td>\n",
       "      <td>2.9825e-06</td>\n",
       "      <td>8211.8171</td>\n",
       "      <td>10762.7783</td>\n",
       "      <td>0.0108</td>\n",
       "    </tr>\n",
       "    <tr>\n",
       "      <th>8</th>\n",
       "      <td>2</td>\n",
       "      <td>Tens.</td>\n",
       "      <td>inner</td>\n",
       "      <td>PSu</td>\n",
       "      <td>internal</td>\n",
       "      <td>...</td>\n",
       "      <td>1.5534e-06</td>\n",
       "      <td>2.6843e-06</td>\n",
       "      <td>7390.6354</td>\n",
       "      <td>9686.5005</td>\n",
       "      <td>0.0097</td>\n",
       "    </tr>\n",
       "    <tr>\n",
       "      <th>9</th>\n",
       "      <td>2</td>\n",
       "      <td>Tens.</td>\n",
       "      <td>inner</td>\n",
       "      <td>PSu</td>\n",
       "      <td>discont.</td>\n",
       "      <td>...</td>\n",
       "      <td>1.3808e-06</td>\n",
       "      <td>2.3860e-06</td>\n",
       "      <td>6569.4537</td>\n",
       "      <td>8610.2227</td>\n",
       "      <td>0.0086</td>\n",
       "    </tr>\n",
       "    <tr>\n",
       "      <th>15</th>\n",
       "      <td>4</td>\n",
       "      <td>Comp.</td>\n",
       "      <td>inner</td>\n",
       "      <td>PSu</td>\n",
       "      <td>discont.</td>\n",
       "      <td>...</td>\n",
       "      <td>-1.3808e-06</td>\n",
       "      <td>-2.3860e-06</td>\n",
       "      <td>-6569.4537</td>\n",
       "      <td>-8610.2227</td>\n",
       "      <td>-0.0086</td>\n",
       "    </tr>\n",
       "    <tr>\n",
       "      <th>16</th>\n",
       "      <td>4</td>\n",
       "      <td>Comp.</td>\n",
       "      <td>inner</td>\n",
       "      <td>PSu</td>\n",
       "      <td>internal</td>\n",
       "      <td>...</td>\n",
       "      <td>-1.5534e-06</td>\n",
       "      <td>-2.6843e-06</td>\n",
       "      <td>-7390.6354</td>\n",
       "      <td>-9686.5005</td>\n",
       "      <td>-0.0097</td>\n",
       "    </tr>\n",
       "    <tr>\n",
       "      <th>17</th>\n",
       "      <td>4</td>\n",
       "      <td>Comp.</td>\n",
       "      <td>inner</td>\n",
       "      <td>PSu</td>\n",
       "      <td>internal</td>\n",
       "      <td>...</td>\n",
       "      <td>-1.7260e-06</td>\n",
       "      <td>-2.9825e-06</td>\n",
       "      <td>-8211.8171</td>\n",
       "      <td>-10762.7783</td>\n",
       "      <td>-0.0108</td>\n",
       "    </tr>\n",
       "    <tr>\n",
       "      <th>18</th>\n",
       "      <td>4</td>\n",
       "      <td>Comp.</td>\n",
       "      <td>inner</td>\n",
       "      <td>PSu</td>\n",
       "      <td>internal</td>\n",
       "      <td>...</td>\n",
       "      <td>-1.8986e-06</td>\n",
       "      <td>-3.2808e-06</td>\n",
       "      <td>-9032.9988</td>\n",
       "      <td>-11839.0562</td>\n",
       "      <td>-0.0118</td>\n",
       "    </tr>\n",
       "    <tr>\n",
       "      <th>19</th>\n",
       "      <td>4</td>\n",
       "      <td>Comp.</td>\n",
       "      <td>inner</td>\n",
       "      <td>PSu</td>\n",
       "      <td>interface</td>\n",
       "      <td>...</td>\n",
       "      <td>-2.0712e-06</td>\n",
       "      <td>-3.5791e-06</td>\n",
       "      <td>-9854.1805</td>\n",
       "      <td>-12915.3340</td>\n",
       "      <td>-0.0129</td>\n",
       "    </tr>\n",
       "  </tbody>\n",
       "</table>\n",
       "<p>10 rows × 22 columns</p>\n",
       "</div>"
      ],
      "text/plain": [
       "    layer   side   type matl      label        ...           strain_r  \\\n",
       "5       2  Tens.  inner  PSu  interface        ...         2.0712e-06   \n",
       "6       2  Tens.  inner  PSu   internal        ...         1.8986e-06   \n",
       "7       2  Tens.  inner  PSu   internal        ...         1.7260e-06   \n",
       "8       2  Tens.  inner  PSu   internal        ...         1.5534e-06   \n",
       "9       2  Tens.  inner  PSu   discont.        ...         1.3808e-06   \n",
       "15      4  Comp.  inner  PSu   discont.        ...        -1.3808e-06   \n",
       "16      4  Comp.  inner  PSu   internal        ...        -1.5534e-06   \n",
       "17      4  Comp.  inner  PSu   internal        ...        -1.7260e-06   \n",
       "18      4  Comp.  inner  PSu   internal        ...        -1.8986e-06   \n",
       "19      4  Comp.  inner  PSu  interface        ...        -2.0712e-06   \n",
       "\n",
       "      strain_t  stress_r (Pa/N)  stress_t (Pa/N)  stress_f (MPa/N)  \n",
       "5   3.5791e-06        9854.1805       12915.3340            0.0129  \n",
       "6   3.2808e-06        9032.9988       11839.0562            0.0118  \n",
       "7   2.9825e-06        8211.8171       10762.7783            0.0108  \n",
       "8   2.6843e-06        7390.6354        9686.5005            0.0097  \n",
       "9   2.3860e-06        6569.4537        8610.2227            0.0086  \n",
       "15 -2.3860e-06       -6569.4537       -8610.2227           -0.0086  \n",
       "16 -2.6843e-06       -7390.6354       -9686.5005           -0.0097  \n",
       "17 -2.9825e-06       -8211.8171      -10762.7783           -0.0108  \n",
       "18 -3.2808e-06       -9032.9988      -11839.0562           -0.0118  \n",
       "19 -3.5791e-06       -9854.1805      -12915.3340           -0.0129  \n",
       "\n",
       "[10 rows x 22 columns]"
      ]
     },
     "execution_count": 61,
     "metadata": {},
     "output_type": "execute_result"
    }
   ],
   "source": [
    "case2.LMs[5].Inner_i"
   ]
  },
  {
   "cell_type": "markdown",
   "metadata": {},
   "source": [
    "Laminates are assumed mirrored at the neutral axis, but dissimilar inner_i thicknesses are allowed."
   ]
  },
  {
   "cell_type": "code",
   "execution_count": 62,
   "metadata": {
    "collapsed": false
   },
   "outputs": [
    {
     "data": {
      "text/html": [
       "<div>\n",
       "<table border=\"1\" class=\"dataframe\">\n",
       "  <thead>\n",
       "    <tr style=\"text-align: right;\">\n",
       "      <th></th>\n",
       "      <th>layer</th>\n",
       "      <th>side</th>\n",
       "      <th>type</th>\n",
       "      <th>matl</th>\n",
       "      <th>label</th>\n",
       "      <th>...</th>\n",
       "      <th>strain_r</th>\n",
       "      <th>strain_t</th>\n",
       "      <th>stress_r (Pa/N)</th>\n",
       "      <th>stress_t (Pa/N)</th>\n",
       "      <th>stress_f (MPa/N)</th>\n",
       "    </tr>\n",
       "  </thead>\n",
       "  <tbody>\n",
       "    <tr>\n",
       "      <th>0</th>\n",
       "      <td>1</td>\n",
       "      <td>Tens.</td>\n",
       "      <td>outer</td>\n",
       "      <td>HA</td>\n",
       "      <td>interface</td>\n",
       "      <td>...</td>\n",
       "      <td>3.4519e-06</td>\n",
       "      <td>5.9651e-06</td>\n",
       "      <td>274182.8243</td>\n",
       "      <td>378730.6630</td>\n",
       "      <td>0.3787</td>\n",
       "    </tr>\n",
       "    <tr>\n",
       "      <th>1</th>\n",
       "      <td>1</td>\n",
       "      <td>Tens.</td>\n",
       "      <td>outer</td>\n",
       "      <td>HA</td>\n",
       "      <td>internal</td>\n",
       "      <td>...</td>\n",
       "      <td>3.1067e-06</td>\n",
       "      <td>5.3686e-06</td>\n",
       "      <td>246764.5419</td>\n",
       "      <td>340857.5967</td>\n",
       "      <td>0.3409</td>\n",
       "    </tr>\n",
       "    <tr>\n",
       "      <th>2</th>\n",
       "      <td>1</td>\n",
       "      <td>Tens.</td>\n",
       "      <td>outer</td>\n",
       "      <td>HA</td>\n",
       "      <td>internal</td>\n",
       "      <td>...</td>\n",
       "      <td>2.7615e-06</td>\n",
       "      <td>4.7721e-06</td>\n",
       "      <td>219346.2594</td>\n",
       "      <td>302984.5304</td>\n",
       "      <td>0.3030</td>\n",
       "    </tr>\n",
       "    <tr>\n",
       "      <th>3</th>\n",
       "      <td>1</td>\n",
       "      <td>Tens.</td>\n",
       "      <td>outer</td>\n",
       "      <td>HA</td>\n",
       "      <td>internal</td>\n",
       "      <td>...</td>\n",
       "      <td>2.4163e-06</td>\n",
       "      <td>4.1756e-06</td>\n",
       "      <td>191927.9770</td>\n",
       "      <td>265111.4641</td>\n",
       "      <td>0.2651</td>\n",
       "    </tr>\n",
       "    <tr>\n",
       "      <th>4</th>\n",
       "      <td>1</td>\n",
       "      <td>Tens.</td>\n",
       "      <td>outer</td>\n",
       "      <td>HA</td>\n",
       "      <td>discont.</td>\n",
       "      <td>...</td>\n",
       "      <td>2.0712e-06</td>\n",
       "      <td>3.5791e-06</td>\n",
       "      <td>164509.6946</td>\n",
       "      <td>227238.3978</td>\n",
       "      <td>0.2272</td>\n",
       "    </tr>\n",
       "    <tr>\n",
       "      <th>5</th>\n",
       "      <td>2</td>\n",
       "      <td>Tens.</td>\n",
       "      <td>inner</td>\n",
       "      <td>PSu</td>\n",
       "      <td>interface</td>\n",
       "      <td>...</td>\n",
       "      <td>2.0712e-06</td>\n",
       "      <td>3.5791e-06</td>\n",
       "      <td>9854.1805</td>\n",
       "      <td>12915.3340</td>\n",
       "      <td>0.0129</td>\n",
       "    </tr>\n",
       "    <tr>\n",
       "      <th>6</th>\n",
       "      <td>2</td>\n",
       "      <td>Tens.</td>\n",
       "      <td>inner</td>\n",
       "      <td>PSu</td>\n",
       "      <td>internal</td>\n",
       "      <td>...</td>\n",
       "      <td>1.8986e-06</td>\n",
       "      <td>3.2808e-06</td>\n",
       "      <td>9032.9988</td>\n",
       "      <td>11839.0562</td>\n",
       "      <td>0.0118</td>\n",
       "    </tr>\n",
       "    <tr>\n",
       "      <th>7</th>\n",
       "      <td>2</td>\n",
       "      <td>Tens.</td>\n",
       "      <td>inner</td>\n",
       "      <td>PSu</td>\n",
       "      <td>internal</td>\n",
       "      <td>...</td>\n",
       "      <td>1.7260e-06</td>\n",
       "      <td>2.9825e-06</td>\n",
       "      <td>8211.8171</td>\n",
       "      <td>10762.7783</td>\n",
       "      <td>0.0108</td>\n",
       "    </tr>\n",
       "    <tr>\n",
       "      <th>8</th>\n",
       "      <td>2</td>\n",
       "      <td>Tens.</td>\n",
       "      <td>inner</td>\n",
       "      <td>PSu</td>\n",
       "      <td>internal</td>\n",
       "      <td>...</td>\n",
       "      <td>1.5534e-06</td>\n",
       "      <td>2.6843e-06</td>\n",
       "      <td>7390.6354</td>\n",
       "      <td>9686.5005</td>\n",
       "      <td>0.0097</td>\n",
       "    </tr>\n",
       "    <tr>\n",
       "      <th>9</th>\n",
       "      <td>2</td>\n",
       "      <td>Tens.</td>\n",
       "      <td>inner</td>\n",
       "      <td>PSu</td>\n",
       "      <td>discont.</td>\n",
       "      <td>...</td>\n",
       "      <td>1.3808e-06</td>\n",
       "      <td>2.3860e-06</td>\n",
       "      <td>6569.4537</td>\n",
       "      <td>8610.2227</td>\n",
       "      <td>0.0086</td>\n",
       "    </tr>\n",
       "    <tr>\n",
       "      <th>10</th>\n",
       "      <td>3</td>\n",
       "      <td>Tens.</td>\n",
       "      <td>middle</td>\n",
       "      <td>HA</td>\n",
       "      <td>interface</td>\n",
       "      <td>...</td>\n",
       "      <td>1.3808e-06</td>\n",
       "      <td>2.3860e-06</td>\n",
       "      <td>109673.1297</td>\n",
       "      <td>151492.2652</td>\n",
       "      <td>0.1515</td>\n",
       "    </tr>\n",
       "    <tr>\n",
       "      <th>11</th>\n",
       "      <td>3</td>\n",
       "      <td>Tens.</td>\n",
       "      <td>middle</td>\n",
       "      <td>HA</td>\n",
       "      <td>internal</td>\n",
       "      <td>...</td>\n",
       "      <td>6.9039e-07</td>\n",
       "      <td>1.1930e-06</td>\n",
       "      <td>54836.5649</td>\n",
       "      <td>75746.1326</td>\n",
       "      <td>0.0757</td>\n",
       "    </tr>\n",
       "  </tbody>\n",
       "</table>\n",
       "<p>12 rows × 22 columns</p>\n",
       "</div>"
      ],
      "text/plain": [
       "    layer   side    type matl      label        ...           strain_r  \\\n",
       "0       1  Tens.   outer   HA  interface        ...         3.4519e-06   \n",
       "1       1  Tens.   outer   HA   internal        ...         3.1067e-06   \n",
       "2       1  Tens.   outer   HA   internal        ...         2.7615e-06   \n",
       "3       1  Tens.   outer   HA   internal        ...         2.4163e-06   \n",
       "4       1  Tens.   outer   HA   discont.        ...         2.0712e-06   \n",
       "5       2  Tens.   inner  PSu  interface        ...         2.0712e-06   \n",
       "6       2  Tens.   inner  PSu   internal        ...         1.8986e-06   \n",
       "7       2  Tens.   inner  PSu   internal        ...         1.7260e-06   \n",
       "8       2  Tens.   inner  PSu   internal        ...         1.5534e-06   \n",
       "9       2  Tens.   inner  PSu   discont.        ...         1.3808e-06   \n",
       "10      3  Tens.  middle   HA  interface        ...         1.3808e-06   \n",
       "11      3  Tens.  middle   HA   internal        ...         6.9039e-07   \n",
       "\n",
       "      strain_t  stress_r (Pa/N)  stress_t (Pa/N)  stress_f (MPa/N)  \n",
       "0   5.9651e-06      274182.8243      378730.6630            0.3787  \n",
       "1   5.3686e-06      246764.5419      340857.5967            0.3409  \n",
       "2   4.7721e-06      219346.2594      302984.5304            0.3030  \n",
       "3   4.1756e-06      191927.9770      265111.4641            0.2651  \n",
       "4   3.5791e-06      164509.6946      227238.3978            0.2272  \n",
       "5   3.5791e-06        9854.1805       12915.3340            0.0129  \n",
       "6   3.2808e-06        9032.9988       11839.0562            0.0118  \n",
       "7   2.9825e-06        8211.8171       10762.7783            0.0108  \n",
       "8   2.6843e-06        7390.6354        9686.5005            0.0097  \n",
       "9   2.3860e-06        6569.4537        8610.2227            0.0086  \n",
       "10  2.3860e-06      109673.1297      151492.2652            0.1515  \n",
       "11  1.1930e-06       54836.5649       75746.1326            0.0757  \n",
       "\n",
       "[12 rows x 22 columns]"
      ]
     },
     "execution_count": 62,
     "metadata": {},
     "output_type": "execute_result"
    }
   ],
   "source": [
    "case2.LMs[5].tensile"
   ]
  },
  {
   "cell_type": "markdown",
   "metadata": {
    "collapsed": true
   },
   "source": [
    "Separate from the case attributes, Laminates have useful attributes also, such as `nplies`, `p` and its own `total`."
   ]
  },
  {
   "cell_type": "code",
   "execution_count": 63,
   "metadata": {
    "collapsed": false,
    "scrolled": false
   },
   "outputs": [
    {
     "data": {
      "text/html": [
       "<div>\n",
       "<table border=\"1\" class=\"dataframe\">\n",
       "  <thead>\n",
       "    <tr style=\"text-align: right;\">\n",
       "      <th></th>\n",
       "      <th>layer</th>\n",
       "      <th>side</th>\n",
       "      <th>type</th>\n",
       "      <th>matl</th>\n",
       "      <th>label</th>\n",
       "      <th>...</th>\n",
       "      <th>strain_r</th>\n",
       "      <th>strain_t</th>\n",
       "      <th>stress_r (Pa/N)</th>\n",
       "      <th>stress_t (Pa/N)</th>\n",
       "      <th>stress_f (MPa/N)</th>\n",
       "    </tr>\n",
       "  </thead>\n",
       "  <tbody>\n",
       "    <tr>\n",
       "      <th>18</th>\n",
       "      <td>4</td>\n",
       "      <td>Comp.</td>\n",
       "      <td>inner</td>\n",
       "      <td>PSu</td>\n",
       "      <td>internal</td>\n",
       "      <td>...</td>\n",
       "      <td>-1.8986e-06</td>\n",
       "      <td>-3.2808e-06</td>\n",
       "      <td>-9032.9988</td>\n",
       "      <td>-11839.0562</td>\n",
       "      <td>-0.0118</td>\n",
       "    </tr>\n",
       "    <tr>\n",
       "      <th>19</th>\n",
       "      <td>4</td>\n",
       "      <td>Comp.</td>\n",
       "      <td>inner</td>\n",
       "      <td>PSu</td>\n",
       "      <td>interface</td>\n",
       "      <td>...</td>\n",
       "      <td>-2.0712e-06</td>\n",
       "      <td>-3.5791e-06</td>\n",
       "      <td>-9854.1805</td>\n",
       "      <td>-12915.3340</td>\n",
       "      <td>-0.0129</td>\n",
       "    </tr>\n",
       "    <tr>\n",
       "      <th>20</th>\n",
       "      <td>5</td>\n",
       "      <td>Comp.</td>\n",
       "      <td>outer</td>\n",
       "      <td>HA</td>\n",
       "      <td>discont.</td>\n",
       "      <td>...</td>\n",
       "      <td>-2.0712e-06</td>\n",
       "      <td>-3.5791e-06</td>\n",
       "      <td>-164509.6946</td>\n",
       "      <td>-227238.3978</td>\n",
       "      <td>-0.2272</td>\n",
       "    </tr>\n",
       "    <tr>\n",
       "      <th>21</th>\n",
       "      <td>5</td>\n",
       "      <td>Comp.</td>\n",
       "      <td>outer</td>\n",
       "      <td>HA</td>\n",
       "      <td>internal</td>\n",
       "      <td>...</td>\n",
       "      <td>-2.4163e-06</td>\n",
       "      <td>-4.1756e-06</td>\n",
       "      <td>-191927.9770</td>\n",
       "      <td>-265111.4641</td>\n",
       "      <td>-0.2651</td>\n",
       "    </tr>\n",
       "    <tr>\n",
       "      <th>22</th>\n",
       "      <td>5</td>\n",
       "      <td>Comp.</td>\n",
       "      <td>outer</td>\n",
       "      <td>HA</td>\n",
       "      <td>internal</td>\n",
       "      <td>...</td>\n",
       "      <td>-2.7615e-06</td>\n",
       "      <td>-4.7721e-06</td>\n",
       "      <td>-219346.2594</td>\n",
       "      <td>-302984.5304</td>\n",
       "      <td>-0.3030</td>\n",
       "    </tr>\n",
       "    <tr>\n",
       "      <th>23</th>\n",
       "      <td>5</td>\n",
       "      <td>Comp.</td>\n",
       "      <td>outer</td>\n",
       "      <td>HA</td>\n",
       "      <td>internal</td>\n",
       "      <td>...</td>\n",
       "      <td>-3.1067e-06</td>\n",
       "      <td>-5.3686e-06</td>\n",
       "      <td>-246764.5419</td>\n",
       "      <td>-340857.5967</td>\n",
       "      <td>-0.3409</td>\n",
       "    </tr>\n",
       "    <tr>\n",
       "      <th>24</th>\n",
       "      <td>5</td>\n",
       "      <td>Comp.</td>\n",
       "      <td>outer</td>\n",
       "      <td>HA</td>\n",
       "      <td>interface</td>\n",
       "      <td>...</td>\n",
       "      <td>-3.4519e-06</td>\n",
       "      <td>-5.9651e-06</td>\n",
       "      <td>-274182.8243</td>\n",
       "      <td>-378730.6630</td>\n",
       "      <td>-0.3787</td>\n",
       "    </tr>\n",
       "  </tbody>\n",
       "</table>\n",
       "<p>7 rows × 22 columns</p>\n",
       "</div>"
      ],
      "text/plain": [
       "    layer   side   type matl      label        ...           strain_r  \\\n",
       "18      4  Comp.  inner  PSu   internal        ...        -1.8986e-06   \n",
       "19      4  Comp.  inner  PSu  interface        ...        -2.0712e-06   \n",
       "20      5  Comp.  outer   HA   discont.        ...        -2.0712e-06   \n",
       "21      5  Comp.  outer   HA   internal        ...        -2.4163e-06   \n",
       "22      5  Comp.  outer   HA   internal        ...        -2.7615e-06   \n",
       "23      5  Comp.  outer   HA   internal        ...        -3.1067e-06   \n",
       "24      5  Comp.  outer   HA  interface        ...        -3.4519e-06   \n",
       "\n",
       "      strain_t  stress_r (Pa/N)  stress_t (Pa/N)  stress_f (MPa/N)  \n",
       "18 -3.2808e-06       -9032.9988      -11839.0562           -0.0118  \n",
       "19 -3.5791e-06       -9854.1805      -12915.3340           -0.0129  \n",
       "20 -3.5791e-06     -164509.6946     -227238.3978           -0.2272  \n",
       "21 -4.1756e-06     -191927.9770     -265111.4641           -0.2651  \n",
       "22 -4.7721e-06     -219346.2594     -302984.5304           -0.3030  \n",
       "23 -5.3686e-06     -246764.5419     -340857.5967           -0.3409  \n",
       "24 -5.9651e-06     -274182.8243     -378730.6630           -0.3787  \n",
       "\n",
       "[7 rows x 22 columns]"
      ]
     },
     "execution_count": 63,
     "metadata": {},
     "output_type": "execute_result"
    }
   ],
   "source": [
    "LM = case2.LMs[4]\n",
    "LM.LMFrame.tail(7)"
   ]
  },
  {
   "cell_type": "markdown",
   "metadata": {},
   "source": [
    "Often the extreme stress values (those at the interfaces) are most important.  This is equivalent to p=2."
   ]
  },
  {
   "cell_type": "code",
   "execution_count": 64,
   "metadata": {
    "collapsed": false,
    "scrolled": true
   },
   "outputs": [
    {
     "data": {
      "text/html": [
       "<div>\n",
       "<table border=\"1\" class=\"dataframe\">\n",
       "  <thead>\n",
       "    <tr style=\"text-align: right;\">\n",
       "      <th></th>\n",
       "      <th>layer</th>\n",
       "      <th>side</th>\n",
       "      <th>type</th>\n",
       "      <th>matl</th>\n",
       "      <th>label</th>\n",
       "      <th>...</th>\n",
       "      <th>strain_r</th>\n",
       "      <th>strain_t</th>\n",
       "      <th>stress_r (Pa/N)</th>\n",
       "      <th>stress_t (Pa/N)</th>\n",
       "      <th>stress_f (MPa/N)</th>\n",
       "    </tr>\n",
       "  </thead>\n",
       "  <tbody>\n",
       "    <tr>\n",
       "      <th>0</th>\n",
       "      <td>1</td>\n",
       "      <td>Tens.</td>\n",
       "      <td>outer</td>\n",
       "      <td>HA</td>\n",
       "      <td>interface</td>\n",
       "      <td>...</td>\n",
       "      <td>3.4519e-06</td>\n",
       "      <td>5.9651e-06</td>\n",
       "      <td>274182.8243</td>\n",
       "      <td>378730.6630</td>\n",
       "      <td>0.3787</td>\n",
       "    </tr>\n",
       "    <tr>\n",
       "      <th>4</th>\n",
       "      <td>1</td>\n",
       "      <td>Tens.</td>\n",
       "      <td>outer</td>\n",
       "      <td>HA</td>\n",
       "      <td>discont.</td>\n",
       "      <td>...</td>\n",
       "      <td>2.0712e-06</td>\n",
       "      <td>3.5791e-06</td>\n",
       "      <td>164509.6946</td>\n",
       "      <td>227238.3978</td>\n",
       "      <td>0.2272</td>\n",
       "    </tr>\n",
       "    <tr>\n",
       "      <th>5</th>\n",
       "      <td>2</td>\n",
       "      <td>Tens.</td>\n",
       "      <td>inner</td>\n",
       "      <td>PSu</td>\n",
       "      <td>interface</td>\n",
       "      <td>...</td>\n",
       "      <td>2.0712e-06</td>\n",
       "      <td>3.5791e-06</td>\n",
       "      <td>9854.1805</td>\n",
       "      <td>12915.3340</td>\n",
       "      <td>0.0129</td>\n",
       "    </tr>\n",
       "    <tr>\n",
       "      <th>9</th>\n",
       "      <td>2</td>\n",
       "      <td>Tens.</td>\n",
       "      <td>inner</td>\n",
       "      <td>PSu</td>\n",
       "      <td>discont.</td>\n",
       "      <td>...</td>\n",
       "      <td>1.3808e-06</td>\n",
       "      <td>2.3860e-06</td>\n",
       "      <td>6569.4537</td>\n",
       "      <td>8610.2227</td>\n",
       "      <td>0.0086</td>\n",
       "    </tr>\n",
       "    <tr>\n",
       "      <th>10</th>\n",
       "      <td>3</td>\n",
       "      <td>Tens.</td>\n",
       "      <td>middle</td>\n",
       "      <td>HA</td>\n",
       "      <td>interface</td>\n",
       "      <td>...</td>\n",
       "      <td>1.3808e-06</td>\n",
       "      <td>2.3860e-06</td>\n",
       "      <td>109673.1297</td>\n",
       "      <td>151492.2652</td>\n",
       "      <td>0.1515</td>\n",
       "    </tr>\n",
       "    <tr>\n",
       "      <th>14</th>\n",
       "      <td>3</td>\n",
       "      <td>Comp.</td>\n",
       "      <td>middle</td>\n",
       "      <td>HA</td>\n",
       "      <td>interface</td>\n",
       "      <td>...</td>\n",
       "      <td>-1.3808e-06</td>\n",
       "      <td>-2.3860e-06</td>\n",
       "      <td>-109673.1297</td>\n",
       "      <td>-151492.2652</td>\n",
       "      <td>-0.1515</td>\n",
       "    </tr>\n",
       "    <tr>\n",
       "      <th>15</th>\n",
       "      <td>4</td>\n",
       "      <td>Comp.</td>\n",
       "      <td>inner</td>\n",
       "      <td>PSu</td>\n",
       "      <td>discont.</td>\n",
       "      <td>...</td>\n",
       "      <td>-1.3808e-06</td>\n",
       "      <td>-2.3860e-06</td>\n",
       "      <td>-6569.4537</td>\n",
       "      <td>-8610.2227</td>\n",
       "      <td>-0.0086</td>\n",
       "    </tr>\n",
       "    <tr>\n",
       "      <th>19</th>\n",
       "      <td>4</td>\n",
       "      <td>Comp.</td>\n",
       "      <td>inner</td>\n",
       "      <td>PSu</td>\n",
       "      <td>interface</td>\n",
       "      <td>...</td>\n",
       "      <td>-2.0712e-06</td>\n",
       "      <td>-3.5791e-06</td>\n",
       "      <td>-9854.1805</td>\n",
       "      <td>-12915.3340</td>\n",
       "      <td>-0.0129</td>\n",
       "    </tr>\n",
       "    <tr>\n",
       "      <th>20</th>\n",
       "      <td>5</td>\n",
       "      <td>Comp.</td>\n",
       "      <td>outer</td>\n",
       "      <td>HA</td>\n",
       "      <td>discont.</td>\n",
       "      <td>...</td>\n",
       "      <td>-2.0712e-06</td>\n",
       "      <td>-3.5791e-06</td>\n",
       "      <td>-164509.6946</td>\n",
       "      <td>-227238.3978</td>\n",
       "      <td>-0.2272</td>\n",
       "    </tr>\n",
       "    <tr>\n",
       "      <th>24</th>\n",
       "      <td>5</td>\n",
       "      <td>Comp.</td>\n",
       "      <td>outer</td>\n",
       "      <td>HA</td>\n",
       "      <td>interface</td>\n",
       "      <td>...</td>\n",
       "      <td>-3.4519e-06</td>\n",
       "      <td>-5.9651e-06</td>\n",
       "      <td>-274182.8243</td>\n",
       "      <td>-378730.6630</td>\n",
       "      <td>-0.3787</td>\n",
       "    </tr>\n",
       "  </tbody>\n",
       "</table>\n",
       "<p>10 rows × 22 columns</p>\n",
       "</div>"
      ],
      "text/plain": [
       "    layer   side    type matl      label        ...           strain_r  \\\n",
       "0       1  Tens.   outer   HA  interface        ...         3.4519e-06   \n",
       "4       1  Tens.   outer   HA   discont.        ...         2.0712e-06   \n",
       "5       2  Tens.   inner  PSu  interface        ...         2.0712e-06   \n",
       "9       2  Tens.   inner  PSu   discont.        ...         1.3808e-06   \n",
       "10      3  Tens.  middle   HA  interface        ...         1.3808e-06   \n",
       "14      3  Comp.  middle   HA  interface        ...        -1.3808e-06   \n",
       "15      4  Comp.   inner  PSu   discont.        ...        -1.3808e-06   \n",
       "19      4  Comp.   inner  PSu  interface        ...        -2.0712e-06   \n",
       "20      5  Comp.   outer   HA   discont.        ...        -2.0712e-06   \n",
       "24      5  Comp.   outer   HA  interface        ...        -3.4519e-06   \n",
       "\n",
       "      strain_t  stress_r (Pa/N)  stress_t (Pa/N)  stress_f (MPa/N)  \n",
       "0   5.9651e-06      274182.8243      378730.6630            0.3787  \n",
       "4   3.5791e-06      164509.6946      227238.3978            0.2272  \n",
       "5   3.5791e-06        9854.1805       12915.3340            0.0129  \n",
       "9   2.3860e-06        6569.4537        8610.2227            0.0086  \n",
       "10  2.3860e-06      109673.1297      151492.2652            0.1515  \n",
       "14 -2.3860e-06     -109673.1297     -151492.2652           -0.1515  \n",
       "15 -2.3860e-06       -6569.4537       -8610.2227           -0.0086  \n",
       "19 -3.5791e-06       -9854.1805      -12915.3340           -0.0129  \n",
       "20 -3.5791e-06     -164509.6946     -227238.3978           -0.2272  \n",
       "24 -5.9651e-06     -274182.8243     -378730.6630           -0.3787  \n",
       "\n",
       "[10 rows x 22 columns]"
      ]
     },
     "execution_count": 64,
     "metadata": {},
     "output_type": "execute_result"
    }
   ],
   "source": [
    "LM.extrema"
   ]
  },
  {
   "cell_type": "code",
   "execution_count": 65,
   "metadata": {
    "collapsed": false
   },
   "outputs": [
    {
     "data": {
      "text/plain": [
       "5"
      ]
     },
     "execution_count": 65,
     "metadata": {},
     "output_type": "execute_result"
    }
   ],
   "source": [
    "LM.p                                                       # number of rows per group"
   ]
  },
  {
   "cell_type": "code",
   "execution_count": 66,
   "metadata": {
    "collapsed": false
   },
   "outputs": [
    {
     "data": {
      "text/plain": [
       "5"
      ]
     },
     "execution_count": 66,
     "metadata": {},
     "output_type": "execute_result"
    }
   ],
   "source": [
    "LM.nplies                                                  # number of plies"
   ]
  },
  {
   "cell_type": "code",
   "execution_count": 67,
   "metadata": {
    "collapsed": false
   },
   "outputs": [
    {
     "data": {
      "text/plain": [
       "0.002"
      ]
     },
     "execution_count": 67,
     "metadata": {},
     "output_type": "execute_result"
    }
   ],
   "source": [
    "LM.total                                                   # total laminate thickness (m)"
   ]
  },
  {
   "cell_type": "code",
   "execution_count": 68,
   "metadata": {
    "collapsed": false
   },
   "outputs": [
    {
     "data": {
      "text/plain": [
       "Geometry object (400.0-[200.0]-800.0)"
      ]
     },
     "execution_count": 68,
     "metadata": {},
     "output_type": "execute_result"
    }
   ],
   "source": [
    "LM.Geometry"
   ]
  },
  {
   "cell_type": "code",
   "execution_count": 69,
   "metadata": {
    "collapsed": false
   },
   "outputs": [
    {
     "data": {
      "text/plain": [
       "'Overload the min and max special methods.'"
      ]
     },
     "execution_count": 69,
     "metadata": {},
     "output_type": "execute_result"
    }
   ],
   "source": [
    "'''Overload the min and max special methods.'''"
   ]
  },
  {
   "cell_type": "code",
   "execution_count": 70,
   "metadata": {
    "collapsed": false
   },
   "outputs": [
    {
     "data": {
      "text/plain": [
       "0     0.3787\n",
       "5     0.0129\n",
       "10    0.1515\n",
       "14   -0.1515\n",
       "19   -0.0129\n",
       "24   -0.3787\n",
       "Name: stress_f (MPa/N), dtype: float64"
      ]
     },
     "execution_count": 70,
     "metadata": {},
     "output_type": "execute_result"
    }
   ],
   "source": [
    "LM.max_stress                                             # max interfacial failure stress"
   ]
  },
  {
   "cell_type": "markdown",
   "metadata": {},
   "source": [
    "NOTE: this feature gives a different result for p=1 since a single middle cannot report two interfacial values; INDET."
   ]
  },
  {
   "cell_type": "code",
   "execution_count": 71,
   "metadata": {
    "collapsed": false
   },
   "outputs": [
    {
     "data": {
      "text/plain": [
       "4     0.2272\n",
       "9     0.0086\n",
       "15   -0.0086\n",
       "20   -0.2272\n",
       "Name: stress_f (MPa/N), dtype: float64"
      ]
     },
     "execution_count": 71,
     "metadata": {},
     "output_type": "execute_result"
    }
   ],
   "source": [
    "LM.min_stress "
   ]
  },
  {
   "cell_type": "code",
   "execution_count": 72,
   "metadata": {
    "collapsed": false
   },
   "outputs": [
    {
     "data": {
      "text/plain": [
       "'Redo tp return series of bool an index for has_attrs'"
      ]
     },
     "execution_count": 72,
     "metadata": {},
     "output_type": "execute_result"
    }
   ],
   "source": [
    "'''Redo tp return series of bool an index for has_attrs'''"
   ]
  },
  {
   "cell_type": "code",
   "execution_count": 73,
   "metadata": {
    "collapsed": false
   },
   "outputs": [
    {
     "data": {
      "text/plain": [
       "0     False\n",
       "1     False\n",
       "2     False\n",
       "3     False\n",
       "4     False\n",
       "5     False\n",
       "6     False\n",
       "7     False\n",
       "8     False\n",
       "9     False\n",
       "10    False\n",
       "11    False\n",
       "12     True\n",
       "13    False\n",
       "14    False\n",
       "15    False\n",
       "16    False\n",
       "17    False\n",
       "18    False\n",
       "19    False\n",
       "20    False\n",
       "21    False\n",
       "22    False\n",
       "23    False\n",
       "24    False\n",
       "Name: label, dtype: bool"
      ]
     },
     "execution_count": 73,
     "metadata": {},
     "output_type": "execute_result"
    }
   ],
   "source": [
    "LM.has_neutaxis"
   ]
  },
  {
   "cell_type": "code",
   "execution_count": 74,
   "metadata": {
    "collapsed": false
   },
   "outputs": [
    {
     "data": {
      "text/plain": [
       "0     False\n",
       "1     False\n",
       "2     False\n",
       "3     False\n",
       "4      True\n",
       "5     False\n",
       "6     False\n",
       "7     False\n",
       "8     False\n",
       "9      True\n",
       "10    False\n",
       "11    False\n",
       "12    False\n",
       "13    False\n",
       "14    False\n",
       "15     True\n",
       "16    False\n",
       "17    False\n",
       "18    False\n",
       "19    False\n",
       "20     True\n",
       "21    False\n",
       "22    False\n",
       "23    False\n",
       "24    False\n",
       "Name: label, dtype: bool"
      ]
     },
     "execution_count": 74,
     "metadata": {},
     "output_type": "execute_result"
    }
   ],
   "source": [
    "LM.has_discont"
   ]
  },
  {
   "cell_type": "code",
   "execution_count": 75,
   "metadata": {
    "collapsed": false
   },
   "outputs": [
    {
     "data": {
      "text/plain": [
       "False"
      ]
     },
     "execution_count": 75,
     "metadata": {},
     "output_type": "execute_result"
    }
   ],
   "source": [
    "LM.is_special"
   ]
  },
  {
   "cell_type": "code",
   "execution_count": 76,
   "metadata": {
    "collapsed": false
   },
   "outputs": [
    {
     "data": {
      "text/plain": [
       "{'Geometry': Geometry object (400.0-[200.0]-800.0),\n",
       " 'Globals': {'D_11T': 31.664191802890315,\n",
       "  'D_11p': 0.033700807714524279,\n",
       "  'D_12T': 7.9406108505093584,\n",
       "  'D_12n': -0.0084513446948124519,\n",
       "  'K_r': 0.0034519261262397653,\n",
       "  'K_t:': 0.0059650953251038216,\n",
       "  'M_r': 0.15666895161350616,\n",
       "  'M_t': 0.216290324549788,\n",
       "  'v_eq ': 0.25077573114575868},\n",
       " 'Materials': ['HA', 'PSu'],\n",
       " 'Model': 'Wilson_LT',\n",
       " 'Parameters': {'P_a': 1, 'R': 0.012, 'a': 0.0075, 'p': 5, 'r': 0.0002},\n",
       " 'Properties': defaultdict(dict,\n",
       "             {'Modulus': {'HA': 52000000000.0, 'PSu': 2700000000.0},\n",
       "              'Poissons': {'HA': 0.25, 'PSu': 0.33}})}"
      ]
     },
     "execution_count": 76,
     "metadata": {},
     "output_type": "execute_result"
    }
   ],
   "source": [
    "LM.FeatureInput"
   ]
  },
  {
   "cell_type": "code",
   "execution_count": 77,
   "metadata": {
    "collapsed": false
   },
   "outputs": [
    {
     "data": {
      "text/plain": [
       "'Need to fix FeatureInput and Geometry inside LaminateModel'"
      ]
     },
     "execution_count": 77,
     "metadata": {},
     "output_type": "execute_result"
    }
   ],
   "source": [
    "'''Need to fix FeatureInput and Geometry inside LaminateModel'''"
   ]
  },
  {
   "cell_type": "markdown",
   "metadata": {},
   "source": [
    "As with Geometry objects, we can compare LaminateModel objects also.  ~~This process directly compares two defining components of a LaminateModel object: the LM DataFrame (`LMFrame`) and FeatureInput.  If either is False, the equality returns `False`.~~"
   ]
  },
  {
   "cell_type": "code",
   "execution_count": 78,
   "metadata": {
    "collapsed": false
   },
   "outputs": [],
   "source": [
    "case2 = la.distributions.Case(load_params, mat_props) \n",
    "case2.apply(geos_full) "
   ]
  },
  {
   "cell_type": "code",
   "execution_count": 79,
   "metadata": {
    "collapsed": false
   },
   "outputs": [
    {
     "data": {
      "text/plain": [
       "True"
      ]
     },
     "execution_count": 79,
     "metadata": {},
     "output_type": "execute_result"
    }
   ],
   "source": [
    "bilayer_LM = case2.LMs[1]\n",
    "trilayer_LM = case2.LMs[2]\n",
    "trilayer_LM == trilayer_LM\n",
    "#bilayer_LM == trilayer_LM"
   ]
  },
  {
   "cell_type": "code",
   "execution_count": 80,
   "metadata": {
    "collapsed": false
   },
   "outputs": [
    {
     "data": {
      "text/plain": [
       "True"
      ]
     },
     "execution_count": 80,
     "metadata": {},
     "output_type": "execute_result"
    }
   ],
   "source": [
    "bilayer_LM != trilayer_LM"
   ]
  },
  {
   "cell_type": "markdown",
   "metadata": {},
   "source": [
    "Use python and pandas native comparison tracebacks that to understand the errors directly by comparing FeatureInput dict and LaminateModel DataFrame."
   ]
  },
  {
   "cell_type": "code",
   "execution_count": 81,
   "metadata": {
    "collapsed": false
   },
   "outputs": [],
   "source": [
    "#bilayer_LM.FeatureInput == trilayer_LM.FeatureInput    # gives detailed traceback"
   ]
  },
  {
   "cell_type": "code",
   "execution_count": 82,
   "metadata": {
    "collapsed": false
   },
   "outputs": [
    {
     "data": {
      "text/plain": [
       "'Fix FI DataFrame with dict.'"
      ]
     },
     "execution_count": 82,
     "metadata": {},
     "output_type": "execute_result"
    }
   ],
   "source": [
    "'''Fix FI DataFrame with dict.'''"
   ]
  },
  {
   "cell_type": "code",
   "execution_count": 83,
   "metadata": {
    "collapsed": false
   },
   "outputs": [
    {
     "data": {
      "text/plain": [
       "{'Geometry': Geometry object (1000.0-[0.0]-0.0),\n",
       " 'Globals': {'D_11T': 19.498876544595319,\n",
       "  'D_11p': 0.054826177209184083,\n",
       "  'D_12T': 4.9555181486053437,\n",
       "  'D_12n': -0.013933731800259629,\n",
       "  'K_r': 0.0055968142719747937,\n",
       "  'K_t:': 0.009677945375294943,\n",
       "  'M_r': 0.15709082448075087,\n",
       "  'M_t': 0.21644417677735781,\n",
       "  'v_eq ': 0.25414377783621128},\n",
       " 'Materials': ['HA', 'PSu'],\n",
       " 'Model': 'Wilson_LT',\n",
       " 'Parameters': {'P_a': 1, 'R': 0.012, 'a': 0.0075, 'p': 5, 'r': 0.0002},\n",
       " 'Properties': defaultdict(dict,\n",
       "             {'Modulus': {'HA': 52000000000.0, 'PSu': 2700000000.0},\n",
       "              'Poissons': {'HA': 0.25, 'PSu': 0.33}})}"
      ]
     },
     "execution_count": 83,
     "metadata": {},
     "output_type": "execute_result"
    }
   ],
   "source": [
    "bilayer_LM.FeatureInput"
   ]
  },
  {
   "cell_type": "code",
   "execution_count": 84,
   "metadata": {
    "collapsed": false
   },
   "outputs": [],
   "source": [
    "#bilayer_LM.LMFrame == trilayer_LM.LMFrame                # gives detailed traceback"
   ]
  },
  {
   "cell_type": "markdown",
   "metadata": {
    "collapsed": true
   },
   "source": [
    "## `plot()` LT Geometries"
   ]
  },
  {
   "cell_type": "markdown",
   "metadata": {},
   "source": [
    "CAVEAT: it is recommended to use at least p=2 for calculating stress. Less than two points for odd plies is indeterminant in middle rows, which can raise exceptions."
   ]
  },
  {
   "cell_type": "code",
   "execution_count": 85,
   "metadata": {
    "collapsed": false
   },
   "outputs": [
    {
     "data": {
      "text/plain": [
       "'Find a way to remove all but interfacial points.'"
      ]
     },
     "execution_count": 85,
     "metadata": {},
     "output_type": "execute_result"
    }
   ],
   "source": [
    "'''Find a way to remove all but interfacial points.'''"
   ]
  },
  {
   "cell_type": "markdown",
   "metadata": {},
   "source": [
    "We try to quickly plot simple stress distriubtions with native pandas methods. We have two variants for displaying distributions:\n",
    "\n",
    "    - Unnoormalized: plotted by the height (`d_`). Visaully: thicknesses vary, material slopes are constant. \n",
    "    - Normalized: plotted by the relative fraction level (`k_`). Visually: thicknesses are constant, material slopes vary.\n",
    "    \n",
    "Here we plot with the nbagg matplotlib backend to generatre interactive figures.  NOTE: for Normalized plots, slope can vary for a given material. "
   ]
  },
  {
   "cell_type": "code",
   "execution_count": 86,
   "metadata": {
    "collapsed": false
   },
   "outputs": [
    {
     "data": {
      "text/plain": [
       "<matplotlib.axes._subplots.AxesSubplot at 0x20227e7d908>"
      ]
     },
     "execution_count": 86,
     "metadata": {},
     "output_type": "execute_result"
    },
    {
     "data": {
      "image/png": "[encoded data removed]",
      "text/plain": [
       "<matplotlib.figure.Figure at 0x2022697c4e0>"
      ]
     },
     "metadata": {},
     "output_type": "display_data"
    },
    {
     "data": {
      "image/png": "[encoded data removed]",
      "text/plain": [
       "<matplotlib.figure.Figure at 0x20227ea15f8>"
      ]
     },
     "metadata": {},
     "output_type": "display_data"
    }
   ],
   "source": [
    "from lamana.utils import tools as ut\n",
    "from lamana.models import Wilson_LT as wlt\n",
    "\n",
    "dft = wlt.Defaults()\n",
    "#%matplotlib nbagg\n",
    "\n",
    "# Quick plotting\n",
    "case4 = ut.laminator(dft.geos_standard)\n",
    "for case in case4.values():\n",
    "    for LM in case.LMs:\n",
    "        df = LM.LMFrame\n",
    "        \n",
    "df.plot(x='stress_f (MPa/N)', y='d(m)', title='Unnormalized Distribution')\n",
    "df.plot(x='stress_f (MPa/N)', y='k', title='Normalized Distribution')"
   ]
  },
  {
   "cell_type": "markdown",
   "metadata": {},
   "source": [
    "While we get reasonable stress distribution plots rather simply, LamAna offers some plotting methods pertinent to laminates than assisting with visualization."
   ]
  },
  {
   "cell_type": "markdown",
   "metadata": {
    "collapsed": true
   },
   "source": [
    "Demo - An example illustration of desired plotting of multiple geometries from `distributions`.\n",
    "\n",
    "![demo](./_images/demo_plot.png)\n",
    "\n",
    "This is image of results from legacy code used for comparison."
   ]
  },
  {
   "cell_type": "markdown",
   "metadata": {},
   "source": [
    "We can plot the stress distribution for a case of a single geometry."
   ]
  },
  {
   "cell_type": "code",
   "execution_count": 87,
   "metadata": {
    "collapsed": false
   },
   "outputs": [
    {
     "data": {
      "image/png": "[encoded data removed]",
      "text/plain": [
       "<matplotlib.figure.Figure at 0x202269c1f60>"
      ]
     },
     "metadata": {},
     "output_type": "display_data"
    }
   ],
   "source": [
    "case3 = la.distributions.Case(load_params, mat_props) \n",
    "case3.apply(['400-200-800'], model='Wilson_LT')\n",
    "case3.plot()"
   ]
  },
  {
   "cell_type": "markdown",
   "metadata": {},
   "source": [
    "We can also plot multiple geometries of similar total thickness."
   ]
  },
  {
   "cell_type": "code",
   "execution_count": 88,
   "metadata": {
    "collapsed": false
   },
   "outputs": [
    {
     "data": {
      "image/png": "[encoded data removed]",
      "text/plain": [
       "<matplotlib.figure.Figure at 0x2022698def0>"
      ]
     },
     "metadata": {},
     "output_type": "display_data"
    }
   ],
   "source": [
    "five_plies = ['350-400-500',  '400-200-800', '200-200-1200', '200-100-1400',\n",
    "              '100-100-1600', '100-200-1400', '300-400-600']\n",
    "\n",
    "case4 = la.distributions.Case(load_params, mat_props) \n",
    "case4.apply(five_plies, model='Wilson_LT')\n",
    "case4.plot()"
   ]
  },
  {
   "cell_type": "code",
   "execution_count": 89,
   "metadata": {
    "collapsed": false
   },
   "outputs": [
    {
     "data": {
      "text/plain": [
       "\"[400-200-800, '400-200-0']                    # odd/even ply\""
      ]
     },
     "execution_count": 89,
     "metadata": {},
     "output_type": "execute_result"
    }
   ],
   "source": [
    "'''If different plies or patterns, make new caselet (subplot)'''\n",
    "'''[400-200-800, '300-[400,200]-600']            # non-congruent? equi-ply'''\n",
    "'''[400-200-800, '400-200-0']                    # odd/even ply'''\n",
    "# currently superimposes plots.  Just needs to separate."
   ]
  },
  {
   "cell_type": "markdown",
   "metadata": {},
   "source": [
    "## Exporting"
   ]
  },
  {
   "cell_type": "markdown",
   "metadata": {},
   "source": [
    "Saving data is critical for future analysis.  LamAna offers two formas for exporting your data and parameters.  Parameters used to make calculations such as the FeatureInput information are saved as \"dashboards\" in different forms.\n",
    "- '.xlsx': (default); convient for storing multiple calculationa amd dashboards as se[arate worksheets in a Excel workbook.\n",
    "- '.csv': universal format; separate files for data and dashboard.\n",
    "\n",
    "The lowest level to export data is for a LaminateModel object."
   ]
  },
  {
   "cell_type": "code",
   "execution_count": 90,
   "metadata": {
    "collapsed": false
   },
   "outputs": [
    {
     "data": {
      "text/plain": [
       "('c:\\\\users\\\\p\\\\desktop\\\\lamana-rebase\\\\export\\\\laminatemodel_5ply_p5_t2.0_350.0-[400.0]-500.0.xlsx',)"
      ]
     },
     "execution_count": 90,
     "metadata": {},
     "output_type": "execute_result"
    }
   ],
   "source": [
    "LM = case4.LMs[0]\n",
    "LM.to_xlsx(delete=True)                         # or `to_csv()`"
   ]
  },
  {
   "cell_type": "markdown",
   "metadata": {},
   "source": [
    "<div class=\"alert alert-warning\">**NOTE** For demonstration purposes, the `temp` and `delete` are activated.  This will create temporary files in the OS temp directory and automatically delete them.  For practical use, ignore setting these flags.</div>"
   ]
  },
  {
   "cell_type": "markdown",
   "metadata": {},
   "source": [
    "The latter LaminateModel data was saved to an .xlsx file in the default export folder.  The filepath is returned (currently suppressed with the `;` line).  \n",
    "\n",
    "The next level to export data is for a case.  This will save all files comprise in a case.  If exported to csv format, files are saved seperately.  In xlsx format, a single file is made where each LaminateModel data and dashboard are saved as seperate worksheets."
   ]
  },
  {
   "cell_type": "code",
   "execution_count": 91,
   "metadata": {
    "collapsed": false
   },
   "outputs": [
    {
     "data": {
      "text/plain": [
       "'C:\\\\Users\\\\P\\\\AppData\\\\Local\\\\Temp\\\\t_case_LaminateModels(2).xlsx'"
      ]
     },
     "execution_count": 91,
     "metadata": {},
     "output_type": "execute_result"
    }
   ],
   "source": [
    "case4.to_xlsx(temp=True, delete=True)           # or `to_csv()`"
   ]
  },
  {
   "cell_type": "markdown",
   "metadata": {},
   "source": [
    "---"
   ]
  },
  {
   "cell_type": "markdown",
   "metadata": {},
   "source": [
    "# Tutorial: Intermediate"
   ]
  },
  {
   "cell_type": "markdown",
   "metadata": {},
   "source": [
    "So far, the barebones objects have been discussed and a lot can be accomplished with the basics.  For users who have some experience with Python and Pandas, here are some intermediate techniques to reduce repetitious actions.\n",
    "\n",
    "This section dicusses the use of abstract base classes intended for reducing redundant tasks such as **multiple case creation** and **default parameter definitions**.  Custom model subclassing is also discussed."
   ]
  },
  {
   "cell_type": "code",
   "execution_count": 92,
   "metadata": {
    "collapsed": false
   },
   "outputs": [],
   "source": [
    "#------------------------------------------------------------------------------\n",
    "import pandas as pd\n",
    "\n",
    "import lamana as la\n",
    "\n",
    "%matplotlib inline\n",
    "#%matplotlib nbagg\n",
    "# PARAMETERS ------------------------------------------------------------------\n",
    "# Build dicts of loading parameters and and material properties\n",
    "load_params = {'R' : 12e-3,                                # specimen radius\n",
    "               'a' : 7.5e-3,                               # support ring radius\n",
    "               'r' : 2e-4,                                 # radial distance from center loading\n",
    "               'P_a' : 1,                                  # applied load\n",
    "               'p' : 5,                                    # points/layer\n",
    "               }\n",
    "\n",
    "# # Quick Form: a dict of lists\n",
    "# mat_props = {'HA' : [5.2e10, 0.25],\n",
    "#              'PSu' : [2.7e9, 0.33],}\n",
    "\n",
    "# Standard Form: a dict of dicts\n",
    "mat_props = {'Modulus': {'HA': 5.2e10, 'PSu': 2.7e9},\n",
    "             'Poissons': {'HA': 0.25, 'PSu': 0.33}}\n",
    "\n",
    "\n",
    "# What geometries to test?\n",
    "# Make tuples of desired geometeries to analyze: outer - {inner...-....}_i - middle\n",
    "\n",
    "# Current Style\n",
    "g1 = ('0-0-2000')                                          # Monolith\n",
    "g2 = ('1000-0-0')                                          # Bilayer\n",
    "g3 = ('600-0-800')                                         # Trilayer\n",
    "g4 = ('500-500-0')                                         # 4-ply\n",
    "g5 = ('400-200-800')                                       # Short-hand; <= 5-ply\n",
    "g6 = ('400-200-400S')                                      # Symmetric\n",
    "g7 = ('400-[200]-800')                                     # General convention; 5-ply \n",
    "g8 = ('400-[100,100]-800')                                 # General convention; 7-plys \n",
    "g9 = ('400-[100,100]-400S')                                # General and Symmetric convention; 7-plys \n",
    "\n",
    "'''Add to test set'''\n",
    "g13 = ('400-[150,50]-800')                                 # Dissimilar inner_is     \n",
    "g14 = ('400-[25,125,50]-800')                         \n",
    "\n",
    "\n",
    "geos_most = [g1, g2, g3, g4, g5]\n",
    "geos_special = [g6, g7, g8, g9]\n",
    "geos_full = [g1, g2, g3, g4, g5, g6, g7, g8, g9]\n",
    "geos_dissimilar = [g13, g14]"
   ]
  },
  {
   "cell_type": "markdown",
   "metadata": {},
   "source": [
    "## Exploring LamAna Objects"
   ]
  },
  {
   "cell_type": "markdown",
   "metadata": {},
   "source": [
    "This is brief introduction to underlying objects in this package.  We begin with an input string that is parsed and converted into a Geometry object.  This is part of the `input_` module."
   ]
  },
  {
   "cell_type": "code",
   "execution_count": 93,
   "metadata": {
    "collapsed": false
   },
   "outputs": [
    {
     "data": {
      "text/plain": [
       "Geometry object (100.0-[200.0]-1600.0)"
      ]
     },
     "execution_count": 93,
     "metadata": {},
     "output_type": "execute_result"
    }
   ],
   "source": [
    "# Geometry object\n",
    "la.input_.Geometry('100-200-1600')"
   ]
  },
  {
   "cell_type": "markdown",
   "metadata": {},
   "source": [
    "This object has a number of handy methods. This information is shipped with parameters and properties in `FeatureInput`.  A `FeatureInput` is simply a dict.  This currently does have not an official class but is it import for other objects."
   ]
  },
  {
   "cell_type": "code",
   "execution_count": 94,
   "metadata": {
    "collapsed": false
   },
   "outputs": [],
   "source": [
    "# FeatureInput \n",
    "FI = {\n",
    "    'Geometry': la.input_.Geometry('400.0-[200.0]-800.0'),\n",
    "    'Materials': ['HA', 'PSu'],\n",
    "    'Model': 'Wilson_LT',\n",
    "    'Parameters': load_params,\n",
    "    'Properties': mat_props,\n",
    "    'Globals': None,\n",
    "}"
   ]
  },
  {
   "cell_type": "markdown",
   "metadata": {},
   "source": [
    "The following objects are serially inherited and part of the `constructs` module.  These construct the DataFrame represention of a laminate.  The code to decouple LaminateModel from Laminate was merged in verions 0.4.13."
   ]
  },
  {
   "cell_type": "code",
   "execution_count": 95,
   "metadata": {
    "collapsed": false
   },
   "outputs": [
    {
     "data": {
      "text/plain": [
       "<lamana.constructs.Stack at 0x20226d440f0>"
      ]
     },
     "execution_count": 95,
     "metadata": {},
     "output_type": "execute_result"
    }
   ],
   "source": [
    "# Stack object\n",
    "la.constructs.Stack(FI)"
   ]
  },
  {
   "cell_type": "code",
   "execution_count": 96,
   "metadata": {
    "collapsed": false
   },
   "outputs": [
    {
     "data": {
      "text/plain": [
       "<lamana Laminate object (400.0-[200.0]-800.0), p=5>"
      ]
     },
     "execution_count": 96,
     "metadata": {},
     "output_type": "execute_result"
    }
   ],
   "source": [
    "# Laminate object\n",
    "la.constructs.Laminate(FI)"
   ]
  },
  {
   "cell_type": "code",
   "execution_count": 97,
   "metadata": {
    "collapsed": false
   },
   "outputs": [
    {
     "data": {
      "text/plain": [
       "<lamana LaminateModel object (400.0-[200.0]-800.0), p=5>"
      ]
     },
     "execution_count": 97,
     "metadata": {},
     "output_type": "execute_result"
    }
   ],
   "source": [
    "# LaminateModel object\n",
    "la.constructs.LaminateModel(FI)"
   ]
  },
  {
   "cell_type": "markdown",
   "metadata": {},
   "source": [
    "The latter cells verify these objects are successfully decoupled.  That's all for now."
   ]
  },
  {
   "cell_type": "markdown",
   "metadata": {},
   "source": [
    "## Generating Multiple Cases"
   ]
  },
  {
   "cell_type": "markdown",
   "metadata": {},
   "source": [
    "We've already seen we can [generate a case object and plots with three lines of code](#Goal:-Generate-a-Plot-in-3-Lines-of-Code).  However, sometimes it is necessary to generate different cases. These invocations can be tedious with three lines of code per case.  Have no fear.  A simple way to produce more cases is to instantiate a `Cases` object. \n",
    "\n",
    "Below we will create a `Cases` which houses multiples cases that:\n",
    "- share similiar loading parameters/material properties and laminate theory model with\n",
    "- different numbers of datapoints, p "
   ]
  },
  {
   "cell_type": "code",
   "execution_count": 98,
   "metadata": {
    "collapsed": false
   },
   "outputs": [
    {
     "data": {
      "text/plain": [
       "<lamana.distributions.Cases object at 0x0000020227E4C518>, {0: <<class 'lamana.distributions.Case'> p=3, size=1>, 1: <<class 'lamana.distributions.Case'> p=3, size=1>, 2: <<class 'lamana.distributions.Case'> p=3, size=1>, 3: <<class 'lamana.distributions.Case'> p=3, size=1>, 4: <<class 'lamana.distributions.Case'> p=4, size=1>, 5: <<class 'lamana.distributions.Case'> p=4, size=1>, 6: <<class 'lamana.distributions.Case'> p=4, size=1>, 7: <<class 'lamana.distributions.Case'> p=4, size=1>, 8: <<class 'lamana.distributions.Case'> p=5, size=1>, 9: <<class 'lamana.distributions.Case'> p=5, size=1>, 10: <<class 'lamana.distributions.Case'> p=5, size=1>, 11: <<class 'lamana.distributions.Case'> p=5, size=1>}"
      ]
     },
     "execution_count": 98,
     "metadata": {},
     "output_type": "execute_result"
    }
   ],
   "source": [
    "cases1 = la.distributions.Cases(['400-200-800', '350-400-500', \n",
    "                                 '400-200-0', '1000-0-0'],\n",
    "                                load_params=load_params,\n",
    "                                mat_props=mat_props, model= 'Wilson_LT',\n",
    "                                ps=[3,4,5]) \n",
    "cases1"
   ]
  },
  {
   "cell_type": "markdown",
   "metadata": {},
   "source": [
    "`Cases()` accepts a list of geometry strings. Given appropriate default keywords, this lone argument will return a dict-like object of cases with indicies as keys. The `model` and `ps` keywords have default values.\n",
    "\n",
    "A `Cases()` object has some interesting characteristics (this is not a dict):\n",
    "\n",
    "- if user-defined, tries to import `Defaults()` to simplify instantiations\n",
    "- dict-like storage and access of cases\n",
    "- list-like ordering of cases\n",
    "- gettable: list-like, get items by index (including negative indicies)\n",
    "- sliceable: slices the dict keys of the Cases object\n",
    "- viewable: contained LaminateModels\n",
    "- iterable: by values (unlike normal dicts, not by keys)\n",
    "- writable: write DataFrames to csv files\n",
    "- selectable: perform set operations and return unique subsets"
   ]
  },
  {
   "cell_type": "code",
   "execution_count": 99,
   "metadata": {
    "collapsed": false
   },
   "outputs": [
    {
     "data": {
      "text/plain": [
       "<<class 'lamana.distributions.Case'> p=5, size=1>"
      ]
     },
     "execution_count": 99,
     "metadata": {},
     "output_type": "execute_result"
    }
   ],
   "source": [
    "# Gettable\n",
    "\n",
    "cases1[0]                                                 # normal dict key selection \n",
    "cases1[-1]                                                # negative indices \n",
    "cases1[-2]                                                # negative indicies "
   ]
  },
  {
   "cell_type": "code",
   "execution_count": 100,
   "metadata": {
    "collapsed": false,
    "scrolled": true
   },
   "outputs": [
    {
     "data": {
      "text/plain": [
       "[<<class 'lamana.distributions.Case'> p=3, size=1>,\n",
       " <<class 'lamana.distributions.Case'> p=3, size=1>,\n",
       " <<class 'lamana.distributions.Case'> p=3, size=1>,\n",
       " <<class 'lamana.distributions.Case'> p=3, size=1>,\n",
       " <<class 'lamana.distributions.Case'> p=4, size=1>,\n",
       " <<class 'lamana.distributions.Case'> p=4, size=1>,\n",
       " <<class 'lamana.distributions.Case'> p=4, size=1>,\n",
       " <<class 'lamana.distributions.Case'> p=4, size=1>,\n",
       " <<class 'lamana.distributions.Case'> p=5, size=1>,\n",
       " <<class 'lamana.distributions.Case'> p=5, size=1>]"
      ]
     },
     "execution_count": 100,
     "metadata": {},
     "output_type": "execute_result"
    }
   ],
   "source": [
    "# Sliceable\n",
    "\n",
    "cases1[0:2]                                               # range of dict keys\n",
    "cases1[0:3]                                               # full range of dict keys\n",
    "cases1[:]                                                 # full range\n",
    "cases1[1:]                                                # start:None\n",
    "cases1[:2]                                                # None:stop\n",
    "cases1[:-1]                                               # None:negative index\n",
    "cases1[:-2]                                               # None:negative index\n",
    "#cases1[0:-1:-2]                                           # start:stop:step; NotImplemented\n",
    "#cases1[::-1]                                              # reverse; NotImplemented"
   ]
  },
  {
   "cell_type": "code",
   "execution_count": 101,
   "metadata": {
    "collapsed": false
   },
   "outputs": [
    {
     "data": {
      "text/plain": [
       "[<lamana LaminateModel object (400.0-[200.0]-800.0), p=3>,\n",
       " <lamana LaminateModel object (350.0-[400.0]-500.0), p=3>,\n",
       " <lamana LaminateModel object (400.0-[200.0]-0.0), p=3>,\n",
       " <lamana LaminateModel object (1000.0-[0.0]-0.0), p=3>,\n",
       " <lamana LaminateModel object (400.0-[200.0]-800.0), p=4>,\n",
       " <lamana LaminateModel object (350.0-[400.0]-500.0), p=4>,\n",
       " <lamana LaminateModel object (400.0-[200.0]-0.0), p=4>,\n",
       " <lamana LaminateModel object (1000.0-[0.0]-0.0), p=4>,\n",
       " <lamana LaminateModel object (400.0-[200.0]-800.0), p=5>,\n",
       " <lamana LaminateModel object (350.0-[400.0]-500.0), p=5>,\n",
       " <lamana LaminateModel object (400.0-[200.0]-0.0), p=5>,\n",
       " <lamana LaminateModel object (1000.0-[0.0]-0.0), p=5>]"
      ]
     },
     "execution_count": 101,
     "metadata": {},
     "output_type": "execute_result"
    }
   ],
   "source": [
    "# Viewable\n",
    "cases1\n",
    "cases1.LMs"
   ]
  },
  {
   "cell_type": "code",
   "execution_count": 102,
   "metadata": {
    "collapsed": false,
    "scrolled": true
   },
   "outputs": [
    {
     "name": "stdout",
     "output_type": "stream",
     "text": [
      "<<class 'lamana.distributions.Case'> p=3>\n",
      "<<class 'lamana.distributions.Case'> p=3>\n",
      "<<class 'lamana.distributions.Case'> p=3>\n",
      "<<class 'lamana.distributions.Case'> p=3>\n",
      "<<class 'lamana.distributions.Case'> p=4>\n",
      "<<class 'lamana.distributions.Case'> p=4>\n",
      "<<class 'lamana.distributions.Case'> p=4>\n",
      "<<class 'lamana.distributions.Case'> p=4>\n",
      "<<class 'lamana.distributions.Case'> p=5>\n",
      "<<class 'lamana.distributions.Case'> p=5>\n",
      "<<class 'lamana.distributions.Case'> p=5>\n",
      "<<class 'lamana.distributions.Case'> p=5>\n"
     ]
    }
   ],
   "source": [
    "# Iterable\n",
    "for i, case in enumerate(cases1):                         # __iter__ values\n",
    "    print(case)\n",
    "    #print(case.LMs)                                      # access LaminateModels"
   ]
  },
  {
   "cell_type": "code",
   "execution_count": 103,
   "metadata": {
    "collapsed": true
   },
   "outputs": [],
   "source": [
    "# Writable\n",
    "#cases1.to_csv()                                          # write to file"
   ]
  },
  {
   "cell_type": "code",
   "execution_count": 104,
   "metadata": {
    "collapsed": false
   },
   "outputs": [
    {
     "data": {
      "text/plain": [
       "{<lamana LaminateModel object (1000.0-[0.0]-0.0), p=4>,\n",
       " <lamana LaminateModel object (400.0-[200.0]-0.0), p=3>,\n",
       " <lamana LaminateModel object (1000.0-[0.0]-0.0), p=3>,\n",
       " <lamana LaminateModel object (400.0-[200.0]-0.0), p=4>}"
      ]
     },
     "execution_count": 104,
     "metadata": {},
     "output_type": "execute_result"
    }
   ],
   "source": [
    "# Selectable\n",
    "cases1.select(nplies=[2,4])                               # by # plies\n",
    "cases1.select(ps=[3,4])                                   # by points/DataFrame rows\n",
    "cases1.select(nplies=[2,4], ps=[3,4], how='intersection') # by set operations "
   ]
  },
  {
   "cell_type": "markdown",
   "metadata": {},
   "source": [
    "LamainateModels can be compared using set theory.  Unique subsets of LaminateModels can  be returned from a mix of repeated  geometry strings.  We will use the default `model` and `ps` values."
   ]
  },
  {
   "cell_type": "code",
   "execution_count": 105,
   "metadata": {
    "collapsed": false
   },
   "outputs": [
    {
     "data": {
      "text/plain": [
       "True"
      ]
     },
     "execution_count": 105,
     "metadata": {},
     "output_type": "execute_result"
    }
   ],
   "source": [
    "set(geos_most).issubset(geos_full)                        # confirm repeated items"
   ]
  },
  {
   "cell_type": "code",
   "execution_count": 106,
   "metadata": {
    "collapsed": false
   },
   "outputs": [],
   "source": [
    "mix = geos_full + geos_most                               # contains repeated items"
   ]
  },
  {
   "cell_type": "code",
   "execution_count": 107,
   "metadata": {
    "collapsed": false
   },
   "outputs": [
    {
     "data": {
      "text/plain": [
       "[<lamana LaminateModel object (0.0-[0.0]-2000.0), p=5>,\n",
       " <lamana LaminateModel object (1000.0-[0.0]-0.0), p=5>,\n",
       " <lamana LaminateModel object (600.0-[0.0]-800.0), p=5>,\n",
       " <lamana LaminateModel object (500.0-[500.0]-0.0), p=5>,\n",
       " <lamana LaminateModel object (400.0-[200.0]-800.0), p=5>,\n",
       " <lamana LaminateModel object (400.0-[200.0]-400.0S), p=5>,\n",
       " <lamana LaminateModel object (400.0-[200.0]-800.0), p=5>,\n",
       " <lamana LaminateModel object (400.0-[100.0,100.0]-800.0), p=5>,\n",
       " <lamana LaminateModel object (400.0-[100.0,100.0]-400.0S), p=5>,\n",
       " <lamana LaminateModel object (0.0-[0.0]-2000.0), p=5>,\n",
       " <lamana LaminateModel object (1000.0-[0.0]-0.0), p=5>,\n",
       " <lamana LaminateModel object (600.0-[0.0]-800.0), p=5>,\n",
       " <lamana LaminateModel object (500.0-[500.0]-0.0), p=5>,\n",
       " <lamana LaminateModel object (400.0-[200.0]-800.0), p=5>]"
      ]
     },
     "execution_count": 107,
     "metadata": {},
     "output_type": "execute_result"
    }
   ],
   "source": [
    "# Repeated Subset\n",
    "cases2 = la.distributions.Cases(mix, load_params=load_params, mat_props=mat_props) \n",
    "cases2.LMs"
   ]
  },
  {
   "cell_type": "code",
   "execution_count": 108,
   "metadata": {
    "collapsed": false
   },
   "outputs": [
    {
     "data": {
      "text/plain": [
       "[<lamana LaminateModel object (0.0-[0.0]-2000.0), p=5>,\n",
       " <lamana LaminateModel object (1000.0-[0.0]-0.0), p=5>,\n",
       " <lamana LaminateModel object (600.0-[0.0]-800.0), p=5>,\n",
       " <lamana LaminateModel object (500.0-[500.0]-0.0), p=5>,\n",
       " <lamana LaminateModel object (400.0-[200.0]-800.0), p=5>,\n",
       " <lamana LaminateModel object (400.0-[200.0]-400.0S), p=5>,\n",
       " <lamana LaminateModel object (400.0-[200.0]-800.0), p=5>,\n",
       " <lamana LaminateModel object (400.0-[100.0,100.0]-800.0), p=5>,\n",
       " <lamana LaminateModel object (400.0-[100.0,100.0]-400.0S), p=5>,\n",
       " <lamana LaminateModel object (0.0-[0.0]-2000.0), p=5>,\n",
       " <lamana LaminateModel object (1000.0-[0.0]-0.0), p=5>,\n",
       " <lamana LaminateModel object (600.0-[0.0]-800.0), p=5>,\n",
       " <lamana LaminateModel object (500.0-[500.0]-0.0), p=5>,\n",
       " <lamana LaminateModel object (400.0-[200.0]-800.0), p=5>]"
      ]
     },
     "execution_count": 108,
     "metadata": {},
     "output_type": "execute_result"
    }
   ],
   "source": [
    "# Unique Subset\n",
    "cases2 = la.distributions.Cases(mix, load_params=load_params, mat_props=mat_props,\n",
    "                                unique=True) \n",
    "cases2.LMs"
   ]
  },
  {
   "cell_type": "markdown",
   "metadata": {},
   "source": [
    "## Subclassing Custom Default Parameters"
   ]
  },
  {
   "cell_type": "markdown",
   "metadata": {},
   "source": [
    "We observed the benefits of using *implicit*, default keywords (`models`, `ps`) in simplifying the writing of `Cases()` instantiations.  In general, the user can code *explicit* defaults for `load_params` and `mat_props` by subclassing `BaseDefaults()` from `inputs_`.  While subclassing requires some extra Python knowledge, this is a relatively simple process that reduces a significant amount of redundant code, leading to a more effiencient anaytical setting. \n",
    "\n",
    "The `BaseDefaults` contains a dict various geometry strings and Geometry objects.  Rather than defining examples for various geometry plies, the user can call from all or a groupings of geometries."
   ]
  },
  {
   "cell_type": "code",
   "execution_count": 109,
   "metadata": {
    "collapsed": false
   },
   "outputs": [
    {
     "data": {
      "text/plain": [
       "[Geometry object (0.0-[0.0]-2000.0),\n",
       " Geometry object (0.0-[0.0]-1000.0),\n",
       " Geometry object (1000.0-[0.0]-0.0),\n",
       " Geometry object (600.0-[0.0]-800.0),\n",
       " Geometry object (600.0-[0.0]-400.0S),\n",
       " Geometry object (500.0-[500.0]-0.0),\n",
       " Geometry object (400.0-[200.0]-0.0),\n",
       " Geometry object (400.0-[200.0]-800.0),\n",
       " Geometry object (400.0-[200.0]-800.0),\n",
       " Geometry object (400.0-[200.0]-400.0S),\n",
       " Geometry object (400.0-[100.0,100.0]-0.0),\n",
       " Geometry object (500.0-[250.0,250.0]-0.0),\n",
       " Geometry object (400.0-[100.0,100.0]-800.0),\n",
       " Geometry object (400.0-[100.0,100.0]-400.0S),\n",
       " Geometry object (400.0-[100.0,100.0,100.0]-800.0),\n",
       " Geometry object (500.0-[50.0,50.0,50.0,50.0]-0.0),\n",
       " Geometry object (400.0-[100.0,100.0,100.0,100.0]-800.0),\n",
       " Geometry object (400.0-[100.0,100.0,100.0,100.0,100.0]-800.0)]"
      ]
     },
     "execution_count": 109,
     "metadata": {},
     "output_type": "execute_result"
    }
   ],
   "source": [
    "from lamana.input_ import BaseDefaults\n",
    "\n",
    "bdft = BaseDefaults()\n",
    "\n",
    "# geometry String Attributes\n",
    "bdft.geo_inputs                                           # all dict key-values\n",
    "bdft.geos_all                                             # all geo strings\n",
    "bdft.geos_standard                                        # static\n",
    "bdft.geos_sample                                          # active; grows\n",
    "\n",
    "# Geometry Object Attributes; mimics latter\n",
    "bdft.Geo_objects                                          # all dict key-values\n",
    "bdft.Geos_all                                             # all Geo objects\n",
    "# more ...\n",
    "\n",
    "# Custom FeatureInputs\n",
    "#bdft.get_FeatureInput()                                   # quick builds  \n",
    "#bdft.get_materials()                                      # convert to std. form"
   ]
  },
  {
   "cell_type": "markdown",
   "metadata": {},
   "source": [
    "The latter geometric defaults come out of the box when subclassed from `BaseDefaults`.  If custom geometries are desired, the user can override the `geo_inputs` dict, which automatically builds the `Geo_objects` dict.\n",
    "\n",
    "Users can override three categories of defaults parameters:\n",
    "\n",
    "1. geometric variables\n",
    "1. loading parameters\n",
    "1. material properties\n",
    "\n",
    "As mentioned, some geometric variables are provided for general laminate dimensions.  The other parameters cannot be predicted and need to be defined by the user. Below is an example of a Defaults() subclass.  If a custom model has been implemented (see next section), it is convention to place `Defaults()` and all other custom code within this module.  If a custom model is implemented an located in the models directory, Cases will automatically search will the designated model modules, locate the `load_params` and `mat_props` attributes and load them automatically for all `Cases` instantiations."
   ]
  },
  {
   "cell_type": "code",
   "execution_count": 110,
   "metadata": {
    "collapsed": false
   },
   "outputs": [],
   "source": [
    "# Example Defaults from LamAna.models.Wilson_LT\n",
    "class Defaults(BaseDefaults):\n",
    "    '''Return parameters for building distributions cases.  Useful for consistent \n",
    "    testing.\n",
    "    \n",
    "    Dimensional defaults are inheirited from utils.BaseDefaults().  \n",
    "    Material-specific parameters are defined here by he user.\n",
    "    \n",
    "    - Default geometric and materials parameters\n",
    "    - Default FeatureInputs\n",
    "    \n",
    "    Examples\n",
    "    ========\n",
    "    >>>dft = Defaults()\n",
    "    >>>dft.load_params\n",
    "    {'R' : 12e-3, 'a' : 7.5e-3, 'p' : 1, 'P_a' : 1, 'r' : 2e-4,}\n",
    "    \n",
    "    >>>dft.mat_props\n",
    "    {'Modulus': {'HA': 5.2e10, 'PSu': 2.7e9},\n",
    "    'Poissons': {'HA': 0.25, 'PSu': 0.33}}\n",
    "    \n",
    "    >>>dft.FeatureInput\n",
    "     {'Geometry' : '400-[200]-800',\n",
    "      'Geometric' : {'R' : 12e-3, 'a' : 7.5e-3, 'p' : 1, 'P_a' : 1, 'r' : 2e-4,},\n",
    "      'Materials' : {'HA' : [5.2e10, 0.25], 'PSu' : [2.7e9, 0.33],},\n",
    "      'Custom' : None,\n",
    "      'Model' : Wilson_LT,\n",
    "     }\n",
    "\n",
    "    '''\n",
    "    def __init__(self):\n",
    "        BaseDefaults.__init__(self)\n",
    "        '''DEV: Add defaults first.  Then adjust attributes.'''\n",
    "        # DEFAULTS ------------------------------------------------------------\n",
    "        # Build dicts of geometric and material parameters\n",
    "        self.load_params = {'R' : 12e-3,                   # specimen radius\n",
    "                            'a' : 7.5e-3,                  # support ring radius\n",
    "                            'p' : 5,                       # points/layer\n",
    "                            'P_a' : 1,                     # applied load \n",
    "                            'r' : 2e-4,                    # radial distance from center loading\n",
    "                            }\n",
    "\n",
    "        self.mat_props = {'Modulus': {'HA': 5.2e10, 'PSu': 2.7e9},\n",
    "                           'Poissons': {'HA': 0.25, 'PSu': 0.33}}\n",
    "        \n",
    "        # ATTRIBUTES ----------------------------------------------------------                \n",
    "        # FeatureInput\n",
    "        self.FeatureInput = self.get_FeatureInput(self.Geo_objects['standard'][0], \n",
    "                                             load_params=self.load_params,\n",
    "                                             mat_props=self.mat_props,\n",
    "                                             ##custom_matls=None,\n",
    "                                             model='Wilson_LT',\n",
    "                                             global_vars=None)    "
   ]
  },
  {
   "cell_type": "code",
   "execution_count": 111,
   "metadata": {
    "collapsed": false
   },
   "outputs": [
    {
     "data": {
      "text/plain": [
       "'Use Classic_LT here'"
      ]
     },
     "execution_count": 111,
     "metadata": {},
     "output_type": "execute_result"
    }
   ],
   "source": [
    "'''Use Classic_LT here'''"
   ]
  },
  {
   "cell_type": "code",
   "execution_count": 112,
   "metadata": {
    "collapsed": false
   },
   "outputs": [
    {
     "data": {
      "text/plain": [
       "<lamana.distributions.Cases object at 0x00000202284D7E80>, {0: <<class 'lamana.distributions.Case'> p=5, size=1>, 1: <<class 'lamana.distributions.Case'> p=5, size=1>, 2: <<class 'lamana.distributions.Case'> p=5, size=1>, 3: <<class 'lamana.distributions.Case'> p=5, size=1>, 4: <<class 'lamana.distributions.Case'> p=5, size=1>, 5: <<class 'lamana.distributions.Case'> p=5, size=1>, 6: <<class 'lamana.distributions.Case'> p=5, size=1>, 7: <<class 'lamana.distributions.Case'> p=5, size=1>}"
      ]
     },
     "execution_count": 112,
     "metadata": {},
     "output_type": "execute_result"
    }
   ],
   "source": [
    "from lamana.distributions import Cases\n",
    "# Auto load_params and mat_params\n",
    "\n",
    "dft = Defaults()\n",
    "cases3 = Cases(dft.geos_full, model='Wilson_LT')\n",
    "#cases3 = la.distributions.Cases(dft.geos_full, model='Wilson_LT')\n",
    "cases3"
   ]
  },
  {
   "cell_type": "code",
   "execution_count": 113,
   "metadata": {
    "collapsed": false
   },
   "outputs": [
    {
     "data": {
      "text/plain": [
       "'Refine idiom for importing Cases '"
      ]
     },
     "execution_count": 113,
     "metadata": {},
     "output_type": "execute_result"
    }
   ],
   "source": [
    "'''Refine idiom for importing Cases '''"
   ]
  },
  {
   "cell_type": "markdown",
   "metadata": {},
   "source": [
    "## Subclassing Custom Models"
   ]
  },
  {
   "cell_type": "markdown",
   "metadata": {},
   "source": [
    "One of the most powerful feauteres of LamAna is the ability to define customized modifications to the Laminate Theory models.\n",
    "\n",
    "Code for laminate theories (i.e. Classic_LT, Wilson_LT) are are located in the models directory.  These models can be simple functions or sublclass from `BaseModels` in the `theories` module.  Either approach is acceptable (see narrative docs for more details on creating custom models.\n",
    "\n",
    "This ability to add custom code make this library extensibile to use a larger variety of models."
   ]
  },
  {
   "cell_type": "markdown",
   "metadata": {
    "collapsed": true
   },
   "source": [
    "## Plotting Cases"
   ]
  },
  {
   "cell_type": "markdown",
   "metadata": {},
   "source": [
    "An example of multiple subplots is show below.  Using a former case, notice each subplot is indepent, woth separate geometries for each.  LamAna treats each subplot as a subset or \"caselet\":"
   ]
  },
  {
   "cell_type": "code",
   "execution_count": 114,
   "metadata": {
    "collapsed": false
   },
   "outputs": [
    {
     "data": {
      "image/png": "[encoded data removed]",
      "text/plain": [
       "<matplotlib.figure.Figure at 0x202284d7d30>"
      ]
     },
     "metadata": {},
     "output_type": "display_data"
    }
   ],
   "source": [
    "cases1.plot(extrema=False)"
   ]
  },
  {
   "cell_type": "markdown",
   "metadata": {},
   "source": [
    "Each caselet can also be a separate case, plotting multiple geometries for each as accomplished with `Case`."
   ]
  },
  {
   "cell_type": "code",
   "execution_count": 115,
   "metadata": {
    "collapsed": true
   },
   "outputs": [],
   "source": [
    "const_total = ['350-400-500',  '400-200-800', '200-200-1200',\n",
    "               '200-100-1400', '100-100-1600', '100-200-1400',]\n",
    "const_outer = ['400-550-100', '400-500-200', '400-450-300',\n",
    "               '400-400-400', '400-350-500', '400-300-600',\n",
    "               '400-250-700', '400-200-800', '400-0.5-1199']\n",
    "const_inner = ['400-400-400', '350-400-500', '300-400-600',\n",
    "               '200-400-700', '200-400-800', '150-400-990',\n",
    "               '100-400-1000', '50-400-1100',]\n",
    "const_middle = ['100-700-400', '150-650-400', '200-600-400',\n",
    "                '250-550-400', '300-400-500', '350-450-400',\n",
    "                '400-400-400', '450-350-400', '750-0.5-400']\n",
    "\n",
    "case1_ = const_total\n",
    "case2_ = const_outer\n",
    "case3_ = const_inner\n",
    "case4_ = const_middle\n",
    "\n",
    "cases_ = [case1_, case2_, case3_, case4_]"
   ]
  },
  {
   "cell_type": "code",
   "execution_count": 116,
   "metadata": {
    "collapsed": false
   },
   "outputs": [],
   "source": [
    "cases3 = la.distributions.Cases(cases_, load_params=load_params,\n",
    "                                mat_props=mat_props, model= 'Wilson_LT',\n",
    "                                ps=[2,3]) "
   ]
  },
  {
   "cell_type": "code",
   "execution_count": 117,
   "metadata": {
    "collapsed": false
   },
   "outputs": [
    {
     "data": {
      "image/png": "[encoded data removed]",
      "text/plain": [
       "<matplotlib.figure.Figure at 0x202283aa668>"
      ]
     },
     "metadata": {},
     "output_type": "display_data"
    }
   ],
   "source": [
    "cases3.plot(extrema=False)"
   ]
  },
  {
   "cell_type": "markdown",
   "metadata": {
    "collapsed": true
   },
   "source": [
    "See Demo notebooks for more examples of plotting."
   ]
  },
  {
   "cell_type": "markdown",
   "metadata": {},
   "source": [
    "## More on Cases"
   ]
  },
  {
   "cell_type": "code",
   "execution_count": 118,
   "metadata": {
    "collapsed": false
   },
   "outputs": [
    {
     "data": {
      "text/plain": [
       "'Fix importing cases'"
      ]
     },
     "execution_count": 118,
     "metadata": {},
     "output_type": "execute_result"
    }
   ],
   "source": [
    "'''Fix importing cases'''"
   ]
  },
  {
   "cell_type": "code",
   "execution_count": 119,
   "metadata": {
    "collapsed": true
   },
   "outputs": [],
   "source": [
    "from lamana.distributions import Cases"
   ]
  },
  {
   "cell_type": "markdown",
   "metadata": {},
   "source": [
    "###### Applying caselets "
   ]
  },
  {
   "cell_type": "markdown",
   "metadata": {},
   "source": [
    "The term \"caselet\" is defined in LPEP 003.  Most importantly, the various types a caselet represents is handled by `Cases` and discussed here.  In 0.4.4b3+, caselets are contained in lists.  LPEP entertains the idea of containing caselets in dicts."
   ]
  },
  {
   "cell_type": "code",
   "execution_count": 120,
   "metadata": {
    "collapsed": false
   },
   "outputs": [],
   "source": [
    "from lamana.models import Wilson_LT as wlt\n",
    "dft = wlt.Defaults()\n",
    "\n",
    "%matplotlib inline\n",
    "\n",
    "\n",
    "str_caselets = ['350-400-500',  '400-200-800', '400-[200]-800']\n",
    "list_caselets = [['400-400-400', '400-[400]-400'],\n",
    "                 ['200-100-1400', '100-200-1400',], \n",
    "                 ['400-400-400', '400-200-800','350-400-500',], \n",
    "                 ['350-400-500']] \n",
    "case1 = la.distributions.Case(dft.load_params, dft.mat_props)\n",
    "case2 = la.distributions.Case(dft.load_params, dft.mat_props)\n",
    "case3 = la.distributions.Case(dft.load_params, dft.mat_props)\n",
    "case1.apply(['400-200-800', '400-[200]-800'])\n",
    "case2.apply(['350-400-500', '400-200-800'])\n",
    "case3.apply(['350-400-500', '400-200-800', '400-400-400'])\n",
    "case_caselets = [case1, case2, case3]\n",
    "mixed_caselets = [['350-400-500', '400-200-800',],\n",
    "                  [['400-400-400', '400-[400]-400'],\n",
    "                   ['200-100-1400', '100-200-1400',]], \n",
    "                  [case1, case2,]\n",
    "                 ]  \n",
    "dict_caselets = {0: ['350-400-500',  '400-200-800', '200-200-1200',\n",
    "                     '200-100-1400', '100-100-1600', '100-200-1400'],\n",
    "                 1: ['400-550-100', '400-500-200', '400-450-300',\n",
    "                     '400-400-400', '400-350-500', '400-300-600'],\n",
    "                 2: ['400-400-400', '350-400-500', '300-400-600',\n",
    "                     '200-400-700', '200-400-800', '150-400-990'],\n",
    "                 3: ['100-700-400', '150-650-400', '200-600-400',\n",
    "                     '250-550-400', '300-400-500', '350-450-400'], \n",
    "                 }"
   ]
  },
  {
   "cell_type": "code",
   "execution_count": 121,
   "metadata": {
    "collapsed": false
   },
   "outputs": [
    {
     "data": {
      "text/plain": [
       "<lamana.distributions.Cases object at 0x0000020229195B00>, {0: <<class 'lamana.distributions.Case'> p=5, size=1>, 1: <<class 'lamana.distributions.Case'> p=5, size=1>, 2: <<class 'lamana.distributions.Case'> p=5, size=1>}"
      ]
     },
     "execution_count": 121,
     "metadata": {},
     "output_type": "execute_result"
    }
   ],
   "source": [
    "cases = Cases(str_caselets)\n",
    "#cases = Cases(str_caselets, combine=True)\n",
    "#cases = Cases(list_caselets)\n",
    "#cases = Cases(list_caselets, combine=True)\n",
    "#cases = Cases(case_caselets)\n",
    "#cases = Cases(case_caselets, combine=True)                 # collapse to one plot\n",
    "#cases = Cases(str_caselets, ps=[2,5])\n",
    "#cases = Cases(list_caselets, ps=[2,3,5,7])\n",
    "#cases = Cases(case_caselets, ps=[2,5])\n",
    "#cases = Cases([], combine=True)                            # test raises\n",
    "\n",
    "\n",
    "# For next versions\n",
    "#cases = Cases(dict_caselets)\n",
    "#cases = Cases(mixed_caselets)\n",
    "#cases = Cases(mixed_caselets, combine=True) \n",
    "cases"
   ]
  },
  {
   "cell_type": "code",
   "execution_count": 122,
   "metadata": {
    "collapsed": false
   },
   "outputs": [
    {
     "data": {
      "text/plain": [
       "[<lamana LaminateModel object (350.0-[400.0]-500.0), p=5>,\n",
       " <lamana LaminateModel object (400.0-[200.0]-800.0), p=5>,\n",
       " <lamana LaminateModel object (400.0-[200.0]-800.0), p=5>]"
      ]
     },
     "execution_count": 122,
     "metadata": {},
     "output_type": "execute_result"
    }
   ],
   "source": [
    "cases.LMs"
   ]
  },
  {
   "cell_type": "code",
   "execution_count": 123,
   "metadata": {
    "collapsed": false
   },
   "outputs": [
    {
     "data": {
      "text/plain": [
       "'BUG: Following cell raises an Exception in Python 2'"
      ]
     },
     "execution_count": 123,
     "metadata": {},
     "output_type": "execute_result"
    }
   ],
   "source": [
    "'''BUG: Following cell raises an Exception in Python 2'''"
   ]
  },
  {
   "cell_type": "code",
   "execution_count": 124,
   "metadata": {
    "collapsed": false
   },
   "outputs": [
    {
     "data": {
      "image/png": "[encoded data removed]",
      "text/plain": [
       "<matplotlib.figure.Figure at 0x202290bb588>"
      ]
     },
     "metadata": {},
     "output_type": "display_data"
    }
   ],
   "source": [
    "#cases.plot()\n",
    "#cases.plot(normalized=False)\n",
    "#cases.plot(colorblind=True, grayscale=True)\n",
    "cases.plot(extrema=False)                                   # needed to see ps "
   ]
  },
  {
   "cell_type": "code",
   "execution_count": 125,
   "metadata": {
    "collapsed": false
   },
   "outputs": [
    {
     "data": {
      "text/plain": [
       "['350.0-[400.0]-500.0', '400.0-[200.0]-800.0', '400.0-[200.0]-800.0']"
      ]
     },
     "execution_count": 125,
     "metadata": {},
     "output_type": "execute_result"
    }
   ],
   "source": [
    "cases.caselets"
   ]
  },
  {
   "cell_type": "code",
   "execution_count": 126,
   "metadata": {
    "collapsed": false
   },
   "outputs": [
    {
     "data": {
      "text/plain": [
       "'test set seletions'"
      ]
     },
     "execution_count": 126,
     "metadata": {},
     "output_type": "execute_result"
    }
   ],
   "source": [
    "'''get out tests from code'''\n",
    "'''run tests'''\n",
    "'''test set seletions'''"
   ]
  },
  {
   "cell_type": "markdown",
   "metadata": {},
   "source": [
    "###### Characteristics"
   ]
  },
  {
   "cell_type": "code",
   "execution_count": 127,
   "metadata": {
    "collapsed": false
   },
   "outputs": [],
   "source": [
    "from lamana.models import Wilson_LT as wlt\n",
    "\n",
    "dft = wlt.Defaults()\n",
    "cases = Cases(dft.geo_inputs['5-ply'], ps=[2,3,4])"
   ]
  },
  {
   "cell_type": "code",
   "execution_count": 128,
   "metadata": {
    "collapsed": false
   },
   "outputs": [
    {
     "data": {
      "text/plain": [
       "9"
      ]
     },
     "execution_count": 128,
     "metadata": {},
     "output_type": "execute_result"
    }
   ],
   "source": [
    "len(cases)                                                 # test __len__"
   ]
  },
  {
   "cell_type": "code",
   "execution_count": 129,
   "metadata": {
    "collapsed": false
   },
   "outputs": [
    {
     "data": {
      "text/plain": [
       "<<class 'lamana.distributions.Case'> p=2, size=1>"
      ]
     },
     "execution_count": 129,
     "metadata": {},
     "output_type": "execute_result"
    }
   ],
   "source": [
    "cases.get(1)                                               # __getitem__"
   ]
  },
  {
   "cell_type": "code",
   "execution_count": 130,
   "metadata": {
    "collapsed": false
   },
   "outputs": [],
   "source": [
    "#cases[2] = 'test'                                         # __setitem__; not implemented"
   ]
  },
  {
   "cell_type": "code",
   "execution_count": 131,
   "metadata": {
    "collapsed": false
   },
   "outputs": [
    {
     "data": {
      "text/plain": [
       "<<class 'lamana.distributions.Case'> p=2, size=1>"
      ]
     },
     "execution_count": 131,
     "metadata": {},
     "output_type": "execute_result"
    }
   ],
   "source": [
    "cases[0]                                                   # select"
   ]
  },
  {
   "cell_type": "code",
   "execution_count": 132,
   "metadata": {
    "collapsed": false
   },
   "outputs": [
    {
     "data": {
      "text/plain": [
       "[<<class 'lamana.distributions.Case'> p=2, size=1>,\n",
       " <<class 'lamana.distributions.Case'> p=2, size=1>]"
      ]
     },
     "execution_count": 132,
     "metadata": {},
     "output_type": "execute_result"
    }
   ],
   "source": [
    "cases[0:2]                                                 # slice (__getitem__)   "
   ]
  },
  {
   "cell_type": "code",
   "execution_count": 133,
   "metadata": {
    "collapsed": false
   },
   "outputs": [],
   "source": [
    "del cases[1]                                               # __delitem__ "
   ]
  },
  {
   "cell_type": "code",
   "execution_count": 134,
   "metadata": {
    "collapsed": false
   },
   "outputs": [
    {
     "data": {
      "text/plain": [
       "<lamana.distributions.Cases object at 0x0000020226931CC0>, {0: <<class 'lamana.distributions.Case'> p=2, size=1>, 2: <<class 'lamana.distributions.Case'> p=2, size=1>, 3: <<class 'lamana.distributions.Case'> p=3, size=1>, 4: <<class 'lamana.distributions.Case'> p=3, size=1>, 5: <<class 'lamana.distributions.Case'> p=3, size=1>, 6: <<class 'lamana.distributions.Case'> p=4, size=1>, 7: <<class 'lamana.distributions.Case'> p=4, size=1>, 8: <<class 'lamana.distributions.Case'> p=4, size=1>}"
      ]
     },
     "execution_count": 134,
     "metadata": {},
     "output_type": "execute_result"
    }
   ],
   "source": [
    "cases                                                      # test __repr__ "
   ]
  },
  {
   "cell_type": "code",
   "execution_count": 135,
   "metadata": {
    "collapsed": false
   },
   "outputs": [
    {
     "name": "stdout",
     "output_type": "stream",
     "text": [
      "{0: <<class 'lamana.distributions.Case'> p=2, size=1>, 2: <<class 'lamana.distributions.Case'> p=2, size=1>, 3: <<class 'lamana.distributions.Case'> p=3, size=1>, 4: <<class 'lamana.distributions.Case'> p=3, size=1>, 5: <<class 'lamana.distributions.Case'> p=3, size=1>, 6: <<class 'lamana.distributions.Case'> p=4, size=1>, 7: <<class 'lamana.distributions.Case'> p=4, size=1>, 8: <<class 'lamana.distributions.Case'> p=4, size=1>}\n"
     ]
    }
   ],
   "source": [
    "print(cases)                                               # test __str__    "
   ]
  },
  {
   "cell_type": "code",
   "execution_count": 136,
   "metadata": {
    "collapsed": false
   },
   "outputs": [
    {
     "data": {
      "text/plain": [
       "True"
      ]
     },
     "execution_count": 136,
     "metadata": {},
     "output_type": "execute_result"
    }
   ],
   "source": [
    "cases == cases                                             # test __eq__               "
   ]
  },
  {
   "cell_type": "code",
   "execution_count": 137,
   "metadata": {
    "collapsed": false
   },
   "outputs": [
    {
     "data": {
      "text/plain": [
       "True"
      ]
     },
     "execution_count": 137,
     "metadata": {},
     "output_type": "execute_result"
    }
   ],
   "source": [
    "not cases != cases                                         # test __ne__ "
   ]
  },
  {
   "cell_type": "code",
   "execution_count": 138,
   "metadata": {
    "collapsed": false
   },
   "outputs": [
    {
     "name": "stdout",
     "output_type": "stream",
     "text": [
      "<<class 'lamana.distributions.Case'> p=2>\n",
      "<<class 'lamana.distributions.Case'> p=2>\n",
      "<<class 'lamana.distributions.Case'> p=3>\n",
      "<<class 'lamana.distributions.Case'> p=3>\n",
      "<<class 'lamana.distributions.Case'> p=3>\n",
      "<<class 'lamana.distributions.Case'> p=4>\n",
      "<<class 'lamana.distributions.Case'> p=4>\n",
      "<<class 'lamana.distributions.Case'> p=4>\n"
     ]
    }
   ],
   "source": [
    "for i, case in enumerate(cases):                           # __iter__ values\n",
    "    print(case)\n",
    "    #print(case.LMs)"
   ]
  },
  {
   "cell_type": "code",
   "execution_count": 139,
   "metadata": {
    "collapsed": false
   },
   "outputs": [
    {
     "data": {
      "text/plain": [
       "[<lamana LaminateModel object (400.0-[200.0]-800.0), p=2>,\n",
       " <lamana LaminateModel object (400.0-[200.0]-400.0S), p=2>,\n",
       " <lamana LaminateModel object (400.0-[200.0]-800.0), p=3>,\n",
       " <lamana LaminateModel object (400.0-[200.0]-800.0), p=3>,\n",
       " <lamana LaminateModel object (400.0-[200.0]-400.0S), p=3>,\n",
       " <lamana LaminateModel object (400.0-[200.0]-800.0), p=4>,\n",
       " <lamana LaminateModel object (400.0-[200.0]-800.0), p=4>,\n",
       " <lamana LaminateModel object (400.0-[200.0]-400.0S), p=4>]"
      ]
     },
     "execution_count": 139,
     "metadata": {},
     "output_type": "execute_result"
    }
   ],
   "source": [
    "cases.LMs                                                  # peek inside cases"
   ]
  },
  {
   "cell_type": "code",
   "execution_count": 140,
   "metadata": {
    "collapsed": false
   },
   "outputs": [
    {
     "data": {
      "text/plain": [
       "[   layer   side    type matl      label        ...           strain_r  \\\n",
       " 0      1  Tens.   outer   HA  interface        ...         3.4519e-06   \n",
       " 1      1  Tens.   outer   HA   discont.        ...         2.0712e-06   \n",
       " 2      2  Tens.   inner  PSu  interface        ...         2.0712e-06   \n",
       " 3      2  Tens.   inner  PSu   discont.        ...         1.3808e-06   \n",
       " 4      3  Tens.  middle   HA  interface        ...         1.3808e-06   \n",
       " 5      3  Comp.  middle   HA  interface        ...        -1.3808e-06   \n",
       " 6      4  Comp.   inner  PSu   discont.        ...        -1.3808e-06   \n",
       " 7      4  Comp.   inner  PSu  interface        ...        -2.0712e-06   \n",
       " 8      5  Comp.   outer   HA   discont.        ...        -2.0712e-06   \n",
       " 9      5  Comp.   outer   HA  interface        ...        -3.4519e-06   \n",
       " \n",
       "      strain_t  stress_r (Pa/N)  stress_t (Pa/N)  stress_f (MPa/N)  \n",
       " 0  5.9651e-06      274182.8243      378730.6630            0.3787  \n",
       " 1  3.5791e-06      164509.6946      227238.3978            0.2272  \n",
       " 2  3.5791e-06        9854.1805       12915.3340            0.0129  \n",
       " 3  2.3860e-06        6569.4537        8610.2227            0.0086  \n",
       " 4  2.3860e-06      109673.1297      151492.2652            0.1515  \n",
       " 5 -2.3860e-06     -109673.1297     -151492.2652           -0.1515  \n",
       " 6 -2.3860e-06       -6569.4537       -8610.2227           -0.0086  \n",
       " 7 -3.5791e-06       -9854.1805      -12915.3340           -0.0129  \n",
       " 8 -3.5791e-06     -164509.6946     -227238.3978           -0.2272  \n",
       " 9 -5.9651e-06     -274182.8243     -378730.6630           -0.3787  \n",
       " \n",
       " [10 rows x 22 columns],\n",
       "    layer   side    type matl      label        ...           strain_r  \\\n",
       " 0      1  Tens.   outer   HA  interface        ...         3.4519e-06   \n",
       " 1      1  Tens.   outer   HA   discont.        ...         2.0712e-06   \n",
       " 2      2  Tens.   inner  PSu  interface        ...         2.0712e-06   \n",
       " 3      2  Tens.   inner  PSu   discont.        ...         1.3808e-06   \n",
       " 4      3  Tens.  middle   HA  interface        ...         1.3808e-06   \n",
       " 5      3  Comp.  middle   HA  interface        ...        -1.3808e-06   \n",
       " 6      4  Comp.   inner  PSu   discont.        ...        -1.3808e-06   \n",
       " 7      4  Comp.   inner  PSu  interface        ...        -2.0712e-06   \n",
       " 8      5  Comp.   outer   HA   discont.        ...        -2.0712e-06   \n",
       " 9      5  Comp.   outer   HA  interface        ...        -3.4519e-06   \n",
       " \n",
       "      strain_t  stress_r (Pa/N)  stress_t (Pa/N)  stress_f (MPa/N)  \n",
       " 0  5.9651e-06      274182.8243      378730.6630            0.3787  \n",
       " 1  3.5791e-06      164509.6946      227238.3978            0.2272  \n",
       " 2  3.5791e-06        9854.1805       12915.3340            0.0129  \n",
       " 3  2.3860e-06        6569.4537        8610.2227            0.0086  \n",
       " 4  2.3860e-06      109673.1297      151492.2652            0.1515  \n",
       " 5 -2.3860e-06     -109673.1297     -151492.2652           -0.1515  \n",
       " 6 -2.3860e-06       -6569.4537       -8610.2227           -0.0086  \n",
       " 7 -3.5791e-06       -9854.1805      -12915.3340           -0.0129  \n",
       " 8 -3.5791e-06     -164509.6946     -227238.3978           -0.2272  \n",
       " 9 -5.9651e-06     -274182.8243     -378730.6630           -0.3787  \n",
       " \n",
       " [10 rows x 22 columns],\n",
       "     layer   side    type matl       label        ...           strain_r  \\\n",
       " 0       1  Tens.   outer   HA   interface        ...         3.4519e-06   \n",
       " 1       1  Tens.   outer   HA    internal        ...         2.7615e-06   \n",
       " 2       1  Tens.   outer   HA    discont.        ...         2.0712e-06   \n",
       " 3       2  Tens.   inner  PSu   interface        ...         2.0712e-06   \n",
       " 4       2  Tens.   inner  PSu    internal        ...         1.7260e-06   \n",
       " 5       2  Tens.   inner  PSu    discont.        ...         1.3808e-06   \n",
       " 6       3  Tens.  middle   HA   interface        ...         1.3808e-06   \n",
       " 7       3   None  middle   HA  neut. axis        ...         0.0000e+00   \n",
       " 8       3  Comp.  middle   HA   interface        ...        -1.3808e-06   \n",
       " 9       4  Comp.   inner  PSu    discont.        ...        -1.3808e-06   \n",
       " 10      4  Comp.   inner  PSu    internal        ...        -1.7260e-06   \n",
       " 11      4  Comp.   inner  PSu   interface        ...        -2.0712e-06   \n",
       " 12      5  Comp.   outer   HA    discont.        ...        -2.0712e-06   \n",
       " 13      5  Comp.   outer   HA    internal        ...        -2.7615e-06   \n",
       " 14      5  Comp.   outer   HA   interface        ...        -3.4519e-06   \n",
       " \n",
       "       strain_t  stress_r (Pa/N)  stress_t (Pa/N)  stress_f (MPa/N)  \n",
       " 0   5.9651e-06      274182.8243      378730.6630            0.3787  \n",
       " 1   4.7721e-06      219346.2594      302984.5304            0.3030  \n",
       " 2   3.5791e-06      164509.6946      227238.3978            0.2272  \n",
       " 3   3.5791e-06        9854.1805       12915.3340            0.0129  \n",
       " 4   2.9825e-06        8211.8171       10762.7783            0.0108  \n",
       " 5   2.3860e-06        6569.4537        8610.2227            0.0086  \n",
       " 6   2.3860e-06      109673.1297      151492.2652            0.1515  \n",
       " 7   0.0000e+00           0.0000           0.0000            0.0000  \n",
       " 8  -2.3860e-06     -109673.1297     -151492.2652           -0.1515  \n",
       " 9  -2.3860e-06       -6569.4537       -8610.2227           -0.0086  \n",
       " 10 -2.9825e-06       -8211.8171      -10762.7783           -0.0108  \n",
       " 11 -3.5791e-06       -9854.1805      -12915.3340           -0.0129  \n",
       " 12 -3.5791e-06     -164509.6946     -227238.3978           -0.2272  \n",
       " 13 -4.7721e-06     -219346.2594     -302984.5304           -0.3030  \n",
       " 14 -5.9651e-06     -274182.8243     -378730.6630           -0.3787  \n",
       " \n",
       " [15 rows x 22 columns],\n",
       "     layer   side    type matl       label        ...           strain_r  \\\n",
       " 0       1  Tens.   outer   HA   interface        ...         3.4519e-06   \n",
       " 1       1  Tens.   outer   HA    internal        ...         2.7615e-06   \n",
       " 2       1  Tens.   outer   HA    discont.        ...         2.0712e-06   \n",
       " 3       2  Tens.   inner  PSu   interface        ...         2.0712e-06   \n",
       " 4       2  Tens.   inner  PSu    internal        ...         1.7260e-06   \n",
       " 5       2  Tens.   inner  PSu    discont.        ...         1.3808e-06   \n",
       " 6       3  Tens.  middle   HA   interface        ...         1.3808e-06   \n",
       " 7       3   None  middle   HA  neut. axis        ...         0.0000e+00   \n",
       " 8       3  Comp.  middle   HA   interface        ...        -1.3808e-06   \n",
       " 9       4  Comp.   inner  PSu    discont.        ...        -1.3808e-06   \n",
       " 10      4  Comp.   inner  PSu    internal        ...        -1.7260e-06   \n",
       " 11      4  Comp.   inner  PSu   interface        ...        -2.0712e-06   \n",
       " 12      5  Comp.   outer   HA    discont.        ...        -2.0712e-06   \n",
       " 13      5  Comp.   outer   HA    internal        ...        -2.7615e-06   \n",
       " 14      5  Comp.   outer   HA   interface        ...        -3.4519e-06   \n",
       " \n",
       "       strain_t  stress_r (Pa/N)  stress_t (Pa/N)  stress_f (MPa/N)  \n",
       " 0   5.9651e-06      274182.8243      378730.6630            0.3787  \n",
       " 1   4.7721e-06      219346.2594      302984.5304            0.3030  \n",
       " 2   3.5791e-06      164509.6946      227238.3978            0.2272  \n",
       " 3   3.5791e-06        9854.1805       12915.3340            0.0129  \n",
       " 4   2.9825e-06        8211.8171       10762.7783            0.0108  \n",
       " 5   2.3860e-06        6569.4537        8610.2227            0.0086  \n",
       " 6   2.3860e-06      109673.1297      151492.2652            0.1515  \n",
       " 7   0.0000e+00           0.0000           0.0000            0.0000  \n",
       " 8  -2.3860e-06     -109673.1297     -151492.2652           -0.1515  \n",
       " 9  -2.3860e-06       -6569.4537       -8610.2227           -0.0086  \n",
       " 10 -2.9825e-06       -8211.8171      -10762.7783           -0.0108  \n",
       " 11 -3.5791e-06       -9854.1805      -12915.3340           -0.0129  \n",
       " 12 -3.5791e-06     -164509.6946     -227238.3978           -0.2272  \n",
       " 13 -4.7721e-06     -219346.2594     -302984.5304           -0.3030  \n",
       " 14 -5.9651e-06     -274182.8243     -378730.6630           -0.3787  \n",
       " \n",
       " [15 rows x 22 columns],\n",
       "     layer   side    type matl       label        ...           strain_r  \\\n",
       " 0       1  Tens.   outer   HA   interface        ...         3.4519e-06   \n",
       " 1       1  Tens.   outer   HA    internal        ...         2.7615e-06   \n",
       " 2       1  Tens.   outer   HA    discont.        ...         2.0712e-06   \n",
       " 3       2  Tens.   inner  PSu   interface        ...         2.0712e-06   \n",
       " 4       2  Tens.   inner  PSu    internal        ...         1.7260e-06   \n",
       " 5       2  Tens.   inner  PSu    discont.        ...         1.3808e-06   \n",
       " 6       3  Tens.  middle   HA   interface        ...         1.3808e-06   \n",
       " 7       3   None  middle   HA  neut. axis        ...         0.0000e+00   \n",
       " 8       3  Comp.  middle   HA   interface        ...        -1.3808e-06   \n",
       " 9       4  Comp.   inner  PSu    discont.        ...        -1.3808e-06   \n",
       " 10      4  Comp.   inner  PSu    internal        ...        -1.7260e-06   \n",
       " 11      4  Comp.   inner  PSu   interface        ...        -2.0712e-06   \n",
       " 12      5  Comp.   outer   HA    discont.        ...        -2.0712e-06   \n",
       " 13      5  Comp.   outer   HA    internal        ...        -2.7615e-06   \n",
       " 14      5  Comp.   outer   HA   interface        ...        -3.4519e-06   \n",
       " \n",
       "       strain_t  stress_r (Pa/N)  stress_t (Pa/N)  stress_f (MPa/N)  \n",
       " 0   5.9651e-06      274182.8243      378730.6630            0.3787  \n",
       " 1   4.7721e-06      219346.2594      302984.5304            0.3030  \n",
       " 2   3.5791e-06      164509.6946      227238.3978            0.2272  \n",
       " 3   3.5791e-06        9854.1805       12915.3340            0.0129  \n",
       " 4   2.9825e-06        8211.8171       10762.7783            0.0108  \n",
       " 5   2.3860e-06        6569.4537        8610.2227            0.0086  \n",
       " 6   2.3860e-06      109673.1297      151492.2652            0.1515  \n",
       " 7   0.0000e+00           0.0000           0.0000            0.0000  \n",
       " 8  -2.3860e-06     -109673.1297     -151492.2652           -0.1515  \n",
       " 9  -2.3860e-06       -6569.4537       -8610.2227           -0.0086  \n",
       " 10 -2.9825e-06       -8211.8171      -10762.7783           -0.0108  \n",
       " 11 -3.5791e-06       -9854.1805      -12915.3340           -0.0129  \n",
       " 12 -3.5791e-06     -164509.6946     -227238.3978           -0.2272  \n",
       " 13 -4.7721e-06     -219346.2594     -302984.5304           -0.3030  \n",
       " 14 -5.9651e-06     -274182.8243     -378730.6630           -0.3787  \n",
       " \n",
       " [15 rows x 22 columns],\n",
       "     layer   side    type matl      label        ...           strain_r  \\\n",
       " 0       1  Tens.   outer   HA  interface        ...         3.4519e-06   \n",
       " 1       1  Tens.   outer   HA   internal        ...         2.9917e-06   \n",
       " 2       1  Tens.   outer   HA   internal        ...         2.5314e-06   \n",
       " 3       1  Tens.   outer   HA   discont.        ...         2.0712e-06   \n",
       " 4       2  Tens.   inner  PSu  interface        ...         2.0712e-06   \n",
       " 5       2  Tens.   inner  PSu   internal        ...         1.8410e-06   \n",
       " 6       2  Tens.   inner  PSu   internal        ...         1.6109e-06   \n",
       " 7       2  Tens.   inner  PSu   discont.        ...         1.3808e-06   \n",
       " 8       3  Tens.  middle   HA  interface        ...         1.3808e-06   \n",
       " 9       3  Tens.  middle   HA   internal        ...         4.6026e-07   \n",
       " 10      3  Comp.  middle   HA   internal        ...        -4.6026e-07   \n",
       " 11      3  Comp.  middle   HA  interface        ...        -1.3808e-06   \n",
       " 12      4  Comp.   inner  PSu   discont.        ...        -1.3808e-06   \n",
       " 13      4  Comp.   inner  PSu   internal        ...        -1.6109e-06   \n",
       " 14      4  Comp.   inner  PSu   internal        ...        -1.8410e-06   \n",
       " 15      4  Comp.   inner  PSu  interface        ...        -2.0712e-06   \n",
       " 16      5  Comp.   outer   HA   discont.        ...        -2.0712e-06   \n",
       " 17      5  Comp.   outer   HA   internal        ...        -2.5314e-06   \n",
       " 18      5  Comp.   outer   HA   internal        ...        -2.9917e-06   \n",
       " 19      5  Comp.   outer   HA  interface        ...        -3.4519e-06   \n",
       " \n",
       "       strain_t  stress_r (Pa/N)  stress_t (Pa/N)  stress_f (MPa/N)  \n",
       " 0   5.9651e-06      274182.8243      378730.6630            0.3787  \n",
       " 1   5.1697e-06      237625.1144      328233.2413            0.3282  \n",
       " 2   4.3744e-06      201067.4045      277735.8195            0.2777  \n",
       " 3   3.5791e-06      164509.6946      227238.3978            0.2272  \n",
       " 4   3.5791e-06        9854.1805       12915.3340            0.0129  \n",
       " 5   3.1814e-06        8759.2716       11480.2969            0.0115  \n",
       " 6   2.7837e-06        7664.3626       10045.2598            0.0100  \n",
       " 7   2.3860e-06        6569.4537        8610.2227            0.0086  \n",
       " 8   2.3860e-06      109673.1297      151492.2652            0.1515  \n",
       " 9   7.9535e-07       36557.7099       50497.4217            0.0505  \n",
       " 10 -7.9535e-07      -36557.7099      -50497.4217           -0.0505  \n",
       " 11 -2.3860e-06     -109673.1297     -151492.2652           -0.1515  \n",
       " 12 -2.3860e-06       -6569.4537       -8610.2227           -0.0086  \n",
       " 13 -2.7837e-06       -7664.3626      -10045.2598           -0.0100  \n",
       " 14 -3.1814e-06       -8759.2716      -11480.2969           -0.0115  \n",
       " 15 -3.5791e-06       -9854.1805      -12915.3340           -0.0129  \n",
       " 16 -3.5791e-06     -164509.6946     -227238.3978           -0.2272  \n",
       " 17 -4.3744e-06     -201067.4045     -277735.8195           -0.2777  \n",
       " 18 -5.1697e-06     -237625.1144     -328233.2413           -0.3282  \n",
       " 19 -5.9651e-06     -274182.8243     -378730.6630           -0.3787  \n",
       " \n",
       " [20 rows x 22 columns],\n",
       "     layer   side    type matl      label        ...           strain_r  \\\n",
       " 0       1  Tens.   outer   HA  interface        ...         3.4519e-06   \n",
       " 1       1  Tens.   outer   HA   internal        ...         2.9917e-06   \n",
       " 2       1  Tens.   outer   HA   internal        ...         2.5314e-06   \n",
       " 3       1  Tens.   outer   HA   discont.        ...         2.0712e-06   \n",
       " 4       2  Tens.   inner  PSu  interface        ...         2.0712e-06   \n",
       " 5       2  Tens.   inner  PSu   internal        ...         1.8410e-06   \n",
       " 6       2  Tens.   inner  PSu   internal        ...         1.6109e-06   \n",
       " 7       2  Tens.   inner  PSu   discont.        ...         1.3808e-06   \n",
       " 8       3  Tens.  middle   HA  interface        ...         1.3808e-06   \n",
       " 9       3  Tens.  middle   HA   internal        ...         4.6026e-07   \n",
       " 10      3  Comp.  middle   HA   internal        ...        -4.6026e-07   \n",
       " 11      3  Comp.  middle   HA  interface        ...        -1.3808e-06   \n",
       " 12      4  Comp.   inner  PSu   discont.        ...        -1.3808e-06   \n",
       " 13      4  Comp.   inner  PSu   internal        ...        -1.6109e-06   \n",
       " 14      4  Comp.   inner  PSu   internal        ...        -1.8410e-06   \n",
       " 15      4  Comp.   inner  PSu  interface        ...        -2.0712e-06   \n",
       " 16      5  Comp.   outer   HA   discont.        ...        -2.0712e-06   \n",
       " 17      5  Comp.   outer   HA   internal        ...        -2.5314e-06   \n",
       " 18      5  Comp.   outer   HA   internal        ...        -2.9917e-06   \n",
       " 19      5  Comp.   outer   HA  interface        ...        -3.4519e-06   \n",
       " \n",
       "       strain_t  stress_r (Pa/N)  stress_t (Pa/N)  stress_f (MPa/N)  \n",
       " 0   5.9651e-06      274182.8243      378730.6630            0.3787  \n",
       " 1   5.1697e-06      237625.1144      328233.2413            0.3282  \n",
       " 2   4.3744e-06      201067.4045      277735.8195            0.2777  \n",
       " 3   3.5791e-06      164509.6946      227238.3978            0.2272  \n",
       " 4   3.5791e-06        9854.1805       12915.3340            0.0129  \n",
       " 5   3.1814e-06        8759.2716       11480.2969            0.0115  \n",
       " 6   2.7837e-06        7664.3626       10045.2598            0.0100  \n",
       " 7   2.3860e-06        6569.4537        8610.2227            0.0086  \n",
       " 8   2.3860e-06      109673.1297      151492.2652            0.1515  \n",
       " 9   7.9535e-07       36557.7099       50497.4217            0.0505  \n",
       " 10 -7.9535e-07      -36557.7099      -50497.4217           -0.0505  \n",
       " 11 -2.3860e-06     -109673.1297     -151492.2652           -0.1515  \n",
       " 12 -2.3860e-06       -6569.4537       -8610.2227           -0.0086  \n",
       " 13 -2.7837e-06       -7664.3626      -10045.2598           -0.0100  \n",
       " 14 -3.1814e-06       -8759.2716      -11480.2969           -0.0115  \n",
       " 15 -3.5791e-06       -9854.1805      -12915.3340           -0.0129  \n",
       " 16 -3.5791e-06     -164509.6946     -227238.3978           -0.2272  \n",
       " 17 -4.3744e-06     -201067.4045     -277735.8195           -0.2777  \n",
       " 18 -5.1697e-06     -237625.1144     -328233.2413           -0.3282  \n",
       " 19 -5.9651e-06     -274182.8243     -378730.6630           -0.3787  \n",
       " \n",
       " [20 rows x 22 columns],\n",
       "     layer   side    type matl      label        ...           strain_r  \\\n",
       " 0       1  Tens.   outer   HA  interface        ...         3.4519e-06   \n",
       " 1       1  Tens.   outer   HA   internal        ...         2.9917e-06   \n",
       " 2       1  Tens.   outer   HA   internal        ...         2.5314e-06   \n",
       " 3       1  Tens.   outer   HA   discont.        ...         2.0712e-06   \n",
       " 4       2  Tens.   inner  PSu  interface        ...         2.0712e-06   \n",
       " 5       2  Tens.   inner  PSu   internal        ...         1.8410e-06   \n",
       " 6       2  Tens.   inner  PSu   internal        ...         1.6109e-06   \n",
       " 7       2  Tens.   inner  PSu   discont.        ...         1.3808e-06   \n",
       " 8       3  Tens.  middle   HA  interface        ...         1.3808e-06   \n",
       " 9       3  Tens.  middle   HA   internal        ...         4.6026e-07   \n",
       " 10      3  Comp.  middle   HA   internal        ...        -4.6026e-07   \n",
       " 11      3  Comp.  middle   HA  interface        ...        -1.3808e-06   \n",
       " 12      4  Comp.   inner  PSu   discont.        ...        -1.3808e-06   \n",
       " 13      4  Comp.   inner  PSu   internal        ...        -1.6109e-06   \n",
       " 14      4  Comp.   inner  PSu   internal        ...        -1.8410e-06   \n",
       " 15      4  Comp.   inner  PSu  interface        ...        -2.0712e-06   \n",
       " 16      5  Comp.   outer   HA   discont.        ...        -2.0712e-06   \n",
       " 17      5  Comp.   outer   HA   internal        ...        -2.5314e-06   \n",
       " 18      5  Comp.   outer   HA   internal        ...        -2.9917e-06   \n",
       " 19      5  Comp.   outer   HA  interface        ...        -3.4519e-06   \n",
       " \n",
       "       strain_t  stress_r (Pa/N)  stress_t (Pa/N)  stress_f (MPa/N)  \n",
       " 0   5.9651e-06      274182.8243      378730.6630            0.3787  \n",
       " 1   5.1697e-06      237625.1144      328233.2413            0.3282  \n",
       " 2   4.3744e-06      201067.4045      277735.8195            0.2777  \n",
       " 3   3.5791e-06      164509.6946      227238.3978            0.2272  \n",
       " 4   3.5791e-06        9854.1805       12915.3340            0.0129  \n",
       " 5   3.1814e-06        8759.2716       11480.2969            0.0115  \n",
       " 6   2.7837e-06        7664.3626       10045.2598            0.0100  \n",
       " 7   2.3860e-06        6569.4537        8610.2227            0.0086  \n",
       " 8   2.3860e-06      109673.1297      151492.2652            0.1515  \n",
       " 9   7.9535e-07       36557.7099       50497.4217            0.0505  \n",
       " 10 -7.9535e-07      -36557.7099      -50497.4217           -0.0505  \n",
       " 11 -2.3860e-06     -109673.1297     -151492.2652           -0.1515  \n",
       " 12 -2.3860e-06       -6569.4537       -8610.2227           -0.0086  \n",
       " 13 -2.7837e-06       -7664.3626      -10045.2598           -0.0100  \n",
       " 14 -3.1814e-06       -8759.2716      -11480.2969           -0.0115  \n",
       " 15 -3.5791e-06       -9854.1805      -12915.3340           -0.0129  \n",
       " 16 -3.5791e-06     -164509.6946     -227238.3978           -0.2272  \n",
       " 17 -4.3744e-06     -201067.4045     -277735.8195           -0.2777  \n",
       " 18 -5.1697e-06     -237625.1144     -328233.2413           -0.3282  \n",
       " 19 -5.9651e-06     -274182.8243     -378730.6630           -0.3787  \n",
       " \n",
       " [20 rows x 22 columns]]"
      ]
     },
     "execution_count": 140,
     "metadata": {},
     "output_type": "execute_result"
    }
   ],
   "source": [
    "cases.frames                                               # get a list of DataFrames directly"
   ]
  },
  {
   "cell_type": "code",
   "execution_count": 141,
   "metadata": {
    "collapsed": false
   },
   "outputs": [
    {
     "data": {
      "text/plain": [
       "<lamana.distributions.Cases object at 0x0000020226931CC0>, {0: <<class 'lamana.distributions.Case'> p=2, size=1>, 2: <<class 'lamana.distributions.Case'> p=2, size=1>, 3: <<class 'lamana.distributions.Case'> p=3, size=1>, 4: <<class 'lamana.distributions.Case'> p=3, size=1>, 5: <<class 'lamana.distributions.Case'> p=3, size=1>, 6: <<class 'lamana.distributions.Case'> p=4, size=1>, 7: <<class 'lamana.distributions.Case'> p=4, size=1>, 8: <<class 'lamana.distributions.Case'> p=4, size=1>}"
      ]
     },
     "execution_count": 141,
     "metadata": {},
     "output_type": "execute_result"
    }
   ],
   "source": [
    "cases"
   ]
  },
  {
   "cell_type": "code",
   "execution_count": 142,
   "metadata": {
    "collapsed": false
   },
   "outputs": [],
   "source": [
    "#cases.to_csv()                                            # write to file"
   ]
  },
  {
   "cell_type": "markdown",
   "metadata": {},
   "source": [
    "###### Unique Cases from Intersecting Caselets"
   ]
  },
  {
   "cell_type": "markdown",
   "metadata": {},
   "source": [
    "`Cases` can check if caselet is unique by comparing the underlying geometry strings.  Here we have a non-unique caselets of different types.  We get unique results *within each caselet* using the `unique` keyword.  Notice, different caselets could have similar LaminateModels."
   ]
  },
  {
   "cell_type": "code",
   "execution_count": 143,
   "metadata": {
    "collapsed": false
   },
   "outputs": [],
   "source": [
    "str_caselets = ['350-400-500',  '400-200-800', '400-[200]-800']\n",
    "str_caselets2 = [['350-400-500', '350-[400]-500'],  \n",
    "                 ['400-200-800', '400-[200]-800']]\n",
    "list_caselets = [['400-400-400', '400-[400]-400'],\n",
    "                 ['200-100-1400', '100-200-1400',], \n",
    "                 ['400-400-400', '400-200-800','350-400-500',], \n",
    "                 ['350-400-500']] \n",
    "case1 = la.distributions.Case(dft.load_params, dft.mat_props)\n",
    "case2 = la.distributions.Case(dft.load_params, dft.mat_props)\n",
    "case3 = la.distributions.Case(dft.load_params, dft.mat_props)\n",
    "case1.apply(['400-200-800', '400-[200]-800'])\n",
    "case2.apply(['350-400-500', '400-200-800'])\n",
    "case3.apply(['350-400-500', '400-200-800', '400-400-400'])\n",
    "case_caselets = [case1, case2, case3]"
   ]
  },
  {
   "cell_type": "code",
   "execution_count": 144,
   "metadata": {
    "collapsed": false
   },
   "outputs": [],
   "source": [
    "def process_cases(cases_):\n",
    "    for i, case in enumerate(cases_):\n",
    "        print('Case #: {}'.format(i)) \n",
    "        for LM in case.LMs:\n",
    "            ##print(' {0}: {1:>4}'.format('LaminateModel', LM))   # Python 3.3\n",
    "            print(' {0}: {1!r:>4}'.format('LaminateModel', LM)) # Python 3.4+"
   ]
  },
  {
   "cell_type": "code",
   "execution_count": 145,
   "metadata": {
    "collapsed": false
   },
   "outputs": [
    {
     "name": "stdout",
     "output_type": "stream",
     "text": [
      "Case #: 0\n",
      " LaminateModel: <lamana LaminateModel object (350.0-[400.0]-500.0), p=5>\n",
      "Case #: 1\n",
      " LaminateModel: <lamana LaminateModel object (400.0-[200.0]-800.0), p=5>\n"
     ]
    }
   ],
   "source": [
    "cases3 = Cases(str_caselets2, unique=True)\n",
    "process_cases(cases3)"
   ]
  },
  {
   "cell_type": "code",
   "execution_count": 146,
   "metadata": {
    "collapsed": false
   },
   "outputs": [
    {
     "name": "stdout",
     "output_type": "stream",
     "text": [
      "Case #: 0\n",
      " LaminateModel: <lamana LaminateModel object (400.0-[400.0]-400.0), p=5>\n",
      "Case #: 1\n",
      " LaminateModel: <lamana LaminateModel object (100.0-[200.0]-1400.0), p=5>\n",
      " LaminateModel: <lamana LaminateModel object (200.0-[100.0]-1400.0), p=5>\n",
      "Case #: 2\n",
      " LaminateModel: <lamana LaminateModel object (350.0-[400.0]-500.0), p=5>\n",
      " LaminateModel: <lamana LaminateModel object (400.0-[400.0]-400.0), p=5>\n",
      " LaminateModel: <lamana LaminateModel object (400.0-[200.0]-800.0), p=5>\n",
      "Case #: 3\n",
      " LaminateModel: <lamana LaminateModel object (350.0-[400.0]-500.0), p=5>\n"
     ]
    }
   ],
   "source": [
    "cases3 = Cases(list_caselets, unique=True)\n",
    "process_cases(cases3)"
   ]
  },
  {
   "cell_type": "code",
   "execution_count": 147,
   "metadata": {
    "collapsed": false
   },
   "outputs": [
    {
     "name": "stdout",
     "output_type": "stream",
     "text": [
      "Case #: 0\n",
      " LaminateModel: <lamana LaminateModel object (400.0-[200.0]-800.0), p=5>\n",
      "Case #: 1\n",
      " LaminateModel: <lamana LaminateModel object (350.0-[400.0]-500.0), p=5>\n",
      " LaminateModel: <lamana LaminateModel object (400.0-[200.0]-800.0), p=5>\n",
      "Case #: 2\n",
      " LaminateModel: <lamana LaminateModel object (350.0-[400.0]-500.0), p=5>\n",
      " LaminateModel: <lamana LaminateModel object (400.0-[400.0]-400.0), p=5>\n",
      " LaminateModel: <lamana LaminateModel object (400.0-[200.0]-800.0), p=5>\n"
     ]
    }
   ],
   "source": [
    "cases3 = Cases(case_caselets, unique=True)\n",
    "process_cases(cases3)"
   ]
  },
  {
   "cell_type": "markdown",
   "metadata": {},
   "source": [
    "**Gotcha**: A single list of individual geometry strings is actually only one case.  \n",
    "\n",
    "`str_caselets = ['350-400-500',  '400-200-800', '400-[200]-800']`\n",
    "\n",
    "Since `Cases` is designed to produce multiple cases, it will create a separate subplot for each string by default.  When `unique=True`, since individual strings are already unique sets, `Cases` returns that same geometry.  No operation is performed, so a warning is prompted."
   ]
  },
  {
   "cell_type": "code",
   "execution_count": 148,
   "metadata": {
    "collapsed": false,
    "scrolled": true
   },
   "outputs": [
    {
     "name": "stdout",
     "output_type": "stream",
     "text": [
      "Case #: 0\n",
      " LaminateModel: <lamana LaminateModel object (350.0-[400.0]-500.0), p=5>\n",
      "Case #: 1\n",
      " LaminateModel: <lamana LaminateModel object (400.0-[200.0]-800.0), p=5>\n",
      "Case #: 2\n",
      " LaminateModel: <lamana LaminateModel object (400.0-[200.0]-800.0), p=5>\n"
     ]
    }
   ],
   "source": [
    "cases3 = Cases(str_caselets, unique=True)\n",
    "process_cases(cases3)"
   ]
  },
  {
   "cell_type": "markdown",
   "metadata": {},
   "source": [
    "If it is desired to combine such a list into one plot, a convenient `combine` keyword is available if `Cases` is already loaded with parameters, but it is best to use `Case`.  The `unique` option is available and internally uses the native `Case(unique=True)` keyword."
   ]
  },
  {
   "cell_type": "code",
   "execution_count": 149,
   "metadata": {
    "collapsed": false
   },
   "outputs": [
    {
     "name": "stdout",
     "output_type": "stream",
     "text": [
      "Case #: 0\n",
      " LaminateModel: <lamana LaminateModel object (350.0-[400.0]-500.0), p=5>\n",
      " LaminateModel: <lamana LaminateModel object (400.0-[200.0]-800.0), p=5>\n",
      " LaminateModel: <lamana LaminateModel object (400.0-[200.0]-800.0), p=5>\n"
     ]
    }
   ],
   "source": [
    "cases3 = Cases(str_caselets, combine=True)\n",
    "process_cases(cases3)"
   ]
  },
  {
   "cell_type": "code",
   "execution_count": 150,
   "metadata": {
    "collapsed": false
   },
   "outputs": [
    {
     "name": "stdout",
     "output_type": "stream",
     "text": [
      "Case #: 0\n",
      " LaminateModel: <lamana LaminateModel object (350.0-[400.0]-500.0), p=5>\n",
      " LaminateModel: <lamana LaminateModel object (400.0-[200.0]-800.0), p=5>\n"
     ]
    }
   ],
   "source": [
    "cases3 = Cases(str_caselets, combine=True, unique=True)\n",
    "process_cases(cases3)"
   ]
  },
  {
   "cell_type": "markdown",
   "metadata": {},
   "source": [
    "It is important to note that once set operations are performed, order is no longer a preserved.  This is related to how Python handles hashes.  This applies to `Cases()` in two areas:\n",
    "\n",
    "- The `unique` keyword optionally invoked during instantiation.\n",
    "- Any use of set operation via the `how` keyword within the `Cases.select()` method."
   ]
  },
  {
   "cell_type": "markdown",
   "metadata": {},
   "source": [
    "###### Revamped Idioms"
   ]
  },
  {
   "cell_type": "markdown",
   "metadata": {},
   "source": [
    "**Gotcha**: Although a `Cases` instance is a dict, as if 0.4.4b3, it's `__iter__` method has been overriden to iterate the values by default (not the keys as in Python).  This choice was decided since keys are uninformative integers, while the values (curently cases )are of interest, which saves from typing .items() when interating a `Cases` instance.  \n",
    "\n",
    "```python\n",
    "    >>> cases = Cases()\n",
    "    >>> for i, case in cases.items()                       # python\n",
    "    >>> ... print(case)\n",
    "    >>> for case in cases:                                 # modified\n",
    "    >>> ... print(case)\n",
    "```\n",
    "This behavior may change in future versions.\n"
   ]
  },
  {
   "cell_type": "code",
   "execution_count": 151,
   "metadata": {
    "collapsed": true
   },
   "outputs": [],
   "source": [
    "#----------------------------------------------------------+"
   ]
  },
  {
   "cell_type": "code",
   "execution_count": 152,
   "metadata": {
    "collapsed": false
   },
   "outputs": [],
   "source": [
    "# Iterating Over Cases\n",
    "from lamana.models import Wilson_LT as wlt\n",
    "dft = wlt.Defaults()"
   ]
  },
  {
   "cell_type": "code",
   "execution_count": 153,
   "metadata": {
    "collapsed": false
   },
   "outputs": [
    {
     "name": "stdout",
     "output_type": "stream",
     "text": [
      "Case #: 0\n",
      "<lamana LaminateModel object (0.0-[0.0]-2000.0), p=2>\n",
      "Case #: 1\n",
      "<lamana LaminateModel object (1000.0-[0.0]-0.0), p=2>\n",
      "Case #: 2\n",
      "<lamana LaminateModel object (600.0-[0.0]-800.0), p=2>\n",
      "Case #: 3\n",
      "<lamana LaminateModel object (500.0-[500.0]-0.0), p=2>\n",
      "Case #: 4\n",
      "<lamana LaminateModel object (400.0-[200.0]-800.0), p=2>\n",
      "Case #: 5\n",
      "<lamana LaminateModel object (400.0-[100.0,100.0]-0.0), p=2>\n",
      "Case #: 6\n",
      "<lamana LaminateModel object (400.0-[100.0,100.0]-800.0), p=2>\n",
      "Case #: 7\n",
      "<lamana LaminateModel object (400.0-[100.0,100.0,100.0]-800.0), p=2>\n",
      "Case #: 8\n",
      "<lamana LaminateModel object (0.0-[0.0]-2000.0), p=5>\n",
      "Case #: 9\n",
      "<lamana LaminateModel object (1000.0-[0.0]-0.0), p=5>\n",
      "Case #: 10\n",
      "<lamana LaminateModel object (600.0-[0.0]-800.0), p=5>\n",
      "Case #: 11\n",
      "<lamana LaminateModel object (500.0-[500.0]-0.0), p=5>\n",
      "Case #: 12\n",
      "<lamana LaminateModel object (400.0-[200.0]-800.0), p=5>\n",
      "Case #: 13\n",
      "<lamana LaminateModel object (400.0-[100.0,100.0]-0.0), p=5>\n",
      "Case #: 14\n",
      "<lamana LaminateModel object (400.0-[100.0,100.0]-800.0), p=5>\n",
      "Case #: 15\n",
      "<lamana LaminateModel object (400.0-[100.0,100.0,100.0]-800.0), p=5>\n",
      "\n",
      "You iterated several cases (ps=[2,5]) comprising many LaminateModels.\n"
     ]
    }
   ],
   "source": [
    "# Multiple cases, Multiple LMs\n",
    "cases = Cases(dft.geos_full, ps=[2,5])                    # two cases (p=2,5)\n",
    "for i, case in enumerate(cases):                          # iter case values()\n",
    "    print('Case #:', i)\n",
    "    for LM in case.LMs:\n",
    "        print(LM)\n",
    "        \n",
    "print(\"\\nYou iterated several cases (ps=[2,5]) comprising many LaminateModels.\")"
   ]
  },
  {
   "cell_type": "code",
   "execution_count": 154,
   "metadata": {
    "collapsed": false
   },
   "outputs": [
    {
     "name": "stdout",
     "output_type": "stream",
     "text": [
      "<lamana LaminateModel object (400.0-[200.0]-800.0), p=5>\n",
      "\n",
      "You processed a case and LaminateModel w/iteration.  (Recommended)\n",
      "\n"
     ]
    }
   ],
   "source": [
    "# A single case, single LM\n",
    "cases = Cases(['400-[200]-800'])                          # a single case and LM (manual)\n",
    "for i, case_ in enumerate(cases):                         # iter i and case\n",
    "    for LM in case_.LMs:\n",
    "        print(LM)\n",
    "\n",
    "print(\"\\nYou processed a case and LaminateModel w/iteration.  (Recommended)\\n\")"
   ]
  },
  {
   "cell_type": "code",
   "execution_count": 155,
   "metadata": {
    "collapsed": false,
    "scrolled": true
   },
   "outputs": [
    {
     "name": "stdout",
     "output_type": "stream",
     "text": [
      "<lamana LaminateModel object (0.0-[0.0]-2000.0), p=5>\n",
      "<lamana LaminateModel object (1000.0-[0.0]-0.0), p=5>\n",
      "<lamana LaminateModel object (600.0-[0.0]-800.0), p=5>\n",
      "<lamana LaminateModel object (500.0-[500.0]-0.0), p=5>\n",
      "<lamana LaminateModel object (400.0-[200.0]-800.0), p=5>\n",
      "<lamana LaminateModel object (400.0-[100.0,100.0]-0.0), p=5>\n",
      "<lamana LaminateModel object (400.0-[100.0,100.0]-800.0), p=5>\n",
      "<lamana LaminateModel object (400.0-[100.0,100.0,100.0]-800.0), p=5>\n",
      "\n",
      "You iterated a single case of many LaminateModels.\n"
     ]
    }
   ],
   "source": [
    "# Single case, multiple LMs\n",
    "cases = Cases(dft.geos_full)                              # auto, default p=5\n",
    "for case in cases:                                        # iter case values()\n",
    "    for LM in case.LMs:\n",
    "        print(LM)\n",
    "        \n",
    "print(\"\\nYou iterated a single case of many LaminateModels.\")"
   ]
  },
  {
   "cell_type": "markdown",
   "metadata": {},
   "source": [
    "###### Selecting"
   ]
  },
  {
   "cell_type": "markdown",
   "metadata": {},
   "source": [
    "From cases, subsets of LaminateModels can be chosen.  `select` is a method that performs on and returns sets of LaminateModels.  Plotting functions are not implement for this method directly, however the reulsts can be used to make new cases instances from which `.plot()` is accessible.   Example access techniques using `Cases`.\n",
    "\n",
    "- Access all cases : `cases`\n",
    "- Access specific cases : `cases[0:2]`\n",
    "- Access all LaminateModels : `cases.LMs`\n",
    "- Access LaminateModels (within a case) : `cases.LMs[0:2]`\n",
    "- Select a subset of LaminateModels from all cases : `cases.select(ps=[3,4])`"
   ]
  },
  {
   "cell_type": "code",
   "execution_count": 156,
   "metadata": {
    "collapsed": false
   },
   "outputs": [],
   "source": [
    "# Iterating Over Cases\n",
    "from lamana.models import Wilson_LT as wlt\n",
    "dft = wlt.Defaults()"
   ]
  },
  {
   "cell_type": "code",
   "execution_count": 157,
   "metadata": {
    "collapsed": false
   },
   "outputs": [],
   "source": [
    "#geometries = set(dft.geos_symmetric).union(dft.geos_special + dft.geos_standard + dft.geos_dissimilar)\n",
    "#cases = Cases(geometries, ps=[2,3,4])\n",
    "cases = Cases(dft.geos_special, ps=[2,3,4])\n",
    "\n",
    "# Reveal the full listdft.geos_specia\n",
    "# for case in cases:                                        # iter case values()\n",
    "#     for LM in case.LMs:\n",
    "#         print(LM)"
   ]
  },
  {
   "cell_type": "code",
   "execution_count": 158,
   "metadata": {
    "collapsed": false
   },
   "outputs": [],
   "source": [
    "# Test union of lists\n",
    "#geometries"
   ]
  },
  {
   "cell_type": "code",
   "execution_count": 159,
   "metadata": {
    "collapsed": false
   },
   "outputs": [
    {
     "data": {
      "text/plain": [
       "<lamana.distributions.Cases object at 0x0000020228A2D0F0>, {0: <<class 'lamana.distributions.Case'> p=2, size=1>, 1: <<class 'lamana.distributions.Case'> p=2, size=1>, 2: <<class 'lamana.distributions.Case'> p=2, size=1>, 3: <<class 'lamana.distributions.Case'> p=2, size=1>, 4: <<class 'lamana.distributions.Case'> p=3, size=1>, 5: <<class 'lamana.distributions.Case'> p=3, size=1>, 6: <<class 'lamana.distributions.Case'> p=3, size=1>, 7: <<class 'lamana.distributions.Case'> p=3, size=1>, 8: <<class 'lamana.distributions.Case'> p=4, size=1>, 9: <<class 'lamana.distributions.Case'> p=4, size=1>, 10: <<class 'lamana.distributions.Case'> p=4, size=1>, 11: <<class 'lamana.distributions.Case'> p=4, size=1>}"
      ]
     },
     "execution_count": 159,
     "metadata": {},
     "output_type": "execute_result"
    }
   ],
   "source": [
    "cases"
   ]
  },
  {
   "cell_type": "code",
   "execution_count": 160,
   "metadata": {
    "collapsed": false
   },
   "outputs": [
    {
     "data": {
      "text/plain": [
       "'Right now a case shares p, size.  cases share geometries and size.'"
      ]
     },
     "execution_count": 160,
     "metadata": {},
     "output_type": "execute_result"
    }
   ],
   "source": [
    "'''Right now a case shares p, size.  cases share geometries and size.'''"
   ]
  },
  {
   "cell_type": "code",
   "execution_count": 161,
   "metadata": {
    "collapsed": false
   },
   "outputs": [
    {
     "data": {
      "text/plain": [
       "[<<class 'lamana.distributions.Case'> p=2, size=1>,\n",
       " <<class 'lamana.distributions.Case'> p=2, size=1>]"
      ]
     },
     "execution_count": 161,
     "metadata": {},
     "output_type": "execute_result"
    }
   ],
   "source": [
    "cases[0:2]"
   ]
  },
  {
   "cell_type": "code",
   "execution_count": 162,
   "metadata": {
    "collapsed": false
   },
   "outputs": [
    {
     "data": {
      "text/plain": [
       "'Hard to see where these comem from.  Use dict?'"
      ]
     },
     "execution_count": 162,
     "metadata": {},
     "output_type": "execute_result"
    }
   ],
   "source": [
    "'''Hard to see where these comem from.  Use dict?'''"
   ]
  },
  {
   "cell_type": "code",
   "execution_count": 163,
   "metadata": {
    "collapsed": false
   },
   "outputs": [
    {
     "data": {
      "text/plain": [
       "[<lamana LaminateModel object (0.0-[0.0]-2000.0), p=2>,\n",
       " <lamana LaminateModel object (1000.0-[0.0]-0.0), p=2>,\n",
       " <lamana LaminateModel object (600.0-[0.0]-800.0), p=2>,\n",
       " <lamana LaminateModel object (500.0-[500.0]-0.0), p=2>,\n",
       " <lamana LaminateModel object (0.0-[0.0]-2000.0), p=3>,\n",
       " <lamana LaminateModel object (1000.0-[0.0]-0.0), p=3>,\n",
       " <lamana LaminateModel object (600.0-[0.0]-800.0), p=3>,\n",
       " <lamana LaminateModel object (500.0-[500.0]-0.0), p=3>,\n",
       " <lamana LaminateModel object (0.0-[0.0]-2000.0), p=4>,\n",
       " <lamana LaminateModel object (1000.0-[0.0]-0.0), p=4>,\n",
       " <lamana LaminateModel object (600.0-[0.0]-800.0), p=4>,\n",
       " <lamana LaminateModel object (500.0-[500.0]-0.0), p=4>]"
      ]
     },
     "execution_count": 163,
     "metadata": {},
     "output_type": "execute_result"
    }
   ],
   "source": [
    "cases.LMs"
   ]
  },
  {
   "cell_type": "code",
   "execution_count": 164,
   "metadata": {
    "collapsed": false
   },
   "outputs": [
    {
     "data": {
      "text/plain": [
       "[<lamana LaminateModel object (0.0-[0.0]-2000.0), p=2>,\n",
       " <lamana LaminateModel object (1000.0-[0.0]-0.0), p=2>,\n",
       " <lamana LaminateModel object (600.0-[0.0]-800.0), p=2>,\n",
       " <lamana LaminateModel object (500.0-[500.0]-0.0), p=2>]"
      ]
     },
     "execution_count": 164,
     "metadata": {},
     "output_type": "execute_result"
    }
   ],
   "source": [
    "cases.LMs[0:6:2]\n",
    "cases.LMs[0:4]"
   ]
  },
  {
   "cell_type": "markdown",
   "metadata": {},
   "source": [
    "Selections from latter cases."
   ]
  },
  {
   "cell_type": "code",
   "execution_count": 165,
   "metadata": {
    "collapsed": false
   },
   "outputs": [
    {
     "data": {
      "text/plain": [
       "{<lamana LaminateModel object (500.0-[500.0]-0.0), p=4>,\n",
       " <lamana LaminateModel object (500.0-[500.0]-0.0), p=3>,\n",
       " <lamana LaminateModel object (500.0-[500.0]-0.0), p=2>,\n",
       " <lamana LaminateModel object (1000.0-[0.0]-0.0), p=4>,\n",
       " <lamana LaminateModel object (1000.0-[0.0]-0.0), p=3>,\n",
       " <lamana LaminateModel object (1000.0-[0.0]-0.0), p=2>}"
      ]
     },
     "execution_count": 165,
     "metadata": {},
     "output_type": "execute_result"
    }
   ],
   "source": [
    "cases.select(nplies=[2,4])  "
   ]
  },
  {
   "cell_type": "code",
   "execution_count": 166,
   "metadata": {
    "collapsed": false
   },
   "outputs": [
    {
     "data": {
      "text/plain": [
       "{<lamana LaminateModel object (600.0-[0.0]-800.0), p=4>,\n",
       " <lamana LaminateModel object (600.0-[0.0]-800.0), p=2>,\n",
       " <lamana LaminateModel object (0.0-[0.0]-2000.0), p=4>,\n",
       " <lamana LaminateModel object (500.0-[500.0]-0.0), p=4>,\n",
       " <lamana LaminateModel object (500.0-[500.0]-0.0), p=2>,\n",
       " <lamana LaminateModel object (0.0-[0.0]-2000.0), p=2>,\n",
       " <lamana LaminateModel object (1000.0-[0.0]-0.0), p=4>,\n",
       " <lamana LaminateModel object (1000.0-[0.0]-0.0), p=2>}"
      ]
     },
     "execution_count": 166,
     "metadata": {},
     "output_type": "execute_result"
    }
   ],
   "source": [
    "cases.select(ps=[2,4])                                  "
   ]
  },
  {
   "cell_type": "code",
   "execution_count": 167,
   "metadata": {
    "collapsed": false
   },
   "outputs": [
    {
     "data": {
      "text/plain": [
       "{<lamana LaminateModel object (500.0-[500.0]-0.0), p=3>,\n",
       " <lamana LaminateModel object (500.0-[500.0]-0.0), p=2>,\n",
       " <lamana LaminateModel object (500.0-[500.0]-0.0), p=4>}"
      ]
     },
     "execution_count": 167,
     "metadata": {},
     "output_type": "execute_result"
    }
   ],
   "source": [
    "cases.select(nplies=4)   "
   ]
  },
  {
   "cell_type": "code",
   "execution_count": 168,
   "metadata": {
    "collapsed": false
   },
   "outputs": [
    {
     "data": {
      "text/plain": [
       "{<lamana LaminateModel object (500.0-[500.0]-0.0), p=3>,\n",
       " <lamana LaminateModel object (0.0-[0.0]-2000.0), p=3>,\n",
       " <lamana LaminateModel object (1000.0-[0.0]-0.0), p=3>,\n",
       " <lamana LaminateModel object (600.0-[0.0]-800.0), p=3>}"
      ]
     },
     "execution_count": 168,
     "metadata": {},
     "output_type": "execute_result"
    }
   ],
   "source": [
    "cases.select(ps=3)    "
   ]
  },
  {
   "cell_type": "markdown",
   "metadata": {},
   "source": [
    "###### Advanced techniques: multiple selections.  "
   ]
  },
  {
   "cell_type": "markdown",
   "metadata": {
    "collapsed": true
   },
   "source": [
    "Set operations have been implemented in the selection method of `Cases` which enables filtering of unique LaminateModels that meet given conditions for `nplies` and `ps`.\n",
    "\n",
    "- union: all LMs that meet either conditions (or)\n",
    "- intersection: LMs that meet both conditions (and)\n",
    "- difference: LMs \n",
    "- symmetric difference:"
   ]
  },
  {
   "cell_type": "code",
   "execution_count": 169,
   "metadata": {
    "collapsed": false
   },
   "outputs": [
    {
     "data": {
      "text/plain": [
       "{<lamana LaminateModel object (600.0-[0.0]-800.0), p=3>,\n",
       " <lamana LaminateModel object (500.0-[500.0]-0.0), p=4>,\n",
       " <lamana LaminateModel object (500.0-[500.0]-0.0), p=3>,\n",
       " <lamana LaminateModel object (0.0-[0.0]-2000.0), p=3>,\n",
       " <lamana LaminateModel object (500.0-[500.0]-0.0), p=2>,\n",
       " <lamana LaminateModel object (1000.0-[0.0]-0.0), p=3>}"
      ]
     },
     "execution_count": 169,
     "metadata": {},
     "output_type": "execute_result"
    }
   ],
   "source": [
    "cases.select(nplies=4, ps=3)                             # union; default"
   ]
  },
  {
   "cell_type": "code",
   "execution_count": 170,
   "metadata": {
    "collapsed": false
   },
   "outputs": [
    {
     "data": {
      "text/plain": [
       "{<lamana LaminateModel object (500.0-[500.0]-0.0), p=3>}"
      ]
     },
     "execution_count": 170,
     "metadata": {},
     "output_type": "execute_result"
    }
   ],
   "source": [
    "cases.select(nplies=4, ps=3, how='intersection')         # intersection"
   ]
  },
  {
   "cell_type": "markdown",
   "metadata": {},
   "source": [
    "By default, difference is subtracted as `set(ps) - set(nplies)`.  Currently there is no implementation for the converse difference, but set operations still work."
   ]
  },
  {
   "cell_type": "code",
   "execution_count": 171,
   "metadata": {
    "collapsed": false
   },
   "outputs": [
    {
     "data": {
      "text/plain": [
       "{<lamana LaminateModel object (0.0-[0.0]-2000.0), p=3>,\n",
       " <lamana LaminateModel object (1000.0-[0.0]-0.0), p=3>,\n",
       " <lamana LaminateModel object (600.0-[0.0]-800.0), p=3>}"
      ]
     },
     "execution_count": 171,
     "metadata": {},
     "output_type": "execute_result"
    }
   ],
   "source": [
    "cases.select(nplies=4, ps=3, how='difference')          # difference"
   ]
  },
  {
   "cell_type": "code",
   "execution_count": 172,
   "metadata": {
    "collapsed": false
   },
   "outputs": [
    {
     "data": {
      "text/plain": [
       "{<lamana LaminateModel object (500.0-[500.0]-0.0), p=2>,\n",
       " <lamana LaminateModel object (500.0-[500.0]-0.0), p=4>}"
      ]
     },
     "execution_count": 172,
     "metadata": {},
     "output_type": "execute_result"
    }
   ],
   "source": [
    "cases.select(nplies=4) - cases.select(ps=3)             # set difference "
   ]
  },
  {
   "cell_type": "code",
   "execution_count": 173,
   "metadata": {
    "collapsed": false
   },
   "outputs": [
    {
     "data": {
      "text/plain": [
       "'How does this work?'"
      ]
     },
     "execution_count": 173,
     "metadata": {},
     "output_type": "execute_result"
    }
   ],
   "source": [
    "'''How does this work?'''"
   ]
  },
  {
   "cell_type": "code",
   "execution_count": 174,
   "metadata": {
    "collapsed": false
   },
   "outputs": [
    {
     "data": {
      "text/plain": [
       "{<lamana LaminateModel object (0.0-[0.0]-2000.0), p=3>,\n",
       " <lamana LaminateModel object (1000.0-[0.0]-0.0), p=3>,\n",
       " <lamana LaminateModel object (500.0-[500.0]-0.0), p=2>,\n",
       " <lamana LaminateModel object (600.0-[0.0]-800.0), p=3>,\n",
       " <lamana LaminateModel object (500.0-[500.0]-0.0), p=4>}"
      ]
     },
     "execution_count": 174,
     "metadata": {},
     "output_type": "execute_result"
    }
   ],
   "source": [
    "cases.select(nplies=4, ps=3, how='symm diff')          # symm difference"
   ]
  },
  {
   "cell_type": "code",
   "execution_count": 175,
   "metadata": {
    "collapsed": false
   },
   "outputs": [
    {
     "data": {
      "text/plain": [
       "{<lamana LaminateModel object (600.0-[0.0]-800.0), p=4>,\n",
       " <lamana LaminateModel object (600.0-[0.0]-800.0), p=3>,\n",
       " <lamana LaminateModel object (0.0-[0.0]-2000.0), p=4>,\n",
       " <lamana LaminateModel object (500.0-[500.0]-0.0), p=4>,\n",
       " <lamana LaminateModel object (500.0-[500.0]-0.0), p=3>,\n",
       " <lamana LaminateModel object (0.0-[0.0]-2000.0), p=3>,\n",
       " <lamana LaminateModel object (500.0-[500.0]-0.0), p=2>,\n",
       " <lamana LaminateModel object (1000.0-[0.0]-0.0), p=4>,\n",
       " <lamana LaminateModel object (1000.0-[0.0]-0.0), p=3>,\n",
       " <lamana LaminateModel object (1000.0-[0.0]-0.0), p=2>}"
      ]
     },
     "execution_count": 175,
     "metadata": {},
     "output_type": "execute_result"
    }
   ],
   "source": [
    "cases.select(nplies=[2,4], ps=[3,4], how='union')  "
   ]
  },
  {
   "cell_type": "code",
   "execution_count": 176,
   "metadata": {
    "collapsed": false
   },
   "outputs": [
    {
     "data": {
      "text/plain": [
       "{<lamana LaminateModel object (500.0-[500.0]-0.0), p=3>,\n",
       " <lamana LaminateModel object (1000.0-[0.0]-0.0), p=3>,\n",
       " <lamana LaminateModel object (500.0-[500.0]-0.0), p=4>,\n",
       " <lamana LaminateModel object (1000.0-[0.0]-0.0), p=4>}"
      ]
     },
     "execution_count": 176,
     "metadata": {},
     "output_type": "execute_result"
    }
   ],
   "source": [
    "cases.select(nplies=[2,4], ps=[3,4], how='intersection')  "
   ]
  },
  {
   "cell_type": "code",
   "execution_count": 177,
   "metadata": {
    "collapsed": false
   },
   "outputs": [
    {
     "data": {
      "text/plain": [
       "{<lamana LaminateModel object (0.0-[0.0]-2000.0), p=3>,\n",
       " <lamana LaminateModel object (600.0-[0.0]-800.0), p=3>}"
      ]
     },
     "execution_count": 177,
     "metadata": {},
     "output_type": "execute_result"
    }
   ],
   "source": [
    "cases.select(nplies=[2,4], ps=3, how='difference')   "
   ]
  },
  {
   "cell_type": "code",
   "execution_count": 178,
   "metadata": {
    "collapsed": false
   },
   "outputs": [
    {
     "data": {
      "text/plain": [
       "{<lamana LaminateModel object (600.0-[0.0]-800.0), p=4>,\n",
       " <lamana LaminateModel object (600.0-[0.0]-800.0), p=3>,\n",
       " <lamana LaminateModel object (0.0-[0.0]-2000.0), p=4>,\n",
       " <lamana LaminateModel object (0.0-[0.0]-2000.0), p=3>,\n",
       " <lamana LaminateModel object (500.0-[500.0]-0.0), p=2>,\n",
       " <lamana LaminateModel object (1000.0-[0.0]-0.0), p=4>,\n",
       " <lamana LaminateModel object (1000.0-[0.0]-0.0), p=3>}"
      ]
     },
     "execution_count": 178,
     "metadata": {},
     "output_type": "execute_result"
    }
   ],
   "source": [
    "cases.select(nplies=4, ps=[3,4], how='symmeric difference')"
   ]
  },
  {
   "cell_type": "markdown",
   "metadata": {},
   "source": [
    "Current logic seems to return a union."
   ]
  },
  {
   "cell_type": "markdown",
   "metadata": {},
   "source": [
    "###### Enhancing selection algorithms with set operations"
   ]
  },
  {
   "cell_type": "markdown",
   "metadata": {},
   "source": [
    "Need logic to append LM for the following:\n",
    "\n",
    "- all, either, neither (and, or, not or)\n",
    "    - a, b are int\n",
    "    - a, b are list\n",
    "    - a, b are mixed\n",
    "    - b, a are mixed"
   ]
  },
  {
   "cell_type": "code",
   "execution_count": 179,
   "metadata": {
    "collapsed": false
   },
   "outputs": [
    {
     "data": {
      "text/plain": [
       "False"
      ]
     },
     "execution_count": 179,
     "metadata": {},
     "output_type": "execute_result"
    }
   ],
   "source": [
    "import numpy as np\n",
    "a = []\n",
    "b = 1\n",
    "c = np.int64(1)\n",
    "d = [1,2]\n",
    "e = [1,2,3]\n",
    "f = [3,4]\n",
    "\n",
    "test = 1\n",
    "\n",
    "test in a\n",
    "#test in b\n",
    "#test is a\n",
    "test is c\n",
    "# if test is a or test is c:\n",
    "#     True"
   ]
  },
  {
   "cell_type": "code",
   "execution_count": 180,
   "metadata": {
    "collapsed": false
   },
   "outputs": [
    {
     "data": {
      "text/plain": [
       "True"
      ]
     },
     "execution_count": 180,
     "metadata": {},
     "output_type": "execute_result"
    }
   ],
   "source": [
    "from lamana.utils import tools as ut\n",
    "ut.compare_set(d, e)\n",
    "ut.compare_set(b, d, how='intersection')\n",
    "ut.compare_set(d, b, how='difference')\n",
    "ut.compare_set(e, f, how='symmertric difference')\n",
    "ut.compare_set(d, e, test='issubset')\n",
    "ut.compare_set(e, d, test='issuperset')\n",
    "ut.compare_set(d, f, test='isdisjoint')"
   ]
  },
  {
   "cell_type": "code",
   "execution_count": 181,
   "metadata": {
    "collapsed": false
   },
   "outputs": [
    {
     "data": {
      "text/plain": [
       "{3}"
      ]
     },
     "execution_count": 181,
     "metadata": {},
     "output_type": "execute_result"
    }
   ],
   "source": [
    "set(d) ^ set(e)\n",
    "ut.compare_set(d,e, how='symm')"
   ]
  },
  {
   "cell_type": "code",
   "execution_count": 182,
   "metadata": {
    "collapsed": false
   },
   "outputs": [],
   "source": [
    "g1 = dft.Geo_objects['5-ply'][0]\n",
    "g2 = dft.Geo_objects['5-ply'][1]"
   ]
  },
  {
   "cell_type": "code",
   "execution_count": null,
   "metadata": {
    "collapsed": true
   },
   "outputs": [],
   "source": []
  },
  {
   "cell_type": "code",
   "execution_count": 183,
   "metadata": {
    "collapsed": false
   },
   "outputs": [
    {
     "name": "stdout",
     "output_type": "stream",
     "text": [
      "<lamana LaminateModel object (0.0-[0.0]-2000.0), p=2>\n",
      "<lamana LaminateModel object (1000.0-[0.0]-0.0), p=2>\n",
      "<lamana LaminateModel object (600.0-[0.0]-800.0), p=2>\n",
      "<lamana LaminateModel object (500.0-[500.0]-0.0), p=2>\n",
      "<lamana LaminateModel object (400.0-[200.0]-800.0), p=2>\n",
      "<lamana LaminateModel object (400.0-[100.0,100.0]-0.0), p=2>\n",
      "<lamana LaminateModel object (400.0-[100.0,100.0]-800.0), p=2>\n",
      "<lamana LaminateModel object (400.0-[100.0,100.0,100.0]-800.0), p=2>\n",
      "<lamana LaminateModel object (0.0-[0.0]-2000.0), p=5>\n",
      "<lamana LaminateModel object (1000.0-[0.0]-0.0), p=5>\n",
      "<lamana LaminateModel object (600.0-[0.0]-800.0), p=5>\n",
      "<lamana LaminateModel object (500.0-[500.0]-0.0), p=5>\n",
      "<lamana LaminateModel object (400.0-[200.0]-800.0), p=5>\n",
      "<lamana LaminateModel object (400.0-[100.0,100.0]-0.0), p=5>\n",
      "<lamana LaminateModel object (400.0-[100.0,100.0]-800.0), p=5>\n",
      "<lamana LaminateModel object (400.0-[100.0,100.0,100.0]-800.0), p=5>\n"
     ]
    }
   ],
   "source": [
    "cases = Cases(dft.geos_full, ps=[2,5])                    # two cases (p=2,5)\n",
    "for i, case in enumerate(cases):                          # iter case values()\n",
    "    for LM in case.LMs:\n",
    "        print(LM)"
   ]
  },
  {
   "cell_type": "markdown",
   "metadata": {},
   "source": [
    "In order to compare objects in sets, they must be hashable. The simple requirement equality is include whatever makes the hash of a equal to the hash of b.  Ideally, we should hash the Geometry object, but the inner values is a list which is unhashable due to its mutability.  Conventiently however, strings are not hashable.  We can try to hash the geometry input string once they have been converted to General Convention as unique identifiers for the geometry object.  This requires some reorganization in `Geometry`.\n",
    "\n",
    "- ~~isolate a converter function `_to_gen_convention()`~~\n",
    "- privative all functions invisible to the API\n",
    "- ~~hash the converted `geo_strings`~~\n",
    "- ~~privatize `_geo_strings`.  This cannot be altered by the user.~~\n",
    "\n",
    "Here we see the advantage to using geo_strings as hashables.  They are inheirently hashable.\n",
    "\n",
    "UPDATE: decided to make a hashalbe version of the `GeometryTuple`"
   ]
  },
  {
   "cell_type": "code",
   "execution_count": 184,
   "metadata": {
    "collapsed": false
   },
   "outputs": [
    {
     "data": {
      "text/plain": [
       "-2195934914257338913"
      ]
     },
     "execution_count": 184,
     "metadata": {},
     "output_type": "execute_result"
    }
   ],
   "source": [
    "hash('400-200-800')"
   ]
  },
  {
   "cell_type": "code",
   "execution_count": 185,
   "metadata": {
    "collapsed": false
   },
   "outputs": [
    {
     "data": {
      "text/plain": [
       "4652800283216586409"
      ]
     },
     "execution_count": 185,
     "metadata": {},
     "output_type": "execute_result"
    }
   ],
   "source": [
    "hash('400-[200]-800')"
   ]
  },
  {
   "cell_type": "markdown",
   "metadata": {},
   "source": [
    "Need to make `Laminate` class hashable.  Try to use unique identifiers such as Geometry and p."
   ]
  },
  {
   "cell_type": "code",
   "execution_count": 186,
   "metadata": {
    "collapsed": false
   },
   "outputs": [
    {
     "data": {
      "text/plain": [
       "1570369202565922880"
      ]
     },
     "execution_count": 186,
     "metadata": {},
     "output_type": "execute_result"
    }
   ],
   "source": [
    "hash((case.LMs[0].Geometry, case.LMs[0].p))"
   ]
  },
  {
   "cell_type": "code",
   "execution_count": 187,
   "metadata": {
    "collapsed": false
   },
   "outputs": [
    {
     "data": {
      "text/plain": [
       "<lamana LaminateModel object (400.0-[100.0,100.0,100.0]-800.0), p=5>"
      ]
     },
     "execution_count": 187,
     "metadata": {},
     "output_type": "execute_result"
    }
   ],
   "source": [
    "case.LMs[0]"
   ]
  },
  {
   "cell_type": "code",
   "execution_count": 188,
   "metadata": {
    "collapsed": false
   },
   "outputs": [],
   "source": [
    "L = [LM for case in cases for LM in case.LMs]"
   ]
  },
  {
   "cell_type": "code",
   "execution_count": 189,
   "metadata": {
    "collapsed": false
   },
   "outputs": [
    {
     "data": {
      "text/plain": [
       "<lamana LaminateModel object (0.0-[0.0]-2000.0), p=2>"
      ]
     },
     "execution_count": 189,
     "metadata": {},
     "output_type": "execute_result"
    }
   ],
   "source": [
    "L[0]"
   ]
  },
  {
   "cell_type": "code",
   "execution_count": 190,
   "metadata": {
    "collapsed": false
   },
   "outputs": [
    {
     "data": {
      "text/plain": [
       "<lamana LaminateModel object (0.0-[0.0]-2000.0), p=5>"
      ]
     },
     "execution_count": 190,
     "metadata": {},
     "output_type": "execute_result"
    }
   ],
   "source": [
    "L[8]"
   ]
  },
  {
   "cell_type": "code",
   "execution_count": 191,
   "metadata": {
    "collapsed": false
   },
   "outputs": [
    {
     "data": {
      "text/plain": [
       "4636833212297578389"
      ]
     },
     "execution_count": 191,
     "metadata": {},
     "output_type": "execute_result"
    }
   ],
   "source": [
    "hash((L[0].Geometry, L[0].p))"
   ]
  },
  {
   "cell_type": "code",
   "execution_count": 192,
   "metadata": {
    "collapsed": false
   },
   "outputs": [
    {
     "data": {
      "text/plain": [
       "5861696211961991069"
      ]
     },
     "execution_count": 192,
     "metadata": {},
     "output_type": "execute_result"
    }
   ],
   "source": [
    "hash((L[1].Geometry, L[1].p))"
   ]
  },
  {
   "cell_type": "code",
   "execution_count": 193,
   "metadata": {
    "collapsed": false
   },
   "outputs": [
    {
     "data": {
      "text/plain": [
       "True"
      ]
     },
     "execution_count": 193,
     "metadata": {},
     "output_type": "execute_result"
    }
   ],
   "source": [
    "set([L[0]]) != set([L[8]])"
   ]
  },
  {
   "cell_type": "markdown",
   "metadata": {},
   "source": [
    "Use sets to filter unique geometry objects from `Defaults()`."
   ]
  },
  {
   "cell_type": "code",
   "execution_count": 194,
   "metadata": {
    "collapsed": false
   },
   "outputs": [],
   "source": [
    "from lamana.models import Wilson_LT as wlt\n",
    "\n",
    "dft = wlt.Defaults()\n",
    "\n",
    "mix = dft.Geos_full + dft.Geos_all"
   ]
  },
  {
   "cell_type": "code",
   "execution_count": 195,
   "metadata": {
    "collapsed": false
   },
   "outputs": [
    {
     "data": {
      "text/plain": [
       "[Geometry object (0.0-[0.0]-2000.0),\n",
       " Geometry object (1000.0-[0.0]-0.0),\n",
       " Geometry object (600.0-[0.0]-800.0),\n",
       " Geometry object (500.0-[500.0]-0.0),\n",
       " Geometry object (400.0-[200.0]-800.0),\n",
       " Geometry object (400.0-[100.0,100.0]-0.0),\n",
       " Geometry object (400.0-[100.0,100.0]-800.0),\n",
       " Geometry object (400.0-[100.0,100.0,100.0]-800.0),\n",
       " Geometry object (0.0-[0.0]-2000.0),\n",
       " Geometry object (0.0-[0.0]-1000.0),\n",
       " Geometry object (1000.0-[0.0]-0.0),\n",
       " Geometry object (600.0-[0.0]-800.0),\n",
       " Geometry object (600.0-[0.0]-400.0S),\n",
       " Geometry object (500.0-[500.0]-0.0),\n",
       " Geometry object (400.0-[200.0]-0.0),\n",
       " Geometry object (400.0-[200.0]-800.0),\n",
       " Geometry object (400.0-[200.0]-800.0),\n",
       " Geometry object (400.0-[200.0]-400.0S),\n",
       " Geometry object (400.0-[100.0,100.0]-0.0),\n",
       " Geometry object (500.0-[250.0,250.0]-0.0),\n",
       " Geometry object (400.0-[100.0,100.0]-800.0),\n",
       " Geometry object (400.0-[100.0,100.0]-400.0S),\n",
       " Geometry object (400.0-[100.0,100.0,100.0]-800.0),\n",
       " Geometry object (500.0-[50.0,50.0,50.0,50.0]-0.0),\n",
       " Geometry object (400.0-[100.0,100.0,100.0,100.0]-800.0),\n",
       " Geometry object (400.0-[100.0,100.0,100.0,100.0,100.0]-800.0)]"
      ]
     },
     "execution_count": 195,
     "metadata": {},
     "output_type": "execute_result"
    }
   ],
   "source": [
    "mix"
   ]
  },
  {
   "cell_type": "code",
   "execution_count": 196,
   "metadata": {
    "collapsed": false
   },
   "outputs": [
    {
     "data": {
      "text/plain": [
       "{Geometry object (400.0-[200.0]-800.0),\n",
       " Geometry object (400.0-[100.0,100.0]-0.0),\n",
       " Geometry object (1000.0-[0.0]-0.0),\n",
       " Geometry object (400.0-[100.0,100.0]-800.0),\n",
       " Geometry object (400.0-[200.0]-0.0),\n",
       " Geometry object (400.0-[200.0]-400.0S),\n",
       " Geometry object (400.0-[100.0,100.0,100.0]-800.0),\n",
       " Geometry object (400.0-[100.0,100.0]-400.0S),\n",
       " Geometry object (600.0-[0.0]-800.0),\n",
       " Geometry object (0.0-[0.0]-1000.0),\n",
       " Geometry object (600.0-[0.0]-400.0S),\n",
       " Geometry object (500.0-[250.0,250.0]-0.0),\n",
       " Geometry object (500.0-[50.0,50.0,50.0,50.0]-0.0),\n",
       " Geometry object (400.0-[100.0,100.0,100.0,100.0]-800.0),\n",
       " Geometry object (400.0-[100.0,100.0,100.0,100.0,100.0]-800.0),\n",
       " Geometry object (0.0-[0.0]-2000.0),\n",
       " Geometry object (500.0-[500.0]-0.0)}"
      ]
     },
     "execution_count": 196,
     "metadata": {},
     "output_type": "execute_result"
    }
   ],
   "source": [
    "set(mix)"
   ]
  },
  {
   "cell_type": "markdown",
   "metadata": {},
   "source": [
    "## Mixing Geometries"
   ]
  },
  {
   "cell_type": "markdown",
   "metadata": {
    "collapsed": true
   },
   "source": [
    "See above.  Looks like comparing the order of these lists give different results. This test has been quarantine from the repo until a solution is found."
   ]
  },
  {
   "cell_type": "code",
   "execution_count": 197,
   "metadata": {
    "collapsed": false
   },
   "outputs": [
    {
     "data": {
      "text/plain": [
       "[<lamana LaminateModel object (0.0-[0.0]-2000.0), p=5>,\n",
       " <lamana LaminateModel object (1000.0-[0.0]-0.0), p=5>,\n",
       " <lamana LaminateModel object (600.0-[0.0]-800.0), p=5>,\n",
       " <lamana LaminateModel object (500.0-[500.0]-0.0), p=5>,\n",
       " <lamana LaminateModel object (400.0-[200.0]-800.0), p=5>]"
      ]
     },
     "execution_count": 197,
     "metadata": {},
     "output_type": "execute_result"
    }
   ],
   "source": [
    "mix = dft.geos_most + dft.geos_standard                   # 400-[200]-800 common to both \n",
    "cases3a = Cases(mix, combine=True, unique=True)\n",
    "cases3a.LMs"
   ]
  },
  {
   "cell_type": "code",
   "execution_count": 198,
   "metadata": {
    "collapsed": false
   },
   "outputs": [],
   "source": [
    "load_params['p'] = 5\n",
    "cases3b5 = la.distributions.Case(load_params, dft.mat_props)\n",
    "cases3b5.apply(mix) "
   ]
  },
  {
   "cell_type": "code",
   "execution_count": 199,
   "metadata": {
    "collapsed": false
   },
   "outputs": [
    {
     "data": {
      "text/plain": [
       "[<lamana LaminateModel object (0.0-[0.0]-2000.0), p=5>,\n",
       " <lamana LaminateModel object (1000.0-[0.0]-0.0), p=5>,\n",
       " <lamana LaminateModel object (600.0-[0.0]-800.0), p=5>,\n",
       " <lamana LaminateModel object (500.0-[500.0]-0.0), p=5>,\n",
       " <lamana LaminateModel object (400.0-[200.0]-800.0), p=5>]"
      ]
     },
     "execution_count": 199,
     "metadata": {},
     "output_type": "execute_result"
    }
   ],
   "source": [
    "cases3b5.LMs[:-1]"
   ]
  },
  {
   "cell_type": "markdown",
   "metadata": {
    "collapsed": true
   },
   "source": [
    "## Idiomatic Case Making"
   ]
  },
  {
   "cell_type": "markdown",
   "metadata": {},
   "source": [
    "As we transition to more automated techniques, tf parameters are to be reused multiple times, it can be helpful to store them as default values."
   ]
  },
  {
   "cell_type": "code",
   "execution_count": 200,
   "metadata": {
    "collapsed": false
   },
   "outputs": [
    {
     "data": {
      "text/plain": [
       "'Add how to build Defaults()'"
      ]
     },
     "execution_count": 200,
     "metadata": {},
     "output_type": "execute_result"
    }
   ],
   "source": [
    "'''Add how to build Defaults()'''"
   ]
  },
  {
   "cell_type": "code",
   "execution_count": 201,
   "metadata": {
    "collapsed": false
   },
   "outputs": [
    {
     "name": "stdout",
     "output_type": "stream",
     "text": [
      "\n",
      "You have built a case using user-defined defaults to set geometric loading and material parameters.\n"
     ]
    },
    {
     "data": {
      "text/plain": [
       "<<class 'lamana.distributions.Case'> p=5, size=8>"
      ]
     },
     "execution_count": 201,
     "metadata": {},
     "output_type": "execute_result"
    }
   ],
   "source": [
    "# Case Building from Defaults\n",
    "import lamana as la\n",
    "from lamana.utils import tools as ut\n",
    "from lamana.models import Wilson_LT as wlt\n",
    "\n",
    "dft = wlt.Defaults()\n",
    "##dft = ut.Defaults()                                        # user-definable\n",
    "case2 = la.distributions.Case(dft.load_params, dft.mat_props)\n",
    "case2.apply(dft.geos_full)                                 # multi plies\n",
    "#LM = case2.LMs[0]\n",
    "#LM.LMFrame\n",
    "print(\"\\nYou have built a case using user-defined defaults to set geometric \\\n",
    "loading and material parameters.\")\n",
    "case2"
   ]
  },
  {
   "cell_type": "markdown",
   "metadata": {},
   "source": [
    "Finally, if building several cases is required for the same parameters, we can use higher-level API tools to help automate the process.  \n",
    "\n",
    "*Note, for every case that is created, a seperate `Case()` instantiation and `Case.apply()` call is required.  These techniques obviate such redundancies.*"
   ]
  },
  {
   "cell_type": "code",
   "execution_count": 202,
   "metadata": {
    "collapsed": false
   },
   "outputs": [
    {
     "name": "stdout",
     "output_type": "stream",
     "text": [
      "\n",
      "You have built a case using higher-level API functions.\n"
     ]
    },
    {
     "data": {
      "text/plain": [
       "{0: <<class 'lamana.distributions.Case'> p=5, size=8>}"
      ]
     },
     "execution_count": 202,
     "metadata": {},
     "output_type": "execute_result"
    }
   ],
   "source": [
    "# Automatic Case Building\n",
    "import lamana as la\n",
    "from lamana.utils import tools as ut\n",
    "\n",
    "#Single Case\n",
    "dft = wlt.Defaults()\n",
    "##dft = ut.Defaults()\n",
    "case3 = ut.laminator(dft.geos_full)                       # auto, default p=5\n",
    "case3 = ut.laminator(dft.geos_full, ps=[5])               # declared\n",
    "#case3 = ut.laminator(dft.geos_full, ps=[1])               # LFrame rollbacks\n",
    "print(\"\\nYou have built a case using higher-level API functions.\")\n",
    "case3"
   ]
  },
  {
   "cell_type": "code",
   "execution_count": 203,
   "metadata": {
    "collapsed": false
   },
   "outputs": [
    {
     "data": {
      "text/plain": [
       "[<<class 'lamana.distributions.Case'> p=5, size=8>]"
      ]
     },
     "execution_count": 203,
     "metadata": {},
     "output_type": "execute_result"
    }
   ],
   "source": [
    "# How to get values from a single case (Python 3 compatible)\n",
    "list(case3.values())"
   ]
  },
  {
   "cell_type": "markdown",
   "metadata": {},
   "source": [
    "Cases are differentiated by different ps."
   ]
  },
  {
   "cell_type": "code",
   "execution_count": 204,
   "metadata": {
    "collapsed": false
   },
   "outputs": [
    {
     "name": "stdout",
     "output_type": "stream",
     "text": [
      "\n",
      "You have built many cases using higher-level API functions.\n"
     ]
    },
    {
     "data": {
      "text/plain": [
       "{0: <<class 'lamana.distributions.Case'> p=2, size=8>,\n",
       " 1: <<class 'lamana.distributions.Case'> p=3, size=8>,\n",
       " 2: <<class 'lamana.distributions.Case'> p=4, size=8>,\n",
       " 3: <<class 'lamana.distributions.Case'> p=5, size=8>}"
      ]
     },
     "execution_count": 204,
     "metadata": {},
     "output_type": "execute_result"
    }
   ],
   "source": [
    "# Multiple Cases\n",
    "cases1 = ut.laminator(dft.geos_full, ps=[2,3,4,5])         # multi ply, multi p   \n",
    "print(\"\\nYou have built many cases using higher-level API functions.\")\n",
    "cases1"
   ]
  },
  {
   "cell_type": "code",
   "execution_count": 205,
   "metadata": {
    "collapsed": false
   },
   "outputs": [
    {
     "data": {
      "text/plain": [
       "[<<class 'lamana.distributions.Case'> p=2, size=8>,\n",
       " <<class 'lamana.distributions.Case'> p=3, size=8>,\n",
       " <<class 'lamana.distributions.Case'> p=4, size=8>,\n",
       " <<class 'lamana.distributions.Case'> p=5, size=8>]"
      ]
     },
     "execution_count": 205,
     "metadata": {},
     "output_type": "execute_result"
    }
   ],
   "source": [
    "# How to get values from multiple cases (Python 3 compatible)\n",
    "list(cases1.values())"
   ]
  },
  {
   "cell_type": "markdown",
   "metadata": {},
   "source": [
    "Python 3 no longer returns a list for `.values()` method, so list used to evalate a the dictionary view.  While consuming a case's, dict value view with `list()` works in Python 2 and 3, iteration with loops and comprehensions is a preferred technique for both single and mutiple case processing. After cases are accessed, iteration can access the contetnts of all cases.  Iteration is the preferred technique for processing cases.  It is most general, cleaner, Py2/3 compatible out of the box and agrees with The Zen of Python:\n",
    "\n",
    "> There should be one-- and preferably only one --obvious way to do it."
   ]
  },
  {
   "cell_type": "code",
   "execution_count": 206,
   "metadata": {
    "collapsed": false
   },
   "outputs": [
    {
     "name": "stdout",
     "output_type": "stream",
     "text": [
      "<lamana LaminateModel object (400.0-[200.0]-800.0), p=5>\n",
      "\n",
      "You processed a case and LaminateModel w/iteration.  (Recommended)\n",
      "\n",
      "<lamana LaminateModel object (0.0-[0.0]-2000.0), p=5>\n",
      "<lamana LaminateModel object (1000.0-[0.0]-0.0), p=5>\n",
      "<lamana LaminateModel object (600.0-[0.0]-800.0), p=5>\n",
      "<lamana LaminateModel object (500.0-[500.0]-0.0), p=5>\n",
      "<lamana LaminateModel object (400.0-[200.0]-800.0), p=5>\n",
      "<lamana LaminateModel object (400.0-[100.0,100.0]-0.0), p=5>\n",
      "<lamana LaminateModel object (400.0-[100.0,100.0]-800.0), p=5>\n",
      "<lamana LaminateModel object (400.0-[100.0,100.0,100.0]-800.0), p=5>\n",
      "<lamana LaminateModel object (0.0-[0.0]-2000.0), p=5>\n",
      "<lamana LaminateModel object (1000.0-[0.0]-0.0), p=5>\n",
      "<lamana LaminateModel object (600.0-[0.0]-800.0), p=5>\n",
      "<lamana LaminateModel object (500.0-[500.0]-0.0), p=5>\n",
      "<lamana LaminateModel object (400.0-[200.0]-800.0), p=5>\n",
      "<lamana LaminateModel object (400.0-[100.0,100.0]-0.0), p=5>\n",
      "<lamana LaminateModel object (400.0-[100.0,100.0]-800.0), p=5>\n",
      "<lamana LaminateModel object (400.0-[100.0,100.0,100.0]-800.0), p=5>\n",
      "\n",
      "You processed many cases using Case object methods.\n"
     ]
    }
   ],
   "source": [
    "# Iterating Over Cases\n",
    "# Latest style\n",
    "case4 = ut.laminator(['400-[200]-800'])                   # a sinle case and LM\n",
    "for i, case_ in case4.items():                            # iter p and case\n",
    "    for LM in case_.LMs:\n",
    "        print(LM)\n",
    "\n",
    "print(\"\\nYou processed a case and LaminateModel w/iteration.  (Recommended)\\n\")\n",
    "        \n",
    "case5 = ut.laminator(dft.geos_full)                       # auto, default p=5\n",
    "for i, case in case5.items():                             # iter p and case with .items()\n",
    "    for LM in case.LMs:\n",
    "        print(LM)\n",
    "        \n",
    "for case in case5.values():                               # iter case only with .values() \n",
    "    for LM in case.LMs:\n",
    "        print(LM)\n",
    "\n",
    "print(\"\\nYou processed many cases using Case object methods.\")"
   ]
  },
  {
   "cell_type": "code",
   "execution_count": 207,
   "metadata": {
    "collapsed": false
   },
   "outputs": [
    {
     "name": "stdout",
     "output_type": "stream",
     "text": [
      "\n",
      "You have captured a case in a generator for later, one-time use.\n"
     ]
    }
   ],
   "source": [
    "# Convert case dict to generator\n",
    "case_gen1 = (LM for p, case in case4.items() for LM in case.LMs)\n",
    "\n",
    "# Generator without keys\n",
    "case_gen2 = (LM for case in case4.values() for LM in case.LMs)\n",
    "\n",
    "print(\"\\nYou have captured a case in a generator for later, one-time use.\")"
   ]
  },
  {
   "cell_type": "markdown",
   "metadata": {},
   "source": [
    "We will demonstrate comparing two techniques for generating equivalent cases."
   ]
  },
  {
   "cell_type": "code",
   "execution_count": 208,
   "metadata": {
    "collapsed": false
   },
   "outputs": [
    {
     "name": "stdout",
     "output_type": "stream",
     "text": [
      "<<class 'lamana.distributions.Case'> p=5>\n",
      "{0: <<class 'lamana.distributions.Case'> p=5, size=18>}\n",
      "\n",
      "You have used classic and modern styles to build equivalent cases.\n"
     ]
    }
   ],
   "source": [
    "# Style Comparisons\n",
    "dft = wlt.Defaults()\n",
    "##dft = ut.Defaults()\n",
    "\n",
    "case1 = la.distributions.Case(load_params, mat_props) \n",
    "case1.apply(dft.geos_all)\n",
    "\n",
    "cases = ut.laminator(geos=dft.geos_all)\n",
    "case2 = cases\n",
    "\n",
    "# Equivalent calls\n",
    "print(case1)\n",
    "print(case2)\n",
    "\n",
    "print(\"\\nYou have used classic and modern styles to build equivalent cases.\")"
   ]
  }
 ],
 "metadata": {
  "kernelspec": {
   "display_name": "Python [nbregtest]",
   "language": "python",
   "name": "Python [nbregtest]"
  },
  "language_info": {
   "codemirror_mode": {
    "name": "ipython",
    "version": 3
   },
   "file_extension": ".py",
   "mimetype": "text/x-python",
   "name": "python",
   "nbconvert_exporter": "python",
   "pygments_lexer": "ipython3",
   "version": "3.5.1"
  },
  "toc": {
   "toc_cell": false,
   "toc_number_sections": true,
   "toc_threshold": "2",
   "toc_window_display": false
  }
 },
 "nbformat": 4,
 "nbformat_minor": 0
}
